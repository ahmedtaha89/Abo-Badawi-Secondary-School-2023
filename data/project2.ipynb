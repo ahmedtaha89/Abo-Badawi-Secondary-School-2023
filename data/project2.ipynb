{
 "cells": [
  {
   "cell_type": "code",
   "execution_count": 18,
   "metadata": {},
   "outputs": [],
   "source": [
    "import pandas as pd\n",
    "import requests \n",
    "from bs4 import BeautifulSoup\n"
   ]
  },
  {
   "cell_type": "code",
   "execution_count": 20,
   "metadata": {},
   "outputs": [
    {
     "name": "stdout",
     "output_type": "stream",
     "text": [
      "125\n"
     ]
    }
   ],
   "source": [
    "my_list=[]\n",
    "for seats in range(1459530,1459655):\n",
    "  response = requests.get(f'https://shbabbek.com/natega/{seats}')\n",
    "  try:\n",
    "   if response.status_code == 200:\n",
    "     my_list.append(response.content)     \n",
    "    \n",
    "  except:\n",
    "    break\n",
    "\n",
    "print(len(my_list))\n"
   ]
  },
  {
   "cell_type": "code",
   "execution_count": 21,
   "metadata": {},
   "outputs": [],
   "source": [
    "sourse = response.content\n",
    "\n"
   ]
  },
  {
   "cell_type": "code",
   "execution_count": 22,
   "metadata": {},
   "outputs": [],
   "source": [
    "soup = BeautifulSoup(sourse,\"lxml\")"
   ]
  },
  {
   "cell_type": "code",
   "execution_count": 40,
   "metadata": {},
   "outputs": [],
   "source": [
    "seat_no=soup.find_all(\"table\",class_='table table-striped table-customize')[0]\n",
    "th = seat_no.find_all('th')"
   ]
  },
  {
   "cell_type": "code",
   "execution_count": 43,
   "metadata": {},
   "outputs": [
    {
     "name": "stdout",
     "output_type": "stream",
     "text": [
      "<table class=\"table table-striped table-customize\">\n",
      "<thead>\n",
      "<tr>\n",
      "<th colspan=\"2\"><span>الترتيب الغير مكرر   <svg id=\"Layer_1\" style=\"enable-background:new 0 0 333.69 333.69;\" version=\"1.1\" viewbox=\"0 0 333.69 333.69\" x=\"0px\" xml:space=\"preserve\" xmlns=\"http://www.w3.org/2000/svg\" xmlns:xlink=\"http://www.w3.org/1999/xlink\" y=\"0px\"> <g> <g> <rect height=\"152.625\" style=\"fill:#FFC843;\" width=\"67.408\" x=\"29.787\" y=\"181.064\"></rect> <rect height=\"152.625\" style=\"fill:#E0B03B;\" width=\"19.888\" x=\"9.9\" y=\"181.064\"></rect> </g> <g> <rect height=\"203.503\" style=\"fill:#00AF41;\" width=\"67.408\" x=\"143.085\" y=\"130.187\"></rect> <rect height=\"203.503\" style=\"fill:#009638;\" width=\"19.889\" x=\"123.196\" y=\"130.187\"></rect> </g> <g> <rect height=\"251.501\" style=\"fill:#0071CE;\" width=\"67.408\" x=\"256.382\" y=\"82.189\"></rect> <rect height=\"251.501\" style=\"fill:#005FAD;\" width=\"19.889\" x=\"236.493\" y=\"82.189\"></rect> </g> <polygon points=\"233.003,0 251.053,18.05 214.7,54.403 187.868,27.57 104.016,111.421 79.564,86.969 11.934,154.598 21.834,164.497 79.564,106.768 104.016,131.22 187.868,47.369 214.7,74.202 260.954,27.95 279.003,46.001 279.003,0 \t\" style=\"fill:#333E48;\"></polygon> </g> <g> </g> <g> </g> <g> </g> <g> </g> <g> </g> <g> </g> <g> </g> <g> </g> <g> </g> <g> </g> <g> </g> <g> </g> <g> </g> <g> </g> <g> </g> </svg></span></th>\n",
      "</tr>\n",
      "<tr>\n",
      "<th>على مستوى</th>\n",
      "<th>الترتيب</th>\n",
      "</tr>\n",
      "</thead>\n",
      "<tbody>\n",
      "<tr>\n",
      "<td>الجمهورية على علمي رياضة</td>\n",
      "<td> 79152</td>\n",
      "</tr>\n",
      "<tr>\n",
      "<td>الادارة على علمي رياضة</td>\n",
      "<td>149</td>\n",
      "</tr>\n",
      "<tr>\n",
      "<td>المدرسة على علمي رياضة</td>\n",
      "<td>26</td>\n",
      "</tr>\n",
      "<tr>\n",
      "<td colspan=\"2\" style=\"\n",
      "                                                                    font-size: 13px;\n",
      "                                                                \">الترتيب الغير المكرر: يتم ترتيب الدرجات على حسب شعبة الطالب من الأعلى للأقل مع الأخذ فى الاعتبار الترتيب الأبجدي.\n",
      "<hr/>\n",
      "مثال: الطالب أحمد مجموعه 406 والطالب يوسف مجموعه 406 فى نفس الشعبه يكون الطالب احمد فى الترتيب الاول والطالب يوسف فى الترتيب الثانى والطالب محمود 403 يأتي فى الترتيب الثالث.\n",
      "</td>\n",
      "</tr>\n",
      "</tbody>\n",
      "</table>\n"
     ]
    }
   ],
   "source": [
    "print(seat_no)"
   ]
  },
  {
   "cell_type": "code",
   "execution_count": null,
   "metadata": {},
   "outputs": [],
   "source": []
  },
  {
   "cell_type": "code",
   "execution_count": null,
   "metadata": {},
   "outputs": [],
   "source": []
  },
  {
   "cell_type": "code",
   "execution_count": null,
   "metadata": {},
   "outputs": [],
   "source": []
  },
  {
   "cell_type": "code",
   "execution_count": null,
   "metadata": {},
   "outputs": [],
   "source": []
  },
  {
   "cell_type": "code",
   "execution_count": null,
   "metadata": {},
   "outputs": [],
   "source": []
  },
  {
   "cell_type": "code",
   "execution_count": null,
   "metadata": {},
   "outputs": [],
   "source": []
  }
 ],
 "metadata": {
  "kernelspec": {
   "display_name": "Python 3 (ipykernel)",
   "language": "python",
   "name": "python3"
  },
  "language_info": {
   "codemirror_mode": {
    "name": "ipython",
    "version": 3
   },
   "file_extension": ".py",
   "mimetype": "text/x-python",
   "name": "python",
   "nbconvert_exporter": "python",
   "pygments_lexer": "ipython3",
   "version": "3.11.3"
  },
  "orig_nbformat": 4
 },
 "nbformat": 4,
 "nbformat_minor": 2
}
