{
 "cells": [
  {
   "cell_type": "code",
   "execution_count": 135,
   "id": "cf6b3bbd",
   "metadata": {},
   "outputs": [],
   "source": [
    "import pandas as pd\n",
    "import requests \n",
    "from bs4 import BeautifulSoup\n"
   ]
  },
  {
   "cell_type": "code",
   "execution_count": null,
   "id": "9f4ab1c3",
   "metadata": {},
   "outputs": [],
   "source": [
    "my_list=[]\n",
    "for seats in range(1459530,1459655):\n",
    "  response = requests.get(f'https://shbabbek.com/natega/{seats}')\n",
    "  try:\n",
    "   if response.status_code == 200:\n",
    "     my_list.append(response)     \n",
    "    \n",
    "  except:\n",
    "    break\n",
    "\n",
    "print(len(my_list))\n"
   ]
  },
  {
   "cell_type": "code",
   "execution_count": null,
   "id": "2a9d7fc5",
   "metadata": {},
   "outputs": [],
   "source": [
    "sourse = response.content\n"
   ]
  },
  {
   "cell_type": "code",
   "execution_count": null,
   "id": "6751f7bf",
   "metadata": {},
   "outputs": [],
   "source": [
    "response.text\n"
   ]
  },
  {
   "cell_type": "code",
   "execution_count": 139,
   "id": "e3da3c5c",
   "metadata": {},
   "outputs": [],
   "source": [
    "soup = BeautifulSoup(sourse,\"lxml\")"
   ]
  },
  {
   "cell_type": "code",
   "execution_count": 140,
   "id": "be756d45",
   "metadata": {},
   "outputs": [],
   "source": [
    "seat_no=soup.find(\"h1\")"
   ]
  },
  {
   "cell_type": "code",
   "execution_count": 141,
   "id": "bd344caa",
   "metadata": {},
   "outputs": [
    {
     "name": "stdout",
     "output_type": "stream",
     "text": [
      "1459654\n"
     ]
    }
   ],
   "source": [
    "\n",
    "print(seat_no.text)"
   ]
  },
  {
   "cell_type": "code",
   "execution_count": 142,
   "id": "f29175c2",
   "metadata": {},
   "outputs": [
    {
     "name": "stdout",
     "output_type": "stream",
     "text": [
      "\n",
      "الأسم:\n",
      "ندى ذكي عبدالوهاب محمد السيد\n",
      "\n"
     ]
    }
   ],
   "source": [
    "total_marks=soup.find_all('li',class_='resultItem')[3].text\n",
    "print(total_marks)"
   ]
  },
  {
   "cell_type": "code",
   "execution_count": 143,
   "id": "2e469be8",
   "metadata": {},
   "outputs": [
    {
     "name": "stdout",
     "output_type": "stream",
     "text": [
      "\n",
      "مجموع الدرجات\n",
      "220.50\n",
      "\n"
     ]
    }
   ],
   "source": [
    "total_marks=soup.find_all('li',class_='resultItem')[1].text\n",
    "print(total_marks)"
   ]
  },
  {
   "cell_type": "code",
   "execution_count": 144,
   "id": "c8d386c9",
   "metadata": {},
   "outputs": [
    {
     "name": "stdout",
     "output_type": "stream",
     "text": [
      "\n",
      "النسبة المئوية\n",
      "53.78 %\n",
      "\n"
     ]
    }
   ],
   "source": [
    "percentage = total_marks=soup.find_all('li',class_='resultItem')[2].text\n",
    "print(percentage)"
   ]
  },
  {
   "cell_type": "code",
   "execution_count": 145,
   "id": "541bab7b",
   "metadata": {},
   "outputs": [
    {
     "name": "stdout",
     "output_type": "stream",
     "text": [
      "\n",
      "الأسم:\n",
      "ندى ذكي عبدالوهاب محمد السيد\n",
      "\n"
     ]
    }
   ],
   "source": [
    "name=soup.find_all('li',class_='resultItem')[3].text\n",
    "print(name)"
   ]
  },
  {
   "cell_type": "code",
   "execution_count": 146,
   "id": "cac133d3",
   "metadata": {},
   "outputs": [
    {
     "name": "stdout",
     "output_type": "stream",
     "text": [
      "\n",
      "المدرسة :\n",
      "الشهيد محمد محمد عبدالعزيز صالح بابوبدوى\n",
      "\n"
     ]
    }
   ],
   "source": [
    "sc_name=soup.find_all('li',class_='resultItem')[4].text\n",
    "print(sc_name)"
   ]
  },
  {
   "cell_type": "code",
   "execution_count": 147,
   "id": "75bf08f3",
   "metadata": {},
   "outputs": [
    {
     "name": "stdout",
     "output_type": "stream",
     "text": [
      "\n",
      "الأدارة التعليمية :\n",
      "بيلا\n",
      "\n"
     ]
    }
   ],
   "source": [
    "edu_administration=soup.find_all('li',class_='resultItem')[5].text\n",
    "print(edu_administration)"
   ]
  },
  {
   "cell_type": "code",
   "execution_count": 148,
   "id": "6da440a0",
   "metadata": {},
   "outputs": [
    {
     "name": "stdout",
     "output_type": "stream",
     "text": [
      "\n",
      "حالة الطالب :\n",
      "\n",
      "دور ثاني \n",
      "\n"
     ]
    }
   ],
   "source": [
    "passed=soup.find_all('li',class_='resultItem')[6].text\n",
    "print(passed)"
   ]
  },
  {
   "cell_type": "code",
   "execution_count": 149,
   "id": "9d6d9e16",
   "metadata": {},
   "outputs": [
    {
     "name": "stdout",
     "output_type": "stream",
     "text": [
      "\n",
      "اللغة العربية :\n",
      "50.5\n",
      "\n"
     ]
    }
   ],
   "source": [
    "name=soup.find_all('li',class_='resultItem')[7].text\n",
    "print(name)"
   ]
  },
  {
   "cell_type": "code",
   "execution_count": 150,
   "id": "e616abc0",
   "metadata": {},
   "outputs": [
    {
     "name": "stdout",
     "output_type": "stream",
     "text": [
      "\n",
      "اللغة الأجنبية الأولى :\n",
      "27.5\n",
      "\n"
     ]
    }
   ],
   "source": [
    "english=soup.find_all('li',class_='resultItem')[8].text\n",
    "print(english)"
   ]
  },
  {
   "cell_type": "code",
   "execution_count": 151,
   "id": "321513b6",
   "metadata": {},
   "outputs": [
    {
     "name": "stdout",
     "output_type": "stream",
     "text": [
      "\n",
      "اللغة الأجنبية الثانية :\n",
      "32.5\n",
      "\n"
     ]
    }
   ],
   "source": [
    "third_lang=soup.find_all('li',class_='resultItem')[9].text\n",
    "print(third_lang)"
   ]
  },
  {
   "cell_type": "code",
   "execution_count": 152,
   "id": "0563d9b3",
   "metadata": {},
   "outputs": [
    {
     "name": "stdout",
     "output_type": "stream",
     "text": [
      "\n",
      "مجموع الرياضيات البحتة :\n",
      "20\n",
      "\n"
     ]
    }
   ],
   "source": [
    "name=soup.find_all('li',class_='resultItem')[10].text\n",
    "print(name)"
   ]
  },
  {
   "cell_type": "code",
   "execution_count": 153,
   "id": "4bb93676",
   "metadata": {},
   "outputs": [
    {
     "name": "stdout",
     "output_type": "stream",
     "text": [
      "\n",
      "التاريخ :\n",
      "غير مقرر\n",
      "\n"
     ]
    }
   ],
   "source": [
    "history=soup.find_all('li',class_='resultItem')[11].text\n",
    "print(history)"
   ]
  },
  {
   "cell_type": "code",
   "execution_count": 154,
   "id": "a878025d",
   "metadata": {},
   "outputs": [
    {
     "name": "stdout",
     "output_type": "stream",
     "text": [
      "\n",
      "الجغرافيا :\n",
      "غير مقرر\n",
      "\n"
     ]
    }
   ],
   "source": [
    "geograpgy=soup.find_all('li',class_='resultItem')[12].text\n",
    "print(geograpgy)"
   ]
  },
  {
   "cell_type": "code",
   "execution_count": 155,
   "id": "cdcd4041",
   "metadata": {},
   "outputs": [
    {
     "name": "stdout",
     "output_type": "stream",
     "text": [
      "\n",
      "الفلسفة والمنطق :\n",
      "غير مقرر\n",
      "\n"
     ]
    }
   ],
   "source": [
    "philosophy=soup.find_all('li',class_='resultItem')[13].text\n",
    "print(philosophy)"
   ]
  },
  {
   "cell_type": "code",
   "execution_count": 156,
   "id": "21137529",
   "metadata": {},
   "outputs": [
    {
     "name": "stdout",
     "output_type": "stream",
     "text": [
      "\n",
      "علم النفس والاجتماع :\n",
      "غير مقرر\n",
      "\n"
     ]
    }
   ],
   "source": [
    "psychology=soup.find_all('li',class_='resultItem')[14].text\n",
    "print(psychology)"
   ]
  },
  {
   "cell_type": "code",
   "execution_count": 157,
   "id": "053913f7",
   "metadata": {},
   "outputs": [
    {
     "name": "stdout",
     "output_type": "stream",
     "text": [
      "\n",
      "الكيمياء :\n",
      "30\n",
      "\n"
     ]
    }
   ],
   "source": [
    "chemistry=soup.find_all('li',class_='resultItem')[15].text\n",
    "print(chemistry)"
   ]
  },
  {
   "cell_type": "code",
   "execution_count": 158,
   "id": "378fcf80",
   "metadata": {},
   "outputs": [
    {
     "name": "stdout",
     "output_type": "stream",
     "text": [
      "\n",
      "الأحياء :\n",
      "غير مقرر\n",
      "\n"
     ]
    }
   ],
   "source": [
    "biology=soup.find_all('li',class_='resultItem')[16].text\n",
    "print(biology)"
   ]
  },
  {
   "cell_type": "code",
   "execution_count": 159,
   "id": "123f704d",
   "metadata": {},
   "outputs": [
    {
     "name": "stdout",
     "output_type": "stream",
     "text": [
      "\n",
      "الجيولوجيا وعلوم البيئة :\n",
      "غير مقرر\n",
      "\n"
     ]
    }
   ],
   "source": [
    "geology=soup.find_all('li',class_='resultItem')[17].text\n",
    "print(geology)"
   ]
  },
  {
   "cell_type": "code",
   "execution_count": 160,
   "id": "30f54979",
   "metadata": {},
   "outputs": [
    {
     "name": "stdout",
     "output_type": "stream",
     "text": [
      "\n",
      "الرياضيات التطبيقية :\n",
      "30\n",
      "\n"
     ]
    }
   ],
   "source": [
    "applied_math=soup.find_all('li',class_='resultItem')[18].text\n",
    "print(applied_math)"
   ]
  },
  {
   "cell_type": "code",
   "execution_count": 161,
   "id": "94fe083e",
   "metadata": {},
   "outputs": [
    {
     "name": "stdout",
     "output_type": "stream",
     "text": [
      "\n",
      "الفيزياء :\n",
      "30\n",
      "\n"
     ]
    }
   ],
   "source": [
    "physics=soup.find_all('li',class_='resultItem')[19].text\n",
    "print(physics)"
   ]
  },
  {
   "cell_type": "code",
   "execution_count": 162,
   "id": "675cccd0",
   "metadata": {},
   "outputs": [
    {
     "name": "stdout",
     "output_type": "stream",
     "text": [
      "\n",
      "مجموع الدرجات :\n",
      "220.50\n",
      "\n"
     ]
    }
   ],
   "source": [
    "total_marks=soup.find_all('li',class_='resultItem')[20].text\n",
    "print(total_marks)"
   ]
  },
  {
   "cell_type": "code",
   "execution_count": 163,
   "id": "988e86cb",
   "metadata": {},
   "outputs": [
    {
     "name": "stdout",
     "output_type": "stream",
     "text": [
      "\n",
      "التربية الدينية :\n",
      "16\n",
      "\n"
     ]
    }
   ],
   "source": [
    "religion=soup.find_all('li',class_='resultItem')[21].text\n",
    "print(religion)"
   ]
  },
  {
   "cell_type": "code",
   "execution_count": 164,
   "id": "b2f84c1a",
   "metadata": {},
   "outputs": [
    {
     "name": "stdout",
     "output_type": "stream",
     "text": [
      "\n",
      "التربية الوطنية :\n",
      "14\n",
      "\n"
     ]
    }
   ],
   "source": [
    "nat_edu=soup.find_all('li',class_='resultItem')[22].text\n",
    "print(nat_edu)"
   ]
  },
  {
   "cell_type": "code",
   "execution_count": 165,
   "id": "447d7b53",
   "metadata": {},
   "outputs": [
    {
     "name": "stdout",
     "output_type": "stream",
     "text": [
      "\n",
      "الاقتصاد والإحصاء :\n",
      "25\n",
      "\n"
     ]
    }
   ],
   "source": [
    "stat_eco=soup.find_all('li',class_='resultItem')[23].text\n",
    "print(stat_eco)"
   ]
  },
  {
   "cell_type": "code",
   "execution_count": 206,
   "id": "82efb77c",
   "metadata": {},
   "outputs": [],
   "source": [
    "\n",
    "def extraction(response):\n",
    "    soup = BeautifulSoup(response, 'lxml')\n",
    "    result = {}\n",
    "    result[\"seat_no\"]=(soup.find_all('h1')[0].text.strip())\n",
    "    result[\"name\"]=soup.find_all('li',class_='resultItem')[3].find_all('span')[1].text.strip()\n",
    "    result[\"total_marks\"]=(soup.find_all('h1')[1].text.strip())\n",
    "    result[\"percentage\"]=(soup.find_all('h1')[2].text.strip())\n",
    "    result[\"sc_name\"]=soup.find_all('li',class_='resultItem')[4].find_all('span')[1].text.strip()\n",
    "    result[\"edu_administration\"]=soup.find_all('li',class_='resultItem')[5].find_all('span')[1].text.strip()\n",
    "    #check pass or fill\n",
    "    result[\"passed\"]=1 if(soup.find_all('li',class_='resultItem')[6].find_all('span')[1].text.split()[0]==\"ناجح\") else[0]\n",
    "    #get the result of the fixed subjects\n",
    "    result[\"arabic\"]=(soup.find_all('li',class_='resultItem')[7].find_all('span')[1].text.strip())\n",
    "    result[\"english\"]=(soup.find_all('li',class_='resultItem')[8].find_all('span')[1].text.strip())\n",
    "    result[\"third_lang\"]=(soup.find_all('li',class_='resultItem')[9].find_all('span')[1].text.strip())\n",
    "    #extracte each division\n",
    "    #extracte each division\n",
    "    result[\"history\"]=(soup.find_all('li',class_='resultItem')[11].find_all('span')[1].text.strip())\n",
    "    result[\"geograpgy\"]=(soup.find_all('li',class_='resultItem')[12].find_all('span')[1].text.strip())\n",
    "    result[\"philosophy\"]=(soup.find_all('li',class_='resultItem')[13].find_all('span')[1].text.strip())\n",
    "    result[\"psychology\"]=(soup.find_all('li',class_='resultItem')[14].find_all('span')[1].text.strip())\n",
    "    result[\"chemistry\"]=(soup.find_all('li',class_='resultItem')[15].find_all('span')[1].text.strip())\n",
    "    result[\"biology\"]=(soup.find_all('li',class_='resultItem')[16].find_all('span')[1].text.strip())\n",
    "    result[\"geology\"]=(soup.find_all('li',class_='resultItem')[17].find_all('span')[1].text.strip())\n",
    "    result[\"physics\"]=(soup.find_all('li',class_='resultItem')[19].find_all('span')[1].text.strip())\n",
    "    result[\"chemistry\"]=(soup.find_all('li',class_='resultItem')[15].find_all('span')[1].text.strip())\n",
    "    result[\"physics\"]=(soup.find_all('li',class_='resultItem')[19].find_all('span')[1].text.strip())\n",
    "    result[\"pure_math\"]=(soup.find_all('li',class_='resultItem')[10].find_all('span')[1].text.strip())\n",
    "    result[\"applied_math\"]=(soup.find_all('li',class_='resultItem')[18].find_all('span')[1].text.strip())\n",
    "    #abstract addition subjects\n",
    "    try:\n",
    "      result[\"relegion\"]=(soup.find_all('li',class_='resultItem')[21].find_all('span')[1].text.strip())\n",
    "      result[\"nat_edu\"]=(soup.find_all('li',class_='resultItem')[20].find_all('span')[1].text.strip())\n",
    "      result[\"stat_eco\"]=(soup.find_all('li',class_='resultItem')[23].find_all('span')[1].text.strip())\n",
    "    except:\n",
    "      result['religion'] = pd.NA\n",
    "      result['nat_edu'] = pd.NA \n",
    "      result['stat_eco'] = pd.NA \n",
    "    return result\n",
    "\n",
    "     \n"
   ]
  },
  {
   "cell_type": "code",
   "execution_count": 207,
   "id": "f96a890b",
   "metadata": {},
   "outputs": [],
   "source": [
    "\n",
    "soup = BeautifulSoup(my_list[0].content, 'lxml')"
   ]
  },
  {
   "cell_type": "code",
   "execution_count": 209,
   "id": "79a9787f",
   "metadata": {},
   "outputs": [
    {
     "data": {
      "text/plain": [
       "{'seat_no': '1459537',\n",
       " 'name': 'رضوى محمد الدمرداش علي البرنوجي',\n",
       " 'total_marks': '322.00',\n",
       " 'percentage': '78.54 %',\n",
       " 'sc_name': 'الشهيد محمد محمد عبدالعزيز صالح بابوبدوى',\n",
       " 'edu_administration': 'بيلا',\n",
       " 'passed': 1,\n",
       " 'arabic': '52.5',\n",
       " 'english': '36',\n",
       " 'third_lang': '37.5',\n",
       " 'history': '48.5',\n",
       " 'geograpgy': '48.5',\n",
       " 'philosophy': '50',\n",
       " 'psychology': '49',\n",
       " 'chemistry': 'غير مقرر',\n",
       " 'biology': 'غير مقرر',\n",
       " 'geology': 'غير مقرر',\n",
       " 'physics': 'غير مقرر',\n",
       " 'pure_math': 'غير مقرر',\n",
       " 'applied_math': 'غير مقرر',\n",
       " 'relegion': '18',\n",
       " 'nat_edu': '322.00',\n",
       " 'stat_eco': '26'}"
      ]
     },
     "execution_count": 209,
     "metadata": {},
     "output_type": "execute_result"
    }
   ],
   "source": [
    "extraction(my_list[7].content)"
   ]
  },
  {
   "cell_type": "code",
   "execution_count": 210,
   "id": "7b97799e",
   "metadata": {},
   "outputs": [
    {
     "name": "stdout",
     "output_type": "stream",
     "text": [
      "{'seat_no': '1459531', 'name': 'اسراء عيد محمد محمد البيلي', 'total_marks': '293.50', 'percentage': '71.59 %', 'sc_name': 'الشهيد محمد محمد عبدالعزيز صالح بابوبدوى', 'edu_administration': 'بيلا', 'passed': 1, 'arabic': '46', 'english': '35.5', 'third_lang': '34.5', 'history': '37', 'geograpgy': '52.5', 'philosophy': '45', 'psychology': '43', 'chemistry': 'غير مقرر', 'biology': 'غير مقرر', 'geology': 'غير مقرر', 'physics': 'غير مقرر', 'pure_math': 'غير مقرر', 'applied_math': 'غير مقرر', 'relegion': '18', 'nat_edu': '293.50', 'stat_eco': '25'}\n",
      "{'seat_no': '1459532', 'name': 'اسماء اشرف السيد ابراهيم ابراهيم', 'total_marks': '262.50', 'percentage': '64.02 %', 'sc_name': 'الشهيد محمد محمد عبدالعزيز صالح بابوبدوى', 'edu_administration': 'بيلا', 'passed': 1, 'arabic': '47', 'english': '34', 'third_lang': '35', 'history': '44', 'geograpgy': '41', 'philosophy': '30.5', 'psychology': '31', 'chemistry': 'غير مقرر', 'biology': 'غير مقرر', 'geology': 'غير مقرر', 'physics': 'غير مقرر', 'pure_math': 'غير مقرر', 'applied_math': 'غير مقرر', 'relegion': '16', 'nat_edu': '262.50', 'stat_eco': '25'}\n",
      "{'seat_no': '1459533', 'name': 'اسماء جمال حسين محمد محمد خليل', 'total_marks': '265.50', 'percentage': '64.76 %', 'sc_name': 'الشهيد محمد محمد عبدالعزيز صالح بابوبدوى', 'edu_administration': 'بيلا', 'passed': 1, 'arabic': '44.5', 'english': '32', 'third_lang': '27', 'history': '41.5', 'geograpgy': '42', 'philosophy': '38.5', 'psychology': '40', 'chemistry': 'غير مقرر', 'biology': 'غير مقرر', 'geology': 'غير مقرر', 'physics': 'غير مقرر', 'pure_math': 'غير مقرر', 'applied_math': 'غير مقرر', 'relegion': '15', 'nat_edu': '265.50', 'stat_eco': '25'}\n",
      "{'seat_no': '1459534', 'name': 'اسماء رضا محمود السعيد ابراهيم', 'total_marks': '246.00', 'percentage': '60.00 %', 'sc_name': 'الشهيد محمد محمد عبدالعزيز صالح بابوبدوى', 'edu_administration': 'بيلا', 'passed': [0], 'arabic': '15.5', 'english': '40', 'third_lang': '27', 'history': '44', 'geograpgy': '38', 'philosophy': '43.5', 'psychology': '38', 'chemistry': 'غير مقرر', 'biology': 'غير مقرر', 'geology': 'غير مقرر', 'physics': 'غير مقرر', 'pure_math': 'غير مقرر', 'applied_math': 'غير مقرر', 'relegion': '18', 'nat_edu': '246.00', 'stat_eco': '25'}\n",
      "{'seat_no': '1459535', 'name': 'امانى أيمن مصطفى أبو شعيشع على', 'total_marks': '344.00', 'percentage': '83.90 %', 'sc_name': 'الشهيد محمد محمد عبدالعزيز صالح بابوبدوى', 'edu_administration': 'بيلا', 'passed': 1, 'arabic': '67.5', 'english': '40.5', 'third_lang': '36.5', 'history': '48', 'geograpgy': '53.5', 'philosophy': '50', 'psychology': '48', 'chemistry': 'غير مقرر', 'biology': 'غير مقرر', 'geology': 'غير مقرر', 'physics': 'غير مقرر', 'pure_math': 'غير مقرر', 'applied_math': 'غير مقرر', 'relegion': '17', 'nat_edu': '344.00', 'stat_eco': '27'}\n",
      "{'seat_no': '1459536', 'name': 'رحمه محمد ابراهيم احمد', 'total_marks': '277.50', 'percentage': '67.68 %', 'sc_name': 'الشهيد محمد محمد عبدالعزيز صالح بابوبدوى', 'edu_administration': 'بيلا', 'passed': 1, 'arabic': '50.5', 'english': '42', 'third_lang': '23.5', 'history': '33.5', 'geograpgy': '34', 'philosophy': '46', 'psychology': '48', 'chemistry': 'غير مقرر', 'biology': 'غير مقرر', 'geology': 'غير مقرر', 'physics': 'غير مقرر', 'pure_math': 'غير مقرر', 'applied_math': 'غير مقرر', 'relegion': '16', 'nat_edu': '277.50', 'stat_eco': '27'}\n",
      "{'seat_no': '1459537', 'name': 'رضوى محمد الدمرداش علي البرنوجي', 'total_marks': '322.00', 'percentage': '78.54 %', 'sc_name': 'الشهيد محمد محمد عبدالعزيز صالح بابوبدوى', 'edu_administration': 'بيلا', 'passed': 1, 'arabic': '52.5', 'english': '36', 'third_lang': '37.5', 'history': '48.5', 'geograpgy': '48.5', 'philosophy': '50', 'psychology': '49', 'chemistry': 'غير مقرر', 'biology': 'غير مقرر', 'geology': 'غير مقرر', 'physics': 'غير مقرر', 'pure_math': 'غير مقرر', 'applied_math': 'غير مقرر', 'relegion': '18', 'nat_edu': '322.00', 'stat_eco': '26'}\n",
      "{'seat_no': '1459538', 'name': 'سارة محمد عبد العزيز على حسن', 'total_marks': '260.00', 'percentage': '63.41 %', 'sc_name': 'الشهيد محمد محمد عبدالعزيز صالح بابوبدوى', 'edu_administration': 'بيلا', 'passed': 1, 'arabic': '40', 'english': '40', 'third_lang': '32', 'history': '45.5', 'geograpgy': '32', 'philosophy': '37.5', 'psychology': '33', 'chemistry': 'غير مقرر', 'biology': 'غير مقرر', 'geology': 'غير مقرر', 'physics': 'غير مقرر', 'pure_math': 'غير مقرر', 'applied_math': 'غير مقرر', 'relegion': '14', 'nat_edu': '260.00', 'stat_eco': '28'}\n",
      "{'seat_no': '1459539', 'name': 'سلوى محمد المتولي عبدالعظيم حسن', 'total_marks': '246.00', 'percentage': '60.00 %', 'sc_name': 'الشهيد محمد محمد عبدالعزيز صالح بابوبدوى', 'edu_administration': 'بيلا', 'passed': 1, 'arabic': '40', 'english': '29', 'third_lang': '20', 'history': '42.5', 'geograpgy': '34.5', 'philosophy': '42', 'psychology': '38', 'chemistry': 'غير مقرر', 'biology': 'غير مقرر', 'geology': 'غير مقرر', 'physics': 'غير مقرر', 'pure_math': 'غير مقرر', 'applied_math': 'غير مقرر', 'relegion': '13', 'nat_edu': '246.00', 'stat_eco': '25'}\n",
      "{'seat_no': '1459540', 'name': 'شهد حسين رمضان احمدعبدالفتاح', 'total_marks': '264.00', 'percentage': '64.39 %', 'sc_name': 'الشهيد محمد محمد عبدالعزيز صالح بابوبدوى', 'edu_administration': 'بيلا', 'passed': 1, 'arabic': '47.5', 'english': '31', 'third_lang': '25.5', 'history': '46', 'geograpgy': '30', 'philosophy': '42', 'psychology': '42', 'chemistry': 'غير مقرر', 'biology': 'غير مقرر', 'geology': 'غير مقرر', 'physics': 'غير مقرر', 'pure_math': 'غير مقرر', 'applied_math': 'غير مقرر', 'relegion': '20', 'nat_edu': '264.00', 'stat_eco': '25'}\n",
      "{'seat_no': '1459541', 'name': 'شهد محمد محمد عثمان السيد الرفاعى', 'total_marks': '319.50', 'percentage': '77.93 %', 'sc_name': 'الشهيد محمد محمد عبدالعزيز صالح بابوبدوى', 'edu_administration': 'بيلا', 'passed': 1, 'arabic': '59.5', 'english': '38', 'third_lang': '37.5', 'history': '48', 'geograpgy': '45.5', 'philosophy': '44', 'psychology': '47', 'chemistry': 'غير مقرر', 'biology': 'غير مقرر', 'geology': 'غير مقرر', 'physics': 'غير مقرر', 'pure_math': 'غير مقرر', 'applied_math': 'غير مقرر', 'relegion': '16', 'nat_edu': '319.50', 'stat_eco': '25'}\n",
      "{'seat_no': '1459542', 'name': 'لبنى رضا على ابراهيم القبلاوي', 'total_marks': '234.50', 'percentage': '57.20 %', 'sc_name': 'الشهيد محمد محمد عبدالعزيز صالح بابوبدوى', 'edu_administration': 'بيلا', 'passed': 1, 'arabic': '40.5', 'english': '43', 'third_lang': '25', 'history': '30', 'geograpgy': '30', 'philosophy': '33', 'psychology': '33', 'chemistry': 'غير مقرر', 'biology': 'غير مقرر', 'geology': 'غير مقرر', 'physics': 'غير مقرر', 'pure_math': 'غير مقرر', 'applied_math': 'غير مقرر', 'relegion': '19', 'nat_edu': '234.50', 'stat_eco': '25'}\n",
      "{'seat_no': '1459543', 'name': 'مرام محمد صادق جمعه حسن', 'total_marks': '370.50', 'percentage': '90.37 %', 'sc_name': 'الشهيد محمد محمد عبدالعزيز صالح بابوبدوى', 'edu_administration': 'بيلا', 'passed': 1, 'arabic': '68.5', 'english': '47.5', 'third_lang': '39.5', 'history': '54', 'geograpgy': '55', 'philosophy': '54', 'psychology': '52', 'chemistry': 'غير مقرر', 'biology': 'غير مقرر', 'geology': 'غير مقرر', 'physics': 'غير مقرر', 'pure_math': 'غير مقرر', 'applied_math': 'غير مقرر', 'relegion': '21', 'nat_edu': '370.50', 'stat_eco': '39'}\n",
      "{'seat_no': '1459544', 'name': 'منه السيد عبدالعزيز عبدالفتاح محمد', 'total_marks': '279.00', 'percentage': '68.05 %', 'sc_name': 'الشهيد محمد محمد عبدالعزيز صالح بابوبدوى', 'edu_administration': 'بيلا', 'passed': 1, 'arabic': '45', 'english': '42', 'third_lang': '37', 'history': '39', 'geograpgy': '43', 'philosophy': '43', 'psychology': '30', 'chemistry': 'غير مقرر', 'biology': 'غير مقرر', 'geology': 'غير مقرر', 'physics': 'غير مقرر', 'pure_math': 'غير مقرر', 'applied_math': 'غير مقرر', 'relegion': '15', 'nat_edu': '279.00', 'stat_eco': '25'}\n",
      "{'seat_no': '1459545', 'name': 'منه الله السيد عبداللطيف محمد', 'total_marks': '309.50', 'percentage': '75.49 %', 'sc_name': 'الشهيد محمد محمد عبدالعزيز صالح بابوبدوى', 'edu_administration': 'بيلا', 'passed': 1, 'arabic': '60', 'english': '42.5', 'third_lang': '38.5', 'history': '42.5', 'geograpgy': '45', 'philosophy': '42', 'psychology': '39', 'chemistry': 'غير مقرر', 'biology': 'غير مقرر', 'geology': 'غير مقرر', 'physics': 'غير مقرر', 'pure_math': 'غير مقرر', 'applied_math': 'غير مقرر', 'relegion': '19', 'nat_edu': '309.50', 'stat_eco': '26'}\n",
      "{'seat_no': '1459546', 'name': 'ندى رضا محمود السيد النواجي', 'total_marks': '285.50', 'percentage': '69.63 %', 'sc_name': 'الشهيد محمد محمد عبدالعزيز صالح بابوبدوى', 'edu_administration': 'بيلا', 'passed': 1, 'arabic': '40', 'english': '47', 'third_lang': '28', 'history': '44', 'geograpgy': '39', 'philosophy': '41.5', 'psychology': '46', 'chemistry': 'غير مقرر', 'biology': 'غير مقرر', 'geology': 'غير مقرر', 'physics': 'غير مقرر', 'pure_math': 'غير مقرر', 'applied_math': 'غير مقرر', 'relegion': '18', 'nat_edu': '285.50', 'stat_eco': '29'}\n",
      "{'seat_no': '1459547', 'name': 'ندى عبد الرحمن سليمان على حسن', 'total_marks': '258.00', 'percentage': '62.93 %', 'sc_name': 'الشهيد محمد محمد عبدالعزيز صالح بابوبدوى', 'edu_administration': 'بيلا', 'passed': 1, 'arabic': '40', 'english': '36', 'third_lang': '28', 'history': '45', 'geograpgy': '31', 'philosophy': '41', 'psychology': '37', 'chemistry': 'غير مقرر', 'biology': 'غير مقرر', 'geology': 'غير مقرر', 'physics': 'غير مقرر', 'pure_math': 'غير مقرر', 'applied_math': 'غير مقرر', 'relegion': '20', 'nat_edu': '258.00', 'stat_eco': '25'}\n",
      "{'seat_no': '1459548', 'name': 'نسمه امن يوسف محمد يوسف', 'total_marks': '176.50', 'percentage': '43.05 %', 'sc_name': 'الشهيد محمد محمد عبدالعزيز صالح بابوبدوى', 'edu_administration': 'بيلا', 'passed': [0], 'arabic': '27.5', 'english': '25', 'third_lang': '20', 'history': '30', 'geograpgy': '30', 'philosophy': '30', 'psychology': '14', 'chemistry': 'غير مقرر', 'biology': 'غير مقرر', 'geology': 'غير مقرر', 'physics': 'غير مقرر', 'pure_math': 'غير مقرر', 'applied_math': 'غير مقرر', 'relegion': '8', 'nat_edu': '176.50', 'stat_eco': '15'}\n"
     ]
    },
    {
     "name": "stdout",
     "output_type": "stream",
     "text": [
      "{'seat_no': '1459549', 'name': 'نورا محمد ممدوح ابراهيم محمد', 'total_marks': '240.00', 'percentage': '58.54 %', 'sc_name': 'الشهيد محمد محمد عبدالعزيز صالح بابوبدوى', 'edu_administration': 'بيلا', 'passed': [0], 'arabic': '29', 'english': '32', 'third_lang': '29.5', 'history': '42.5', 'geograpgy': '30', 'philosophy': '41', 'psychology': '36', 'chemistry': 'غير مقرر', 'biology': 'غير مقرر', 'geology': 'غير مقرر', 'physics': 'غير مقرر', 'pure_math': 'غير مقرر', 'applied_math': 'غير مقرر', 'relegion': '9', 'nat_edu': '240.00', 'stat_eco': '25'}\n",
      "{'seat_no': '1459550', 'name': 'نورهان احمد عاطف محمد محمد البيلي', 'total_marks': '283.00', 'percentage': '69.02 %', 'sc_name': 'الشهيد محمد محمد عبدالعزيز صالح بابوبدوى', 'edu_administration': 'بيلا', 'passed': 1, 'arabic': '46.5', 'english': '46', 'third_lang': '35', 'history': '42.5', 'geograpgy': '30', 'philosophy': '45', 'psychology': '38', 'chemistry': 'غير مقرر', 'biology': 'غير مقرر', 'geology': 'غير مقرر', 'physics': 'غير مقرر', 'pure_math': 'غير مقرر', 'applied_math': 'غير مقرر', 'relegion': '16', 'nat_edu': '283.00', 'stat_eco': '25'}\n",
      "{'seat_no': '1459551', 'name': 'هاجر محمد مصطفى محمود رضوان', 'total_marks': '280.00', 'percentage': '68.29 %', 'sc_name': 'الشهيد محمد محمد عبدالعزيز صالح بابوبدوى', 'edu_administration': 'بيلا', 'passed': 1, 'arabic': '69', 'english': '36', 'third_lang': '32.5', 'history': '49.5', 'geograpgy': '33', 'philosophy': '30', 'psychology': '30', 'chemistry': 'غير مقرر', 'biology': 'غير مقرر', 'geology': 'غير مقرر', 'physics': 'غير مقرر', 'pure_math': 'غير مقرر', 'applied_math': 'غير مقرر', 'relegion': '14', 'nat_edu': '280.00', 'stat_eco': '28'}\n",
      "{'seat_no': '1459552', 'name': 'هاجر ياسر فتحي مصطفى يوسف', 'total_marks': '257.50', 'percentage': '62.80 %', 'sc_name': 'الشهيد محمد محمد عبدالعزيز صالح بابوبدوى', 'edu_administration': 'بيلا', 'passed': 1, 'arabic': '64.5', 'english': '26', 'third_lang': '31.5', 'history': '39.5', 'geograpgy': '33', 'philosophy': '33', 'psychology': '30', 'chemistry': 'غير مقرر', 'biology': 'غير مقرر', 'geology': 'غير مقرر', 'physics': 'غير مقرر', 'pure_math': 'غير مقرر', 'applied_math': 'غير مقرر', 'relegion': '15', 'nat_edu': '257.50', 'stat_eco': '25'}\n",
      "{'seat_no': '1459553', 'name': 'هبه عصام الشحات الدسوقي محمد', 'total_marks': '275.00', 'percentage': '67.07 %', 'sc_name': 'الشهيد محمد محمد عبدالعزيز صالح بابوبدوى', 'edu_administration': 'بيلا', 'passed': 1, 'arabic': '65', 'english': '31', 'third_lang': '38.5', 'history': '48.5', 'geograpgy': '30', 'philosophy': '30', 'psychology': '32', 'chemistry': 'غير مقرر', 'biology': 'غير مقرر', 'geology': 'غير مقرر', 'physics': 'غير مقرر', 'pure_math': 'غير مقرر', 'applied_math': 'غير مقرر', 'relegion': '16', 'nat_edu': '275.00', 'stat_eco': '32'}\n",
      "{'seat_no': '1459554', 'name': 'هدير محمد مصطفى محمود رضوان', 'total_marks': '265.50', 'percentage': '64.76 %', 'sc_name': 'الشهيد محمد محمد عبدالعزيز صالح بابوبدوى', 'edu_administration': 'بيلا', 'passed': 1, 'arabic': '61', 'english': '27', 'third_lang': '37', 'history': '46', 'geograpgy': '30', 'philosophy': '30.5', 'psychology': '34', 'chemistry': 'غير مقرر', 'biology': 'غير مقرر', 'geology': 'غير مقرر', 'physics': 'غير مقرر', 'pure_math': 'غير مقرر', 'applied_math': 'غير مقرر', 'relegion': '16', 'nat_edu': '265.50', 'stat_eco': '26'}\n",
      "{'seat_no': '1459555', 'name': 'هند رضا مصطفى أبو شعيشع احمد', 'total_marks': '262.00', 'percentage': '63.90 %', 'sc_name': 'الشهيد محمد محمد عبدالعزيز صالح بابوبدوى', 'edu_administration': 'بيلا', 'passed': 1, 'arabic': '63', 'english': '26', 'third_lang': '31', 'history': '49', 'geograpgy': '33', 'philosophy': '30', 'psychology': '30', 'chemistry': 'غير مقرر', 'biology': 'غير مقرر', 'geology': 'غير مقرر', 'physics': 'غير مقرر', 'pure_math': 'غير مقرر', 'applied_math': 'غير مقرر', 'relegion': '20', 'nat_edu': '262.00', 'stat_eco': '26'}\n",
      "{'seat_no': '1459556', 'name': 'ولاء صلاح الدين أنور عبد الفتاح', 'total_marks': '286.50', 'percentage': '69.88 %', 'sc_name': 'الشهيد محمد محمد عبدالعزيز صالح بابوبدوى', 'edu_administration': 'بيلا', 'passed': 1, 'arabic': '66', 'english': '32.5', 'third_lang': '29', 'history': '50.5', 'geograpgy': '32', 'philosophy': '39.5', 'psychology': '37', 'chemistry': 'غير مقرر', 'biology': 'غير مقرر', 'geology': 'غير مقرر', 'physics': 'غير مقرر', 'pure_math': 'غير مقرر', 'applied_math': 'غير مقرر', 'relegion': '15', 'nat_edu': '286.50', 'stat_eco': '28'}\n",
      "{'seat_no': '1459557', 'name': 'ياسمين حسين عبدالعزيز السيد محمود', 'total_marks': '270.50', 'percentage': '65.98 %', 'sc_name': 'الشهيد محمد محمد عبدالعزيز صالح بابوبدوى', 'edu_administration': 'بيلا', 'passed': 1, 'arabic': '53.5', 'english': '25', 'third_lang': '34.5', 'history': '43', 'geograpgy': '32.5', 'philosophy': '43', 'psychology': '39', 'chemistry': 'غير مقرر', 'biology': 'غير مقرر', 'geology': 'غير مقرر', 'physics': 'غير مقرر', 'pure_math': 'غير مقرر', 'applied_math': 'غير مقرر', 'relegion': '15', 'nat_edu': '270.50', 'stat_eco': '25'}\n",
      "{'seat_no': '1459558', 'name': 'احلام محمد البيومى محمود بدران', 'total_marks': '259.50', 'percentage': '63.29 %', 'sc_name': 'الشهيد محمد محمد عبدالعزيز صالح بابوبدوى', 'edu_administration': 'بيلا', 'passed': 1, 'arabic': '56.5', 'english': '30.5', 'third_lang': '39.5', 'history': 'غير مقرر', 'geograpgy': 'غير مقرر', 'philosophy': 'غير مقرر', 'psychology': 'غير مقرر', 'chemistry': '30', 'biology': '30', 'geology': '43', 'physics': '30', 'pure_math': 'غير مقرر', 'applied_math': 'غير مقرر', 'relegion': '19', 'nat_edu': '259.50', 'stat_eco': '26'}\n",
      "{'seat_no': '1459559', 'name': 'اسراء حسين احمد عبداللطيف البيلي', 'total_marks': '266.50', 'percentage': '65.00 %', 'sc_name': 'الشهيد محمد محمد عبدالعزيز صالح بابوبدوى', 'edu_administration': 'بيلا', 'passed': 1, 'arabic': '54.5', 'english': '28', 'third_lang': '37', 'history': 'غير مقرر', 'geograpgy': 'غير مقرر', 'philosophy': 'غير مقرر', 'psychology': 'غير مقرر', 'chemistry': '30', 'biology': '33', 'geology': '51', 'physics': '33', 'pure_math': 'غير مقرر', 'applied_math': 'غير مقرر', 'relegion': '17', 'nat_edu': '266.50', 'stat_eco': '25'}\n",
      "{'seat_no': '1459560', 'name': 'اسراء حمدي عبدالعاطي البسطويسي المرسي', 'total_marks': '280.50', 'percentage': '68.41 %', 'sc_name': 'الشهيد محمد محمد عبدالعزيز صالح بابوبدوى', 'edu_administration': 'بيلا', 'passed': 1, 'arabic': '63', 'english': '37', 'third_lang': '39.5', 'history': 'غير مقرر', 'geograpgy': 'غير مقرر', 'philosophy': 'غير مقرر', 'psychology': 'غير مقرر', 'chemistry': '30', 'biology': '30', 'geology': '50', 'physics': '31', 'pure_math': 'غير مقرر', 'applied_math': 'غير مقرر', 'relegion': '18', 'nat_edu': '280.50', 'stat_eco': '28'}\n",
      "{'seat_no': '1459561', 'name': 'اسماء صديق محمد احمد والي', 'total_marks': '339.50', 'percentage': '82.80 %', 'sc_name': 'الشهيد محمد محمد عبدالعزيز صالح بابوبدوى', 'edu_administration': 'بيلا', 'passed': 1, 'arabic': '77.5', 'english': '44.5', 'third_lang': '38.5', 'history': 'غير مقرر', 'geograpgy': 'غير مقرر', 'philosophy': 'غير مقرر', 'psychology': 'غير مقرر', 'chemistry': '43', 'biology': '35', 'geology': '56', 'physics': '45', 'pure_math': 'غير مقرر', 'applied_math': 'غير مقرر', 'relegion': '20', 'nat_edu': '339.50', 'stat_eco': '34'}\n",
      "{'seat_no': '1459562', 'name': 'الاء معوض فتحي معوض على رزق', 'total_marks': '300.00', 'percentage': '73.17 %', 'sc_name': 'الشهيد محمد محمد عبدالعزيز صالح بابوبدوى', 'edu_administration': 'بيلا', 'passed': 1, 'arabic': '59.5', 'english': '45', 'third_lang': '38.5', 'history': 'غير مقرر', 'geograpgy': 'غير مقرر', 'philosophy': 'غير مقرر', 'psychology': 'غير مقرر', 'chemistry': '46', 'biology': '36.5', 'geology': '40.5', 'physics': '34', 'pure_math': 'غير مقرر', 'applied_math': 'غير مقرر', 'relegion': '13', 'nat_edu': '300.00', 'stat_eco': '33'}\n",
      "{'seat_no': '1459563', 'name': 'امال جهاد السيد احمد فودة', 'total_marks': '334.50', 'percentage': '81.59 %', 'sc_name': 'الشهيد محمد محمد عبدالعزيز صالح بابوبدوى', 'edu_administration': 'بيلا', 'passed': 1, 'arabic': '73', 'english': '47.5', 'third_lang': '35.5', 'history': 'غير مقرر', 'geograpgy': 'غير مقرر', 'philosophy': 'غير مقرر', 'psychology': 'غير مقرر', 'chemistry': '49', 'biology': '33.5', 'geology': '48', 'physics': '48', 'pure_math': 'غير مقرر', 'applied_math': 'غير مقرر', 'relegion': '16', 'nat_edu': '334.50', 'stat_eco': '34'}\n",
      "{'seat_no': '1459564', 'name': 'اماني عبدالحليم عبدالفتاح عبدالحليم', 'total_marks': '371.00', 'percentage': '90.49 %', 'sc_name': 'الشهيد محمد محمد عبدالعزيز صالح بابوبدوى', 'edu_administration': 'بيلا', 'passed': 1, 'arabic': '79.5', 'english': '48.5', 'third_lang': '39.5', 'history': 'غير مقرر', 'geograpgy': 'غير مقرر', 'philosophy': 'غير مقرر', 'psychology': 'غير مقرر', 'chemistry': '55', 'biology': '41.5', 'geology': '58', 'physics': '49', 'pure_math': 'غير مقرر', 'applied_math': 'غير مقرر', 'relegion': '13', 'nat_edu': '371.00', 'stat_eco': '27'}\n",
      "{'seat_no': '1459565', 'name': 'اميره محمد السيد محمد بلاطه', 'total_marks': '311.00', 'percentage': '75.85 %', 'sc_name': 'الشهيد محمد محمد عبدالعزيز صالح بابوبدوى', 'edu_administration': 'بيلا', 'passed': 1, 'arabic': '65.5', 'english': '45', 'third_lang': '39.5', 'history': 'غير مقرر', 'geograpgy': 'غير مقرر', 'philosophy': 'غير مقرر', 'psychology': 'غير مقرر', 'chemistry': '38', 'biology': '33.5', 'geology': '46', 'physics': '43.5', 'pure_math': 'غير مقرر', 'applied_math': 'غير مقرر', 'relegion': '19', 'nat_edu': '311.00', 'stat_eco': '30'}\n",
      "{'seat_no': '1459566', 'name': 'ايمان الذكير سعد الصاوى', 'total_marks': '315.00', 'percentage': '76.83 %', 'sc_name': 'الشهيد محمد محمد عبدالعزيز صالح بابوبدوى', 'edu_administration': 'بيلا', 'passed': 1, 'arabic': '68.5', 'english': '47.5', 'third_lang': '39.5', 'history': 'غير مقرر', 'geograpgy': 'غير مقرر', 'philosophy': 'غير مقرر', 'psychology': 'غير مقرر', 'chemistry': '41.5', 'biology': '32.5', 'geology': '47', 'physics': '38.5', 'pure_math': 'غير مقرر', 'applied_math': 'غير مقرر', 'relegion': '13', 'nat_edu': '315.00', 'stat_eco': '39'}\n"
     ]
    },
    {
     "name": "stdout",
     "output_type": "stream",
     "text": [
      "{'seat_no': '1459567', 'name': 'ايه السيد احمد فؤاد عبدالغني', 'total_marks': '311.50', 'percentage': '75.98 %', 'sc_name': 'الشهيد محمد محمد عبدالعزيز صالح بابوبدوى', 'edu_administration': 'بيلا', 'passed': 1, 'arabic': '58', 'english': '47.5', 'third_lang': '34', 'history': 'غير مقرر', 'geograpgy': 'غير مقرر', 'philosophy': 'غير مقرر', 'psychology': 'غير مقرر', 'chemistry': '46', 'biology': '44', 'geology': '40', 'physics': '42', 'pure_math': 'غير مقرر', 'applied_math': 'غير مقرر', 'relegion': '19', 'nat_edu': '311.50', 'stat_eco': '33'}\n",
      "{'seat_no': '1459568', 'name': 'ايه ايمن علي صالح يوسف', 'total_marks': '378.50', 'percentage': '92.32 %', 'sc_name': 'الشهيد محمد محمد عبدالعزيز صالح بابوبدوى', 'edu_administration': 'بيلا', 'passed': 1, 'arabic': '79.5', 'english': '48.5', 'third_lang': '39.5', 'history': 'غير مقرر', 'geograpgy': 'غير مقرر', 'philosophy': 'غير مقرر', 'psychology': 'غير مقرر', 'chemistry': '55', 'biology': '45', 'geology': '58', 'physics': '53', 'pure_math': 'غير مقرر', 'applied_math': 'غير مقرر', 'relegion': '18', 'nat_edu': '378.50', 'stat_eco': '30'}\n",
      "{'seat_no': '1459569', 'name': 'ايه خالد محمد يوسف محمد العيسوي', 'total_marks': '304.50', 'percentage': '74.27 %', 'sc_name': 'الشهيد محمد محمد عبدالعزيز صالح بابوبدوى', 'edu_administration': 'بيلا', 'passed': 1, 'arabic': '69.5', 'english': '37.5', 'third_lang': '35.5', 'history': 'غير مقرر', 'geograpgy': 'غير مقرر', 'philosophy': 'غير مقرر', 'psychology': 'غير مقرر', 'chemistry': '44', 'biology': '30', 'geology': '51', 'physics': '37', 'pure_math': 'غير مقرر', 'applied_math': 'غير مقرر', 'relegion': '18', 'nat_edu': '304.50', 'stat_eco': '29'}\n",
      "{'seat_no': '1459570', 'name': 'ايه رضا علي عبدالرحيم اللبيشي', 'total_marks': '251.50', 'percentage': '61.34 %', 'sc_name': 'الشهيد محمد محمد عبدالعزيز صالح بابوبدوى', 'edu_administration': 'بيلا', 'passed': 1, 'arabic': '53', 'english': '32', 'third_lang': '39.5', 'history': 'غير مقرر', 'geograpgy': 'غير مقرر', 'philosophy': 'غير مقرر', 'psychology': 'غير مقرر', 'chemistry': '30', 'biology': '30.5', 'geology': '36.5', 'physics': '30', 'pure_math': 'غير مقرر', 'applied_math': 'غير مقرر', 'relegion': '18', 'nat_edu': '251.50', 'stat_eco': '25'}\n",
      "{'seat_no': '1459571', 'name': 'بسمله علي محمد احمد الشناوي', 'total_marks': '322.00', 'percentage': '78.54 %', 'sc_name': 'الشهيد محمد محمد عبدالعزيز صالح بابوبدوى', 'edu_administration': 'بيلا', 'passed': 1, 'arabic': '63', 'english': '37.5', 'third_lang': '39.5', 'history': 'غير مقرر', 'geograpgy': 'غير مقرر', 'philosophy': 'غير مقرر', 'psychology': 'غير مقرر', 'chemistry': '41.5', 'biology': '41', 'geology': '53', 'physics': '46.5', 'pure_math': 'غير مقرر', 'applied_math': 'غير مقرر', 'relegion': '21', 'nat_edu': '322.00', 'stat_eco': '34'}\n",
      "{'seat_no': '1459572', 'name': 'بشرى حامد ابراهيم سعيد ناصر', 'total_marks': '189.00', 'percentage': '46.10 %', 'sc_name': 'الشهيد محمد محمد عبدالعزيز صالح بابوبدوى', 'edu_administration': 'بيلا', 'passed': [0], 'arabic': '40', 'english': '7', 'third_lang': '21', 'history': 'غير مقرر', 'geograpgy': 'غير مقرر', 'philosophy': 'غير مقرر', 'psychology': 'غير مقرر', 'chemistry': '30', 'biology': '30', 'geology': '31', 'physics': '30', 'pure_math': 'غير مقرر', 'applied_math': 'غير مقرر', 'relegion': '16', 'nat_edu': '189.00', 'stat_eco': '28'}\n",
      "{'seat_no': '1459573', 'name': 'جيهان ماهر شفيق عبد الحميد على حمادة', 'total_marks': '263.00', 'percentage': '64.15 %', 'sc_name': 'الشهيد محمد محمد عبدالعزيز صالح بابوبدوى', 'edu_administration': 'بيلا', 'passed': 1, 'arabic': '43', 'english': '29', 'third_lang': '34', 'history': 'غير مقرر', 'geograpgy': 'غير مقرر', 'philosophy': 'غير مقرر', 'psychology': 'غير مقرر', 'chemistry': '32.5', 'biology': '48.5', 'geology': '44', 'physics': '32', 'pure_math': 'غير مقرر', 'applied_math': 'غير مقرر', 'relegion': '19', 'nat_edu': '263.00', 'stat_eco': '25'}\n",
      "{'seat_no': '1459574', 'name': 'حبيبه عبد الحميد ماهر الصباحى', 'total_marks': '283.50', 'percentage': '69.15 %', 'sc_name': 'الشهيد محمد محمد عبدالعزيز صالح بابوبدوى', 'edu_administration': 'بيلا', 'passed': 1, 'arabic': '41.5', 'english': '38', 'third_lang': '38', 'history': 'غير مقرر', 'geograpgy': 'غير مقرر', 'philosophy': 'غير مقرر', 'psychology': 'غير مقرر', 'chemistry': '40.5', 'biology': '50', 'geology': '45.5', 'physics': '30', 'pure_math': 'غير مقرر', 'applied_math': 'غير مقرر', 'relegion': '16', 'nat_edu': '283.50', 'stat_eco': '25'}\n",
      "{'seat_no': '1459575', 'name': 'حسناء خيري عبدالمقصود عبده زهري', 'total_marks': '305.50', 'percentage': '74.51 %', 'sc_name': 'الشهيد محمد محمد عبدالعزيز صالح بابوبدوى', 'edu_administration': 'بيلا', 'passed': 1, 'arabic': '61', 'english': '34', 'third_lang': '38.5', 'history': 'غير مقرر', 'geograpgy': 'غير مقرر', 'philosophy': 'غير مقرر', 'psychology': 'غير مقرر', 'chemistry': '39.5', 'biology': '43', 'geology': '52.5', 'physics': '37', 'pure_math': 'غير مقرر', 'applied_math': 'غير مقرر', 'relegion': '18', 'nat_edu': '305.50', 'stat_eco': '25'}\n",
      "{'seat_no': '1459576', 'name': 'حنين ابراهيم فتحي حسن عبد الله', 'total_marks': '338.00', 'percentage': '82.44 %', 'sc_name': 'الشهيد محمد محمد عبدالعزيز صالح بابوبدوى', 'edu_administration': 'بيلا', 'passed': 1, 'arabic': '61.5', 'english': '42', 'third_lang': '39.5', 'history': 'غير مقرر', 'geograpgy': 'غير مقرر', 'philosophy': 'غير مقرر', 'psychology': 'غير مقرر', 'chemistry': '44', 'biology': '46', 'geology': '55.5', 'physics': '49.5', 'pure_math': 'غير مقرر', 'applied_math': 'غير مقرر', 'relegion': '17', 'nat_edu': '338.00', 'stat_eco': '26'}\n",
      "{'seat_no': '1459577', 'name': 'خلود محمد حسين على فخرالدين', 'total_marks': '371.50', 'percentage': '90.61 %', 'sc_name': 'الشهيد محمد محمد عبدالعزيز صالح بابوبدوى', 'edu_administration': 'بيلا', 'passed': 1, 'arabic': '73.5', 'english': '47.5', 'third_lang': '37.5', 'history': 'غير مقرر', 'geograpgy': 'غير مقرر', 'philosophy': 'غير مقرر', 'psychology': 'غير مقرر', 'chemistry': '54', 'biology': '46', 'geology': '58', 'physics': '55', 'pure_math': 'غير مقرر', 'applied_math': 'غير مقرر', 'relegion': '20', 'nat_edu': '371.50', 'stat_eco': '40'}\n",
      "{'seat_no': '1459578', 'name': 'دعاء عبدالفتاح محمد عبدالفتاح', 'total_marks': '340.00', 'percentage': '82.93 %', 'sc_name': 'الشهيد محمد محمد عبدالعزيز صالح بابوبدوى', 'edu_administration': 'بيلا', 'passed': 1, 'arabic': '69.5', 'english': '43.5', 'third_lang': '39.5', 'history': 'غير مقرر', 'geograpgy': 'غير مقرر', 'philosophy': 'غير مقرر', 'psychology': 'غير مقرر', 'chemistry': '38', 'biology': '48', 'geology': '55', 'physics': '46.5', 'pure_math': 'غير مقرر', 'applied_math': 'غير مقرر', 'relegion': '15', 'nat_edu': '340.00', 'stat_eco': '27'}\n",
      "{'seat_no': '1459579', 'name': 'دعاء محمد السيد فايد السيد محمد', 'total_marks': '227.00', 'percentage': '55.37 %', 'sc_name': 'الشهيد محمد محمد عبدالعزيز صالح بابوبدوى', 'edu_administration': 'بيلا', 'passed': [0], 'arabic': '26', 'english': '28', 'third_lang': '26.5', 'history': 'غير مقرر', 'geograpgy': 'غير مقرر', 'philosophy': 'غير مقرر', 'psychology': 'غير مقرر', 'chemistry': '41', 'biology': '36.5', 'geology': '39', 'physics': '30', 'pure_math': 'غير مقرر', 'applied_math': 'غير مقرر', 'relegion': '15', 'nat_edu': '227.00', 'stat_eco': '25'}\n",
      "{'seat_no': '1459580', 'name': 'دنيا منير مصطفى عبدالحق الشناوى', 'total_marks': '257.50', 'percentage': '62.80 %', 'sc_name': 'الشهيد محمد محمد عبدالعزيز صالح بابوبدوى', 'edu_administration': 'بيلا', 'passed': 1, 'arabic': '48', 'english': '29', 'third_lang': '39', 'history': 'غير مقرر', 'geograpgy': 'غير مقرر', 'philosophy': 'غير مقرر', 'psychology': 'غير مقرر', 'chemistry': '38', 'biology': '30.5', 'geology': '41.5', 'physics': '31.5', 'pure_math': 'غير مقرر', 'applied_math': 'غير مقرر', 'relegion': '18', 'nat_edu': '257.50', 'stat_eco': '28'}\n",
      "{'seat_no': '1459581', 'name': 'دينا محمد عبدالعزيز السيد عبدالله', 'total_marks': '329.00', 'percentage': '80.24 %', 'sc_name': 'الشهيد محمد محمد عبدالعزيز صالح بابوبدوى', 'edu_administration': 'بيلا', 'passed': 1, 'arabic': '69.5', 'english': '32.5', 'third_lang': '38', 'history': 'غير مقرر', 'geograpgy': 'غير مقرر', 'philosophy': 'غير مقرر', 'psychology': 'غير مقرر', 'chemistry': '48.5', 'biology': '43.5', 'geology': '54.5', 'physics': '42.5', 'pure_math': 'غير مقرر', 'applied_math': 'غير مقرر', 'relegion': '20', 'nat_edu': '329.00', 'stat_eco': '33'}\n",
      "{'seat_no': '1459582', 'name': 'رؤى رفعت عبد الغني الرفاعي عبد الله', 'total_marks': '317.00', 'percentage': '77.32 %', 'sc_name': 'الشهيد محمد محمد عبدالعزيز صالح بابوبدوى', 'edu_administration': 'بيلا', 'passed': 1, 'arabic': '64', 'english': '31', 'third_lang': '38.5', 'history': 'غير مقرر', 'geograpgy': 'غير مقرر', 'philosophy': 'غير مقرر', 'psychology': 'غير مقرر', 'chemistry': '46.5', 'biology': '39', 'geology': '52.5', 'physics': '45.5', 'pure_math': 'غير مقرر', 'applied_math': 'غير مقرر', 'relegion': '20', 'nat_edu': '317.00', 'stat_eco': '34'}\n",
      "{'seat_no': '1459583', 'name': 'رباب احمد عبدالعزيز علي بدر', 'total_marks': '284.50', 'percentage': '69.39 %', 'sc_name': 'الشهيد محمد محمد عبدالعزيز صالح بابوبدوى', 'edu_administration': 'بيلا', 'passed': 1, 'arabic': '46', 'english': '39', 'third_lang': '31.5', 'history': 'غير مقرر', 'geograpgy': 'غير مقرر', 'philosophy': 'غير مقرر', 'psychology': 'غير مقرر', 'chemistry': '32.5', 'biology': '38.5', 'geology': '49', 'physics': '48', 'pure_math': 'غير مقرر', 'applied_math': 'غير مقرر', 'relegion': '19', 'nat_edu': '284.50', 'stat_eco': '30'}\n",
      "{'seat_no': '1459584', 'name': 'رحمة على حافظ على', 'total_marks': '323.50', 'percentage': '78.90 %', 'sc_name': 'الشهيد محمد محمد عبدالعزيز صالح بابوبدوى', 'edu_administration': 'بيلا', 'passed': 1, 'arabic': '63', 'english': '44', 'third_lang': '37', 'history': 'غير مقرر', 'geograpgy': 'غير مقرر', 'philosophy': 'غير مقرر', 'psychology': 'غير مقرر', 'chemistry': '40.5', 'biology': '39.5', 'geology': '59', 'physics': '40.5', 'pure_math': 'غير مقرر', 'applied_math': 'غير مقرر', 'relegion': '22', 'nat_edu': '323.50', 'stat_eco': '29'}\n"
     ]
    },
    {
     "name": "stdout",
     "output_type": "stream",
     "text": [
      "{'seat_no': '1459585', 'name': 'رحمه ابراهيم عبد القادر السيد احمد', 'total_marks': '375.00', 'percentage': '91.46 %', 'sc_name': 'الشهيد محمد محمد عبدالعزيز صالح بابوبدوى', 'edu_administration': 'بيلا', 'passed': 1, 'arabic': '71.5', 'english': '48', 'third_lang': '39.5', 'history': 'غير مقرر', 'geograpgy': 'غير مقرر', 'philosophy': 'غير مقرر', 'psychology': 'غير مقرر', 'chemistry': '56', 'biology': '48', 'geology': '60', 'physics': '52', 'pure_math': 'غير مقرر', 'applied_math': 'غير مقرر', 'relegion': '21', 'nat_edu': '375.00', 'stat_eco': '28'}\n",
      "{'seat_no': '1459586', 'name': 'رحمه ابراهيم عبدالعزيز موسى العيسوي', 'total_marks': '380.00', 'percentage': '92.68 %', 'sc_name': 'الشهيد محمد محمد عبدالعزيز صالح بابوبدوى', 'edu_administration': 'بيلا', 'passed': 1, 'arabic': '76.5', 'english': '49.5', 'third_lang': '39.5', 'history': 'غير مقرر', 'geograpgy': 'غير مقرر', 'philosophy': 'غير مقرر', 'psychology': 'غير مقرر', 'chemistry': '55', 'biology': '44.5', 'geology': '60', 'physics': '55', 'pure_math': 'غير مقرر', 'applied_math': 'غير مقرر', 'relegion': '22', 'nat_edu': '380.00', 'stat_eco': '40'}\n",
      "{'seat_no': '1459587', 'name': 'رحمه احمد جمال الدين مصطفى الأبس', 'total_marks': '373.00', 'percentage': '90.98 %', 'sc_name': 'الشهيد محمد محمد عبدالعزيز صالح بابوبدوى', 'edu_administration': 'بيلا', 'passed': 1, 'arabic': '77.5', 'english': '49.5', 'third_lang': '39.5', 'history': 'غير مقرر', 'geograpgy': 'غير مقرر', 'philosophy': 'غير مقرر', 'psychology': 'غير مقرر', 'chemistry': '48', 'biology': '49.5', 'geology': '57', 'physics': '52', 'pure_math': 'غير مقرر', 'applied_math': 'غير مقرر', 'relegion': '22', 'nat_edu': '373.00', 'stat_eco': '36'}\n",
      "{'seat_no': '1459588', 'name': 'رحمه عبدالمعطي احمد محمد يوسف', 'total_marks': '315.50', 'percentage': '76.95 %', 'sc_name': 'الشهيد محمد محمد عبدالعزيز صالح بابوبدوى', 'edu_administration': 'بيلا', 'passed': 1, 'arabic': '67.5', 'english': '44.5', 'third_lang': '39.5', 'history': 'غير مقرر', 'geograpgy': 'غير مقرر', 'philosophy': 'غير مقرر', 'psychology': 'غير مقرر', 'chemistry': '33.5', 'biology': '37.5', 'geology': '51', 'physics': '42', 'pure_math': 'غير مقرر', 'applied_math': 'غير مقرر', 'relegion': '19', 'nat_edu': '315.50', 'stat_eco': '31'}\n",
      "{'seat_no': '1459589', 'name': 'رحمه هيثم محمد احمد عبدالمقصود', 'total_marks': '362.00', 'percentage': '88.29 %', 'sc_name': 'الشهيد محمد محمد عبدالعزيز صالح بابوبدوى', 'edu_administration': 'بيلا', 'passed': 1, 'arabic': '74', 'english': '46.5', 'third_lang': '39.5', 'history': 'غير مقرر', 'geograpgy': 'غير مقرر', 'philosophy': 'غير مقرر', 'psychology': 'غير مقرر', 'chemistry': '49.5', 'biology': '47.5', 'geology': '57', 'physics': '48', 'pure_math': 'غير مقرر', 'applied_math': 'غير مقرر', 'relegion': '22', 'nat_edu': '362.00', 'stat_eco': '36'}\n",
      "{'seat_no': '1459590', 'name': 'رحمه وليد على محمدعلي حسن', 'total_marks': '260.50', 'percentage': '63.54 %', 'sc_name': 'الشهيد محمد محمد عبدالعزيز صالح بابوبدوى', 'edu_administration': 'بيلا', 'passed': 1, 'arabic': '53', 'english': '32', 'third_lang': '29.5', 'history': 'غير مقرر', 'geograpgy': 'غير مقرر', 'philosophy': 'غير مقرر', 'psychology': 'غير مقرر', 'chemistry': '30', 'biology': '34', 'geology': '50.5', 'physics': '31.5', 'pure_math': 'غير مقرر', 'applied_math': 'غير مقرر', 'relegion': '17', 'nat_edu': '260.50', 'stat_eco': '25'}\n",
      "{'seat_no': '1459591', 'name': 'رنا عبدالحي وجدي محمد طافح', 'total_marks': '333.50', 'percentage': '81.34 %', 'sc_name': 'الشهيد محمد محمد عبدالعزيز صالح بابوبدوى', 'edu_administration': 'بيلا', 'passed': 1, 'arabic': '72', 'english': '42', 'third_lang': '37.5', 'history': 'غير مقرر', 'geograpgy': 'غير مقرر', 'philosophy': 'غير مقرر', 'psychology': 'غير مقرر', 'chemistry': '44', 'biology': '44.5', 'geology': '52', 'physics': '41.5', 'pure_math': 'غير مقرر', 'applied_math': 'غير مقرر', 'relegion': '17', 'nat_edu': '333.50', 'stat_eco': '32'}\n",
      "{'seat_no': '1459592', 'name': 'روان عماد محمد محمد البيلي', 'total_marks': '272.50', 'percentage': '66.46 %', 'sc_name': 'الشهيد محمد محمد عبدالعزيز صالح بابوبدوى', 'edu_administration': 'بيلا', 'passed': 1, 'arabic': '42', 'english': '32', 'third_lang': '36.5', 'history': 'غير مقرر', 'geograpgy': 'غير مقرر', 'philosophy': 'غير مقرر', 'psychology': 'غير مقرر', 'chemistry': '39', 'biology': '44', 'geology': '36', 'physics': '43', 'pure_math': 'غير مقرر', 'applied_math': 'غير مقرر', 'relegion': '19', 'nat_edu': '272.50', 'stat_eco': '33'}\n"
     ]
    },
    {
     "ename": "IndexError",
     "evalue": "list index out of range",
     "output_type": "error",
     "traceback": [
      "\u001b[1;31m---------------------------------------------------------------------------\u001b[0m",
      "\u001b[1;31mIndexError\u001b[0m                                Traceback (most recent call last)",
      "Cell \u001b[1;32mIn[210], line 2\u001b[0m\n\u001b[0;32m      1\u001b[0m \u001b[38;5;28;01mfor\u001b[39;00m i \u001b[38;5;129;01min\u001b[39;00m \u001b[38;5;28mrange\u001b[39m(\u001b[38;5;241m1\u001b[39m,\u001b[38;5;28mlen\u001b[39m(my_list)):\n\u001b[1;32m----> 2\u001b[0m         \u001b[38;5;28mprint\u001b[39m(extraction(my_list[i]\u001b[38;5;241m.\u001b[39mcontent))\n",
      "Cell \u001b[1;32mIn[206], line 4\u001b[0m, in \u001b[0;36mextraction\u001b[1;34m(response)\u001b[0m\n\u001b[0;32m      2\u001b[0m soup \u001b[38;5;241m=\u001b[39m BeautifulSoup(response, \u001b[38;5;124m'\u001b[39m\u001b[38;5;124mlxml\u001b[39m\u001b[38;5;124m'\u001b[39m)\n\u001b[0;32m      3\u001b[0m result \u001b[38;5;241m=\u001b[39m {}\n\u001b[1;32m----> 4\u001b[0m result[\u001b[38;5;124m\"\u001b[39m\u001b[38;5;124mseat_no\u001b[39m\u001b[38;5;124m\"\u001b[39m]\u001b[38;5;241m=\u001b[39m(soup\u001b[38;5;241m.\u001b[39mfind_all(\u001b[38;5;124m'\u001b[39m\u001b[38;5;124mh1\u001b[39m\u001b[38;5;124m'\u001b[39m)[\u001b[38;5;241m0\u001b[39m]\u001b[38;5;241m.\u001b[39mtext\u001b[38;5;241m.\u001b[39mstrip())\n\u001b[0;32m      5\u001b[0m result[\u001b[38;5;124m\"\u001b[39m\u001b[38;5;124mname\u001b[39m\u001b[38;5;124m\"\u001b[39m]\u001b[38;5;241m=\u001b[39msoup\u001b[38;5;241m.\u001b[39mfind_all(\u001b[38;5;124m'\u001b[39m\u001b[38;5;124mli\u001b[39m\u001b[38;5;124m'\u001b[39m,class_\u001b[38;5;241m=\u001b[39m\u001b[38;5;124m'\u001b[39m\u001b[38;5;124mresultItem\u001b[39m\u001b[38;5;124m'\u001b[39m)[\u001b[38;5;241m3\u001b[39m]\u001b[38;5;241m.\u001b[39mfind_all(\u001b[38;5;124m'\u001b[39m\u001b[38;5;124mspan\u001b[39m\u001b[38;5;124m'\u001b[39m)[\u001b[38;5;241m1\u001b[39m]\u001b[38;5;241m.\u001b[39mtext\u001b[38;5;241m.\u001b[39mstrip()\n\u001b[0;32m      6\u001b[0m result[\u001b[38;5;124m\"\u001b[39m\u001b[38;5;124mtotal_marks\u001b[39m\u001b[38;5;124m\"\u001b[39m]\u001b[38;5;241m=\u001b[39m(soup\u001b[38;5;241m.\u001b[39mfind_all(\u001b[38;5;124m'\u001b[39m\u001b[38;5;124mh1\u001b[39m\u001b[38;5;124m'\u001b[39m)[\u001b[38;5;241m1\u001b[39m]\u001b[38;5;241m.\u001b[39mtext\u001b[38;5;241m.\u001b[39mstrip())\n",
      "\u001b[1;31mIndexError\u001b[0m: list index out of range"
     ]
    }
   ],
   "source": [
    "for i in range(1,len(my_list)):\n",
    "        print(extraction(my_list[i].content))"
   ]
  },
  {
   "cell_type": "code",
   "execution_count": 211,
   "id": "87d7b02a",
   "metadata": {},
   "outputs": [
    {
     "name": "stderr",
     "output_type": "stream",
     "text": [
      "C:\\Users\\Ahmed Taha\\AppData\\Local\\Temp\\ipykernel_15904\\1154694439.py:5: FutureWarning: The frame.append method is deprecated and will be removed from pandas in a future version. Use pandas.concat instead.\n",
      "  final = final.append(result,ignore_index=True)\n",
      "C:\\Users\\Ahmed Taha\\AppData\\Local\\Temp\\ipykernel_15904\\1154694439.py:5: FutureWarning: The frame.append method is deprecated and will be removed from pandas in a future version. Use pandas.concat instead.\n",
      "  final = final.append(result,ignore_index=True)\n",
      "C:\\Users\\Ahmed Taha\\AppData\\Local\\Temp\\ipykernel_15904\\1154694439.py:5: FutureWarning: The frame.append method is deprecated and will be removed from pandas in a future version. Use pandas.concat instead.\n",
      "  final = final.append(result,ignore_index=True)\n",
      "C:\\Users\\Ahmed Taha\\AppData\\Local\\Temp\\ipykernel_15904\\1154694439.py:5: FutureWarning: The frame.append method is deprecated and will be removed from pandas in a future version. Use pandas.concat instead.\n",
      "  final = final.append(result,ignore_index=True)\n",
      "C:\\Users\\Ahmed Taha\\AppData\\Local\\Temp\\ipykernel_15904\\1154694439.py:5: FutureWarning: The frame.append method is deprecated and will be removed from pandas in a future version. Use pandas.concat instead.\n",
      "  final = final.append(result,ignore_index=True)\n",
      "C:\\Users\\Ahmed Taha\\AppData\\Local\\Temp\\ipykernel_15904\\1154694439.py:5: FutureWarning: The frame.append method is deprecated and will be removed from pandas in a future version. Use pandas.concat instead.\n",
      "  final = final.append(result,ignore_index=True)\n",
      "C:\\Users\\Ahmed Taha\\AppData\\Local\\Temp\\ipykernel_15904\\1154694439.py:5: FutureWarning: The frame.append method is deprecated and will be removed from pandas in a future version. Use pandas.concat instead.\n",
      "  final = final.append(result,ignore_index=True)\n",
      "C:\\Users\\Ahmed Taha\\AppData\\Local\\Temp\\ipykernel_15904\\1154694439.py:5: FutureWarning: The frame.append method is deprecated and will be removed from pandas in a future version. Use pandas.concat instead.\n",
      "  final = final.append(result,ignore_index=True)\n",
      "C:\\Users\\Ahmed Taha\\AppData\\Local\\Temp\\ipykernel_15904\\1154694439.py:5: FutureWarning: The frame.append method is deprecated and will be removed from pandas in a future version. Use pandas.concat instead.\n",
      "  final = final.append(result,ignore_index=True)\n",
      "C:\\Users\\Ahmed Taha\\AppData\\Local\\Temp\\ipykernel_15904\\1154694439.py:5: FutureWarning: The frame.append method is deprecated and will be removed from pandas in a future version. Use pandas.concat instead.\n",
      "  final = final.append(result,ignore_index=True)\n",
      "C:\\Users\\Ahmed Taha\\AppData\\Local\\Temp\\ipykernel_15904\\1154694439.py:5: FutureWarning: The frame.append method is deprecated and will be removed from pandas in a future version. Use pandas.concat instead.\n",
      "  final = final.append(result,ignore_index=True)\n",
      "C:\\Users\\Ahmed Taha\\AppData\\Local\\Temp\\ipykernel_15904\\1154694439.py:5: FutureWarning: The frame.append method is deprecated and will be removed from pandas in a future version. Use pandas.concat instead.\n",
      "  final = final.append(result,ignore_index=True)\n",
      "C:\\Users\\Ahmed Taha\\AppData\\Local\\Temp\\ipykernel_15904\\1154694439.py:5: FutureWarning: The frame.append method is deprecated and will be removed from pandas in a future version. Use pandas.concat instead.\n",
      "  final = final.append(result,ignore_index=True)\n",
      "C:\\Users\\Ahmed Taha\\AppData\\Local\\Temp\\ipykernel_15904\\1154694439.py:5: FutureWarning: The frame.append method is deprecated and will be removed from pandas in a future version. Use pandas.concat instead.\n",
      "  final = final.append(result,ignore_index=True)\n",
      "C:\\Users\\Ahmed Taha\\AppData\\Local\\Temp\\ipykernel_15904\\1154694439.py:5: FutureWarning: The frame.append method is deprecated and will be removed from pandas in a future version. Use pandas.concat instead.\n",
      "  final = final.append(result,ignore_index=True)\n",
      "C:\\Users\\Ahmed Taha\\AppData\\Local\\Temp\\ipykernel_15904\\1154694439.py:5: FutureWarning: The frame.append method is deprecated and will be removed from pandas in a future version. Use pandas.concat instead.\n",
      "  final = final.append(result,ignore_index=True)\n",
      "C:\\Users\\Ahmed Taha\\AppData\\Local\\Temp\\ipykernel_15904\\1154694439.py:5: FutureWarning: The frame.append method is deprecated and will be removed from pandas in a future version. Use pandas.concat instead.\n",
      "  final = final.append(result,ignore_index=True)\n",
      "C:\\Users\\Ahmed Taha\\AppData\\Local\\Temp\\ipykernel_15904\\1154694439.py:5: FutureWarning: The frame.append method is deprecated and will be removed from pandas in a future version. Use pandas.concat instead.\n",
      "  final = final.append(result,ignore_index=True)\n",
      "C:\\Users\\Ahmed Taha\\AppData\\Local\\Temp\\ipykernel_15904\\1154694439.py:5: FutureWarning: The frame.append method is deprecated and will be removed from pandas in a future version. Use pandas.concat instead.\n",
      "  final = final.append(result,ignore_index=True)\n",
      "C:\\Users\\Ahmed Taha\\AppData\\Local\\Temp\\ipykernel_15904\\1154694439.py:5: FutureWarning: The frame.append method is deprecated and will be removed from pandas in a future version. Use pandas.concat instead.\n",
      "  final = final.append(result,ignore_index=True)\n",
      "C:\\Users\\Ahmed Taha\\AppData\\Local\\Temp\\ipykernel_15904\\1154694439.py:5: FutureWarning: The frame.append method is deprecated and will be removed from pandas in a future version. Use pandas.concat instead.\n",
      "  final = final.append(result,ignore_index=True)\n",
      "C:\\Users\\Ahmed Taha\\AppData\\Local\\Temp\\ipykernel_15904\\1154694439.py:5: FutureWarning: The frame.append method is deprecated and will be removed from pandas in a future version. Use pandas.concat instead.\n",
      "  final = final.append(result,ignore_index=True)\n",
      "C:\\Users\\Ahmed Taha\\AppData\\Local\\Temp\\ipykernel_15904\\1154694439.py:5: FutureWarning: The frame.append method is deprecated and will be removed from pandas in a future version. Use pandas.concat instead.\n",
      "  final = final.append(result,ignore_index=True)\n",
      "C:\\Users\\Ahmed Taha\\AppData\\Local\\Temp\\ipykernel_15904\\1154694439.py:5: FutureWarning: The frame.append method is deprecated and will be removed from pandas in a future version. Use pandas.concat instead.\n",
      "  final = final.append(result,ignore_index=True)\n",
      "C:\\Users\\Ahmed Taha\\AppData\\Local\\Temp\\ipykernel_15904\\1154694439.py:5: FutureWarning: The frame.append method is deprecated and will be removed from pandas in a future version. Use pandas.concat instead.\n",
      "  final = final.append(result,ignore_index=True)\n",
      "C:\\Users\\Ahmed Taha\\AppData\\Local\\Temp\\ipykernel_15904\\1154694439.py:5: FutureWarning: The frame.append method is deprecated and will be removed from pandas in a future version. Use pandas.concat instead.\n",
      "  final = final.append(result,ignore_index=True)\n",
      "C:\\Users\\Ahmed Taha\\AppData\\Local\\Temp\\ipykernel_15904\\1154694439.py:5: FutureWarning: The frame.append method is deprecated and will be removed from pandas in a future version. Use pandas.concat instead.\n",
      "  final = final.append(result,ignore_index=True)\n",
      "C:\\Users\\Ahmed Taha\\AppData\\Local\\Temp\\ipykernel_15904\\1154694439.py:5: FutureWarning: The frame.append method is deprecated and will be removed from pandas in a future version. Use pandas.concat instead.\n",
      "  final = final.append(result,ignore_index=True)\n",
      "C:\\Users\\Ahmed Taha\\AppData\\Local\\Temp\\ipykernel_15904\\1154694439.py:5: FutureWarning: The frame.append method is deprecated and will be removed from pandas in a future version. Use pandas.concat instead.\n",
      "  final = final.append(result,ignore_index=True)\n",
      "C:\\Users\\Ahmed Taha\\AppData\\Local\\Temp\\ipykernel_15904\\1154694439.py:5: FutureWarning: The frame.append method is deprecated and will be removed from pandas in a future version. Use pandas.concat instead.\n",
      "  final = final.append(result,ignore_index=True)\n",
      "C:\\Users\\Ahmed Taha\\AppData\\Local\\Temp\\ipykernel_15904\\1154694439.py:5: FutureWarning: The frame.append method is deprecated and will be removed from pandas in a future version. Use pandas.concat instead.\n",
      "  final = final.append(result,ignore_index=True)\n",
      "C:\\Users\\Ahmed Taha\\AppData\\Local\\Temp\\ipykernel_15904\\1154694439.py:5: FutureWarning: The frame.append method is deprecated and will be removed from pandas in a future version. Use pandas.concat instead.\n",
      "  final = final.append(result,ignore_index=True)\n",
      "C:\\Users\\Ahmed Taha\\AppData\\Local\\Temp\\ipykernel_15904\\1154694439.py:5: FutureWarning: The frame.append method is deprecated and will be removed from pandas in a future version. Use pandas.concat instead.\n",
      "  final = final.append(result,ignore_index=True)\n",
      "C:\\Users\\Ahmed Taha\\AppData\\Local\\Temp\\ipykernel_15904\\1154694439.py:5: FutureWarning: The frame.append method is deprecated and will be removed from pandas in a future version. Use pandas.concat instead.\n",
      "  final = final.append(result,ignore_index=True)\n"
     ]
    },
    {
     "name": "stderr",
     "output_type": "stream",
     "text": [
      "C:\\Users\\Ahmed Taha\\AppData\\Local\\Temp\\ipykernel_15904\\1154694439.py:5: FutureWarning: The frame.append method is deprecated and will be removed from pandas in a future version. Use pandas.concat instead.\n",
      "  final = final.append(result,ignore_index=True)\n",
      "C:\\Users\\Ahmed Taha\\AppData\\Local\\Temp\\ipykernel_15904\\1154694439.py:5: FutureWarning: The frame.append method is deprecated and will be removed from pandas in a future version. Use pandas.concat instead.\n",
      "  final = final.append(result,ignore_index=True)\n",
      "C:\\Users\\Ahmed Taha\\AppData\\Local\\Temp\\ipykernel_15904\\1154694439.py:5: FutureWarning: The frame.append method is deprecated and will be removed from pandas in a future version. Use pandas.concat instead.\n",
      "  final = final.append(result,ignore_index=True)\n",
      "C:\\Users\\Ahmed Taha\\AppData\\Local\\Temp\\ipykernel_15904\\1154694439.py:5: FutureWarning: The frame.append method is deprecated and will be removed from pandas in a future version. Use pandas.concat instead.\n",
      "  final = final.append(result,ignore_index=True)\n",
      "C:\\Users\\Ahmed Taha\\AppData\\Local\\Temp\\ipykernel_15904\\1154694439.py:5: FutureWarning: The frame.append method is deprecated and will be removed from pandas in a future version. Use pandas.concat instead.\n",
      "  final = final.append(result,ignore_index=True)\n",
      "C:\\Users\\Ahmed Taha\\AppData\\Local\\Temp\\ipykernel_15904\\1154694439.py:5: FutureWarning: The frame.append method is deprecated and will be removed from pandas in a future version. Use pandas.concat instead.\n",
      "  final = final.append(result,ignore_index=True)\n",
      "C:\\Users\\Ahmed Taha\\AppData\\Local\\Temp\\ipykernel_15904\\1154694439.py:5: FutureWarning: The frame.append method is deprecated and will be removed from pandas in a future version. Use pandas.concat instead.\n",
      "  final = final.append(result,ignore_index=True)\n",
      "C:\\Users\\Ahmed Taha\\AppData\\Local\\Temp\\ipykernel_15904\\1154694439.py:5: FutureWarning: The frame.append method is deprecated and will be removed from pandas in a future version. Use pandas.concat instead.\n",
      "  final = final.append(result,ignore_index=True)\n",
      "C:\\Users\\Ahmed Taha\\AppData\\Local\\Temp\\ipykernel_15904\\1154694439.py:5: FutureWarning: The frame.append method is deprecated and will be removed from pandas in a future version. Use pandas.concat instead.\n",
      "  final = final.append(result,ignore_index=True)\n",
      "C:\\Users\\Ahmed Taha\\AppData\\Local\\Temp\\ipykernel_15904\\1154694439.py:5: FutureWarning: The frame.append method is deprecated and will be removed from pandas in a future version. Use pandas.concat instead.\n",
      "  final = final.append(result,ignore_index=True)\n",
      "C:\\Users\\Ahmed Taha\\AppData\\Local\\Temp\\ipykernel_15904\\1154694439.py:5: FutureWarning: The frame.append method is deprecated and will be removed from pandas in a future version. Use pandas.concat instead.\n",
      "  final = final.append(result,ignore_index=True)\n",
      "C:\\Users\\Ahmed Taha\\AppData\\Local\\Temp\\ipykernel_15904\\1154694439.py:5: FutureWarning: The frame.append method is deprecated and will be removed from pandas in a future version. Use pandas.concat instead.\n",
      "  final = final.append(result,ignore_index=True)\n",
      "C:\\Users\\Ahmed Taha\\AppData\\Local\\Temp\\ipykernel_15904\\1154694439.py:5: FutureWarning: The frame.append method is deprecated and will be removed from pandas in a future version. Use pandas.concat instead.\n",
      "  final = final.append(result,ignore_index=True)\n",
      "C:\\Users\\Ahmed Taha\\AppData\\Local\\Temp\\ipykernel_15904\\1154694439.py:5: FutureWarning: The frame.append method is deprecated and will be removed from pandas in a future version. Use pandas.concat instead.\n",
      "  final = final.append(result,ignore_index=True)\n",
      "C:\\Users\\Ahmed Taha\\AppData\\Local\\Temp\\ipykernel_15904\\1154694439.py:5: FutureWarning: The frame.append method is deprecated and will be removed from pandas in a future version. Use pandas.concat instead.\n",
      "  final = final.append(result,ignore_index=True)\n",
      "C:\\Users\\Ahmed Taha\\AppData\\Local\\Temp\\ipykernel_15904\\1154694439.py:5: FutureWarning: The frame.append method is deprecated and will be removed from pandas in a future version. Use pandas.concat instead.\n",
      "  final = final.append(result,ignore_index=True)\n",
      "C:\\Users\\Ahmed Taha\\AppData\\Local\\Temp\\ipykernel_15904\\1154694439.py:5: FutureWarning: The frame.append method is deprecated and will be removed from pandas in a future version. Use pandas.concat instead.\n",
      "  final = final.append(result,ignore_index=True)\n",
      "C:\\Users\\Ahmed Taha\\AppData\\Local\\Temp\\ipykernel_15904\\1154694439.py:5: FutureWarning: The frame.append method is deprecated and will be removed from pandas in a future version. Use pandas.concat instead.\n",
      "  final = final.append(result,ignore_index=True)\n",
      "C:\\Users\\Ahmed Taha\\AppData\\Local\\Temp\\ipykernel_15904\\1154694439.py:5: FutureWarning: The frame.append method is deprecated and will be removed from pandas in a future version. Use pandas.concat instead.\n",
      "  final = final.append(result,ignore_index=True)\n",
      "C:\\Users\\Ahmed Taha\\AppData\\Local\\Temp\\ipykernel_15904\\1154694439.py:5: FutureWarning: The frame.append method is deprecated and will be removed from pandas in a future version. Use pandas.concat instead.\n",
      "  final = final.append(result,ignore_index=True)\n",
      "C:\\Users\\Ahmed Taha\\AppData\\Local\\Temp\\ipykernel_15904\\1154694439.py:5: FutureWarning: The frame.append method is deprecated and will be removed from pandas in a future version. Use pandas.concat instead.\n",
      "  final = final.append(result,ignore_index=True)\n",
      "C:\\Users\\Ahmed Taha\\AppData\\Local\\Temp\\ipykernel_15904\\1154694439.py:5: FutureWarning: The frame.append method is deprecated and will be removed from pandas in a future version. Use pandas.concat instead.\n",
      "  final = final.append(result,ignore_index=True)\n",
      "C:\\Users\\Ahmed Taha\\AppData\\Local\\Temp\\ipykernel_15904\\1154694439.py:5: FutureWarning: The frame.append method is deprecated and will be removed from pandas in a future version. Use pandas.concat instead.\n",
      "  final = final.append(result,ignore_index=True)\n",
      "C:\\Users\\Ahmed Taha\\AppData\\Local\\Temp\\ipykernel_15904\\1154694439.py:5: FutureWarning: The frame.append method is deprecated and will be removed from pandas in a future version. Use pandas.concat instead.\n",
      "  final = final.append(result,ignore_index=True)\n",
      "C:\\Users\\Ahmed Taha\\AppData\\Local\\Temp\\ipykernel_15904\\1154694439.py:5: FutureWarning: The frame.append method is deprecated and will be removed from pandas in a future version. Use pandas.concat instead.\n",
      "  final = final.append(result,ignore_index=True)\n",
      "C:\\Users\\Ahmed Taha\\AppData\\Local\\Temp\\ipykernel_15904\\1154694439.py:5: FutureWarning: The frame.append method is deprecated and will be removed from pandas in a future version. Use pandas.concat instead.\n",
      "  final = final.append(result,ignore_index=True)\n",
      "C:\\Users\\Ahmed Taha\\AppData\\Local\\Temp\\ipykernel_15904\\1154694439.py:5: FutureWarning: The frame.append method is deprecated and will be removed from pandas in a future version. Use pandas.concat instead.\n",
      "  final = final.append(result,ignore_index=True)\n",
      "C:\\Users\\Ahmed Taha\\AppData\\Local\\Temp\\ipykernel_15904\\1154694439.py:5: FutureWarning: The frame.append method is deprecated and will be removed from pandas in a future version. Use pandas.concat instead.\n",
      "  final = final.append(result,ignore_index=True)\n"
     ]
    },
    {
     "ename": "IndexError",
     "evalue": "list index out of range",
     "output_type": "error",
     "traceback": [
      "\u001b[1;31m---------------------------------------------------------------------------\u001b[0m",
      "\u001b[1;31mIndexError\u001b[0m                                Traceback (most recent call last)",
      "Cell \u001b[1;32mIn[211], line 4\u001b[0m\n\u001b[0;32m      2\u001b[0m \u001b[38;5;28;01mfor\u001b[39;00m i \u001b[38;5;129;01min\u001b[39;00m my_list[\u001b[38;5;241m1\u001b[39m:]:\n\u001b[0;32m      3\u001b[0m   sourse \u001b[38;5;241m=\u001b[39mi\u001b[38;5;241m.\u001b[39mcontent\n\u001b[1;32m----> 4\u001b[0m   result \u001b[38;5;241m=\u001b[39m extraction(sourse)\n\u001b[0;32m      5\u001b[0m   final \u001b[38;5;241m=\u001b[39m final\u001b[38;5;241m.\u001b[39mappend(result,ignore_index\u001b[38;5;241m=\u001b[39m\u001b[38;5;28;01mTrue\u001b[39;00m)\n",
      "Cell \u001b[1;32mIn[206], line 4\u001b[0m, in \u001b[0;36mextraction\u001b[1;34m(response)\u001b[0m\n\u001b[0;32m      2\u001b[0m soup \u001b[38;5;241m=\u001b[39m BeautifulSoup(response, \u001b[38;5;124m'\u001b[39m\u001b[38;5;124mlxml\u001b[39m\u001b[38;5;124m'\u001b[39m)\n\u001b[0;32m      3\u001b[0m result \u001b[38;5;241m=\u001b[39m {}\n\u001b[1;32m----> 4\u001b[0m result[\u001b[38;5;124m\"\u001b[39m\u001b[38;5;124mseat_no\u001b[39m\u001b[38;5;124m\"\u001b[39m]\u001b[38;5;241m=\u001b[39m(soup\u001b[38;5;241m.\u001b[39mfind_all(\u001b[38;5;124m'\u001b[39m\u001b[38;5;124mh1\u001b[39m\u001b[38;5;124m'\u001b[39m)[\u001b[38;5;241m0\u001b[39m]\u001b[38;5;241m.\u001b[39mtext\u001b[38;5;241m.\u001b[39mstrip())\n\u001b[0;32m      5\u001b[0m result[\u001b[38;5;124m\"\u001b[39m\u001b[38;5;124mname\u001b[39m\u001b[38;5;124m\"\u001b[39m]\u001b[38;5;241m=\u001b[39msoup\u001b[38;5;241m.\u001b[39mfind_all(\u001b[38;5;124m'\u001b[39m\u001b[38;5;124mli\u001b[39m\u001b[38;5;124m'\u001b[39m,class_\u001b[38;5;241m=\u001b[39m\u001b[38;5;124m'\u001b[39m\u001b[38;5;124mresultItem\u001b[39m\u001b[38;5;124m'\u001b[39m)[\u001b[38;5;241m3\u001b[39m]\u001b[38;5;241m.\u001b[39mfind_all(\u001b[38;5;124m'\u001b[39m\u001b[38;5;124mspan\u001b[39m\u001b[38;5;124m'\u001b[39m)[\u001b[38;5;241m1\u001b[39m]\u001b[38;5;241m.\u001b[39mtext\u001b[38;5;241m.\u001b[39mstrip()\n\u001b[0;32m      6\u001b[0m result[\u001b[38;5;124m\"\u001b[39m\u001b[38;5;124mtotal_marks\u001b[39m\u001b[38;5;124m\"\u001b[39m]\u001b[38;5;241m=\u001b[39m(soup\u001b[38;5;241m.\u001b[39mfind_all(\u001b[38;5;124m'\u001b[39m\u001b[38;5;124mh1\u001b[39m\u001b[38;5;124m'\u001b[39m)[\u001b[38;5;241m1\u001b[39m]\u001b[38;5;241m.\u001b[39mtext\u001b[38;5;241m.\u001b[39mstrip())\n",
      "\u001b[1;31mIndexError\u001b[0m: list index out of range"
     ]
    }
   ],
   "source": [
    "final = pd.DataFrame()\n",
    "for i in my_list[1:]:\n",
    "  sourse =i.content\n",
    "  result = extraction(sourse)\n",
    "  final = final.append(result,ignore_index=True)"
   ]
  },
  {
   "cell_type": "code",
   "execution_count": 214,
   "id": "290c52e8",
   "metadata": {},
   "outputs": [
    {
     "data": {
      "text/html": [
       "<div>\n",
       "<style scoped>\n",
       "    .dataframe tbody tr th:only-of-type {\n",
       "        vertical-align: middle;\n",
       "    }\n",
       "\n",
       "    .dataframe tbody tr th {\n",
       "        vertical-align: top;\n",
       "    }\n",
       "\n",
       "    .dataframe thead th {\n",
       "        text-align: right;\n",
       "    }\n",
       "</style>\n",
       "<table border=\"1\" class=\"dataframe\">\n",
       "  <thead>\n",
       "    <tr style=\"text-align: right;\">\n",
       "      <th></th>\n",
       "      <th>seat_no</th>\n",
       "      <th>name</th>\n",
       "      <th>total_marks</th>\n",
       "      <th>percentage</th>\n",
       "      <th>sc_name</th>\n",
       "      <th>edu_administration</th>\n",
       "      <th>passed</th>\n",
       "      <th>arabic</th>\n",
       "      <th>english</th>\n",
       "      <th>third_lang</th>\n",
       "      <th>...</th>\n",
       "      <th>psychology</th>\n",
       "      <th>chemistry</th>\n",
       "      <th>biology</th>\n",
       "      <th>geology</th>\n",
       "      <th>physics</th>\n",
       "      <th>pure_math</th>\n",
       "      <th>applied_math</th>\n",
       "      <th>relegion</th>\n",
       "      <th>nat_edu</th>\n",
       "      <th>stat_eco</th>\n",
       "    </tr>\n",
       "  </thead>\n",
       "  <tbody>\n",
       "    <tr>\n",
       "      <th>0</th>\n",
       "      <td>1459531</td>\n",
       "      <td>اسراء عيد محمد محمد البيلي</td>\n",
       "      <td>293.50</td>\n",
       "      <td>71.59 %</td>\n",
       "      <td>الشهيد محمد محمد عبدالعزيز صالح بابوبدوى</td>\n",
       "      <td>بيلا</td>\n",
       "      <td>1</td>\n",
       "      <td>46</td>\n",
       "      <td>35.5</td>\n",
       "      <td>34.5</td>\n",
       "      <td>...</td>\n",
       "      <td>43</td>\n",
       "      <td>غير مقرر</td>\n",
       "      <td>غير مقرر</td>\n",
       "      <td>غير مقرر</td>\n",
       "      <td>غير مقرر</td>\n",
       "      <td>غير مقرر</td>\n",
       "      <td>غير مقرر</td>\n",
       "      <td>18</td>\n",
       "      <td>293.50</td>\n",
       "      <td>25</td>\n",
       "    </tr>\n",
       "    <tr>\n",
       "      <th>1</th>\n",
       "      <td>1459532</td>\n",
       "      <td>اسماء اشرف السيد ابراهيم ابراهيم</td>\n",
       "      <td>262.50</td>\n",
       "      <td>64.02 %</td>\n",
       "      <td>الشهيد محمد محمد عبدالعزيز صالح بابوبدوى</td>\n",
       "      <td>بيلا</td>\n",
       "      <td>1</td>\n",
       "      <td>47</td>\n",
       "      <td>34</td>\n",
       "      <td>35</td>\n",
       "      <td>...</td>\n",
       "      <td>31</td>\n",
       "      <td>غير مقرر</td>\n",
       "      <td>غير مقرر</td>\n",
       "      <td>غير مقرر</td>\n",
       "      <td>غير مقرر</td>\n",
       "      <td>غير مقرر</td>\n",
       "      <td>غير مقرر</td>\n",
       "      <td>16</td>\n",
       "      <td>262.50</td>\n",
       "      <td>25</td>\n",
       "    </tr>\n",
       "    <tr>\n",
       "      <th>2</th>\n",
       "      <td>1459533</td>\n",
       "      <td>اسماء جمال حسين محمد محمد خليل</td>\n",
       "      <td>265.50</td>\n",
       "      <td>64.76 %</td>\n",
       "      <td>الشهيد محمد محمد عبدالعزيز صالح بابوبدوى</td>\n",
       "      <td>بيلا</td>\n",
       "      <td>1</td>\n",
       "      <td>44.5</td>\n",
       "      <td>32</td>\n",
       "      <td>27</td>\n",
       "      <td>...</td>\n",
       "      <td>40</td>\n",
       "      <td>غير مقرر</td>\n",
       "      <td>غير مقرر</td>\n",
       "      <td>غير مقرر</td>\n",
       "      <td>غير مقرر</td>\n",
       "      <td>غير مقرر</td>\n",
       "      <td>غير مقرر</td>\n",
       "      <td>15</td>\n",
       "      <td>265.50</td>\n",
       "      <td>25</td>\n",
       "    </tr>\n",
       "    <tr>\n",
       "      <th>3</th>\n",
       "      <td>1459534</td>\n",
       "      <td>اسماء رضا محمود السعيد ابراهيم</td>\n",
       "      <td>246.00</td>\n",
       "      <td>60.00 %</td>\n",
       "      <td>الشهيد محمد محمد عبدالعزيز صالح بابوبدوى</td>\n",
       "      <td>بيلا</td>\n",
       "      <td>[0]</td>\n",
       "      <td>15.5</td>\n",
       "      <td>40</td>\n",
       "      <td>27</td>\n",
       "      <td>...</td>\n",
       "      <td>38</td>\n",
       "      <td>غير مقرر</td>\n",
       "      <td>غير مقرر</td>\n",
       "      <td>غير مقرر</td>\n",
       "      <td>غير مقرر</td>\n",
       "      <td>غير مقرر</td>\n",
       "      <td>غير مقرر</td>\n",
       "      <td>18</td>\n",
       "      <td>246.00</td>\n",
       "      <td>25</td>\n",
       "    </tr>\n",
       "    <tr>\n",
       "      <th>4</th>\n",
       "      <td>1459535</td>\n",
       "      <td>امانى أيمن مصطفى أبو شعيشع على</td>\n",
       "      <td>344.00</td>\n",
       "      <td>83.90 %</td>\n",
       "      <td>الشهيد محمد محمد عبدالعزيز صالح بابوبدوى</td>\n",
       "      <td>بيلا</td>\n",
       "      <td>1</td>\n",
       "      <td>67.5</td>\n",
       "      <td>40.5</td>\n",
       "      <td>36.5</td>\n",
       "      <td>...</td>\n",
       "      <td>48</td>\n",
       "      <td>غير مقرر</td>\n",
       "      <td>غير مقرر</td>\n",
       "      <td>غير مقرر</td>\n",
       "      <td>غير مقرر</td>\n",
       "      <td>غير مقرر</td>\n",
       "      <td>غير مقرر</td>\n",
       "      <td>17</td>\n",
       "      <td>344.00</td>\n",
       "      <td>27</td>\n",
       "    </tr>\n",
       "    <tr>\n",
       "      <th>...</th>\n",
       "      <td>...</td>\n",
       "      <td>...</td>\n",
       "      <td>...</td>\n",
       "      <td>...</td>\n",
       "      <td>...</td>\n",
       "      <td>...</td>\n",
       "      <td>...</td>\n",
       "      <td>...</td>\n",
       "      <td>...</td>\n",
       "      <td>...</td>\n",
       "      <td>...</td>\n",
       "      <td>...</td>\n",
       "      <td>...</td>\n",
       "      <td>...</td>\n",
       "      <td>...</td>\n",
       "      <td>...</td>\n",
       "      <td>...</td>\n",
       "      <td>...</td>\n",
       "      <td>...</td>\n",
       "      <td>...</td>\n",
       "      <td>...</td>\n",
       "    </tr>\n",
       "    <tr>\n",
       "      <th>57</th>\n",
       "      <td>1459588</td>\n",
       "      <td>رحمه عبدالمعطي احمد محمد يوسف</td>\n",
       "      <td>315.50</td>\n",
       "      <td>76.95 %</td>\n",
       "      <td>الشهيد محمد محمد عبدالعزيز صالح بابوبدوى</td>\n",
       "      <td>بيلا</td>\n",
       "      <td>1</td>\n",
       "      <td>67.5</td>\n",
       "      <td>44.5</td>\n",
       "      <td>39.5</td>\n",
       "      <td>...</td>\n",
       "      <td>غير مقرر</td>\n",
       "      <td>33.5</td>\n",
       "      <td>37.5</td>\n",
       "      <td>51</td>\n",
       "      <td>42</td>\n",
       "      <td>غير مقرر</td>\n",
       "      <td>غير مقرر</td>\n",
       "      <td>19</td>\n",
       "      <td>315.50</td>\n",
       "      <td>31</td>\n",
       "    </tr>\n",
       "    <tr>\n",
       "      <th>58</th>\n",
       "      <td>1459589</td>\n",
       "      <td>رحمه هيثم محمد احمد عبدالمقصود</td>\n",
       "      <td>362.00</td>\n",
       "      <td>88.29 %</td>\n",
       "      <td>الشهيد محمد محمد عبدالعزيز صالح بابوبدوى</td>\n",
       "      <td>بيلا</td>\n",
       "      <td>1</td>\n",
       "      <td>74</td>\n",
       "      <td>46.5</td>\n",
       "      <td>39.5</td>\n",
       "      <td>...</td>\n",
       "      <td>غير مقرر</td>\n",
       "      <td>49.5</td>\n",
       "      <td>47.5</td>\n",
       "      <td>57</td>\n",
       "      <td>48</td>\n",
       "      <td>غير مقرر</td>\n",
       "      <td>غير مقرر</td>\n",
       "      <td>22</td>\n",
       "      <td>362.00</td>\n",
       "      <td>36</td>\n",
       "    </tr>\n",
       "    <tr>\n",
       "      <th>59</th>\n",
       "      <td>1459590</td>\n",
       "      <td>رحمه وليد على محمدعلي حسن</td>\n",
       "      <td>260.50</td>\n",
       "      <td>63.54 %</td>\n",
       "      <td>الشهيد محمد محمد عبدالعزيز صالح بابوبدوى</td>\n",
       "      <td>بيلا</td>\n",
       "      <td>1</td>\n",
       "      <td>53</td>\n",
       "      <td>32</td>\n",
       "      <td>29.5</td>\n",
       "      <td>...</td>\n",
       "      <td>غير مقرر</td>\n",
       "      <td>30</td>\n",
       "      <td>34</td>\n",
       "      <td>50.5</td>\n",
       "      <td>31.5</td>\n",
       "      <td>غير مقرر</td>\n",
       "      <td>غير مقرر</td>\n",
       "      <td>17</td>\n",
       "      <td>260.50</td>\n",
       "      <td>25</td>\n",
       "    </tr>\n",
       "    <tr>\n",
       "      <th>60</th>\n",
       "      <td>1459591</td>\n",
       "      <td>رنا عبدالحي وجدي محمد طافح</td>\n",
       "      <td>333.50</td>\n",
       "      <td>81.34 %</td>\n",
       "      <td>الشهيد محمد محمد عبدالعزيز صالح بابوبدوى</td>\n",
       "      <td>بيلا</td>\n",
       "      <td>1</td>\n",
       "      <td>72</td>\n",
       "      <td>42</td>\n",
       "      <td>37.5</td>\n",
       "      <td>...</td>\n",
       "      <td>غير مقرر</td>\n",
       "      <td>44</td>\n",
       "      <td>44.5</td>\n",
       "      <td>52</td>\n",
       "      <td>41.5</td>\n",
       "      <td>غير مقرر</td>\n",
       "      <td>غير مقرر</td>\n",
       "      <td>17</td>\n",
       "      <td>333.50</td>\n",
       "      <td>32</td>\n",
       "    </tr>\n",
       "    <tr>\n",
       "      <th>61</th>\n",
       "      <td>1459592</td>\n",
       "      <td>روان عماد محمد محمد البيلي</td>\n",
       "      <td>272.50</td>\n",
       "      <td>66.46 %</td>\n",
       "      <td>الشهيد محمد محمد عبدالعزيز صالح بابوبدوى</td>\n",
       "      <td>بيلا</td>\n",
       "      <td>1</td>\n",
       "      <td>42</td>\n",
       "      <td>32</td>\n",
       "      <td>36.5</td>\n",
       "      <td>...</td>\n",
       "      <td>غير مقرر</td>\n",
       "      <td>39</td>\n",
       "      <td>44</td>\n",
       "      <td>36</td>\n",
       "      <td>43</td>\n",
       "      <td>غير مقرر</td>\n",
       "      <td>غير مقرر</td>\n",
       "      <td>19</td>\n",
       "      <td>272.50</td>\n",
       "      <td>33</td>\n",
       "    </tr>\n",
       "  </tbody>\n",
       "</table>\n",
       "<p>62 rows × 23 columns</p>\n",
       "</div>"
      ],
      "text/plain": [
       "    seat_no                              name total_marks percentage  \\\n",
       "0   1459531        اسراء عيد محمد محمد البيلي      293.50    71.59 %   \n",
       "1   1459532  اسماء اشرف السيد ابراهيم ابراهيم      262.50    64.02 %   \n",
       "2   1459533    اسماء جمال حسين محمد محمد خليل      265.50    64.76 %   \n",
       "3   1459534    اسماء رضا محمود السعيد ابراهيم      246.00    60.00 %   \n",
       "4   1459535    امانى أيمن مصطفى أبو شعيشع على      344.00    83.90 %   \n",
       "..      ...                               ...         ...        ...   \n",
       "57  1459588     رحمه عبدالمعطي احمد محمد يوسف      315.50    76.95 %   \n",
       "58  1459589    رحمه هيثم محمد احمد عبدالمقصود      362.00    88.29 %   \n",
       "59  1459590         رحمه وليد على محمدعلي حسن      260.50    63.54 %   \n",
       "60  1459591        رنا عبدالحي وجدي محمد طافح      333.50    81.34 %   \n",
       "61  1459592        روان عماد محمد محمد البيلي      272.50    66.46 %   \n",
       "\n",
       "                                     sc_name edu_administration passed arabic  \\\n",
       "0   الشهيد محمد محمد عبدالعزيز صالح بابوبدوى               بيلا      1     46   \n",
       "1   الشهيد محمد محمد عبدالعزيز صالح بابوبدوى               بيلا      1     47   \n",
       "2   الشهيد محمد محمد عبدالعزيز صالح بابوبدوى               بيلا      1   44.5   \n",
       "3   الشهيد محمد محمد عبدالعزيز صالح بابوبدوى               بيلا    [0]   15.5   \n",
       "4   الشهيد محمد محمد عبدالعزيز صالح بابوبدوى               بيلا      1   67.5   \n",
       "..                                       ...                ...    ...    ...   \n",
       "57  الشهيد محمد محمد عبدالعزيز صالح بابوبدوى               بيلا      1   67.5   \n",
       "58  الشهيد محمد محمد عبدالعزيز صالح بابوبدوى               بيلا      1     74   \n",
       "59  الشهيد محمد محمد عبدالعزيز صالح بابوبدوى               بيلا      1     53   \n",
       "60  الشهيد محمد محمد عبدالعزيز صالح بابوبدوى               بيلا      1     72   \n",
       "61  الشهيد محمد محمد عبدالعزيز صالح بابوبدوى               بيلا      1     42   \n",
       "\n",
       "   english third_lang  ... psychology chemistry   biology   geology   physics  \\\n",
       "0     35.5       34.5  ...         43  غير مقرر  غير مقرر  غير مقرر  غير مقرر   \n",
       "1       34         35  ...         31  غير مقرر  غير مقرر  غير مقرر  غير مقرر   \n",
       "2       32         27  ...         40  غير مقرر  غير مقرر  غير مقرر  غير مقرر   \n",
       "3       40         27  ...         38  غير مقرر  غير مقرر  غير مقرر  غير مقرر   \n",
       "4     40.5       36.5  ...         48  غير مقرر  غير مقرر  غير مقرر  غير مقرر   \n",
       "..     ...        ...  ...        ...       ...       ...       ...       ...   \n",
       "57    44.5       39.5  ...   غير مقرر      33.5      37.5        51        42   \n",
       "58    46.5       39.5  ...   غير مقرر      49.5      47.5        57        48   \n",
       "59      32       29.5  ...   غير مقرر        30        34      50.5      31.5   \n",
       "60      42       37.5  ...   غير مقرر        44      44.5        52      41.5   \n",
       "61      32       36.5  ...   غير مقرر        39        44        36        43   \n",
       "\n",
       "   pure_math applied_math relegion nat_edu stat_eco  \n",
       "0   غير مقرر     غير مقرر       18  293.50       25  \n",
       "1   غير مقرر     غير مقرر       16  262.50       25  \n",
       "2   غير مقرر     غير مقرر       15  265.50       25  \n",
       "3   غير مقرر     غير مقرر       18  246.00       25  \n",
       "4   غير مقرر     غير مقرر       17  344.00       27  \n",
       "..       ...          ...      ...     ...      ...  \n",
       "57  غير مقرر     غير مقرر       19  315.50       31  \n",
       "58  غير مقرر     غير مقرر       22  362.00       36  \n",
       "59  غير مقرر     غير مقرر       17  260.50       25  \n",
       "60  غير مقرر     غير مقرر       17  333.50       32  \n",
       "61  غير مقرر     غير مقرر       19  272.50       33  \n",
       "\n",
       "[62 rows x 23 columns]"
      ]
     },
     "execution_count": 214,
     "metadata": {},
     "output_type": "execute_result"
    }
   ],
   "source": [
    "final"
   ]
  },
  {
   "cell_type": "code",
   "execution_count": 213,
   "id": "e05b8858",
   "metadata": {},
   "outputs": [],
   "source": [
    "final.to_csv(r'D:\\natega\\results2_girls.csv', index=False)\n"
   ]
  },
  {
   "cell_type": "code",
   "execution_count": null,
   "id": "3079a166",
   "metadata": {},
   "outputs": [],
   "source": []
  }
 ],
 "metadata": {
  "kernelspec": {
   "display_name": "Python 3 (ipykernel)",
   "language": "python",
   "name": "python3"
  },
  "language_info": {
   "codemirror_mode": {
    "name": "ipython",
    "version": 3
   },
   "file_extension": ".py",
   "mimetype": "text/x-python",
   "name": "python",
   "nbconvert_exporter": "python",
   "pygments_lexer": "ipython3",
   "version": "3.11.3"
  }
 },
 "nbformat": 4,
 "nbformat_minor": 5
}
