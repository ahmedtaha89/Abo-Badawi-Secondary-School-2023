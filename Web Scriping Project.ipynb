{
 "cells": [
  {
   "cell_type": "code",
   "execution_count": 9,
   "id": "cf6b3bbd",
   "metadata": {},
   "outputs": [],
   "source": [
    "import pandas as pd\n",
    "import requests \n",
    "from bs4 import BeautifulSoup\n"
   ]
  },
  {
   "cell_type": "code",
   "execution_count": 16,
   "id": "9f4ab1c3",
   "metadata": {},
   "outputs": [
    {
     "name": "stdout",
     "output_type": "stream",
     "text": [
      "125\n"
     ]
    }
   ],
   "source": [
    "my_list=[]\n",
    "# 1459655\n",
    "for seats in range(1459530,1459655):\n",
    "  response = requests.get(f'https://shbabbek.com/natega/{seats}')\n",
    "  try:\n",
    "   if response.status_code == 200:\n",
    "     my_list.append(response.content)     \n",
    "    \n",
    "  except:\n",
    "    break\n",
    "\n",
    "print(len(my_list))\n"
   ]
  },
  {
   "cell_type": "code",
   "execution_count": 17,
   "id": "2a9d7fc5",
   "metadata": {},
   "outputs": [],
   "source": [
    "sourse = response.content\n",
    "\n"
   ]
  },
  {
   "cell_type": "code",
   "execution_count": 18,
   "id": "c7cfa1d6",
   "metadata": {},
   "outputs": [
    {
     "name": "stdout",
     "output_type": "stream",
     "text": [
      "<Response [200]>\n"
     ]
    }
   ],
   "source": [
    "response = requests.get(f'https://shbabbek.com/natega/{1459580}')\n",
    "print(response)"
   ]
  },
  {
   "cell_type": "code",
   "execution_count": 19,
   "id": "25e67ce9",
   "metadata": {},
   "outputs": [
    {
     "data": {
      "text/plain": [
       "b'<!DOCTYPE html> <html lang=\"ar\"> <head> <title>\\xd9\\x86\\xd8\\xaa\\xd9\\x8a\\xd8\\xac\\xd8\\xa9 \\xd8\\xa7\\xd9\\x84\\xd8\\xab\\xd8\\xa7\\xd9\\x86\\xd9\\x88\\xd9\\x8a\\xd8\\xa9 \\xd8\\xa7\\xd9\\x84\\xd8\\xb9\\xd8\\xa7\\xd9\\x85\\xd8\\xa9 2023 \\xd8\\xa8\\xd8\\xa7\\xd9\\x84\\xd8\\xa7\\xd8\\xb3\\xd9\\x85 \\xd9\\x88\\xd8\\xa7\\xd9\\x84\\xd9\\x85\\xd8\\xaf\\xd8\\xb1\\xd8\\xb3\\xd8\\xa9 \\xd9\\x88\\xd8\\xaa\\xd8\\xb1\\xd8\\xaa\\xd9\\x8a\\xd8\\xa8 \\xd8\\xa7\\xd9\\x84\\xd8\\xac\\xd9\\x85\\xd9\\x87\\xd9\\x88\\xd8\\xb1\\xd9\\x8a\\xd8\\xa9 \\xd9\\x88\\xd8\\xaa\\xd9\\x88\\xd9\\x82\\xd8\\xb9\\xd8\\xa7\\xd8\\xaa \\xd8\\xa7\\xd9\\x84\\xd8\\xaa\\xd9\\x86\\xd8\\xb3\\xd9\\x8a\\xd9\\x82 - \\xd9\\x85\\xd9\\x88\\xd9\\x82\\xd8\\xb9 \\xd8\\xb4\\xd8\\xa8\\xd8\\xa7\\xd8\\xa8\\xd9\\x8a\\xd9\\x83</title> <meta property=\"og:title\" content=\\'\\' /> <meta property=\"og:description\" content=\\'\\' /> <meta charset=\"UTF-8\"> <meta property=\"og:type\" content=\"article\" /> <meta http-equiv=\"X-UA-Compatible\" content=\"IE=edge\"> <meta name=\"viewport\" content=\"width=device-width, initial-scale=1, shrink-to-fit=no\"> <link rel=\"preload\" href=\"//fonts.gstatic.com/ea/notonaskharabicui/v1/NotoNaskhArabicUI-Regular.woff2\" crossorigin=\"anonymous\" as=\"font\" type=\"font/woff2\"> <link rel=\"preload\" href=\"https://fonts.gstatic.com/s/notokufiarabic/v8/CSRk4ydQnPyaDxEXLFF6LZVLKrodrOYFFg.woff2\" crossorigin=\"anonymous\" as=\"font\" type=\"font/woff2\"> <meta name=\"google-site-verification\" content=\"yCpKJTILfbonDIdXsgFFZskmEGC_5x_6mpCCYcrHqsY\" /> <meta name=\"theme-color\" content=\"#ffffff\"> <link rel=\"preload\" type=\"font/woff2\" as=\"font\" href=\"https://fonts.gstatic.com/s/notokufiarabic/v8/CSRk4ydQnPyaDxEXLFF6LZVLKrodrOYFFg.woff2\" crossorigin=\"anonymous\"> <link rel=\"preload\" type=\"font/woff2\" as=\"font\" href=\"//fonts.gstatic.com/ea/notonaskharabicui/v1/NotoNaskhArabicUI-Regular.woff2\" crossorigin=\"anonymous\"> <meta property=\"og:image\" content=\"https://shbabbek.com/assets/img/natega2.png\"> <meta name=\"twitter:card\" content=\"summary_large_image\"> <meta name=\"twitter:title\" content=\"\"> <meta name=\"twitter:description\" content=\"\"> <script async src=\"https://www.googletagmanager.com/gtag/js?id=UA-67885755-1\"></script> <script> window.dataLayer = window.dataLayer || []; function gtag(){dataLayer.push(arguments);} gtag(\\'js\\', new Date()); gtag(\\'config\\', \\'UA-67885755-1\\'); </script> <script async src=\"https://www.googletagmanager.com/gtag/js?id=G-98RM5XLQD9\"></script> <script> window.dataLayer = window.dataLayer || []; function gtag(){dataLayer.push(arguments);} gtag(\\'js\\', new Date()); gtag(\\'config\\', \\'G-98RM5XLQD9\\'); </script> <link rel=\"preload\" href=\"https://shbabbek.com/assets/css/sty_all_min.css\" as=\"style\" /> <link rel=\"stylesheet\" href=\"https://shbabbek.com/assets/css/sty_all_min.css\"> <link rel=\"stylesheet\" href=\"https://cdn.datatables.net/1.12.1/css/jquery.dataTables.min.css\"> <style> html{font-family:Greta,BlinkMacSystemFont,\"Segoe UI\",Roboto,\"Helvetica Neue\",Noto,sans-serif;font-size:16px;font-weight:400;line-height:1.5;-webkit-text-size-adjust:100%;background:#fff;color:#666}body{margin:0}a{-webkit-text-decoration-skip:objects}a:active,a:hover{outline:0}a{color:#1e87f0;text-decoration:none;cursor:pointer}a:hover{color:#0f6ecd;text-decoration:underline}strong{font-weight:bolder}img{vertical-align:middle}.nav-search-button svg{width:50%;margin:25% 5px 5px}img{max-width:100%;box-sizing:border-box}p,ul{margin:0}*+p,*+ul{margin-top:20px}h1,h2,h3,h4{margin:0 0 10px;font-family:-apple-system,BlinkMacSystemFont,\"Segoe UI\",Roboto,\"Helvetica Neue\",Noto,sans-serif;font-weight:400;color:#333;text-transform:none}*+h2{margin-top:0}h1{font-size:2.23125rem;line-height:1.2}h2{font-size:1.7rem;line-height:1.3}h3{font-size:1.5rem;line-height:1.4}h4{font-size:1.25rem;line-height:1.4}@media (min-width:960px){h1{font-size:2.625rem}h2{font-size:2rem}}ul{padding-left:30px}ul>li>ul{margin:0}::-moz-selection{background:#39f;color:#fff;text-shadow:none}::selection{background:#39f;color:#fff;text-shadow:none}a,button,input{touch-action:manipulation}@media print{*,::after,::before{background:0 0!important;color:#000!important;box-shadow:none!important;text-shadow:none!important}a,a:visited{text-decoration:underline}img{page-break-inside:avoid;max-width:100%!important}h2,h3,p{orphans:3;widows:3}h2,h3{page-break-after:avoid}}:root{--blue:#007bff;--indigo:#6610f2;--purple:#6f42c1;--pink:#e83e8c;--red:#dc3545;--orange:#fd7e14;--yellow:#ffc107;--green:#28a745;--teal:#20c997;--cyan:#17a2b8;--white:#fff;--gray:#868e96;--gray-dark:#343a40;--primary:#007bff;--secondary:#868e96;--success:#28a745;--info:#17a2b8;--warning:#ffc107;--danger:#dc3545;--light:#f8f9fa;--dark:#343a40;--breakpoint-xs:0;--breakpoint-sm:576px;--breakpoint-md:768px;--breakpoint-lg:992px;--breakpoint-xl:1200px;--font-family-sans-serif:-apple-system,BlinkMacSystemFont,\"Segoe UI\",Roboto,\"Helvetica Neue\",Noto,sans-serif,\"Apple Color Emoji\",\"Segoe UI Emoji\",\"Segoe UI Symbol\";--font-family-monospace:SFMono-Regular,Menlo,Monaco,Consolas,\"Liberation Mono\",\"Courier New\",monospace}@media print{*,::after,::before{text-shadow:none!important;box-shadow:none!important}a,a:visited{text-decoration:underline}img{page-break-inside:avoid}h2,h3,p{orphans:3;widows:3}h2,h3{page-break-after:avoid}}*,::after,::before{box-sizing:border-box}html{font-family:sans-serif;line-height:1.15;-webkit-text-size-adjust:100%;-ms-text-size-adjust:100%;-ms-overflow-style:scrollbar;-webkit-tap-highlight-color:transparent}footer,header,nav,section{display:block}body{margin:0;font-family:-apple-system,BlinkMacSystemFont,\"Segoe UI\",Roboto,\"Helvetica Neue\",Noto,sans-serif,\"Apple Color Emoji\",\"Segoe UI Emoji\",\"Segoe UI Symbol\";font-size:1rem;font-weight:400;line-height:1.5;color:#212529;text-align:left;background-color:#fff}h1,h2,h3,h4{margin-top:0;margin-bottom:.5rem}p{margin-top:0;margin-bottom:1rem}ul{margin-top:0;margin-bottom:1rem}ul ul{margin-bottom:0}strong{font-weight:bolder}a{color:#007bff;text-decoration:none;background-color:transparent;-webkit-text-decoration-skip:objects}a:hover{color:#0056b3;text-decoration:underline}img{vertical-align:middle;border-style:none}a,button,input:not([type=range]){-ms-touch-action:manipulation;touch-action:manipulation}button{border-radius:0}button:focus{outline:1px dotted;outline:5px auto -webkit-focus-ring-color}button,input{margin:0;font-family:inherit;font-size:inherit;line-height:inherit;overflow:visible}button{text-transform:none}button{-webkit-appearance:button}button::-moz-focus-inner{padding:0;border-style:none}h1,h2,h3,h4{margin-bottom:.5rem;font-family:inherit;font-weight:500;line-height:1.2;color:inherit}h1{font-size:2.5rem}h2{font-size:2rem}h3{font-size:1.75rem}h4{font-size:1.5rem}.img-fluid{max-width:100%;height:auto}.container{width:100%;padding-right:15px;padding-left:15px;margin-right:auto;margin-left:auto}@media (min-width:576px){.container{max-width:540px}}@media (min-width:768px){.container{max-width:720px}}@media (min-width:992px){.container{max-width:960px}}@media (min-width:1200px){.container{max-width:1140px}}.row{display:-ms-flexbox;display:flex;-ms-flex-wrap:wrap;flex-wrap:wrap;margin-right:-15px;margin-left:-15px;text-align:right}.col-lg-12,.col-lg-3,.col-lg-4,.col-lg-8,.col-lg-9,.col-md-12{position:relative;width:100%;min-height:1px;padding-right:15px;padding-left:15px}@media (min-width:768px){.col-md-12{-ms-flex:0 0 100%;flex:0 0 100%;max-width:100%}}@media (min-width:992px){.col-lg-3{-ms-flex:0 0 25%;flex:0 0 25%;max-width:25%}.col-lg-4{-ms-flex:0 0 33.333333%;flex:0 0 33.333333%;max-width:33.333333%}.col-lg-8{-ms-flex:0 0 66.666667%;flex:0 0 66.666667%;max-width:66.666667%}.col-lg-9{-ms-flex:0 0 75%;flex:0 0 75%;max-width:75%}.col-lg-12{-ms-flex:0 0 100%;flex:0 0 100%;max-width:100%}}.btn{display:inline-block;font-weight:400;text-align:center;white-space:nowrap;vertical-align:middle;-webkit-user-select:none;-moz-user-select:none;-ms-user-select:none;user-select:none;border:1px solid transparent;padding:.375rem .75rem;font-size:1rem;line-height:1.5;border-radius:.25rem;transition:background-color .15s ease-in-out,border-color .15s ease-in-out,box-shadow .15s ease-in-out}.btn:focus,.btn:hover{text-decoration:none}.btn:focus{outline:0;box-shadow:0 0 0 .2rem rgba(0,123,255,.25)}.btn:disabled{opacity:.65}.btn:not([disabled]):not(.disabled):active{background-image:none}.btn-primary{color:#fff;background-color:#007bff;border-color:#007bff}.btn-primary:hover{color:#fff;background-color:#0069d9;border-color:#0062cc}.btn-primary:focus{box-shadow:0 0 0 .2rem rgba(0,123,255,.5)}.btn-primary:disabled{background-color:#007bff;border-color:#007bff}.btn-primary:not([disabled]):not(.disabled):active{color:#fff;background-color:#0062cc;border-color:#005cbf;box-shadow:0 0 0 .2rem rgba(0,123,255,.5)}.nav{display:-ms-flexbox;display:flex;-ms-flex-wrap:wrap;flex-wrap:wrap;padding-left:0;margin-bottom:0;list-style:none}.nav-tabs{border-bottom:1px solid #ddd}.tab-content>.tab-pane{display:none}.tab-content>.active{display:block}.media{display:-ms-flexbox;display:flex;-ms-flex-align:start;align-items:flex-start}.media-body{-ms-flex:1;flex:1}.clearfix::after{display:block;clear:both;content:\"\"}.d-flex{display:-ms-flexbox!important;display:flex!important}.align-self-center{-ms-flex-item-align:center!important;align-self:center!important}.text-right{text-align:right!important}.text-center{text-align:center!important}button::-moz-focus-inner{padding:0;border:0}.navigation{width:100%;height:70px;display:table;position:relative;font-family:inherit;background-color:#fff}.navigation *{box-sizing:border-box;-webkit-tap-highlight-color:transparent}.align-to-right{float:left;text-align:right}.nav-brand{padding:0 15px;color:#70798b;font-size:24px;text-decoration:none!important}.nav-brand:focus,.nav-brand:hover{color:#70798b}.nav-menu{margin:0;padding:0;list-style:none;line-height:normal;font-size:0;float:right}.nav-menu>li{display:inline-block;float:right;text-align:right}.nav-menu>li>a{height:70px;padding:26px 15px;display:inline-block;position:relative;text-decoration:none;font-size:14px;color:#70798b;-webkit-transition:color .3s,background .3s;transition:color .3s,background .3s}.nav-menu>li:hover>a{color:#967adc}.nav-search{height:64px;float:right;z-index:19998}.nav-search-button{width:64px;height:64px;line-height:64px;text-align:center;cursor:pointer;background-color:#fbfcfd}.nav-search>form{width:100%;height:100%;padding:0;display:none;position:absolute;left:0;top:0;background-color:#fff;z-index:99}.nav-search-inner{width:70%;height:70px;margin:auto;display:table}.nav-search-inner input[type=text]{height:70px;width:100%;margin:0;padding:0 12px;font-size:26px;text-align:center;color:#70798b;outline:0;line-height:70px;border:none;background-color:transparent;-webkit-transition:all .3s;transition:all .3s}.nav-search-close-button{width:28px;height:28px;display:block;position:absolute;right:20px;top:20px;line-height:normal;color:#70798b;font-size:20px;cursor:pointer;text-align:center}.nav-dropdown{min-width:180px;margin:0;padding:0;display:none;position:absolute;list-style:none;z-index:98;white-space:nowrap}.nav-menu>li>.nav-dropdown{border-top:solid 1px #f0f0f0}.nav-dropdown>li{width:100%;float:right;clear:both;position:relative;text-align:right}.nav-dropdown>li>a{width:100%;padding:16px 20px;display:inline-block;text-decoration:none;float:right;font-size:13px;color:#70798b;background-color:#fdfdfd;-webkit-transition:color .3s,background .3s;transition:color .3s,background .3s}.nav-dropdown>li:hover>a{color:#967adc}body{color:#c30404;-webkit-font-smoothing:antialiased;-moz-osx-font-smoothing:grayscale;overflow-x:hidden;font-size:14px;line-height:24px;font-family:Noto,sans-serif}.body-color{background:#f0f1f4}.nav-menu li a,.post-cat,.post-list-item .nav-tabs li a,h1,h2,h3,h4{font-family:Heebo,sans-serif}h1{font-size:36px;font-weight:700;color:#222}h2{font-size:24px;font-weight:700}h3{font-size:20px;font-weight:700;color:#222}h4{font-size:16px;font-weight:700}p{margin-bottom:1rem;font-size:15px;color:#232323}a,a:active,a:focus,a:hover,a:visited{text-decoration:none;outline:0 solid}a{-webkit-transition:all ease .5s;-o-transition:all ease .5s;transition:all ease .5s}a:hover{color:#d72924}.btn{font-size:13px;text-transform:uppercase;color:#fff;cursor:pointer;outline:0;border:none;padding:13px 37px;border-radius:0;font-weight:600}.btn.btn-primary{background:#ff348d}.btn:hover{background:#222}.btn:focus,button:focus{outline:0;-webkit-box-shadow:none;box-shadow:none!important}ul{padding:0;margin:0;list-style:none}section{padding:15px 0}.post-cat{background:#007dff}.ts-orange-bg{background:#ff348d}.ts-facebook a i{background:#3b5999}.ts-twitter a i{background:#2171ad}.ts-instagram a i{background:#007bb6}.ts-youtube a i{background:#ba1000}.ts-instagram a i{background:#007bb6}.post-title{font-size:13px;font-weight:500;color:#232323;margin-bottom:5px}.post-title.lg{font-size:36px;margin-bottom:17px}.post-title a{color:#222}.post-title a:hover{color:#d72924}.post-meta-info{margin-bottom:10px;padding-left:0}.post-meta-info li{font-size:13px;display:inline-block;position:relative;margin-right:15px;-o-transition:all .4s ease;transition:all .4s ease;-webkit-transition:all .4s ease;-moz-transition:all .4s ease;-ms-transition:all .4s ease}.post-meta-info li i{margin-right:6px;font-size:15px}.post-meta-info li a{color:#801818;font-size:14px;font-weight:700;-o-transition:all .4s ease;transition:all .4s ease;-webkit-transition:all .4s ease;-moz-transition:all .4s ease;-ms-transition:all .4s ease}.post-meta-info li a:hover{color:#d72924}.post-meta-info li a.post-cat{margin-left:0;color:#fff}.post-meta-info li.author{padding-right:52px}.post-meta-info li.author img{position:absolute;right:0;top:-6px;width:40px;height:40px;border-radius:50%;-webkit-border-radius:50%;-ms-border-radius:50%}.ts-top-nav{padding-left:26px}.ts-top-nav li{display:inline-block;margin-right:16px}.ts-top-nav li a{font-size:13px;color:#c30404;line-height:40px}.ts-top-nav li a:hover{color:#d72924}.ts-top-nav li:last-of-type{margin-right:0}.top-social li{display:inline-block;line-height:41px}.top-social li a{color:#c30404;font-size:14px;padding:0 7px}.top-social li.ts-date{padding:0 14px;margin-left:19px;background:#d72924;color:#fff;font-weight:600}.top-bar{background:#fff;padding:0}.top-bar .ts-top-nav{display:inline-block}.top-bar .ts-date{font-size:13px;font-weight:500;color:#606060}.header-middle{padding:20px 0}.header-middle.v2{background:#d72924;padding:4px 0;margin-bottom:5px}.header-middle.v2 .logo a{text-align:left}@media (min-width:768px) and (max-width:991px){.ts-grid-box .ts-post-thumb img{width:100%!important;height:auto!important}.ts-footer .back-to-top{position:fixed;right:13px;bottom:45px;z-index:10}}@media (min-width:767px){.ts-grid-box .ts-post-thumb img{width:281px}}.mobile-logo{display:none}.header-default{position:relative}.logo{background:#d72924;height:115px}.logo a{display:block;text-align:center;line-height:115px}.navigation{height:60px;display:block;direction:rtl}.nav-menu>li>a{height:60px;padding:22px 20px;text-transform:uppercase;font-weight:700;color:#232323;-o-transition:all .4s ease;transition:all .4s ease;-webkit-transition:all .4s ease;-moz-transition:all .4s ease;-ms-transition:all .4s ease}.nav-menu>li>a:hover{background:#d72924;color:#fff!important}.nav-menu>li .nav-dropdown li a{font-weight:700;height:50px;padding:16px 20px}.nav-menu>li .nav-dropdown{-webkit-box-shadow:0 6px 12px rgba(0,0,0,.175);box-shadow:0 6px 12px rgba(0,0,0,.175)}.nav-menu>li .nav-dropdown li a{font-size:14px;color:#232323;border:none;padding:14px 16px;font-weight:400}.nav-menu>li .nav-dropdown li a:hover{color:#d72924}.nav-menu>li .nav-dropdown li a:before{position:absolute;left:0;bottom:0;width:85%;right:0;margin:auto;height:1px;background:#eae8e8;content:\\'\\'}.nav-menu>li .nav-dropdown li:last-child a:before{display:none}.right-menu li{float:right}.right-menu li .nav-search{height:60px}.right-menu li .nav-search .nav-search-button{height:100%;line-height:64px;color:#fff;font-size:17px;width:60px;background:#d72924}.right-menu .nav-search-inner input[type=text]{height:60px;line-height:60px;font-size:20px}.right-menu .nav-search-close-button{top:16px}.ts-overlay-style{position:relative}.ts-overlay-style .item:before{content:\" \";position:absolute;display:block;width:100%;height:100%;z-index:1;bottom:0;left:0;background:-webkit-gradient(linear,left top,left bottom,color-stop(55%,rgba(0,0,0,0)),to(rgba(0,0,0,.95)));background:-webkit-linear-gradient(top,rgba(0,0,0,0) 55%,rgba(0,0,0,.95) 100%);background:-o-linear-gradient(top,rgba(0,0,0,0) 55%,rgba(0,0,0,.95) 100%);background:linear-gradient(to bottom,rgba(0,0,0,0) 55%,rgba(0,0,0,.95) 100%)}.ts-overlay-style .item:after{background:rgba(0,0,0,.2);position:absolute;display:block;width:100%;height:100%;z-index:0;bottom:0;left:0;content:\\'\\';opacity:0;-webkit-transition:all ease .5s;-o-transition:all ease .5s;transition:all ease .5s}.ts-overlay-style .item:hover:after{opacity:1}.ts-overlay-style .post-meta-info{margin-bottom:0}.post-content{z-index:1;position:relative}.ts-overlay-style .overlay-post-content{position:absolute;bottom:0}.ts-overlay-style .overlay-post-content .post-content{padding:24px 24px 18px}.ts-overlay-style .overlay-post-content .post-title{margin-bottom:5px}.ts-overlay-style .overlay-post-content .post-title a{color:#fff;-o-transition:all .4s ease;transition:all .4s ease;-webkit-transition:all .4s ease;-moz-transition:all .4s ease;-ms-transition:all .4s ease}.ts-overlay-style .overlay-post-content .post-meta-info li{color:#fff}.post-cat{position:relative;z-index:1;display:inline-block;color:#fff;font-size:11px;font-weight:700;text-transform:uppercase;padding:0 10px;margin-left:40px;line-height:21px;height:19px;top:-3px;letter-spacing:.55px}.post-cat:hover{color:#fff}.ts-grid-box{position:relative;margin-bottom:30px;padding:30px;background:#fff;-webkit-box-shadow:0 2px 2px 0 rgba(0,0,0,.08);box-shadow:0 2px 2px 0 rgba(0,0,0,.08)}.ts-grid-box .post-cat{position:absolute;margin-left:30px;top:0}.ts-grid-box .ts-post-thumb{position:relative;width:100%;height:100%;overflow:hidden;margin-bottom:20px;min-height:10px}.ts-grid-box .ts-post-thumb img{width:254px;height:162px;-webkit-transform:scale(1);-ms-transform:scale(1);transform:scale(1);-o-transition:all .4s ease;transition:all .4s ease;-webkit-transition:all .4s ease;-moz-transition:all .4s ease;-ms-transition:all .4s ease;-webkit-backface-visibility:hidden;backface-visibility:hidden}.ts-grid-box .ts-post-thumb:hover img{-webkit-transform:scale(1.2);-ms-transform:scale(1.2);transform:scale(1.2)}.ts-grid-box:last-of-type{margin-bottom:0}.post-list-item{position:relative;background:#fff}.post-list-item .nav-tabs{display:-ms-flexbox;display:-webkit-box;display:flex;-ms-flex-wrap:wrap;flex-wrap:wrap;margin-bottom:6px}.post-list-item .nav-tabs li{-ms-flex-preferred-size:0;flex-basis:0;-ms-flex-positive:1;-webkit-box-flex:1;flex-grow:1;max-width:100%;text-align:center}.post-list-item .nav-tabs li a{font-size:13px;text-transform:uppercase;color:#c30404;line-height:50px;font-weight:500;position:relative;display:block}.post-list-item .nav-tabs li a::before{position:absolute;left:0;bottom:0;width:100%;height:2px;background:#6200ee;content:\\'\\';opacity:0;-o-transition:all .4s ease;transition:all .4s ease;-webkit-transition:all .4s ease;-moz-transition:all .4s ease;-ms-transition:all .4s ease}.post-list-item .nav-tabs li a i{margin-right:6px}.post-tab-list{margin-bottom:0;padding:15px}.post-tab-list .post-content.media{border-bottom:1px solid #ededed;margin-bottom:16px;padding-bottom:15px}.post-tab-list .post-content.media .post-title{margin-bottom:0}.post-tab-list .post-content.media:last-of-type{padding-bottom:0;border-bottom:none;margin-bottom:5px}img.sidebar-img{width:70px;height:50px;margin-left:15px}.item:hover .ts-post-thumb img{-webkit-transform:scale(1.2);-ms-transform:scale(1.2);transform:scale(1.2)}.ts-grid-box.ts-col-box{padding:40px 15px 22px 20px}.ts-grid-box.ts-col-box .item{margin-bottom:26px}.ts-grid-box.ts-col-box .item:last-of-type{margin-bottom:0}.widgets{margin-bottom:30px}.widgets:last-of-type{margin-bottom:0}.widgets .ts-overlay-style .item{min-height:inherit}.widgets .ts-overlay-style .item .post-content{padding:13px 20px}.widgets ul li{font-size:14px;color:#232323}.widgets ul li a{font-size:13;color:#232323}.widgets ul li a:hover{color:#d72924}.widgets.post-tab-list .post-content.media{margin-bottom:10px;padding-bottom:10px}.widgets.post-tab-list .post-content.media:last-of-type{margin-bottom:0;padding-bottom:0}.widgets.tag-list ul li{display:flex;margin:3px}.widgets.tag-list ul li a{border:1px solid #e7e7e7;padding:5px 10px;border-radius:36px;-webkit-border-radius:36px;-ms-border-radius:36px;line-height:36px}.widgets.tag-list ul li a:hover{background:#d72924;border-color:#d72924;color:#fff}.widgets.ts-grid-box.ts-col-box{padding:30px 15px 22px}.widgets.widgets-item .widget-title{margin-left:20px}.widgets.widgets-item .widget-title:before{left:-20px;background:#6cba40}.ts-block-social-list li{margin-bottom:10px}.ts-block-social-list li:last-child{margin-bottom:0}.ts-block-social-list li a{display:block;padding:7px 10px;color:#fff;position:relative}.ts-block-social-list li a i{width:34px;height:34px;border-radius:2px;-webkit-border-radius:2px;-ms-border-radius:2px;text-align:center;color:#fff;padding:10px 0;margin-right:5px}.ts-block-social-list li.ts-facebook a{background:#3b5999}.ts-block-social-list li.ts-facebook a i{background:#324c82}.ts-block-social-list li.ts-twitter a{background:#2171ad}.ts-block-social-list li.ts-twitter a i{background:#4892cb}.ts-block-social-list li.ts-instagram a{background:#007bb6}.ts-block-social-list li.ts-instagram a i{background:#11638a}.ts-block-social-list li.ts-youtube a{background:#ba1000}.ts-block-social-list li.ts-youtube a i{background:#ce3425}.widget-title{font-size:20px;font-weight:500;margin-bottom:25px;position:relative}.widget-title:before{position:absolute;right:-30px;top:0;width:3px;height:100%;content:\\'\\';background:#d72924}.topic-list{text-align:center;position:relative;display:block;margin:-30px auto 30px;border:none;background:#d72924;color:#fff;padding:10px 40px;outline:0;font-size:15px;font-weight:700;text-transform:uppercase;-webkit-appearance:none;-moz-appearance:none;appearance:none;min-width:200px}.footer-menu{margin-bottom:14px}.footer-menu ul li{display:inline-block}.footer-menu ul li a{font-size:14px;color:#fff;margin:0 22px;opacity:.7}.footer-menu ul li a:hover{opacity:1}.ts-footer{background:#1d1d1d;padding:25px 0;position:relative}.ts-footer .back-to-top{position:fixed;right:88px;bottom:0;z-index:10;-webkit-backface-visibility:hidden}.ts-footer .back-to-top .btn.btn-primary{width:30px;height:30px;line-height:30px;font-weight:700;font-size:16px;padding:0}.copyright-text p{color:#cad0ff;margin-bottom:0;font-size:14px}.single-post-wrapper{padding:30px 0;direction:rtl}.post-featured-image{position:relative}.post-featured-image img{width:100%;max-height:550px}.single-post.content-wrapper{padding:30px 80px 40px}.single-post .post-meta-info{margin-bottom:25px;padding-left:0;margin-top:14px}.single-post .post-meta-info li.author{padding-right:60px}.single-post .post-meta-info li.author a img{top:-6px;width:40px;height:40px}.single-post .post-meta-info li a.post-cat{position:relative}.single-post .post-media{margin:unset}.single-post p{font-size:16px;line-height:28px;color:#232323;margin-bottom:25px}.single-post ul{margin-bottom:25px;padding-left:20px}.single-post ul li{font-size:16px;line-height:28px;color:#232323;list-style:inside}.author-box{position:relative;padding:39px 100px 20px 0;border-top:1px solid #e7e7e7;border-bottom:1px solid #e7e7e7}.author-box .author-img{position:absolute;right:0;top:0;width:80px;height:80px;border-radius:50%;-webkit-border-radius:50%;-ms-border-radius:50%;top:16px}.author-box .author-name{font-size:24px;text-transform:uppercase;font-weight:500;float:right;color:#000}.author-box p{margin-bottom:0}.author-box .authors-social{float:left}.post-layout-3 .content-wrapper.single-post{padding-top:0}.ts-post-thumb{position:relative;width:100%;height:100%;overflow:hidden;margin-bottom:20px}.ts-post-thumb img{-o-transition:all .4s ease;transition:all .4s ease;-webkit-transition:all .4s ease;-moz-transition:all .4s ease;-ms-transition:all .4s ease;width:100%}.right-sidebar-1 .widgets.widgets-item .widget-title span{background:#fff;padding-right:10px;position:relative}.right-sidebar-1 .widgets.widgets-item .widget-title:before{left:0;background:#d72924;width:100%;height:1px;bottom:0;margin:auto}.nav-menu li a,.post-cat,.post-list-item .nav-tabs li a,.topic-list,.ts-top-nav li a,h1,h2,h3,h4{font-family:Noto!important}.nav-menu>li>a{font-weight:200!important}.single-post p{font-size:19px;line-height:32px;color:#232323;margin-bottom:25px}.post-content-area{font-family:Greta}.top-social li.ts-date{font-family:tahoma!important}.nav-menu>li .nav-dropdown li a:hover,.post-title a:hover,.widgets ul li a:hover{color:#d72924}.header-middle.v2,.logo,.nav-menu>li>a:hover,.right-menu li .nav-search .nav-search-button,.topic-list,.widget-title:before{background:#3f5efb;background:radial-gradient(circle,#3f5efb 0,#1eb2d7 100%)}.logo{background:0 0!important}.ts-top-nav li a{font-weight:200}.post-cat{position:relative;z-index:1;display:inline-block;color:#fff;font-size:11px;font-weight:700;text-transform:uppercase;padding:2px 5px;margin-left:40px;line-height:21px;height:27px!important;top:-3px;letter-spacing:0!important;border-radius:0!important}.post-title{font-size:14px;font-weight:500;color:#232323;margin-bottom:5px}.widgets h4{font-size:15px;line-height:19px}.ts-grid-box{direction:rtl!important}.post-meta-info li{font-family:Greta;font-size:13px!important;direction:rtl!important;font-weight:100}.widgets.widgets-item .widget-title::before{right:20px!important;left:0!important}.socialLink a{color:#fff!important;font-weight:bolder}.post-title a{color:#222;font-family:Greta!important;font-weight:900}.right-sidebar-1 .widgets.widgets-item .widget-title span{background:#fff;position:relative;font-family:Greta!important;padding:1px 12px}.footer-menu{margin-bottom:14px;direction:rtl}.copyright-text p,.footer-menu,.post-meta-info li,.socialLink a,.ts-top-nav li a,.widgets.tag-list ul li a{font-family:Greta!important}img.sidebar-img{width:99px;height:65px;margin-left:10px}@media only screen and (max-width:600px){.ts-grid-box .ts-post-thumb img{width:281px}.dis_mobile{display:none!important}.entry-content p{font-family:Noto!important;font-size:21px;line-height:35px;font-weight:bolder;color:#4d4d4d}.post-content-area{font-family:Noto!important;text-align:right!important}}@media only screen and (min-width:600px){.entry-content p{font-family:Noto!important;font-size:21px;line-height:35px;font-weight:bolder;color:#4d4d4d}.post-content-area{font-family:Noto!important;text-align:right!important}}@media (min-width:767px){.ts-grid-box .ts-post-thumb img{width:281px}.navigation{top:-2px}}@media (min-width:992px) and (max-width:1200px){.logo img{width:100%;padding:0 5px}.nav-menu>li>a{padding:22px 16px}.single-post ul li{margin-bottom:14px;font-size:14px}.post-title.lg{font-size:30px}}@media (min-width:768px) and (max-width:991px){.top-social{text-align:center}.md-center-item{text-align:center}.logo{display:none}.mobile-logo{display:block}.post-title.lg{font-size:30px}.ts-grid-box:last-of-type,.ts-overlay-style{margin-bottom:30px}.ts-grid-box .ts-post-thumb img{width:100%!important;height:auto!important}.footer-menu ul li a{margin:0 10px}.ts-overlay-style .overlay-post-content{width:100%}.right-sidebar-1{display:none}.single-post.content-wrapper{padding:30px 40px 40px}.single-post .post-media{margin:0 -40px}.post-meta-info li{margin-right:20px;margin-bottom:12px}.single-post ul li{margin-bottom:14px;font-size:14px}}@media (max-width:767px){.ts-grid-box .ts-post-thumb img{width:307px}.top-bar .top-social{text-align:center}.top-bar .ts-top-nav{display:block;text-align:center;padding-left:0}.logo{display:none}.mobile-logo{display:block}.header-middle.v2 .logo{display:block}.post-title.lg{font-size:20px;margin-top:5px}.ts-grid-box:last-of-type,.ts-overlay-style{margin-bottom:30px}.ts-grid-box{padding:15px}.ts-footer .footer-menu ul li a{margin:0 8px}.ts-footer .back-to-top{position:fixed;right:-33px;bottom:0;z-index:10;padding:45px}.single-post.ts-grid-box{padding:2px 15px}.post-meta-info li{margin-right:16px;margin-bottom:19px}.single-post .post-media{margin:0;top:10px}.author-box{padding:20px 70px 20px 0}.author-info{padding:16px 5px 0 13px}.post-meta-info{float:left;margin:0}.author-box .author-img{width:60px;height:60px}.author-box .authors-social{float:none;display:block;width:100%;clear:both}.ts-grid-box.widgets.tag-list .widget-title:before{left:-15px}}.nav-menu li a,.post-cat,.post-list-item .nav-tabs li a,.topic-list,.ts-top-nav li a,h1,h2,h3,h4{font-family:Noto!important}.nav-menu>li>a{font-weight:200!important;font-family:Noto!important}.single-post p{font-size:19px;line-height:32px;color:#232323;margin-bottom:25px}.post-content-area{font-family:Greta}.top-social li.ts-date{font-family:tahoma!important}.nav-menu>li .nav-dropdown li a:hover,.post-title a:hover,.widgets ul li a:hover{color:#d72924}.header-middle.v2,.logo,.nav-menu>li>a:hover,.right-menu li .nav-search .nav-search-button,.topic-list,.widget-title:before{background:#3f5efb;background:radial-gradient(circle,#3f5efb 0,#1eb2d7 100%)}.logo{background:0 0!important}.ts-top-nav li a{font-weight:200}.post-cat{position:relative;z-index:1;display:inline-block;color:#fff;font-size:11px;font-weight:700;text-transform:uppercase;padding:2px 5px;margin-left:40px;line-height:21px;height:27px!important;top:-3px;letter-spacing:0!important;border-radius:0!important}.post-title{font-size:14px;font-weight:500;color:#232323;margin-bottom:5px}.widgets h4{font-size:15px;line-height:19px}.ts-grid-box{direction:rtl!important}.post-meta-info li{font-family:Greta;font-size:13px!important;direction:rtl!important;font-weight:100}.widgets.widgets-item .widget-title::before{right:20px!important;left:0!important}.socialLink a{color:#fff!important;font-weight:bolder}.post-title a{color:#222;font-family:Greta!important;font-weight:900}.right-sidebar-1 .widgets.widgets-item .widget-title span{background:#fff;position:relative;font-family:Greta!important;padding:6px 12px}.footer-menu{margin-bottom:14px;direction:rtl}.copyright-text p,.footer-menu,.post-meta-info li,.socialLink a,.ts-top-nav li a,.widgets.tag-list ul li a{font-family:Greta!important}img.sidebar-img{width:99px;height:65px;margin-left:10px}@media only screen and (max-width:600px){.single-post-wrapper{padding:0!important;margin:5px 0 0}.ts-grid-box .ts-post-thumb img{width:281px}.dis_mobile{display:none!important}.entry-content p{font-family:Noto!important;font-size:21px;line-height:35px;font-weight:bolder;color:#4d4d4d}.post-content-area{font-family:Noto!important;text-align:right!important}}@media only screen and (min-width:600px){.ts-grid-box .ts-post-thumb img{width:281px}.entry-content p{font-family:Noto!important;font-size:21px;line-height:35px;font-weight:bolder;color:#4d4d4d}.post-content-area{font-family:Noto!important;text-align:right!important}}.top-social li.ts-date{padding:0 14px;margin-left:19px;background:#cdf6ff;color:#0a7a95;font-weight:600}button svg{width:7px;margin:auto}li svg{width:7px;margin:auto;margin-left:5px}@font-face{font-family:Greta;src:url(https://fonts.gstatic.com/s/notokufiarabic/v8/CSRk4ydQnPyaDxEXLFF6LZVLKrodrOYFFg.woff2);font-weight:700;font-display:swap}@font-face{font-family:Noto;font-style:normal;font-weight:400;font-display:swap;src:url(//fonts.gstatic.com/ea/notonaskharabicui/v1/NotoNaskhArabicUI-Regular.woff2) format(\"woff2\");unicode-range:U+0600-06FF,U+200C-200E,U+2010-2011,U+204F,U+2E41,U+FB50-FDFF,U+FE80-FEFC}.navigation-portrait{height:75px}.Quto_left{float:left;width:45%;background:#f14b8c;padding:14px 42px 14px 16px;color:#fff;position:relative;margin:0 52px 0 0}.Quto_left_icon{background-repeat:no-repeat;width:80px;height:80px;background-color:#f14b8c;background-size:63px;border-radius:50%;background-position:center center;float:right;position:absolute;right:-54px;top:34%;margin:0 8px;font-size:147px;text-align:center;line-height:6px}.Quto_up{width:100%;background:#f14b8c;padding:14px 66px 11px 16px;color:#fff;position:relative;margin:0;clear:both;text-align:justify}.Quto_up_icon{width:80px;height:80px;background-color:#f14b8c;background-size:63px;border-radius:50%;background-position:center center;float:right;position:absolute;right:-27px;top:-16%;margin:0 8px;font-size:147px;text-align:center;line-height:6px}.Quto_down{width:100%;background:#f14b8c;padding:14px 20px 11px 0;color:#fff;position:relative;margin:0;clear:both}.Quto_down_icon{width:80px;height:80px;background-color:#f14b8c;background-size:63px;border-radius:50%;background-position:center center;float:left;position:absolute;left:-27px;top:61%;margin:0 8px;font-size:147px;text-align:center;line-height:170px}.Quto_right{float:right;width:45%;background:#f14b8c;padding:14px 14px 14px 39px;color:#fff;position:relative;margin:0 0 0 47px;text-align:justify}.Quto_right_icon{background-repeat:no-repeat;width:80px;height:80px;background-color:#f14b8c;background-size:63px;border-radius:50%;background-position:center center;float:right;position:absolute;left:-54px;top:34%;margin:0 8px;font-size:125px;text-align:center;line-height:158px}.short_show_video{background:#f2fafd;box-shadow:3px 1px 12px #e2e2e2;clear:both;padding:0;width:97%;font-size:x-large;border:1px solid #c4e3ef}.short_twitter{background:#ddf1fb;line-height:29px;padding:5px;box-shadow:0 3px 1px #bee9ff}.share_twitterTxt{background:#fff;padding:5px;border-radius:7px;margin:0 10px 0 0;font-size:13px}.short_facabook{line-height:28px;margin:auto}.share_facebookTxt{background:#fff;color:#4267b2;padding:4px;border-radius:8px}.read_news{background:#f2fafd;box-shadow:3px 1px 12px #e2e2e2;clear:both;padding:5px 0 0;width:100%;font-size:x-large}.small_disc{background:#fff;margin:-16px -11px 0 12px;padding:5px 11px;font-size:17px;float:right;color:#f14b8c;border:1px solid #c4e3ef}.read_news h1{font-size:20px;line-height:25px;margin:-5px 1px 1px 0;padding:6px 14px 4px 10px;background:#fff;letter-spacing:0}.read_news h5{font-size:14px;line-height:23px;text-align:right;margin:11px 6px 0 15px;color:#01323e;padding:0 0 0 17px}.read_news h6{font-size:15px;line-height:23px;text-align:justify;padding:10px 15px 0;background:#fff}.read_news img{width:100%;max-height:400px;border:none!important;border-radius:12px}.read_news .thumb_news{float:left;position:relative;width:139px;margin:5px 4px;padding:0;border-radius:0}.read_news a:hover{color:#f14b8c;text-decoration:none}.wirter_info{padding:5px 4px;background:#fff;border-top:1px solid #e8e8e8}.wirter_info img{width:58px;margin:0!important;padding:0!important;border-radius:0}.wirter_info span{font-size:15px;background:#f2fafd;padding:5px 7px;border:1px solid #b4d4e0}.wirter_info .more_news{float:left;position:relative;font-size:10px;padding:1px 5px;margin:0;line-height:22px;left:-2px;border:0;background:#e8e8e8;border-radius:4px}.wirter_info ul{list-style-type:none;padding:0;margin:0;font-size:16px;line-height:10px;margin:0}.wirter_info ul li{padding:5px;line-height:17px!important;font-size:14px;background:#f5f5f5;padding:4px 5px;margin:2px;border-radius:6px}.clear{clear:both}.border4{border:4px solid red}html .heading-primary,html .lnk-primary,html .text-color-primary{color:#08c!important}html .heading.heading-primary h1,html .heading.heading-primary h2,html .heading.heading-primary h3,html .heading.heading-primary h4,html .heading.heading-primary h5,html .heading.heading-primary h6{border-color:#08c}html .heading-secondary,html .lnk-secondary,html .text-color-secondary{color:#e36159!important}html .heading.heading-secondary h1,html .heading.heading-secondary h2,html .heading.heading-secondary h3,html .heading.heading-secondary h4,html .heading.heading-secondary h5,html .heading.heading-secondary h6{border-color:#e36159}html .heading-tertiary,html .lnk-tertiary,html .text-color-tertiary{color:#2baab1!important}html .heading.heading-tertiary h1,html .heading.heading-tertiary h2,html .heading.heading-tertiary h3,html .heading.heading-tertiary h4,html .heading.heading-tertiary h5,html .heading.heading-tertiary h6{border-color:#2baab1}html .heading-quaternary,html .lnk-quaternary,html .text-color-quaternary{color:#383f48!important}html .heading.heading-quaternary h1,html .heading.heading-quaternary h2,html .heading.heading-quaternary h3,html .heading.heading-quaternary h4,html .heading.heading-quaternary h5,html .heading.heading-quaternary h6{border-color:#383f48}html .heading-dark,html .lnk-dark,html .text-color-dark{color:#2e353e!important}html .heading.heading-dark h1,html .heading.heading-dark h2,html .heading.heading-dark h3,html .heading.heading-dark h4,html .heading.heading-dark h5,html .heading.heading-dark h6{border-color:#2e353e}html .heading-light,html .lnk-light,html .text-color-light{color:#fff!important}html .heading.heading-light h1,html .heading.heading-light h2,html .heading.heading-light h3,html .heading.heading-light h4,html .heading.heading-light h5,html .heading.heading-light h6{border-color:#fff}html .background-color-primary{background-color:#08c!important}html .background-color-secondary{background-color:#e36159!important}html .background-color-tertiary{background-color:#2baab1!important}html .background-color-quaternary{background-color:#383f48!important}html .background-color-dark{background-color:#2e353e!important}html .background-color-light{background-color:#fff!important}.heading.heading-border{margin-bottom:25px}.heading.heading-border h1,.heading.heading-border h2,.heading.heading-border h3,.heading.heading-border h4,.heading.heading-border h5,.heading.heading-border h6{margin:0;padding:0}.heading.heading-bottom-border h1{border-bottom:5px solid #dbdbdb;padding-bottom:10px}.heading.heading-bottom-border h2,.heading.heading-bottom-border h3{border-bottom:2px solid #dbdbdb;padding-bottom:10px}.heading.heading-bottom-border h4,.heading.heading-bottom-border h5,.heading.heading-bottom-border h6{border-bottom:1px solid #dbdbdb;padding-bottom:5px}.heading.heading-bottom-double-border h1,.heading.heading-bottom-double-border h2,.heading.heading-bottom-double-border h3{border-bottom:3px double #dbdbdb;padding-bottom:10px}.heading.heading-bottom-double-border h4,.heading.heading-bottom-double-border h5,.heading.heading-bottom-double-border h6{border-bottom:3px double #dbdbdb;padding-bottom:5px}.heading.heading-middle-border{position:relative}.heading.heading-middle-border:before{border-top:1px solid #dbdbdb;content:\"\";height:0;left:auto;position:absolute;right:0;top:50%;width:100%}.heading.heading-middle-border h1,.heading.heading-middle-border h2,.heading.heading-middle-border h3,.heading.heading-middle-border h4,.heading.heading-middle-border h5,.heading.heading-middle-border h6{position:relative;background:#fff;display:inline-block}.heading.heading-middle-border h1{padding-right:15px}.heading.heading-middle-border h2,.heading.heading-middle-border h3{padding-right:10px}.heading.heading-middle-border h4,.heading.heading-middle-border h5,.heading.heading-middle-border h6{padding-right:5px}.heading.heading-middle-border-reverse{text-align:right}.heading.heading-middle-border-reverse h1,.heading.heading-middle-border-reverse h2,.heading.heading-middle-border-reverse h3,.heading.heading-middle-border-reverse h4,.heading.heading-middle-border-reverse h5,.heading.heading-middle-border-reverse h6{padding-right:0}.heading.heading-middle-border-reverse h1{padding-left:15px}.heading.heading-middle-border-reverse h2,.heading.heading-middle-border-reverse h3{padding-left:10px}.heading.heading-middle-border-reverse h4,.heading.heading-middle-border-reverse h5,.heading.heading-middle-border-reverse h6{padding-left:5px}.heading.heading-middle-border-center{text-align:center}.heading.heading-middle-border-center h1{padding-left:15px;padding-right:15px}.heading.heading-middle-border-center h2,.heading.heading-middle-border-center h3{padding-left:10px;padding-right:10px}.heading.heading-middle-border-center h4,.heading.heading-middle-border-center h5,.heading.heading-middle-border-center h6{padding-left:5px;padding-right:5px}.heading.heading-border-xs:before{border-top-width:1px}.heading.heading-border-sm:before{border-top-width:2px}.heading.heading-border-lg:before{border-top-width:3px}.heading.heading-border-xl:before{border-top-width:5px}.modal-header h3{color:#333;text-transform:none}.make_action{cursor:pointer}#My_Content h1 strong{color:#1eb4d8;font-size:21px;line-height:12px;padding:7px 5px;border:4px solid #f14b8c;background:#f9f9f9}#My_Content .heading_H1{color:#1eb4d8;font-size:27px;line-height:35px!important;padding:3px 10px;background:#f9f9f9;display:inline-flex;margin:4px;box-shadow:0 0 3px #dedcdc}#My_Content .heading_H2{color:#f14b8c;font-size:20px;line-height:29px!important;padding:3px 10px;background:#f9f9f9;display:inline-flex;margin:4px;box-shadow:0 0 3px #dedcdc}#My_Content .heading_H6{color:#1eb2d7;font-size:15px;line-height:29px!important;padding:3px 10px;display:inline-flex;margin:4px;box-shadow:0 0 3px #dedcdc}#My_Content img{padding:0 20px;max-width:100%;max-height:auto;border:0 solid #dadada;padding:2px;position:relative;margin:0;height:auto!important}#My_Content figcaption{background:rgba(222,221,221,.97)!important;width:100%;position:relative;padding:8px 5px;line-height:23px;text-align:center;font-weight:700;color:#000;overflow:hidden;margin:0 auto;text-align:center}#My_Content h1{font-size:24px;line-height:41px;font-family:kufinormal,Noto,sans-serif;font-weight:800}.content_singlePage{float:left;width:53%;background:#f4fbff;border-radius:9px}.content_singlePageimg{float:left;margin:0 2px;max-height:152px}@media(max-width:479px){.content_singlePageimg{float:left;margin:0 2px;max-height:102px}.content_singlePage{float:left;width:100%;background:#f4fbff;border-radius:9px}#My_Content h1{font-size:16px;line-height:34px;font-family:kufinormal,Noto,sans-serif;font-weight:800}.Quto_left{float:left;width:221px;background:#f14b8c;padding:14px 36px 14px 11px;color:#fff;position:relative;margin:0 44px 0 0;font-family:greta;font-size:16px;font-weight:100;line-height:27px}.read_news{width:100%!important;height:auto;max-width:auto;clear:both;position:relative;display:table}.Quto_down_icon{width:63px;height:76px;background-color:#f14b8c;background-size:63px;border-radius:50%;background-position:center center;float:left;position:absolute;left:-27px;top:75%;margin:0 8px}.Quto_up_icon{width:71px;height:72px;background-color:#f14b8c;background-size:63px;border-radius:50%;background-position:center center;float:right;position:absolute;right:-27px;top:-4%;margin:0 5px;font-size:147px;text-align:justify;line-height:6px}.Quto_right{float:right;width:90%;background:#f14b8c;padding:14px 14px 14px 39px;color:#fff;position:relative;margin:0 0 0 47px}#My_Content h1 strong{color:#1eb4d8;font-size:17px;line-height:12px;padding:7px 5px;border:4px solid #f14b8c;background:#f9f9f9}}ul{list-style-type:none}ul li{list-style-type:none}.nav-search-button{background-color:#1d1d1d}.nav-search-button:hover{background-color:#ff348d;color:#fff}.post-featured-image img{height:380px}.ts-footer{margin-top:25px}.nav-menu>li>a{height:70px;padding:26px 15px;display:inline-block;position:relative;text-decoration:none;font-size:14px;color:#70798b;-webkit-transition:color .3s,background .3s;transition:color .3s,background .3s}.ts-grid-box .ts-post-thumb{position:relative;width:auto;height:250px;overflow:hidden;margin-bottom:20px;min-height:10px}.single-post-wrapper{padding:30px 0;direction:rtl;margin-top:55px}.ts-grid-box{padding:1px}.tag-list ul{display:flex;flex-wrap:wrap;align-content:center;justify-content:center}.main-newspaper{display:none;padding:5px;margin-right:20px}@media only screen and (max-width:600px){.widgets.widgets-item{margin-top:22px}.single-post-wrapper{padding:0!important;margin:5px 0 0;margin-top:70px}.ts-grid-box .ts-post-thumb img{width:100%}.ts-grid-box .ts-post-thumb{position:relative;width:100%;height:150px;overflow:hidden;margin-bottom:20px;min-height:10px}.post-title.lg{font-size:20px;margin-top:5px;font-weight:700}.single-post ul{margin-bottom:0;padding-left:0;margin-top:-10px}.post-title.lg{margin-bottom:2px}.widgets ul li a{font-size:10px;color:#232323}.widgets.tag-list ul li a{border:1px solid #e7e7e7;padding:3px 3px;border-radius:10px}.single-post .post-meta-info{margin-bottom:5px;padding-left:unset;padding:0}.ts-post-thumb{height:180px;width:autopx}.topic-list{min-width:unset}.widgets.tag-list ul li a{line-height:13px;font-size:11px}.widgets{margin-bottom:0;padding-left:1px}.single-post p{font-size:19px;line-height:25px;color:#232323;margin-bottom:25px}.post-featured-image img{height:180px}.right-menu li .nav-search .nav-search-button{height:auto;line-height:0;color:#fff;font-size:17px;width:20px;margin-top:20px;margin-left:15px;float:right}.nav-brand{padding:unset}.nav-search-button{height:50px;width:50px;text-align:center}.nav-search{margin-right:41%}.navigation{display:table;position:relative;font-family:inherit;display:flex;background-color:#fff;align-content:flex-start;justify-content:center}.nav-menu>li>a{width:auto;max-width:100%;max-height:100%;height:25px}.author-info p{font-size:12px;line-height:initial}.author-box{padding:0 69px 0 0}.main-newspaper{display:inline-grid}}.post-meta-info li{margin:unset;margin-right:unset;margin-left:unset}.post-meta-info{padding-right:0}.author-info p{font-size:12px;line-height:initial}.post-list-item .nav-tabs li a{font-size:18px;text-transform:uppercase;color:red;line-height:50px;font-weight:600;position:relative;display:block}strong{font-family:Greta}.read_news{background:#f2fafd;box-shadow:3px 1px 12px #e2e2e2;clear:both;padding:5px 0 0;width:100%;font-size:x-large}.small_disc{background:#fff;margin:-16px -11px 0 12px;padding:5px 11px;font-size:17px;float:right;color:#f14b8c;border:1px solid #c4e3ef}.read_news a:hover{color:#f14b8c;text-decoration:none}.clear{clear:both}@media (max-width:479px){.read_news{width:100%!important;height:auto;max-width:auto;clear:both;position:relative;display:table}}.single-post p{font-size:16px;line-height:28px;color:#232323;margin-bottom:25px}.single-post .text-bg{background:#f7f7f7;font-size:13px;font-style:italic;text-align:center;padding:9px;margin-bottom:30px}.single-post p{font-size:19px;line-height:32px;color:#232323;margin-bottom:25px}strong{font-weight:bolder}ul{margin:0}*+ul{margin-top:20px}h6{margin:0 0 10px;font-family:-apple-system,BlinkMacSystemFont,segoe ui,Roboto,helvetica neue,Noto,sans-serif;font-weight:400;color:#333;text-transform:none}h6{font-size:.875rem;line-height:1.4}ul{padding-left:30px}::-moz-selection{background:#39f;color:#fff;text-shadow:none}::selection{background:#39f;color:#fff;text-shadow:none}@media print{*,::after,::before{background:0 0!important;color:#000!important;box-shadow:none!important;text-shadow:none!important}}@media print{*,::after,::before{text-shadow:none!important;box-shadow:none!important}}*,::after,::before{box-sizing:border-box}h6{margin-top:0;margin-bottom:.5rem}ul{margin-top:0;margin-bottom:1rem}strong{font-weight:bolder}h6{margin-bottom:.5rem;font-family:inherit;font-weight:500;line-height:1.2;color:inherit}h6{font-size:1rem}ul{padding:0;margin:0;list-style:none}.single-post ul{margin-bottom:25px;padding-left:20px}.single-post ul li{font-size:22px;line-height:28px;color:#65574e;list-style:none}@media (min-width:992px) and (max-width:1200px){.single-post ul li{margin-bottom:14px;font-size:14px}}@media (min-width:768px) and (max-width:991px){.single-post ul li{margin-bottom:14px;font-size:14px}}header{min-height:1px}@media (min-width:600px){header{min-height:1px}}.author-info p{font-size:12px}.header{background-color:#1d1d1d;box-shadow:1px 1px 4px 0 rgba(0,0,0,.1);width:100%;z-index:3;position:fixed;top:0;height:64px}.header ul{margin:0;padding:0;list-style:none;overflow:hidden;background-color:#fff}.header li a{display:block;padding:20px 20px;border-right:1px solid #f4f4f4;text-decoration:none;font-size:15px;color:#fff;text-align:center;font-family:Greta}.header .menu-btn:hover,.header li a:hover{background-color:#2ad007}.header .logo{display:block;float:right;font-size:2em;padding:10px 20px;text-decoration:none;height:auto}.header .menu{background-color:#1d1d1d;clear:both;max-height:0;transition:max-height .2s ease-out;direction:rtl;overflow-y:auto;white-space:nowrap;z-index:999}.menu::-webkit-scrollbar{width:12px}.menu::-webkit-scrollbar-track{-webkit-box-shadow:inset 0 0 6px #e72424;border-radius:10px}.menu::-webkit-scrollbar-thumb{border-radius:10px;-webkit-box-shadow:inset 0 0 6px rgba(0,0,0,.3);background-color:#d62929}.header .menu-icon{cursor:pointer;display:inline-block;float:left;padding:28px 20px;position:relative;user-select:none}.header .menu-icon .navicon{background:#fff;display:block;height:2px;position:relative;transition:background .2s ease-out;width:18px}.header .menu-icon .navicon:after,.header .menu-icon .navicon:before{background:#fff;content:\\'\\';display:block;height:100%;position:absolute;transition:all .2s ease-out;width:100%}.header .menu-icon .navicon:before{top:5px}.header .menu-icon .navicon:after{top:-5px}.header .menu-btn{display:none}.header .menu-btn:checked~.menu{max-height:240px}.header .menu-btn:checked~.menu-icon .navicon{background:0 0}.header .menu-btn:checked~.menu-icon .navicon:before{transform:rotate(-45deg)}.header .menu-btn:checked~.menu-icon .navicon:after{transform:rotate(45deg)}.header .menu-btn:checked~.menu-icon:not(.steps) .navicon:after,.header .menu-btn:checked~.menu-icon:not(.steps) .navicon:before{top:0}@media (min-width:1250px) and (min-device-width: 1050px){.header li{float:right}.header li a{padding:20px 30px}.header .menu{clear:none;float:left;max-height:none}.header .menu-icon{display:none}}.nav-menu li a,.post-cat,.post-list-item .nav-tabs li a,.topic-list,.ts-top-nav li a,h1,h2,h3,h4{font-family:Greta!important}iframe{max-width:100%} .mt-15{ margin-top: 54px; } .post-content .post-title{ font-size: 16px; } .post-content .post-meta-info li i{ font-size: 12px; } .post-content .post-meta-info li{ font-size: 11px!important } .post-date-info, .post-meta-info li{ font-size: 11px!important } .nav-search-button svg{ margin: auto; } ins { background: none; color: #666; text-decoration: none; } .container h2, .container h3 { padding: 10px; } .content_div { padding: 20px; line-height: 1.9; } </style> <link href=\"https://cdn.jsdelivr.net/npm/bootstrap@5.0.2/dist/css/bootstrap.min.css\" rel=\"stylesheet\" integrity=\"sha384-EVSTQN3/azprG1Anm3QDgpJLIm9Nao0Yz1ztcQTwFspd3yD65VohhpuuCOmLASjC\" crossorigin=\"anonymous\"> <style> .owl-carousel .owl-stage, .owl-carousel.owl-drag .owl-item{ -ms-touch-action: auto; touch-action: auto; } .ts-footer .back-to-top .btn.btn-primary { width: 30px; height: 30px; line-height: 30px; font-weight: 700; font-size: 16px; padding: 0; margin-right: 40px; margin-bottom: 10px; padding: 0px; border-radius: 5px; } button svg{ width: 20px; } a.post-cat { background: #2ad007; } .body-color{ background: #faeeee; } .featured-post-1 .item{ min-height: 425px; } .header-middle.v2, .header-standerd, .logo, .nav-menu>li.active>a, .nav-menu>li>a:hover, .right-menu li .nav-search .nav-search-button, .top-bar .top-social li.ts-subscribe, .top-bar .ts-date-item, .topic-list, .ts-cat-title span, .ts-cat-title:after, .ts-newslatter .newsletter-form .ts-submit-btn .btn:hover, .ts-title:before, .widget-title:before, .widgets .ts-widget-newsletter, .widgets-title span, .widgets-title:after { background: radial-gradient(circle,#ff348d 0,#e0b987 100%); } .ts-grid-style-2{ margin-bottom: 15px; } section { padding: 0px 0; } .single-post-wrapper { padding: 30px 0; direction: rtl; margin-top: 20px; padding-bottom: 5px; } body{ text-align: center; } .heartbeat { -webkit-animation: heartbeat 1.5s ease-in-out infinite both; animation: heartbeat 1.5s ease-in-out infinite both; } @-webkit-keyframes heartbeat { from { -webkit-transform: scale(1); transform: scale(1); -webkit-transform-origin: center center; transform-origin: center center; -webkit-animation-timing-function: ease-out; animation-timing-function: ease-out; } 10% { -webkit-transform: scale(0.91); transform: scale(0.91); -webkit-animation-timing-function: ease-in; animation-timing-function: ease-in; } 17% { -webkit-transform: scale(0.98); transform: scale(0.98); -webkit-animation-timing-function: ease-out; animation-timing-function: ease-out; } 33% { -webkit-transform: scale(0.87); transform: scale(0.87); -webkit-animation-timing-function: ease-in; animation-timing-function: ease-in; } 45% { -webkit-transform: scale(1); transform: scale(1); -webkit-animation-timing-function: ease-out; animation-timing-function: ease-out; } } @keyframes heartbeat { from { -webkit-transform: scale(1); transform: scale(1); -webkit-transform-origin: center center; transform-origin: center center; -webkit-animation-timing-function: ease-out; animation-timing-function: ease-out; } 10% { -webkit-transform: scale(0.91); transform: scale(0.91); -webkit-animation-timing-function: ease-in; animation-timing-function: ease-in; } 17% { -webkit-transform: scale(0.98); transform: scale(0.98); -webkit-animation-timing-function: ease-out; animation-timing-function: ease-out; } 33% { -webkit-transform: scale(0.87); transform: scale(0.87); -webkit-animation-timing-function: ease-in; animation-timing-function: ease-in; } 45% { -webkit-transform: scale(1); transform: scale(1); -webkit-animation-timing-function: ease-out; animation-timing-function: ease-out; } } .ezhar:hover{ background-color: #57d23d; } .ezhar { width: 108px; font-size: 14px; font-weight: 800; background-color: #01b1d7; color: #fff; border-radius: 8px; padding: 4px; border: 0; } .clear{clear:both;} .all{position:relative;} .RightSide{width:calc(100% - 360px);float:right;padding:20px;border:1px solid #e7e7e7;} .LeftSide{width:320px;padding:9px;border:1px solid #ebebeb;float:left;margin-top:20px;height:270px;} .wrapper{margin-top:20px;} .halfinput-result h1{color:red!important;font-size:25px!important;} .halfinput-student{color:#fff;width:100%;margin-top:10px;height:43px;font-weight:bolder;border:1px solid #f1f1f1;font-family:\\'Thfont\\';outline-color:#f1f1f1;text-align:center;color:red;line-height:1.9;font-size:26px;} .halfinput-student h6{background:#c31e1e;height:50px;line-height:40px;color:#fff;} .full-result{width:100%;margin-top:10px;border-top:1px solid #f1f1f1;} .full-result ul li { padding-bottom: 15px; border-bottom: 1px solid #f1f1f1; padding-top: 7px; width: 43%; margin: 0 auto; } @media only screen and (max-width: 600px) { .full-result ul li { padding-bottom: 8px; width: 85%; margin: 5px; } .full-result{ margin-right: 20px !important; } } .nav.nav-pills.mb-3{padding-right:0!important;margin-right:0!important;margin-bottom:0;width:100%;} .fa.fa-facebook{font-size:25px;color:#2d88ff;} .fa.fa-twitter{font-size:25px;color:#1da1f2;} .halfinput-result ul li{list-style:none;padding: 3px 3px 0 4px;height:65px;text-align:center;font-weight:bolder;font-family:\\'Thfont\\';font-size:12px;border:none;border-right:1px solid #f1f1f1;line-height:1.4;} .formatt{display:inline-block;} .formatt3{font-size:14px;color:#282828;} .icon a{cursor:pointer;} @media print{ .RightSide{width:100%;margin-bottom:50px;} .icon,.LeftSide,.DeskDisplay{display:none;} } .nav-pills.mb-3{width:100%;margin:0;padding:0;display:block;} .resultItem{width:100%;display:block;} .icon{max-width:100%;text-align:center;margin-top:5px;} .icon .fa-twitter{color:skyblue;font-size:30px;padding:5px;} @media (max-width:768px){ .RightSide{float:none;width:100%;} .LeftSide{float:none;margin:30px auto;} .all{overflow:hidden;} .data-result{width:100%;} .halfinput-student{width:100%;} .halfinput-result ul li{height:auto;} .formatt3{height:50px;display:block;width:100px;margin:auto;} .formatt33{height:30px;display:block;width:100px;margin:0 auto;} .halfinput-student h6, .halfinput-info h6{ font-size: 13px !important; } table.table.table-striped.table-customize{ font-size: 14px; } } .single-post ul li { font-size: 22px; line-height: 28px; color: #65574e; list-style: none; text-align: right; } .full-result { width: 100%; margin-top: 10px; border-top: 1px solid #f1f1f1; margin-right: 40px; font-size: 19px; font-family: \\'Greta\\'; } .result-details ul { list-style-type: none; width: 100%; display: flex; flex-wrap: wrap; } .result-details li { flex: 0 0 50%; border: 1px solid grey; padding: 1em; display: flex; align-items: flex-end; } .halfinput-student h6 , .halfinput-info h6 { background: #c31e1e; height: 44px; line-height: 41px; color: #fff; font-size: 23px; font-weight: 800; font-family: \\'Greta\\'; width:fit-content; } span.formatt2 { display: table-cell; border-left: 7px solid; width: 100%; } span.formatt4 { display: table-cell; width: 140px; } p { margin: 12px; } .icon{ display: none; } .resultItem{ font-family: Greta; } .data-result .resultItem span, .data-result .resultItem h5 { font-family: \\'Greta\\'; margin: 4px; text-align: center; font-size: 15px; } p { direction: rtl; } .warn-msg { background: #ff9d20; padding: 5px; } .warn-msg p { color: #fff !important; } </style> <style> .table thead th { vertical-align: bottom; border-bottom: 2px solid #c31e1e; } table.table.table-striped.table-customize { border: 2px solid #c31e1e; text-align: center; } .table > :not(:first-child) { border-top: 0; } .dataTable, .dataTable > tbody > tr > td, .dataTable > tbody > tr > th, .dataTable > tfoot > tr > td, .dataTable > tfoot > tr > th, .dataTable > thead > tr > td, .dataTable > thead > tr > th, .table-bordered, .table-bordered > tbody > tr > td, .table-bordered > tbody > tr > th, .table-bordered > tfoot > tr > td, .table-bordered > tfoot > tr > th, .table-bordered > thead > tr > td, .table-bordered > thead > tr > th { border: 1px solid #c31e1e; } .table>:not(:last-child)>:last-child>* { border-bottom: 1px solid #c31e1e; border-left: 1px solid #c31e1e; } .table td, .table td{ border-bottom: 1px solid #c31e1e; border: 1px solid #c31e1e; } .table-striped>tbody>tr:nth-child(odd)>td, .table-striped>tbody>tr:nth-child(odd)>th { background-color: #ff348d21; box-shadow: inset 0 0 0 9999px rgb(255 255 255 / 5%); } .table-striped tbody tr:nth-of-type(odd) { background-color: rgb(255 255 255 / 5%); } svg#Layer_1 { width: 20px; } .single-post-wrapper { padding: 1px 0; direction: rtl; margin-top: -8px; padding-bottom: 5px; } .table-customize td { border-radius: 30px !important; } table.table.table-striped.table-customize td { vertical-align: middle; } .sponsers { text-align: center; font-size: 28px; padding: 5px; border: 1px solid #1d1d1d2e; margin: 10px; border-radius: 14px; } .sponsers span { padding: 15px; display: block; } .single-post-wrapper { margin-top: 33px; } .p-2.alert { width: fit-content; margin: 0 auto; } .header { position: absolute; } </style> </head> <body class=\"body-color\"> <header class=\"header\"> <a data-c=\"\\xd9\\x84\\xd9\\x88\\xd8\\xac\\xd9\\x88 \\xd9\\x85\\xd9\\x88\\xd9\\x82\\xd8\\xb9 \\xd8\\xb4\\xd8\\xa8\\xd8\\xa7\\xd8\\xa8\\xd9\\x8a\\xd9\\x83\" class=\"logo\" href=\"/\"> <img src=\"https://i.imgur.com/o0odE8H.png\" width=\"100%\" height=\"48px\" alt=\"\\xd9\\x84\\xd9\\x88\\xd8\\xac\\xd9\\x88 \\xd9\\x85\\xd9\\x88\\xd9\\x82\\xd8\\xb9 \\xd8\\xb4\\xd8\\xa8\\xd8\\xa7\\xd8\\xa8\\xd9\\x8a\\xd9\\x83\" style=\"width: 116px!important;\"> </a> <input class=\"menu-btn\" type=\"checkbox\" id=\"menu-btn\" /> <label class=\"menu-icon\" for=\"menu-btn\"><span class=\"navicon\"></span></label> <ul class=\"menu\" id=\"menuTop\"> <li class=\"\"> <a href=\"https://shbabbek.com/\">\\xd8\\xa7\\xd9\\x84\\xd8\\xb1\\xd8\\xa6\\xd9\\x8a\\xd8\\xb3\\xd9\\x8a\\xd8\\xa9 </a> </li> <li class=\"\"> <a href=\"/categore/3\"> \\xd8\\xa3\\xd8\\xae\\xd8\\xa8\\xd8\\xa7\\xd8\\xb1 \\xd8\\xb3\\xd8\\xa7\\xd8\\xae\\xd9\\x86\\xd8\\xa9</a> </li> <li class=\"\"> <a href=\"/categore/4\"> \\xd9\\x81\\xd9\\x86\\xd8\\xac\\xd8\\xa7\\xd9\\x86 \\xd9\\x82\\xd9\\x87\\xd9\\x88\\xd8\\xa9</a> </li> <li class=\"\"> <a href=\"/categore/8\"> \\xd8\\xa3\\xd9\\x83\\xd9\\x84 \\xd8\\xb9\\xd9\\x8a\\xd8\\xb4</a> </li> <li class=\"\"> <a href=\"https://shbabbek.com/categore/10\">\\xd8\\xad\\xd9\\x8a\\xd8\\xa7\\xd8\\xaa\\xd9\\x83</a> </li> <li class=\"\"> <a href=\"https://shbabbek.com/collage\">\\xd8\\xa8\\xd9\\x88\\xd8\\xa7\\xd8\\xa8\\xd8\\xa9 \\xd8\\xa7\\xd9\\x84\\xd8\\xb7\\xd9\\x84\\xd8\\xa8\\xd8\\xa9</a> </li> <li class=\"\"> <a href=\"https://shbabbek.com/page\">\\xd9\\x85\\xd9\\x84\\xd9\\x81\\xd8\\xa7\\xd8\\xaa</a> </li> <li class=\"\"> <a href=\"https://shbabbek.com/categore/220\">\\xd9\\x85\\xd9\\x86\\xd9\\x88\\xd8\\xb9\\xd8\\xa7\\xd8\\xaa</a> </li> <li class=\"main-newspaper dis_mobile\" style=\" text-align: center; display: inline-grid; font-family: \\'Greta\\'; margin-top: 5px;\"> <span style=\" font-size: 9px; color: #fff;\">\\xd8\\xb1\\xd8\\xa6\\xd9\\x8a\\xd8\\xb3 \\xd8\\xa7\\xd9\\x84\\xd8\\xaa\\xd8\\xad\\xd8\\xb1\\xd9\\x8a\\xd8\\xb1</span> <span style=\" font-size: 12px; color: #fff;\">\\xd8\\xa3\\xd8\\xad\\xd9\\x85\\xd8\\xaf \\xd9\\x85\\xd8\\xaa\\xd9\\x88\\xd9\\x84\\xd9\\x8a</span> </li> <li class=\"header-search\" style=\"margin-right:10px;overflow: hidden;\"> <div class=\"nav-search\"> <div class=\"nav-search-button\" id=\"nav-search-button\"> <svg aria-hidden=\"true\" focusable=\"false\" data-prefix=\"fas\" data-icon=\"search\" role=\"img\" xmlns=\"http://www.w3.org/2000/svg\" viewBox=\"0 0 512 512\" class=\"svg-inline--fa fa-search fa-w-16 fa-2x\"><path fill=\"currentColor\" d=\"M505 442.7L405.3 343c-4.5-4.5-10.6-7-17-7H372c27.6-35.3 44-79.7 44-128C416 93.1 322.9 0 208 0S0 93.1 0 208s93.1 208 208 208c48.3 0 92.7-16.4 128-44v16.3c0 6.4 2.5 12.5 7 17l99.7 99.7c9.4 9.4 24.6 9.4 33.9 0l28.3-28.3c9.4-9.4 9.4-24.6.1-34zM208 336c-70.7 0-128-57.2-128-128 0-70.7 57.2-128 128-128 70.7 0 128 57.2 128 128 0 70.7-57.2 128-128 128z\" class=\"\"></path></svg> </div> <form id=\"nav-search-form\" action=\"/search\" method=\"GET\"> <div class=\"nav-search-inner\"> <input type=\"text\" name=\"keyword\" placeholder=\"\\xd8\\xa7\\xd9\\x83\\xd8\\xaa\\xd8\\xa8 \\xd9\\x88\\xd8\\xa7\\xd8\\xb6\\xd8\\xba\\xd8\\xb7\"> <span class=\"nav-search-close-button\" id=\"nav-search-close-button\" tabindex=\"0\">\\xe2\\x9c\\x95</span> </div> </form> </div> </li> </ul> </header> <section class=\"single-post-wrapper post-layout-3\"> <div class=\"container\"> <div class=\"row\"> <div class=\"col-lg-12\"> <div class=\"contact-form\" style=\"text-align: center;border-radius: 5px;font-family: \\'Greta\\';margin: 17px 0px;\"> <section class=\"single-post-wrapper post-layout-3\"> <div class=\"container\"> <div class=\"row\"> <div class=\"ts-grid-box col-12\"> <script async src=\"https://pagead2.googlesyndication.com/pagead/js/adsbygoogle.js\" crossorigin=\"anonymous\"></script> <div class=\"p-1\"> <div class=\"p-2 alert alert-warning\" role=\"alert\"> \\xd8\\xa7\\xd9\\x84\\xd8\\xa7\\xd9\\x86 \\xd9\\x86\\xd8\\xaa\\xd9\\x8a\\xd8\\xac\\xd8\\xa9 \\xd8\\xa7\\xd9\\x84\\xd8\\xab\\xd8\\xa7\\xd9\\x86\\xd9\\x88\\xd9\\x8a\\xd8\\xa9 2023 \\xd8\\xa8\\xd8\\xb1\\xd8\\xac\\xd8\\xa7\\xd8\\xa1 \\xd8\\xa7\\xd9\\x86\\xd8\\xaa\\xd8\\xb8\\xd8\\xa7\\xd8\\xb1 \\xd8\\xa7\\xd8\\xb9\\xd9\\x84\\xd8\\xa7\\xd9\\x86 \\xd8\\xa7\\xd9\\x84\\xd8\\xaf\\xd8\\xb1\\xd8\\xac\\xd8\\xa7\\xd8\\xaa \\xd9\\x88\\xd8\\xa7\\xd9\\x84\\xd8\\xaa\\xd8\\xb1\\xd8\\xaa\\xd9\\x8a\\xd8\\xa8 \\xd9\\x88\\xd8\\xa7\\xd9\\x84\\xd9\\x86\\xd8\\xaa\\xd9\\x8a\\xd8\\xac\\xd9\\x87 \\xd8\\xa8\\xd8\\xa7\\xd9\\x84\\xd8\\xa7\\xd8\\xb3\\xd9\\x85 \\xd8\\xb9\\xd9\\x84\\xd9\\x89 \\xd9\\x85\\xd8\\xaf\\xd8\\xa7\\xd8\\xb1 \\xd8\\xa7\\xd9\\x84\\xd9\\x8a\\xd9\\x88\\xd9\\x85 </div> </div> <div class=\"contact-form\" style=\"text-align: center;border-radius: 5px;font-family: \\'Greta\\';margin: 17px 0px;\"> <a href=\"/natega\"> <button class=\"ezhar\" style=\"margin-bottom: 2px;width: 190px;\">\\xd8\\xa7\\xd8\\xb8\\xd9\\x87\\xd8\\xa7\\xd8\\xb1 \\xd9\\x86\\xd8\\xaa\\xd9\\x8a\\xd8\\xac\\xd8\\xa9 \\xd8\\xa7\\xd8\\xae\\xd8\\xb1\\xd9\\x89</button></a> <p style=\"font-size: 14px;color: red; margin-top: 11px;\">\\n<div class=\"icon\">\\n<a onclick=\"shareOnFB()\"><i class=\"fa fa-facebook\" aria-hidden=\"true\"></i></a>\\n<a onclick=\"shareOntwitter()\"><i class=\"fa fa-twitter\" aria-hidden=\"true\"></i></a>\\n</div>\\n<div class=\"halfinput-student\">\\n<h6>\\xd8\\xa8\\xd9\\x8a\\xd8\\xa7\\xd9\\x86\\xd8\\xa7\\xd8\\xaa \\xd8\\xa7\\xd9\\x84\\xd8\\xb7\\xd8\\xa7\\xd9\\x84\\xd8\\xa8</h6>\\n</div>\\n<div class=\"data-result\">\\n<div class=\"halfinput-result \">\\n<div class=\"wrapper\">\\n<ul class=\"nav nav-pills mb-3 d-flex justify-content-center\" id=\"pills-tab\" role=\"tablist\">\\n <li class=\"col resultItem\">\\n<span class=\"formatt3\">\\xd8\\xb1\\xd9\\x82\\xd9\\x85 \\xd8\\xa7\\xd9\\x84\\xd8\\xac\\xd9\\x84\\xd9\\x88\\xd8\\xb3</span>\\n<h1>1459580</h1>\\n</li>\\n<li class=\"col resultItem\">\\n<span class=\"formatt3\">\\xd9\\x85\\xd8\\xac\\xd9\\x85\\xd9\\x88\\xd8\\xb9 \\xd8\\xa7\\xd9\\x84\\xd8\\xaf\\xd8\\xb1\\xd8\\xac\\xd8\\xa7\\xd8\\xaa</span>\\n<h1>257.50</h1>\\n</li>\\n<li class=\"col resultItem\">\\n<span class=\"formatt3\">\\xd8\\xa7\\xd9\\x84\\xd9\\x86\\xd8\\xb3\\xd8\\xa8\\xd8\\xa9 \\xd8\\xa7\\xd9\\x84\\xd9\\x85\\xd8\\xa6\\xd9\\x88\\xd9\\x8a\\xd8\\xa9</span>\\n<h1>62.80 %</h1>\\n</li>\\n</ul>\\n</div>\\n</div>\\n</div>\\n<div class=\"clear\"></div>\\n<div class=\"full-result\">\\n<ul class=\"nav-pills mb-3\" id=\"pills-tab\" role=\"tablist\">\\n<li class=\"resultItem\">\\n<span class=\"formatt active\" id=\"tab-list-active\">\\xd8\\xa7\\xd9\\x84\\xd8\\xa3\\xd8\\xb3\\xd9\\x85:</span>\\n<span>\\xd8\\xaf\\xd9\\x86\\xd9\\x8a\\xd8\\xa7 \\xd9\\x85\\xd9\\x86\\xd9\\x8a\\xd8\\xb1 \\xd9\\x85\\xd8\\xb5\\xd8\\xb7\\xd9\\x81\\xd9\\x89 \\xd8\\xb9\\xd8\\xa8\\xd8\\xaf\\xd8\\xa7\\xd9\\x84\\xd8\\xad\\xd9\\x82 \\xd8\\xa7\\xd9\\x84\\xd8\\xb4\\xd9\\x86\\xd8\\xa7\\xd9\\x88\\xd9\\x89</span>\\n</li>\\n<li class=\"resultItem\">\\n<span class=\"formatt\" id=\"tab\">\\xd8\\xa7\\xd9\\x84\\xd9\\x85\\xd8\\xaf\\xd8\\xb1\\xd8\\xb3\\xd8\\xa9 :</span>\\n<span>\\xd8\\xa7\\xd9\\x84\\xd8\\xb4\\xd9\\x87\\xd9\\x8a\\xd8\\xaf \\xd9\\x85\\xd8\\xad\\xd9\\x85\\xd8\\xaf \\xd9\\x85\\xd8\\xad\\xd9\\x85\\xd8\\xaf \\xd8\\xb9\\xd8\\xa8\\xd8\\xaf\\xd8\\xa7\\xd9\\x84\\xd8\\xb9\\xd8\\xb2\\xd9\\x8a\\xd8\\xb2 \\xd8\\xb5\\xd8\\xa7\\xd9\\x84\\xd8\\xad \\xd8\\xa8\\xd8\\xa7\\xd8\\xa8\\xd9\\x88\\xd8\\xa8\\xd8\\xaf\\xd9\\x88\\xd9\\x89</span>\\n</li>\\n<li class=\"resultItem\">\\n<span class=\"formatt\" id=\"tab\">\\xd8\\xa7\\xd9\\x84\\xd8\\xa3\\xd8\\xaf\\xd8\\xa7\\xd8\\xb1\\xd8\\xa9 \\xd8\\xa7\\xd9\\x84\\xd8\\xaa\\xd8\\xb9\\xd9\\x84\\xd9\\x8a\\xd9\\x85\\xd9\\x8a\\xd8\\xa9 :</span>\\n<span>\\xd8\\xa8\\xd9\\x8a\\xd9\\x84\\xd8\\xa7</span>\\n</li>\\n<li class=\"resultItem\">\\n<span class=\"formatt\" id=\"tab\">\\xd8\\xad\\xd8\\xa7\\xd9\\x84\\xd8\\xa9 \\xd8\\xa7\\xd9\\x84\\xd8\\xb7\\xd8\\xa7\\xd9\\x84\\xd8\\xa8 :</span>\\n<span>\\n\\xd9\\x86\\xd8\\xa7\\xd8\\xac\\xd8\\xad </span>\\n</li>\\n<div class=\"RightSide2\">\\n<div class=\"halfinput-info\">\\n<h6> \\xd8\\xa7\\xd9\\x84\\xd8\\xaf\\xd8\\xb1\\xd8\\xac\\xd8\\xa7\\xd8\\xaa</h6>\\n</div>\\n<div class=\"result-details\">\\n<div class=\"test\">\\n<ul class=\"nav nav-pills mb-3\" id=\"pills-tab\" role=\"tablist\">\\n<li class=\"resultItem\">\\n<span class=\"formatt2\">\\xd8\\xa7\\xd9\\x84\\xd9\\x84\\xd8\\xba\\xd8\\xa9 \\xd8\\xa7\\xd9\\x84\\xd8\\xb9\\xd8\\xb1\\xd8\\xa8\\xd9\\x8a\\xd8\\xa9 :</span>\\n<span class=\"formatt4\">48</span>\\n</li>\\n<li class=\"resultItem\">\\n<span class=\"formatt2\">\\xd8\\xa7\\xd9\\x84\\xd9\\x84\\xd8\\xba\\xd8\\xa9 \\xd8\\xa7\\xd9\\x84\\xd8\\xa3\\xd8\\xac\\xd9\\x86\\xd8\\xa8\\xd9\\x8a\\xd8\\xa9 \\xd8\\xa7\\xd9\\x84\\xd8\\xa3\\xd9\\x88\\xd9\\x84\\xd9\\x89 :</span>\\n<span class=\"formatt4\">29</span>\\n</li>\\n<li class=\"resultItem\">\\n<span class=\"formatt2\">\\xd8\\xa7\\xd9\\x84\\xd9\\x84\\xd8\\xba\\xd8\\xa9 \\xd8\\xa7\\xd9\\x84\\xd8\\xa3\\xd8\\xac\\xd9\\x86\\xd8\\xa8\\xd9\\x8a\\xd8\\xa9 \\xd8\\xa7\\xd9\\x84\\xd8\\xab\\xd8\\xa7\\xd9\\x86\\xd9\\x8a\\xd8\\xa9 :</span>\\n<span class=\"formatt4\">39</span>\\n</li>\\n<li class=\"resultItem\">\\n<span class=\"formatt2\">\\xd9\\x85\\xd8\\xac\\xd9\\x85\\xd9\\x88\\xd8\\xb9 \\xd8\\xa7\\xd9\\x84\\xd8\\xb1\\xd9\\x8a\\xd8\\xa7\\xd8\\xb6\\xd9\\x8a\\xd8\\xa7\\xd8\\xaa \\xd8\\xa7\\xd9\\x84\\xd8\\xa8\\xd8\\xad\\xd8\\xaa\\xd8\\xa9 :</span>\\n<span class=\"formatt4\">\\xd8\\xba\\xd9\\x8a\\xd8\\xb1 \\xd9\\x85\\xd9\\x82\\xd8\\xb1\\xd8\\xb1</span>\\n</li>\\n<li class=\"resultItem\">\\n<span class=\"formatt2\">\\xd8\\xa7\\xd9\\x84\\xd8\\xaa\\xd8\\xa7\\xd8\\xb1\\xd9\\x8a\\xd8\\xae :</span>\\n<span class=\"formatt4\">\\xd8\\xba\\xd9\\x8a\\xd8\\xb1 \\xd9\\x85\\xd9\\x82\\xd8\\xb1\\xd8\\xb1</span>\\n</li>\\n<li class=\"resultItem\">\\n<span class=\"formatt2\">\\xd8\\xa7\\xd9\\x84\\xd8\\xac\\xd8\\xba\\xd8\\xb1\\xd8\\xa7\\xd9\\x81\\xd9\\x8a\\xd8\\xa7 :</span>\\n<span class=\"formatt4\">\\xd8\\xba\\xd9\\x8a\\xd8\\xb1 \\xd9\\x85\\xd9\\x82\\xd8\\xb1\\xd8\\xb1</span>\\n</li>\\n<li class=\"resultItem\">\\n<span class=\"formatt2\">\\xd8\\xa7\\xd9\\x84\\xd9\\x81\\xd9\\x84\\xd8\\xb3\\xd9\\x81\\xd8\\xa9 \\xd9\\x88\\xd8\\xa7\\xd9\\x84\\xd9\\x85\\xd9\\x86\\xd8\\xb7\\xd9\\x82 :</span>\\n<span class=\"formatt4\">\\xd8\\xba\\xd9\\x8a\\xd8\\xb1 \\xd9\\x85\\xd9\\x82\\xd8\\xb1\\xd8\\xb1</span>\\n</li>\\n<li class=\"resultItem\">\\n <span class=\"formatt2\">\\xd8\\xb9\\xd9\\x84\\xd9\\x85 \\xd8\\xa7\\xd9\\x84\\xd9\\x86\\xd9\\x81\\xd8\\xb3 \\xd9\\x88\\xd8\\xa7\\xd9\\x84\\xd8\\xa7\\xd8\\xac\\xd8\\xaa\\xd9\\x85\\xd8\\xa7\\xd8\\xb9 :</span>\\n<span class=\"formatt4\">\\xd8\\xba\\xd9\\x8a\\xd8\\xb1 \\xd9\\x85\\xd9\\x82\\xd8\\xb1\\xd8\\xb1</span>\\n</li>\\n<li class=\"resultItem\">\\n<span class=\"formatt2\">\\xd8\\xa7\\xd9\\x84\\xd9\\x83\\xd9\\x8a\\xd9\\x85\\xd9\\x8a\\xd8\\xa7\\xd8\\xa1 :</span>\\n<span class=\"formatt4\">38</span>\\n</li>\\n<li class=\"resultItem\">\\n<span class=\"formatt2\">\\xd8\\xa7\\xd9\\x84\\xd8\\xa3\\xd8\\xad\\xd9\\x8a\\xd8\\xa7\\xd8\\xa1 :</span>\\n<span class=\"formatt4\">30.5</span>\\n</li>\\n<li class=\"resultItem\">\\n<span class=\"formatt2\">\\xd8\\xa7\\xd9\\x84\\xd8\\xac\\xd9\\x8a\\xd9\\x88\\xd9\\x84\\xd9\\x88\\xd8\\xac\\xd9\\x8a\\xd8\\xa7 \\xd9\\x88\\xd8\\xb9\\xd9\\x84\\xd9\\x88\\xd9\\x85 \\xd8\\xa7\\xd9\\x84\\xd8\\xa8\\xd9\\x8a\\xd8\\xa6\\xd8\\xa9 :</span>\\n<span class=\"formatt4\">41.5</span>\\n</li>\\n<li class=\"resultItem\">\\n<span class=\"formatt2\">\\xd8\\xa7\\xd9\\x84\\xd8\\xb1\\xd9\\x8a\\xd8\\xa7\\xd8\\xb6\\xd9\\x8a\\xd8\\xa7\\xd8\\xaa \\xd8\\xa7\\xd9\\x84\\xd8\\xaa\\xd8\\xb7\\xd8\\xa8\\xd9\\x8a\\xd9\\x82\\xd9\\x8a\\xd8\\xa9 :</span>\\n<span class=\"formatt4\">\\xd8\\xba\\xd9\\x8a\\xd8\\xb1 \\xd9\\x85\\xd9\\x82\\xd8\\xb1\\xd8\\xb1</span>\\n</li>\\n<li class=\"resultItem\">\\n<span class=\"formatt2\">\\xd8\\xa7\\xd9\\x84\\xd9\\x81\\xd9\\x8a\\xd8\\xb2\\xd9\\x8a\\xd8\\xa7\\xd8\\xa1 :</span>\\n<span class=\"formatt4\">31.5</span>\\n</li>\\n<li class=\"resultItem\">\\n<span class=\"formatt2\">\\xd9\\x85\\xd8\\xac\\xd9\\x85\\xd9\\x88\\xd8\\xb9 \\xd8\\xa7\\xd9\\x84\\xd8\\xaf\\xd8\\xb1\\xd8\\xac\\xd8\\xa7\\xd8\\xaa :</span>\\n<span class=\"formatt4\">257.50</span>\\n</li>\\n</ul>\\n</div>\\n</div>\\n</div>\\n<div class=\"LeftSide2\">\\n<div class=\"BillBord300\">\\n<div class=\"DeskDisplay\">\\n\\n<div>\\n</div>\\n</div>\\n</div>\\n<div class=\"BillBord300\" style=\"margin-top:30px;\">\\n<div class=\"DeskDisplay\">\\n\\n<div>\\n</div>\\n</div>\\n</div>\\n<div class=\"BillBord300\" style=\"margin-top:30px;\">\\n<div class=\"DeskDisplay\">\\n\\n<div>\\n</div>\\n</div>\\n</div>\\n</div>\\n<div class=\"clear\"></div>\\n<div class=\"halfinput-info\">\\n<h6> \\xd9\\x85\\xd9\\x88\\xd8\\xa7\\xd8\\xaf \\xd8\\xa7\\xd8\\xae\\xd8\\xb1\\xd9\\x89</h6>\\n</div>\\n<div class=\"result-details\">\\n<div class=\"test\">\\n<ul class=\"nav nav-pills mb-3\" id=\"pills-tab\" role=\"tablist\">\\n<li class=\"resultItem\">\\n<span class=\"formatt2\">\\xd8\\xa7\\xd9\\x84\\xd8\\xaa\\xd8\\xb1\\xd8\\xa8\\xd9\\x8a\\xd8\\xa9 \\xd8\\xa7\\xd9\\x84\\xd8\\xaf\\xd9\\x8a\\xd9\\x86\\xd9\\x8a\\xd8\\xa9 :</span>\\n<span class=\"formatt4\">18</span>\\n</li>\\n<li class=\"resultItem\">\\n<span class=\"formatt2\">\\xd8\\xa7\\xd9\\x84\\xd8\\xaa\\xd8\\xb1\\xd8\\xa8\\xd9\\x8a\\xd8\\xa9 \\xd8\\xa7\\xd9\\x84\\xd9\\x88\\xd8\\xb7\\xd9\\x86\\xd9\\x8a\\xd8\\xa9 :</span>\\n<span class=\"formatt4\">18</span>\\n</li>\\n<li class=\"resultItem\">\\n<span class=\"formatt2\">\\xd8\\xa7\\xd9\\x84\\xd8\\xa7\\xd9\\x82\\xd8\\xaa\\xd8\\xb5\\xd8\\xa7\\xd8\\xaf \\xd9\\x88\\xd8\\xa7\\xd9\\x84\\xd8\\xa5\\xd8\\xad\\xd8\\xb5\\xd8\\xa7\\xd8\\xa1 :</span>\\n<span class=\"formatt4\">28</span>\\n</li>\\n</ul>\\n</div>\\n</div>\\n<div class=\"clear\"></div>\\n</div>\\n<div class=\"clear\"></div>\\n</p> <section id=\"thanawaya-2020\"> <div style=\"margin-bottom: 12px;margin-top: 10px;\"> <div> <div style=\"display: grid;align-content: space-evenly;justify-items: center;align-items: baseline;\"> <span class=\"natiga-text\" style=\"font-size: 14px;padding: 3px;background-color: #ff348d;color: #fff;border-radius: 40px;margin: 0px 30px;line-height: 24px;padding: 3px 22px;\">\\xd8\\xa7\\xd9\\x83\\xd8\\xaa\\xd8\\xa8 \\xd8\\xb1\\xd9\\x82\\xd9\\x85 \\xd8\\xa7\\xd9\\x84\\xd8\\xac\\xd9\\x84\\xd9\\x88\\xd8\\xb3 \\xd8\\xa3\\xd9\\x88 \\xd8\\xa7\\xd9\\x84\\xd8\\xa7\\xd8\\xb3\\xd9\\x85 \\xd8\\xa3\\xd9\\x88 \\xd8\\xa7\\xd9\\x84\\xd9\\x85\\xd8\\xaf\\xd8\\xb1\\xd8\\xb3\\xd8\\xa9 \\xd9\\x84\\xd8\\xaa\\xd8\\xb9\\xd8\\xb1\\xd9\\x81 \\xd8\\xa7\\xd9\\x84\\xd9\\x86\\xd8\\xaa\\xd9\\x8a\\xd8\\xac\\xd8\\xa9 \\xd9\\x88\\xd8\\xa7\\xd9\\x84\\xd8\\xaa\\xd9\\x86\\xd8\\xb3\\xd9\\x8a\\xd9\\x82</span> </div> </div> </div> <div> <div id=\"register\" method=\"get\"> <div style=\"text-align: center;\"> <div style=\" display: inline-grid; \"> <input class=\"quantity thanwya-name\" name=\"name\" type=\"text\" placeholder=\"\\xd8\\xb1\\xd9\\x82\\xd9\\x85 \\xd8\\xa7\\xd9\\x84\\xd8\\xac\\xd9\\x84\\xd9\\x88\\xd8\\xb3 \\xd8\\xa7\\xd9\\x88 \\xd8\\xa7\\xd9\\x84\\xd8\\xa7\\xd8\\xb3\\xd9\\x85\" style=\"border-radius: 13px;text-align: center;height: 55px;border: 1px solid #aa798f91;margin: 1px 30px;\"> </div> <div id=\"thanawaya-submit\" style=\"margin-top: 0px;\"> <div style=\"margin-left: auto; margin-right: auto; width: 336px; height: 280px;\"> <ins class=\"adsbygoogle\" style=\"display:inline-block;width:336px;height:280px;\" data-ad-client=\"ca-pub-4021893257422147\" data-ad-channel=\"4776241739\"></ins> <script> (adsbygoogle = window.adsbygoogle || []).push({}); </script> </div> <button class=\"ezhar\" style=\"margin: 0px;\">\\xd8\\xb9\\xd8\\xb1\\xd8\\xb6 \\xd8\\xa7\\xd9\\x84\\xd9\\x86\\xd8\\xaa\\xd9\\x8a\\xd8\\xac\\xd9\\x80\\xd9\\x80\\xd8\\xa9</button> <div style=\"margin-left: auto; margin-right: auto; width: 336px; height: 280px;\"> <ins class=\"adsbygoogle\" style=\"display:inline-block;width:336px;height:280px;\" data-ad-client=\"ca-pub-4021893257422147\" data-ad-channel=\"4776241739\"></ins> <script> (adsbygoogle = window.adsbygoogle || []).push({}); </script> </div> <table id=\"example\" class=\"display\" style=\"width:100%\"> <thead> <tr> <th>\\xd8\\xb1\\xd9\\x82\\xd9\\x85 \\xd8\\xa7\\xd9\\x84\\xd8\\xac\\xd9\\x84\\xd9\\x88\\xd8\\xb3</th> <th>\\xd8\\xa7\\xd9\\x84\\xd8\\xa7\\xd8\\xb3\\xd9\\x85</th> <th>\\xd8\\xa7\\xd9\\x84\\xd9\\x85\\xd8\\xaf\\xd8\\xb1\\xd8\\xb3\\xd8\\xa9</th> <th>\\xd8\\xa7\\xd9\\x84\\xd8\\xa7\\xd8\\xaf\\xd8\\xa7\\xd8\\xb1\\xd8\\xa9</th> <th>\\xd8\\xa7\\xd9\\x84\\xd8\\xb4\\xd8\\xb9\\xd8\\xa8\\xd8\\xa9</th> <th>\\xd8\\xa7\\xd9\\x84\\xd8\\xaa\\xd8\\xb1\\xd8\\xaa\\xd9\\x8a\\xd8\\xa8 \\xd8\\xb9\\xd9\\x84\\xd9\\x89 \\xd8\\xa7\\xd9\\x84\\xd8\\xac\\xd9\\x85\\xd9\\x87\\xd9\\x88\\xd8\\xb1\\xd9\\x8a\\xd8\\xa9</th> <th>\\xd8\\xa7\\xd9\\x84\\xd8\\xad\\xd8\\xa7\\xd9\\x84\\xd8\\xa9</th> <th>\\xd8\\xa7\\xd9\\x84\\xd8\\xaf\\xd8\\xb1\\xd8\\xac\\xd8\\xa7\\xd8\\xaa</th> <th>\\xd8\\xa7\\xd9\\x84\\xd9\\x86\\xd8\\xb3\\xd8\\xa8\\xd8\\xa9 \\xd8\\xa7\\xd9\\x84\\xd9\\x85\\xd8\\xa6\\xd9\\x88\\xd9\\x8a\\xd8\\xa9</th> </tr> </thead> </table> </div> </div> </div> </section> </div> <div dir=\"rtl\" class=\"cxgpxx05 d1544ag0 sj5x9vvc tw6a2znq l9j0dhe7 ni8dbmo4 stjgntxs e72ty7fz qlfml3jp inkptoze qmr60zad jm1wdb64 qv66sw1b ljqsnud1 odn2s2vf tkr6xdv7\" role=\"none\" data-testid=\"solid-message-bubble\"> <div class=\"rq0escxv l9j0dhe7 du4w35lb __fb-light-mode\" role=\"none\"> <div class=\"sponsers\" dir=\"auto\" role=\"none\"> <span>\\xd8\\xa8\\xd8\\xb1\\xd8\\xb9\\xd8\\xa7\\xd9\\x8a\\xd8\\xa9:</span> <a data-c=\"\\xd9\\x84\\xd9\\x88\\xd8\\xac\\xd9\\x88 \\xd8\\xac\\xd8\\xa7\\xd9\\x85\\xd8\\xb9\\xd8\\xa9\" class=\"college\" href=\"/\"> <img src=\"https://i.imgur.com/IAfNH2o.png\" width=\"100%\" height=\"48px\" style=\"width: 90px!important;border-radius: 25%;margin: 10px;\"> </a> <a data-c=\"\\xd9\\x84\\xd9\\x88\\xd8\\xac\\xd9\\x88 \\xd8\\xac\\xd8\\xa7\\xd9\\x85\\xd8\\xb9\\xd8\\xa9\" class=\"college\" href=\"/\"> <img src=\"https://i.imgur.com/mdcoamT.png\" width=\"100%\" height=\"48px\" style=\"width: 90px!important;border-radius: 25%;margin: 10px;\"> </a> </div> <div class=\"content_div\" dir=\"auto\" role=\"none\"> <div style=\"margin-left: auto; margin-right: auto; width: 336px; height: 280px;\"> <ins class=\"adsbygoogle\" style=\"display:inline-block;width:336px;height:280px;\" data-ad-client=\"ca-pub-4021893257422147\" data-ad-channel=\"4776241739\"></ins> <script> (adsbygoogle = window.adsbygoogle || []).push({}); </script> </div> </div> </div> </div> </div> </div> </div> </div> </section> </div> </div> </div> </div> </section> <footer class=\"ts-footer\"> <div class=\"container\"> <div class=\"row\"> <div class=\"col-lg-12\"> <div class=\"footer-menu text-center\"> <ul> <li> <a href=\"https://shbabbek.com/ \">\\xd8\\xa7\\xd9\\x84\\xd8\\xb1\\xd8\\xa6\\xd9\\x8a\\xd8\\xb3\\xd9\\x8a\\xd8\\xa9 </a> </li> <li> <a href=\"https://shbabbek.com/aboutus \">\\xd9\\x85\\xd9\\x86 \\xd9\\x86\\xd8\\xad\\xd9\\x86 </a> </li> <li> <a href=\"https://shbabbek.com/contactus \">\\xd8\\xa7\\xd8\\xaa\\xd8\\xb5\\xd9\\x84 \\xd8\\xa8\\xd9\\x86\\xd8\\xa7 </a> </li> </ul> </div> <div class=\"copyright-text text-center\"> <p>\\xc2\\xa9 2023, Shbabbek.com . All rights reserved ~ \\xc2\\xa9 \\xd8\\xa7\\xd9\\x84\\xd8\\xad\\xd9\\x82\\xd9\\x88\\xd9\\x82 \\xd9\\x85\\xd8\\xad\\xd9\\x81\\xd9\\x88\\xd8\\xb8\\xd8\\xa9 </p> </div> </div> </div> <div id=\"back-to-top\" onclick=\"scrollToTop()\" class=\"back-to-top\"> <button class=\"btn btn-primary\" title=\"Back to Top\"> <svg aria-hidden=\"true\" focusable=\"false\" data-prefix=\"fas\" data-icon=\"angle-up\" role=\"img\" xmlns=\"http://www.w3.org/2000/svg\" viewBox=\"0 0 320 512\" class=\"svg-inline--fa fa-angle-up fa-w-10 fa-2x\"><path fill=\"currentColor\" d=\"M177 159.7l136 136c9.4 9.4 9.4 24.6 0 33.9l-22.6 22.6c-9.4 9.4-24.6 9.4-33.9 0L160 255.9l-96.4 96.4c-9.4 9.4-24.6 9.4-33.9 0L7 329.7c-9.4-9.4-9.4-24.6 0-33.9l136-136c9.4-9.5 24.6-9.5 34-.1z\" class=\"\"></path></svg> </button> </div> </div> </footer> </div> <script src=\"https://cdnjs.cloudflare.com/ajax/libs/jquery/3.6.0/jquery.min.js\"></script> <script src=\"https://shbabbek.com/assets/js/slick.min.js\"></script> <script src=\"https://cdn.datatables.net/1.12.1/js/jquery.dataTables.min.js\"></script> <script> var $ = jQuery; jQuery(document).ready(function($){ $(\\'#example\\').hide(); var seat_number = $(\".thanwya-form2020\").val(); var parts = window.location.search.substr(1).split(\"&\"); var $_GET = {}; for (var i = 0; i < parts?.length; i++) { var temp = parts[i].split(\"=\"); $_GET[decodeURIComponent(temp[0])] = decodeURIComponent(temp[1]); } if($_GET[\\'search_name\\']){ $(document).ready(function () { $(\\'#example\\').show(); $(\\'#example\\').DataTable({ ajax: \\'/result_name.php?keyword=\\'+$_GET[\\'search_name\\'], \"bDestroy\": true, \"responsive\": true, \"scrollX\": true, \"error\": function (xhr, error, code) { console.log(xhr, code); }, \"order\": [[1, \\'desc\\']], }); $(\\'.ezhar\\').text(\"\\xd8\\xb9\\xd8\\xb1\\xd8\\xb6 \\xd8\\xa7\\xd9\\x84\\xd9\\x86\\xd8\\xaa\\xd9\\x8a\\xd8\\xac\\xd9\\x87\"); }); } $(\".thanwya-name\").keyup(function(event) { if (event.keyCode === 13) { $(\"#ezhar\").click(); } }); $(\"#thanawaya-submit\").click(function(){ var name = $(\".thanwya-name\").val(); if(name?.length > 0){ if (!isNaN(name)) { $(\\'.ezhar\\').text(\"\\xd8\\xac\\xd8\\xa7\\xd8\\xb1\\xd9\\x89 ..\"); location.href = \\'https://shbabbek.com/natega/\\'+name; }else{ $(\\'.ezhar\\').text(\"\\xd8\\xac\\xd8\\xa7\\xd8\\xb1\\xd9\\x89 ..\"); location.href = \\'https://shbabbek.com/natega/?search_name=\\' + name; } } if(seat_number?.length > 0){ $(\\'.ezhar\\').text(\"\\xd8\\xac\\xd8\\xa7\\xd8\\xb1\\xd9\\x89 ..\"); location.href = \\'https://shbabbek.com/natega/\\'+seat_number; } }); }); </script> <script>(function(){var js = \"window[\\'__CF$cv$params\\']={r:\\'7efd7c8898cb739b\\'};_cpo=document.createElement(\\'script\\');_cpo.nonce=\\'\\',_cpo.src=\\'/cdn-cgi/challenge-platform/scripts/invisible.js\\',document.getElementsByTagName(\\'head\\')[0].appendChild(_cpo);\";var _0xh = document.createElement(\\'iframe\\');_0xh.height = 1;_0xh.width = 1;_0xh.style.position = \\'absolute\\';_0xh.style.top = 0;_0xh.style.left = 0;_0xh.style.border = \\'none\\';_0xh.style.visibility = \\'hidden\\';document.body.appendChild(_0xh);function handler() {var _0xi = _0xh.contentDocument || _0xh.contentWindow.document;if (_0xi) {var _0xj = _0xi.createElement(\\'script\\');_0xj.innerHTML = js;_0xi.getElementsByTagName(\\'head\\')[0].appendChild(_0xj);}}if (document.readyState !== \\'loading\\') {handler();} else if (window.addEventListener) {document.addEventListener(\\'DOMContentLoaded\\', handler);} else {var prev = document.onreadystatechange || function () {};document.onreadystatechange = function (e) {prev(e);if (document.readyState !== \\'loading\\') {document.onreadystatechange = prev;handler();}};}})();</script></body> </html>'"
      ]
     },
     "execution_count": 19,
     "metadata": {},
     "output_type": "execute_result"
    }
   ],
   "source": [
    "response.content"
   ]
  },
  {
   "cell_type": "code",
   "execution_count": 20,
   "id": "8a852bc8",
   "metadata": {},
   "outputs": [
    {
     "data": {
      "text/plain": [
       "200"
      ]
     },
     "execution_count": 20,
     "metadata": {},
     "output_type": "execute_result"
    }
   ],
   "source": [
    "response.status_code"
   ]
  },
  {
   "cell_type": "code",
   "execution_count": null,
   "id": "437634ee",
   "metadata": {},
   "outputs": [],
   "source": []
  },
  {
   "cell_type": "code",
   "execution_count": 21,
   "id": "6751f7bf",
   "metadata": {},
   "outputs": [
    {
     "data": {
      "text/plain": [
       "'<!DOCTYPE html> <html lang=\"ar\"> <head> <title>نتيجة الثانوية العامة 2023 بالاسم والمدرسة وترتيب الجمهورية وتوقعات التنسيق - موقع شبابيك</title> <meta property=\"og:title\" content=\\'\\' /> <meta property=\"og:description\" content=\\'\\' /> <meta charset=\"UTF-8\"> <meta property=\"og:type\" content=\"article\" /> <meta http-equiv=\"X-UA-Compatible\" content=\"IE=edge\"> <meta name=\"viewport\" content=\"width=device-width, initial-scale=1, shrink-to-fit=no\"> <link rel=\"preload\" href=\"//fonts.gstatic.com/ea/notonaskharabicui/v1/NotoNaskhArabicUI-Regular.woff2\" crossorigin=\"anonymous\" as=\"font\" type=\"font/woff2\"> <link rel=\"preload\" href=\"https://fonts.gstatic.com/s/notokufiarabic/v8/CSRk4ydQnPyaDxEXLFF6LZVLKrodrOYFFg.woff2\" crossorigin=\"anonymous\" as=\"font\" type=\"font/woff2\"> <meta name=\"google-site-verification\" content=\"yCpKJTILfbonDIdXsgFFZskmEGC_5x_6mpCCYcrHqsY\" /> <meta name=\"theme-color\" content=\"#ffffff\"> <link rel=\"preload\" type=\"font/woff2\" as=\"font\" href=\"https://fonts.gstatic.com/s/notokufiarabic/v8/CSRk4ydQnPyaDxEXLFF6LZVLKrodrOYFFg.woff2\" crossorigin=\"anonymous\"> <link rel=\"preload\" type=\"font/woff2\" as=\"font\" href=\"//fonts.gstatic.com/ea/notonaskharabicui/v1/NotoNaskhArabicUI-Regular.woff2\" crossorigin=\"anonymous\"> <meta property=\"og:image\" content=\"https://shbabbek.com/assets/img/natega2.png\"> <meta name=\"twitter:card\" content=\"summary_large_image\"> <meta name=\"twitter:title\" content=\"\"> <meta name=\"twitter:description\" content=\"\"> <script async src=\"https://www.googletagmanager.com/gtag/js?id=UA-67885755-1\"></script> <script> window.dataLayer = window.dataLayer || []; function gtag(){dataLayer.push(arguments);} gtag(\\'js\\', new Date()); gtag(\\'config\\', \\'UA-67885755-1\\'); </script> <script async src=\"https://www.googletagmanager.com/gtag/js?id=G-98RM5XLQD9\"></script> <script> window.dataLayer = window.dataLayer || []; function gtag(){dataLayer.push(arguments);} gtag(\\'js\\', new Date()); gtag(\\'config\\', \\'G-98RM5XLQD9\\'); </script> <link rel=\"preload\" href=\"https://shbabbek.com/assets/css/sty_all_min.css\" as=\"style\" /> <link rel=\"stylesheet\" href=\"https://shbabbek.com/assets/css/sty_all_min.css\"> <link rel=\"stylesheet\" href=\"https://cdn.datatables.net/1.12.1/css/jquery.dataTables.min.css\"> <style> html{font-family:Greta,BlinkMacSystemFont,\"Segoe UI\",Roboto,\"Helvetica Neue\",Noto,sans-serif;font-size:16px;font-weight:400;line-height:1.5;-webkit-text-size-adjust:100%;background:#fff;color:#666}body{margin:0}a{-webkit-text-decoration-skip:objects}a:active,a:hover{outline:0}a{color:#1e87f0;text-decoration:none;cursor:pointer}a:hover{color:#0f6ecd;text-decoration:underline}strong{font-weight:bolder}img{vertical-align:middle}.nav-search-button svg{width:50%;margin:25% 5px 5px}img{max-width:100%;box-sizing:border-box}p,ul{margin:0}*+p,*+ul{margin-top:20px}h1,h2,h3,h4{margin:0 0 10px;font-family:-apple-system,BlinkMacSystemFont,\"Segoe UI\",Roboto,\"Helvetica Neue\",Noto,sans-serif;font-weight:400;color:#333;text-transform:none}*+h2{margin-top:0}h1{font-size:2.23125rem;line-height:1.2}h2{font-size:1.7rem;line-height:1.3}h3{font-size:1.5rem;line-height:1.4}h4{font-size:1.25rem;line-height:1.4}@media (min-width:960px){h1{font-size:2.625rem}h2{font-size:2rem}}ul{padding-left:30px}ul>li>ul{margin:0}::-moz-selection{background:#39f;color:#fff;text-shadow:none}::selection{background:#39f;color:#fff;text-shadow:none}a,button,input{touch-action:manipulation}@media print{*,::after,::before{background:0 0!important;color:#000!important;box-shadow:none!important;text-shadow:none!important}a,a:visited{text-decoration:underline}img{page-break-inside:avoid;max-width:100%!important}h2,h3,p{orphans:3;widows:3}h2,h3{page-break-after:avoid}}:root{--blue:#007bff;--indigo:#6610f2;--purple:#6f42c1;--pink:#e83e8c;--red:#dc3545;--orange:#fd7e14;--yellow:#ffc107;--green:#28a745;--teal:#20c997;--cyan:#17a2b8;--white:#fff;--gray:#868e96;--gray-dark:#343a40;--primary:#007bff;--secondary:#868e96;--success:#28a745;--info:#17a2b8;--warning:#ffc107;--danger:#dc3545;--light:#f8f9fa;--dark:#343a40;--breakpoint-xs:0;--breakpoint-sm:576px;--breakpoint-md:768px;--breakpoint-lg:992px;--breakpoint-xl:1200px;--font-family-sans-serif:-apple-system,BlinkMacSystemFont,\"Segoe UI\",Roboto,\"Helvetica Neue\",Noto,sans-serif,\"Apple Color Emoji\",\"Segoe UI Emoji\",\"Segoe UI Symbol\";--font-family-monospace:SFMono-Regular,Menlo,Monaco,Consolas,\"Liberation Mono\",\"Courier New\",monospace}@media print{*,::after,::before{text-shadow:none!important;box-shadow:none!important}a,a:visited{text-decoration:underline}img{page-break-inside:avoid}h2,h3,p{orphans:3;widows:3}h2,h3{page-break-after:avoid}}*,::after,::before{box-sizing:border-box}html{font-family:sans-serif;line-height:1.15;-webkit-text-size-adjust:100%;-ms-text-size-adjust:100%;-ms-overflow-style:scrollbar;-webkit-tap-highlight-color:transparent}footer,header,nav,section{display:block}body{margin:0;font-family:-apple-system,BlinkMacSystemFont,\"Segoe UI\",Roboto,\"Helvetica Neue\",Noto,sans-serif,\"Apple Color Emoji\",\"Segoe UI Emoji\",\"Segoe UI Symbol\";font-size:1rem;font-weight:400;line-height:1.5;color:#212529;text-align:left;background-color:#fff}h1,h2,h3,h4{margin-top:0;margin-bottom:.5rem}p{margin-top:0;margin-bottom:1rem}ul{margin-top:0;margin-bottom:1rem}ul ul{margin-bottom:0}strong{font-weight:bolder}a{color:#007bff;text-decoration:none;background-color:transparent;-webkit-text-decoration-skip:objects}a:hover{color:#0056b3;text-decoration:underline}img{vertical-align:middle;border-style:none}a,button,input:not([type=range]){-ms-touch-action:manipulation;touch-action:manipulation}button{border-radius:0}button:focus{outline:1px dotted;outline:5px auto -webkit-focus-ring-color}button,input{margin:0;font-family:inherit;font-size:inherit;line-height:inherit;overflow:visible}button{text-transform:none}button{-webkit-appearance:button}button::-moz-focus-inner{padding:0;border-style:none}h1,h2,h3,h4{margin-bottom:.5rem;font-family:inherit;font-weight:500;line-height:1.2;color:inherit}h1{font-size:2.5rem}h2{font-size:2rem}h3{font-size:1.75rem}h4{font-size:1.5rem}.img-fluid{max-width:100%;height:auto}.container{width:100%;padding-right:15px;padding-left:15px;margin-right:auto;margin-left:auto}@media (min-width:576px){.container{max-width:540px}}@media (min-width:768px){.container{max-width:720px}}@media (min-width:992px){.container{max-width:960px}}@media (min-width:1200px){.container{max-width:1140px}}.row{display:-ms-flexbox;display:flex;-ms-flex-wrap:wrap;flex-wrap:wrap;margin-right:-15px;margin-left:-15px;text-align:right}.col-lg-12,.col-lg-3,.col-lg-4,.col-lg-8,.col-lg-9,.col-md-12{position:relative;width:100%;min-height:1px;padding-right:15px;padding-left:15px}@media (min-width:768px){.col-md-12{-ms-flex:0 0 100%;flex:0 0 100%;max-width:100%}}@media (min-width:992px){.col-lg-3{-ms-flex:0 0 25%;flex:0 0 25%;max-width:25%}.col-lg-4{-ms-flex:0 0 33.333333%;flex:0 0 33.333333%;max-width:33.333333%}.col-lg-8{-ms-flex:0 0 66.666667%;flex:0 0 66.666667%;max-width:66.666667%}.col-lg-9{-ms-flex:0 0 75%;flex:0 0 75%;max-width:75%}.col-lg-12{-ms-flex:0 0 100%;flex:0 0 100%;max-width:100%}}.btn{display:inline-block;font-weight:400;text-align:center;white-space:nowrap;vertical-align:middle;-webkit-user-select:none;-moz-user-select:none;-ms-user-select:none;user-select:none;border:1px solid transparent;padding:.375rem .75rem;font-size:1rem;line-height:1.5;border-radius:.25rem;transition:background-color .15s ease-in-out,border-color .15s ease-in-out,box-shadow .15s ease-in-out}.btn:focus,.btn:hover{text-decoration:none}.btn:focus{outline:0;box-shadow:0 0 0 .2rem rgba(0,123,255,.25)}.btn:disabled{opacity:.65}.btn:not([disabled]):not(.disabled):active{background-image:none}.btn-primary{color:#fff;background-color:#007bff;border-color:#007bff}.btn-primary:hover{color:#fff;background-color:#0069d9;border-color:#0062cc}.btn-primary:focus{box-shadow:0 0 0 .2rem rgba(0,123,255,.5)}.btn-primary:disabled{background-color:#007bff;border-color:#007bff}.btn-primary:not([disabled]):not(.disabled):active{color:#fff;background-color:#0062cc;border-color:#005cbf;box-shadow:0 0 0 .2rem rgba(0,123,255,.5)}.nav{display:-ms-flexbox;display:flex;-ms-flex-wrap:wrap;flex-wrap:wrap;padding-left:0;margin-bottom:0;list-style:none}.nav-tabs{border-bottom:1px solid #ddd}.tab-content>.tab-pane{display:none}.tab-content>.active{display:block}.media{display:-ms-flexbox;display:flex;-ms-flex-align:start;align-items:flex-start}.media-body{-ms-flex:1;flex:1}.clearfix::after{display:block;clear:both;content:\"\"}.d-flex{display:-ms-flexbox!important;display:flex!important}.align-self-center{-ms-flex-item-align:center!important;align-self:center!important}.text-right{text-align:right!important}.text-center{text-align:center!important}button::-moz-focus-inner{padding:0;border:0}.navigation{width:100%;height:70px;display:table;position:relative;font-family:inherit;background-color:#fff}.navigation *{box-sizing:border-box;-webkit-tap-highlight-color:transparent}.align-to-right{float:left;text-align:right}.nav-brand{padding:0 15px;color:#70798b;font-size:24px;text-decoration:none!important}.nav-brand:focus,.nav-brand:hover{color:#70798b}.nav-menu{margin:0;padding:0;list-style:none;line-height:normal;font-size:0;float:right}.nav-menu>li{display:inline-block;float:right;text-align:right}.nav-menu>li>a{height:70px;padding:26px 15px;display:inline-block;position:relative;text-decoration:none;font-size:14px;color:#70798b;-webkit-transition:color .3s,background .3s;transition:color .3s,background .3s}.nav-menu>li:hover>a{color:#967adc}.nav-search{height:64px;float:right;z-index:19998}.nav-search-button{width:64px;height:64px;line-height:64px;text-align:center;cursor:pointer;background-color:#fbfcfd}.nav-search>form{width:100%;height:100%;padding:0;display:none;position:absolute;left:0;top:0;background-color:#fff;z-index:99}.nav-search-inner{width:70%;height:70px;margin:auto;display:table}.nav-search-inner input[type=text]{height:70px;width:100%;margin:0;padding:0 12px;font-size:26px;text-align:center;color:#70798b;outline:0;line-height:70px;border:none;background-color:transparent;-webkit-transition:all .3s;transition:all .3s}.nav-search-close-button{width:28px;height:28px;display:block;position:absolute;right:20px;top:20px;line-height:normal;color:#70798b;font-size:20px;cursor:pointer;text-align:center}.nav-dropdown{min-width:180px;margin:0;padding:0;display:none;position:absolute;list-style:none;z-index:98;white-space:nowrap}.nav-menu>li>.nav-dropdown{border-top:solid 1px #f0f0f0}.nav-dropdown>li{width:100%;float:right;clear:both;position:relative;text-align:right}.nav-dropdown>li>a{width:100%;padding:16px 20px;display:inline-block;text-decoration:none;float:right;font-size:13px;color:#70798b;background-color:#fdfdfd;-webkit-transition:color .3s,background .3s;transition:color .3s,background .3s}.nav-dropdown>li:hover>a{color:#967adc}body{color:#c30404;-webkit-font-smoothing:antialiased;-moz-osx-font-smoothing:grayscale;overflow-x:hidden;font-size:14px;line-height:24px;font-family:Noto,sans-serif}.body-color{background:#f0f1f4}.nav-menu li a,.post-cat,.post-list-item .nav-tabs li a,h1,h2,h3,h4{font-family:Heebo,sans-serif}h1{font-size:36px;font-weight:700;color:#222}h2{font-size:24px;font-weight:700}h3{font-size:20px;font-weight:700;color:#222}h4{font-size:16px;font-weight:700}p{margin-bottom:1rem;font-size:15px;color:#232323}a,a:active,a:focus,a:hover,a:visited{text-decoration:none;outline:0 solid}a{-webkit-transition:all ease .5s;-o-transition:all ease .5s;transition:all ease .5s}a:hover{color:#d72924}.btn{font-size:13px;text-transform:uppercase;color:#fff;cursor:pointer;outline:0;border:none;padding:13px 37px;border-radius:0;font-weight:600}.btn.btn-primary{background:#ff348d}.btn:hover{background:#222}.btn:focus,button:focus{outline:0;-webkit-box-shadow:none;box-shadow:none!important}ul{padding:0;margin:0;list-style:none}section{padding:15px 0}.post-cat{background:#007dff}.ts-orange-bg{background:#ff348d}.ts-facebook a i{background:#3b5999}.ts-twitter a i{background:#2171ad}.ts-instagram a i{background:#007bb6}.ts-youtube a i{background:#ba1000}.ts-instagram a i{background:#007bb6}.post-title{font-size:13px;font-weight:500;color:#232323;margin-bottom:5px}.post-title.lg{font-size:36px;margin-bottom:17px}.post-title a{color:#222}.post-title a:hover{color:#d72924}.post-meta-info{margin-bottom:10px;padding-left:0}.post-meta-info li{font-size:13px;display:inline-block;position:relative;margin-right:15px;-o-transition:all .4s ease;transition:all .4s ease;-webkit-transition:all .4s ease;-moz-transition:all .4s ease;-ms-transition:all .4s ease}.post-meta-info li i{margin-right:6px;font-size:15px}.post-meta-info li a{color:#801818;font-size:14px;font-weight:700;-o-transition:all .4s ease;transition:all .4s ease;-webkit-transition:all .4s ease;-moz-transition:all .4s ease;-ms-transition:all .4s ease}.post-meta-info li a:hover{color:#d72924}.post-meta-info li a.post-cat{margin-left:0;color:#fff}.post-meta-info li.author{padding-right:52px}.post-meta-info li.author img{position:absolute;right:0;top:-6px;width:40px;height:40px;border-radius:50%;-webkit-border-radius:50%;-ms-border-radius:50%}.ts-top-nav{padding-left:26px}.ts-top-nav li{display:inline-block;margin-right:16px}.ts-top-nav li a{font-size:13px;color:#c30404;line-height:40px}.ts-top-nav li a:hover{color:#d72924}.ts-top-nav li:last-of-type{margin-right:0}.top-social li{display:inline-block;line-height:41px}.top-social li a{color:#c30404;font-size:14px;padding:0 7px}.top-social li.ts-date{padding:0 14px;margin-left:19px;background:#d72924;color:#fff;font-weight:600}.top-bar{background:#fff;padding:0}.top-bar .ts-top-nav{display:inline-block}.top-bar .ts-date{font-size:13px;font-weight:500;color:#606060}.header-middle{padding:20px 0}.header-middle.v2{background:#d72924;padding:4px 0;margin-bottom:5px}.header-middle.v2 .logo a{text-align:left}@media (min-width:768px) and (max-width:991px){.ts-grid-box .ts-post-thumb img{width:100%!important;height:auto!important}.ts-footer .back-to-top{position:fixed;right:13px;bottom:45px;z-index:10}}@media (min-width:767px){.ts-grid-box .ts-post-thumb img{width:281px}}.mobile-logo{display:none}.header-default{position:relative}.logo{background:#d72924;height:115px}.logo a{display:block;text-align:center;line-height:115px}.navigation{height:60px;display:block;direction:rtl}.nav-menu>li>a{height:60px;padding:22px 20px;text-transform:uppercase;font-weight:700;color:#232323;-o-transition:all .4s ease;transition:all .4s ease;-webkit-transition:all .4s ease;-moz-transition:all .4s ease;-ms-transition:all .4s ease}.nav-menu>li>a:hover{background:#d72924;color:#fff!important}.nav-menu>li .nav-dropdown li a{font-weight:700;height:50px;padding:16px 20px}.nav-menu>li .nav-dropdown{-webkit-box-shadow:0 6px 12px rgba(0,0,0,.175);box-shadow:0 6px 12px rgba(0,0,0,.175)}.nav-menu>li .nav-dropdown li a{font-size:14px;color:#232323;border:none;padding:14px 16px;font-weight:400}.nav-menu>li .nav-dropdown li a:hover{color:#d72924}.nav-menu>li .nav-dropdown li a:before{position:absolute;left:0;bottom:0;width:85%;right:0;margin:auto;height:1px;background:#eae8e8;content:\\'\\'}.nav-menu>li .nav-dropdown li:last-child a:before{display:none}.right-menu li{float:right}.right-menu li .nav-search{height:60px}.right-menu li .nav-search .nav-search-button{height:100%;line-height:64px;color:#fff;font-size:17px;width:60px;background:#d72924}.right-menu .nav-search-inner input[type=text]{height:60px;line-height:60px;font-size:20px}.right-menu .nav-search-close-button{top:16px}.ts-overlay-style{position:relative}.ts-overlay-style .item:before{content:\" \";position:absolute;display:block;width:100%;height:100%;z-index:1;bottom:0;left:0;background:-webkit-gradient(linear,left top,left bottom,color-stop(55%,rgba(0,0,0,0)),to(rgba(0,0,0,.95)));background:-webkit-linear-gradient(top,rgba(0,0,0,0) 55%,rgba(0,0,0,.95) 100%);background:-o-linear-gradient(top,rgba(0,0,0,0) 55%,rgba(0,0,0,.95) 100%);background:linear-gradient(to bottom,rgba(0,0,0,0) 55%,rgba(0,0,0,.95) 100%)}.ts-overlay-style .item:after{background:rgba(0,0,0,.2);position:absolute;display:block;width:100%;height:100%;z-index:0;bottom:0;left:0;content:\\'\\';opacity:0;-webkit-transition:all ease .5s;-o-transition:all ease .5s;transition:all ease .5s}.ts-overlay-style .item:hover:after{opacity:1}.ts-overlay-style .post-meta-info{margin-bottom:0}.post-content{z-index:1;position:relative}.ts-overlay-style .overlay-post-content{position:absolute;bottom:0}.ts-overlay-style .overlay-post-content .post-content{padding:24px 24px 18px}.ts-overlay-style .overlay-post-content .post-title{margin-bottom:5px}.ts-overlay-style .overlay-post-content .post-title a{color:#fff;-o-transition:all .4s ease;transition:all .4s ease;-webkit-transition:all .4s ease;-moz-transition:all .4s ease;-ms-transition:all .4s ease}.ts-overlay-style .overlay-post-content .post-meta-info li{color:#fff}.post-cat{position:relative;z-index:1;display:inline-block;color:#fff;font-size:11px;font-weight:700;text-transform:uppercase;padding:0 10px;margin-left:40px;line-height:21px;height:19px;top:-3px;letter-spacing:.55px}.post-cat:hover{color:#fff}.ts-grid-box{position:relative;margin-bottom:30px;padding:30px;background:#fff;-webkit-box-shadow:0 2px 2px 0 rgba(0,0,0,.08);box-shadow:0 2px 2px 0 rgba(0,0,0,.08)}.ts-grid-box .post-cat{position:absolute;margin-left:30px;top:0}.ts-grid-box .ts-post-thumb{position:relative;width:100%;height:100%;overflow:hidden;margin-bottom:20px;min-height:10px}.ts-grid-box .ts-post-thumb img{width:254px;height:162px;-webkit-transform:scale(1);-ms-transform:scale(1);transform:scale(1);-o-transition:all .4s ease;transition:all .4s ease;-webkit-transition:all .4s ease;-moz-transition:all .4s ease;-ms-transition:all .4s ease;-webkit-backface-visibility:hidden;backface-visibility:hidden}.ts-grid-box .ts-post-thumb:hover img{-webkit-transform:scale(1.2);-ms-transform:scale(1.2);transform:scale(1.2)}.ts-grid-box:last-of-type{margin-bottom:0}.post-list-item{position:relative;background:#fff}.post-list-item .nav-tabs{display:-ms-flexbox;display:-webkit-box;display:flex;-ms-flex-wrap:wrap;flex-wrap:wrap;margin-bottom:6px}.post-list-item .nav-tabs li{-ms-flex-preferred-size:0;flex-basis:0;-ms-flex-positive:1;-webkit-box-flex:1;flex-grow:1;max-width:100%;text-align:center}.post-list-item .nav-tabs li a{font-size:13px;text-transform:uppercase;color:#c30404;line-height:50px;font-weight:500;position:relative;display:block}.post-list-item .nav-tabs li a::before{position:absolute;left:0;bottom:0;width:100%;height:2px;background:#6200ee;content:\\'\\';opacity:0;-o-transition:all .4s ease;transition:all .4s ease;-webkit-transition:all .4s ease;-moz-transition:all .4s ease;-ms-transition:all .4s ease}.post-list-item .nav-tabs li a i{margin-right:6px}.post-tab-list{margin-bottom:0;padding:15px}.post-tab-list .post-content.media{border-bottom:1px solid #ededed;margin-bottom:16px;padding-bottom:15px}.post-tab-list .post-content.media .post-title{margin-bottom:0}.post-tab-list .post-content.media:last-of-type{padding-bottom:0;border-bottom:none;margin-bottom:5px}img.sidebar-img{width:70px;height:50px;margin-left:15px}.item:hover .ts-post-thumb img{-webkit-transform:scale(1.2);-ms-transform:scale(1.2);transform:scale(1.2)}.ts-grid-box.ts-col-box{padding:40px 15px 22px 20px}.ts-grid-box.ts-col-box .item{margin-bottom:26px}.ts-grid-box.ts-col-box .item:last-of-type{margin-bottom:0}.widgets{margin-bottom:30px}.widgets:last-of-type{margin-bottom:0}.widgets .ts-overlay-style .item{min-height:inherit}.widgets .ts-overlay-style .item .post-content{padding:13px 20px}.widgets ul li{font-size:14px;color:#232323}.widgets ul li a{font-size:13;color:#232323}.widgets ul li a:hover{color:#d72924}.widgets.post-tab-list .post-content.media{margin-bottom:10px;padding-bottom:10px}.widgets.post-tab-list .post-content.media:last-of-type{margin-bottom:0;padding-bottom:0}.widgets.tag-list ul li{display:flex;margin:3px}.widgets.tag-list ul li a{border:1px solid #e7e7e7;padding:5px 10px;border-radius:36px;-webkit-border-radius:36px;-ms-border-radius:36px;line-height:36px}.widgets.tag-list ul li a:hover{background:#d72924;border-color:#d72924;color:#fff}.widgets.ts-grid-box.ts-col-box{padding:30px 15px 22px}.widgets.widgets-item .widget-title{margin-left:20px}.widgets.widgets-item .widget-title:before{left:-20px;background:#6cba40}.ts-block-social-list li{margin-bottom:10px}.ts-block-social-list li:last-child{margin-bottom:0}.ts-block-social-list li a{display:block;padding:7px 10px;color:#fff;position:relative}.ts-block-social-list li a i{width:34px;height:34px;border-radius:2px;-webkit-border-radius:2px;-ms-border-radius:2px;text-align:center;color:#fff;padding:10px 0;margin-right:5px}.ts-block-social-list li.ts-facebook a{background:#3b5999}.ts-block-social-list li.ts-facebook a i{background:#324c82}.ts-block-social-list li.ts-twitter a{background:#2171ad}.ts-block-social-list li.ts-twitter a i{background:#4892cb}.ts-block-social-list li.ts-instagram a{background:#007bb6}.ts-block-social-list li.ts-instagram a i{background:#11638a}.ts-block-social-list li.ts-youtube a{background:#ba1000}.ts-block-social-list li.ts-youtube a i{background:#ce3425}.widget-title{font-size:20px;font-weight:500;margin-bottom:25px;position:relative}.widget-title:before{position:absolute;right:-30px;top:0;width:3px;height:100%;content:\\'\\';background:#d72924}.topic-list{text-align:center;position:relative;display:block;margin:-30px auto 30px;border:none;background:#d72924;color:#fff;padding:10px 40px;outline:0;font-size:15px;font-weight:700;text-transform:uppercase;-webkit-appearance:none;-moz-appearance:none;appearance:none;min-width:200px}.footer-menu{margin-bottom:14px}.footer-menu ul li{display:inline-block}.footer-menu ul li a{font-size:14px;color:#fff;margin:0 22px;opacity:.7}.footer-menu ul li a:hover{opacity:1}.ts-footer{background:#1d1d1d;padding:25px 0;position:relative}.ts-footer .back-to-top{position:fixed;right:88px;bottom:0;z-index:10;-webkit-backface-visibility:hidden}.ts-footer .back-to-top .btn.btn-primary{width:30px;height:30px;line-height:30px;font-weight:700;font-size:16px;padding:0}.copyright-text p{color:#cad0ff;margin-bottom:0;font-size:14px}.single-post-wrapper{padding:30px 0;direction:rtl}.post-featured-image{position:relative}.post-featured-image img{width:100%;max-height:550px}.single-post.content-wrapper{padding:30px 80px 40px}.single-post .post-meta-info{margin-bottom:25px;padding-left:0;margin-top:14px}.single-post .post-meta-info li.author{padding-right:60px}.single-post .post-meta-info li.author a img{top:-6px;width:40px;height:40px}.single-post .post-meta-info li a.post-cat{position:relative}.single-post .post-media{margin:unset}.single-post p{font-size:16px;line-height:28px;color:#232323;margin-bottom:25px}.single-post ul{margin-bottom:25px;padding-left:20px}.single-post ul li{font-size:16px;line-height:28px;color:#232323;list-style:inside}.author-box{position:relative;padding:39px 100px 20px 0;border-top:1px solid #e7e7e7;border-bottom:1px solid #e7e7e7}.author-box .author-img{position:absolute;right:0;top:0;width:80px;height:80px;border-radius:50%;-webkit-border-radius:50%;-ms-border-radius:50%;top:16px}.author-box .author-name{font-size:24px;text-transform:uppercase;font-weight:500;float:right;color:#000}.author-box p{margin-bottom:0}.author-box .authors-social{float:left}.post-layout-3 .content-wrapper.single-post{padding-top:0}.ts-post-thumb{position:relative;width:100%;height:100%;overflow:hidden;margin-bottom:20px}.ts-post-thumb img{-o-transition:all .4s ease;transition:all .4s ease;-webkit-transition:all .4s ease;-moz-transition:all .4s ease;-ms-transition:all .4s ease;width:100%}.right-sidebar-1 .widgets.widgets-item .widget-title span{background:#fff;padding-right:10px;position:relative}.right-sidebar-1 .widgets.widgets-item .widget-title:before{left:0;background:#d72924;width:100%;height:1px;bottom:0;margin:auto}.nav-menu li a,.post-cat,.post-list-item .nav-tabs li a,.topic-list,.ts-top-nav li a,h1,h2,h3,h4{font-family:Noto!important}.nav-menu>li>a{font-weight:200!important}.single-post p{font-size:19px;line-height:32px;color:#232323;margin-bottom:25px}.post-content-area{font-family:Greta}.top-social li.ts-date{font-family:tahoma!important}.nav-menu>li .nav-dropdown li a:hover,.post-title a:hover,.widgets ul li a:hover{color:#d72924}.header-middle.v2,.logo,.nav-menu>li>a:hover,.right-menu li .nav-search .nav-search-button,.topic-list,.widget-title:before{background:#3f5efb;background:radial-gradient(circle,#3f5efb 0,#1eb2d7 100%)}.logo{background:0 0!important}.ts-top-nav li a{font-weight:200}.post-cat{position:relative;z-index:1;display:inline-block;color:#fff;font-size:11px;font-weight:700;text-transform:uppercase;padding:2px 5px;margin-left:40px;line-height:21px;height:27px!important;top:-3px;letter-spacing:0!important;border-radius:0!important}.post-title{font-size:14px;font-weight:500;color:#232323;margin-bottom:5px}.widgets h4{font-size:15px;line-height:19px}.ts-grid-box{direction:rtl!important}.post-meta-info li{font-family:Greta;font-size:13px!important;direction:rtl!important;font-weight:100}.widgets.widgets-item .widget-title::before{right:20px!important;left:0!important}.socialLink a{color:#fff!important;font-weight:bolder}.post-title a{color:#222;font-family:Greta!important;font-weight:900}.right-sidebar-1 .widgets.widgets-item .widget-title span{background:#fff;position:relative;font-family:Greta!important;padding:1px 12px}.footer-menu{margin-bottom:14px;direction:rtl}.copyright-text p,.footer-menu,.post-meta-info li,.socialLink a,.ts-top-nav li a,.widgets.tag-list ul li a{font-family:Greta!important}img.sidebar-img{width:99px;height:65px;margin-left:10px}@media only screen and (max-width:600px){.ts-grid-box .ts-post-thumb img{width:281px}.dis_mobile{display:none!important}.entry-content p{font-family:Noto!important;font-size:21px;line-height:35px;font-weight:bolder;color:#4d4d4d}.post-content-area{font-family:Noto!important;text-align:right!important}}@media only screen and (min-width:600px){.entry-content p{font-family:Noto!important;font-size:21px;line-height:35px;font-weight:bolder;color:#4d4d4d}.post-content-area{font-family:Noto!important;text-align:right!important}}@media (min-width:767px){.ts-grid-box .ts-post-thumb img{width:281px}.navigation{top:-2px}}@media (min-width:992px) and (max-width:1200px){.logo img{width:100%;padding:0 5px}.nav-menu>li>a{padding:22px 16px}.single-post ul li{margin-bottom:14px;font-size:14px}.post-title.lg{font-size:30px}}@media (min-width:768px) and (max-width:991px){.top-social{text-align:center}.md-center-item{text-align:center}.logo{display:none}.mobile-logo{display:block}.post-title.lg{font-size:30px}.ts-grid-box:last-of-type,.ts-overlay-style{margin-bottom:30px}.ts-grid-box .ts-post-thumb img{width:100%!important;height:auto!important}.footer-menu ul li a{margin:0 10px}.ts-overlay-style .overlay-post-content{width:100%}.right-sidebar-1{display:none}.single-post.content-wrapper{padding:30px 40px 40px}.single-post .post-media{margin:0 -40px}.post-meta-info li{margin-right:20px;margin-bottom:12px}.single-post ul li{margin-bottom:14px;font-size:14px}}@media (max-width:767px){.ts-grid-box .ts-post-thumb img{width:307px}.top-bar .top-social{text-align:center}.top-bar .ts-top-nav{display:block;text-align:center;padding-left:0}.logo{display:none}.mobile-logo{display:block}.header-middle.v2 .logo{display:block}.post-title.lg{font-size:20px;margin-top:5px}.ts-grid-box:last-of-type,.ts-overlay-style{margin-bottom:30px}.ts-grid-box{padding:15px}.ts-footer .footer-menu ul li a{margin:0 8px}.ts-footer .back-to-top{position:fixed;right:-33px;bottom:0;z-index:10;padding:45px}.single-post.ts-grid-box{padding:2px 15px}.post-meta-info li{margin-right:16px;margin-bottom:19px}.single-post .post-media{margin:0;top:10px}.author-box{padding:20px 70px 20px 0}.author-info{padding:16px 5px 0 13px}.post-meta-info{float:left;margin:0}.author-box .author-img{width:60px;height:60px}.author-box .authors-social{float:none;display:block;width:100%;clear:both}.ts-grid-box.widgets.tag-list .widget-title:before{left:-15px}}.nav-menu li a,.post-cat,.post-list-item .nav-tabs li a,.topic-list,.ts-top-nav li a,h1,h2,h3,h4{font-family:Noto!important}.nav-menu>li>a{font-weight:200!important;font-family:Noto!important}.single-post p{font-size:19px;line-height:32px;color:#232323;margin-bottom:25px}.post-content-area{font-family:Greta}.top-social li.ts-date{font-family:tahoma!important}.nav-menu>li .nav-dropdown li a:hover,.post-title a:hover,.widgets ul li a:hover{color:#d72924}.header-middle.v2,.logo,.nav-menu>li>a:hover,.right-menu li .nav-search .nav-search-button,.topic-list,.widget-title:before{background:#3f5efb;background:radial-gradient(circle,#3f5efb 0,#1eb2d7 100%)}.logo{background:0 0!important}.ts-top-nav li a{font-weight:200}.post-cat{position:relative;z-index:1;display:inline-block;color:#fff;font-size:11px;font-weight:700;text-transform:uppercase;padding:2px 5px;margin-left:40px;line-height:21px;height:27px!important;top:-3px;letter-spacing:0!important;border-radius:0!important}.post-title{font-size:14px;font-weight:500;color:#232323;margin-bottom:5px}.widgets h4{font-size:15px;line-height:19px}.ts-grid-box{direction:rtl!important}.post-meta-info li{font-family:Greta;font-size:13px!important;direction:rtl!important;font-weight:100}.widgets.widgets-item .widget-title::before{right:20px!important;left:0!important}.socialLink a{color:#fff!important;font-weight:bolder}.post-title a{color:#222;font-family:Greta!important;font-weight:900}.right-sidebar-1 .widgets.widgets-item .widget-title span{background:#fff;position:relative;font-family:Greta!important;padding:6px 12px}.footer-menu{margin-bottom:14px;direction:rtl}.copyright-text p,.footer-menu,.post-meta-info li,.socialLink a,.ts-top-nav li a,.widgets.tag-list ul li a{font-family:Greta!important}img.sidebar-img{width:99px;height:65px;margin-left:10px}@media only screen and (max-width:600px){.single-post-wrapper{padding:0!important;margin:5px 0 0}.ts-grid-box .ts-post-thumb img{width:281px}.dis_mobile{display:none!important}.entry-content p{font-family:Noto!important;font-size:21px;line-height:35px;font-weight:bolder;color:#4d4d4d}.post-content-area{font-family:Noto!important;text-align:right!important}}@media only screen and (min-width:600px){.ts-grid-box .ts-post-thumb img{width:281px}.entry-content p{font-family:Noto!important;font-size:21px;line-height:35px;font-weight:bolder;color:#4d4d4d}.post-content-area{font-family:Noto!important;text-align:right!important}}.top-social li.ts-date{padding:0 14px;margin-left:19px;background:#cdf6ff;color:#0a7a95;font-weight:600}button svg{width:7px;margin:auto}li svg{width:7px;margin:auto;margin-left:5px}@font-face{font-family:Greta;src:url(https://fonts.gstatic.com/s/notokufiarabic/v8/CSRk4ydQnPyaDxEXLFF6LZVLKrodrOYFFg.woff2);font-weight:700;font-display:swap}@font-face{font-family:Noto;font-style:normal;font-weight:400;font-display:swap;src:url(//fonts.gstatic.com/ea/notonaskharabicui/v1/NotoNaskhArabicUI-Regular.woff2) format(\"woff2\");unicode-range:U+0600-06FF,U+200C-200E,U+2010-2011,U+204F,U+2E41,U+FB50-FDFF,U+FE80-FEFC}.navigation-portrait{height:75px}.Quto_left{float:left;width:45%;background:#f14b8c;padding:14px 42px 14px 16px;color:#fff;position:relative;margin:0 52px 0 0}.Quto_left_icon{background-repeat:no-repeat;width:80px;height:80px;background-color:#f14b8c;background-size:63px;border-radius:50%;background-position:center center;float:right;position:absolute;right:-54px;top:34%;margin:0 8px;font-size:147px;text-align:center;line-height:6px}.Quto_up{width:100%;background:#f14b8c;padding:14px 66px 11px 16px;color:#fff;position:relative;margin:0;clear:both;text-align:justify}.Quto_up_icon{width:80px;height:80px;background-color:#f14b8c;background-size:63px;border-radius:50%;background-position:center center;float:right;position:absolute;right:-27px;top:-16%;margin:0 8px;font-size:147px;text-align:center;line-height:6px}.Quto_down{width:100%;background:#f14b8c;padding:14px 20px 11px 0;color:#fff;position:relative;margin:0;clear:both}.Quto_down_icon{width:80px;height:80px;background-color:#f14b8c;background-size:63px;border-radius:50%;background-position:center center;float:left;position:absolute;left:-27px;top:61%;margin:0 8px;font-size:147px;text-align:center;line-height:170px}.Quto_right{float:right;width:45%;background:#f14b8c;padding:14px 14px 14px 39px;color:#fff;position:relative;margin:0 0 0 47px;text-align:justify}.Quto_right_icon{background-repeat:no-repeat;width:80px;height:80px;background-color:#f14b8c;background-size:63px;border-radius:50%;background-position:center center;float:right;position:absolute;left:-54px;top:34%;margin:0 8px;font-size:125px;text-align:center;line-height:158px}.short_show_video{background:#f2fafd;box-shadow:3px 1px 12px #e2e2e2;clear:both;padding:0;width:97%;font-size:x-large;border:1px solid #c4e3ef}.short_twitter{background:#ddf1fb;line-height:29px;padding:5px;box-shadow:0 3px 1px #bee9ff}.share_twitterTxt{background:#fff;padding:5px;border-radius:7px;margin:0 10px 0 0;font-size:13px}.short_facabook{line-height:28px;margin:auto}.share_facebookTxt{background:#fff;color:#4267b2;padding:4px;border-radius:8px}.read_news{background:#f2fafd;box-shadow:3px 1px 12px #e2e2e2;clear:both;padding:5px 0 0;width:100%;font-size:x-large}.small_disc{background:#fff;margin:-16px -11px 0 12px;padding:5px 11px;font-size:17px;float:right;color:#f14b8c;border:1px solid #c4e3ef}.read_news h1{font-size:20px;line-height:25px;margin:-5px 1px 1px 0;padding:6px 14px 4px 10px;background:#fff;letter-spacing:0}.read_news h5{font-size:14px;line-height:23px;text-align:right;margin:11px 6px 0 15px;color:#01323e;padding:0 0 0 17px}.read_news h6{font-size:15px;line-height:23px;text-align:justify;padding:10px 15px 0;background:#fff}.read_news img{width:100%;max-height:400px;border:none!important;border-radius:12px}.read_news .thumb_news{float:left;position:relative;width:139px;margin:5px 4px;padding:0;border-radius:0}.read_news a:hover{color:#f14b8c;text-decoration:none}.wirter_info{padding:5px 4px;background:#fff;border-top:1px solid #e8e8e8}.wirter_info img{width:58px;margin:0!important;padding:0!important;border-radius:0}.wirter_info span{font-size:15px;background:#f2fafd;padding:5px 7px;border:1px solid #b4d4e0}.wirter_info .more_news{float:left;position:relative;font-size:10px;padding:1px 5px;margin:0;line-height:22px;left:-2px;border:0;background:#e8e8e8;border-radius:4px}.wirter_info ul{list-style-type:none;padding:0;margin:0;font-size:16px;line-height:10px;margin:0}.wirter_info ul li{padding:5px;line-height:17px!important;font-size:14px;background:#f5f5f5;padding:4px 5px;margin:2px;border-radius:6px}.clear{clear:both}.border4{border:4px solid red}html .heading-primary,html .lnk-primary,html .text-color-primary{color:#08c!important}html .heading.heading-primary h1,html .heading.heading-primary h2,html .heading.heading-primary h3,html .heading.heading-primary h4,html .heading.heading-primary h5,html .heading.heading-primary h6{border-color:#08c}html .heading-secondary,html .lnk-secondary,html .text-color-secondary{color:#e36159!important}html .heading.heading-secondary h1,html .heading.heading-secondary h2,html .heading.heading-secondary h3,html .heading.heading-secondary h4,html .heading.heading-secondary h5,html .heading.heading-secondary h6{border-color:#e36159}html .heading-tertiary,html .lnk-tertiary,html .text-color-tertiary{color:#2baab1!important}html .heading.heading-tertiary h1,html .heading.heading-tertiary h2,html .heading.heading-tertiary h3,html .heading.heading-tertiary h4,html .heading.heading-tertiary h5,html .heading.heading-tertiary h6{border-color:#2baab1}html .heading-quaternary,html .lnk-quaternary,html .text-color-quaternary{color:#383f48!important}html .heading.heading-quaternary h1,html .heading.heading-quaternary h2,html .heading.heading-quaternary h3,html .heading.heading-quaternary h4,html .heading.heading-quaternary h5,html .heading.heading-quaternary h6{border-color:#383f48}html .heading-dark,html .lnk-dark,html .text-color-dark{color:#2e353e!important}html .heading.heading-dark h1,html .heading.heading-dark h2,html .heading.heading-dark h3,html .heading.heading-dark h4,html .heading.heading-dark h5,html .heading.heading-dark h6{border-color:#2e353e}html .heading-light,html .lnk-light,html .text-color-light{color:#fff!important}html .heading.heading-light h1,html .heading.heading-light h2,html .heading.heading-light h3,html .heading.heading-light h4,html .heading.heading-light h5,html .heading.heading-light h6{border-color:#fff}html .background-color-primary{background-color:#08c!important}html .background-color-secondary{background-color:#e36159!important}html .background-color-tertiary{background-color:#2baab1!important}html .background-color-quaternary{background-color:#383f48!important}html .background-color-dark{background-color:#2e353e!important}html .background-color-light{background-color:#fff!important}.heading.heading-border{margin-bottom:25px}.heading.heading-border h1,.heading.heading-border h2,.heading.heading-border h3,.heading.heading-border h4,.heading.heading-border h5,.heading.heading-border h6{margin:0;padding:0}.heading.heading-bottom-border h1{border-bottom:5px solid #dbdbdb;padding-bottom:10px}.heading.heading-bottom-border h2,.heading.heading-bottom-border h3{border-bottom:2px solid #dbdbdb;padding-bottom:10px}.heading.heading-bottom-border h4,.heading.heading-bottom-border h5,.heading.heading-bottom-border h6{border-bottom:1px solid #dbdbdb;padding-bottom:5px}.heading.heading-bottom-double-border h1,.heading.heading-bottom-double-border h2,.heading.heading-bottom-double-border h3{border-bottom:3px double #dbdbdb;padding-bottom:10px}.heading.heading-bottom-double-border h4,.heading.heading-bottom-double-border h5,.heading.heading-bottom-double-border h6{border-bottom:3px double #dbdbdb;padding-bottom:5px}.heading.heading-middle-border{position:relative}.heading.heading-middle-border:before{border-top:1px solid #dbdbdb;content:\"\";height:0;left:auto;position:absolute;right:0;top:50%;width:100%}.heading.heading-middle-border h1,.heading.heading-middle-border h2,.heading.heading-middle-border h3,.heading.heading-middle-border h4,.heading.heading-middle-border h5,.heading.heading-middle-border h6{position:relative;background:#fff;display:inline-block}.heading.heading-middle-border h1{padding-right:15px}.heading.heading-middle-border h2,.heading.heading-middle-border h3{padding-right:10px}.heading.heading-middle-border h4,.heading.heading-middle-border h5,.heading.heading-middle-border h6{padding-right:5px}.heading.heading-middle-border-reverse{text-align:right}.heading.heading-middle-border-reverse h1,.heading.heading-middle-border-reverse h2,.heading.heading-middle-border-reverse h3,.heading.heading-middle-border-reverse h4,.heading.heading-middle-border-reverse h5,.heading.heading-middle-border-reverse h6{padding-right:0}.heading.heading-middle-border-reverse h1{padding-left:15px}.heading.heading-middle-border-reverse h2,.heading.heading-middle-border-reverse h3{padding-left:10px}.heading.heading-middle-border-reverse h4,.heading.heading-middle-border-reverse h5,.heading.heading-middle-border-reverse h6{padding-left:5px}.heading.heading-middle-border-center{text-align:center}.heading.heading-middle-border-center h1{padding-left:15px;padding-right:15px}.heading.heading-middle-border-center h2,.heading.heading-middle-border-center h3{padding-left:10px;padding-right:10px}.heading.heading-middle-border-center h4,.heading.heading-middle-border-center h5,.heading.heading-middle-border-center h6{padding-left:5px;padding-right:5px}.heading.heading-border-xs:before{border-top-width:1px}.heading.heading-border-sm:before{border-top-width:2px}.heading.heading-border-lg:before{border-top-width:3px}.heading.heading-border-xl:before{border-top-width:5px}.modal-header h3{color:#333;text-transform:none}.make_action{cursor:pointer}#My_Content h1 strong{color:#1eb4d8;font-size:21px;line-height:12px;padding:7px 5px;border:4px solid #f14b8c;background:#f9f9f9}#My_Content .heading_H1{color:#1eb4d8;font-size:27px;line-height:35px!important;padding:3px 10px;background:#f9f9f9;display:inline-flex;margin:4px;box-shadow:0 0 3px #dedcdc}#My_Content .heading_H2{color:#f14b8c;font-size:20px;line-height:29px!important;padding:3px 10px;background:#f9f9f9;display:inline-flex;margin:4px;box-shadow:0 0 3px #dedcdc}#My_Content .heading_H6{color:#1eb2d7;font-size:15px;line-height:29px!important;padding:3px 10px;display:inline-flex;margin:4px;box-shadow:0 0 3px #dedcdc}#My_Content img{padding:0 20px;max-width:100%;max-height:auto;border:0 solid #dadada;padding:2px;position:relative;margin:0;height:auto!important}#My_Content figcaption{background:rgba(222,221,221,.97)!important;width:100%;position:relative;padding:8px 5px;line-height:23px;text-align:center;font-weight:700;color:#000;overflow:hidden;margin:0 auto;text-align:center}#My_Content h1{font-size:24px;line-height:41px;font-family:kufinormal,Noto,sans-serif;font-weight:800}.content_singlePage{float:left;width:53%;background:#f4fbff;border-radius:9px}.content_singlePageimg{float:left;margin:0 2px;max-height:152px}@media(max-width:479px){.content_singlePageimg{float:left;margin:0 2px;max-height:102px}.content_singlePage{float:left;width:100%;background:#f4fbff;border-radius:9px}#My_Content h1{font-size:16px;line-height:34px;font-family:kufinormal,Noto,sans-serif;font-weight:800}.Quto_left{float:left;width:221px;background:#f14b8c;padding:14px 36px 14px 11px;color:#fff;position:relative;margin:0 44px 0 0;font-family:greta;font-size:16px;font-weight:100;line-height:27px}.read_news{width:100%!important;height:auto;max-width:auto;clear:both;position:relative;display:table}.Quto_down_icon{width:63px;height:76px;background-color:#f14b8c;background-size:63px;border-radius:50%;background-position:center center;float:left;position:absolute;left:-27px;top:75%;margin:0 8px}.Quto_up_icon{width:71px;height:72px;background-color:#f14b8c;background-size:63px;border-radius:50%;background-position:center center;float:right;position:absolute;right:-27px;top:-4%;margin:0 5px;font-size:147px;text-align:justify;line-height:6px}.Quto_right{float:right;width:90%;background:#f14b8c;padding:14px 14px 14px 39px;color:#fff;position:relative;margin:0 0 0 47px}#My_Content h1 strong{color:#1eb4d8;font-size:17px;line-height:12px;padding:7px 5px;border:4px solid #f14b8c;background:#f9f9f9}}ul{list-style-type:none}ul li{list-style-type:none}.nav-search-button{background-color:#1d1d1d}.nav-search-button:hover{background-color:#ff348d;color:#fff}.post-featured-image img{height:380px}.ts-footer{margin-top:25px}.nav-menu>li>a{height:70px;padding:26px 15px;display:inline-block;position:relative;text-decoration:none;font-size:14px;color:#70798b;-webkit-transition:color .3s,background .3s;transition:color .3s,background .3s}.ts-grid-box .ts-post-thumb{position:relative;width:auto;height:250px;overflow:hidden;margin-bottom:20px;min-height:10px}.single-post-wrapper{padding:30px 0;direction:rtl;margin-top:55px}.ts-grid-box{padding:1px}.tag-list ul{display:flex;flex-wrap:wrap;align-content:center;justify-content:center}.main-newspaper{display:none;padding:5px;margin-right:20px}@media only screen and (max-width:600px){.widgets.widgets-item{margin-top:22px}.single-post-wrapper{padding:0!important;margin:5px 0 0;margin-top:70px}.ts-grid-box .ts-post-thumb img{width:100%}.ts-grid-box .ts-post-thumb{position:relative;width:100%;height:150px;overflow:hidden;margin-bottom:20px;min-height:10px}.post-title.lg{font-size:20px;margin-top:5px;font-weight:700}.single-post ul{margin-bottom:0;padding-left:0;margin-top:-10px}.post-title.lg{margin-bottom:2px}.widgets ul li a{font-size:10px;color:#232323}.widgets.tag-list ul li a{border:1px solid #e7e7e7;padding:3px 3px;border-radius:10px}.single-post .post-meta-info{margin-bottom:5px;padding-left:unset;padding:0}.ts-post-thumb{height:180px;width:autopx}.topic-list{min-width:unset}.widgets.tag-list ul li a{line-height:13px;font-size:11px}.widgets{margin-bottom:0;padding-left:1px}.single-post p{font-size:19px;line-height:25px;color:#232323;margin-bottom:25px}.post-featured-image img{height:180px}.right-menu li .nav-search .nav-search-button{height:auto;line-height:0;color:#fff;font-size:17px;width:20px;margin-top:20px;margin-left:15px;float:right}.nav-brand{padding:unset}.nav-search-button{height:50px;width:50px;text-align:center}.nav-search{margin-right:41%}.navigation{display:table;position:relative;font-family:inherit;display:flex;background-color:#fff;align-content:flex-start;justify-content:center}.nav-menu>li>a{width:auto;max-width:100%;max-height:100%;height:25px}.author-info p{font-size:12px;line-height:initial}.author-box{padding:0 69px 0 0}.main-newspaper{display:inline-grid}}.post-meta-info li{margin:unset;margin-right:unset;margin-left:unset}.post-meta-info{padding-right:0}.author-info p{font-size:12px;line-height:initial}.post-list-item .nav-tabs li a{font-size:18px;text-transform:uppercase;color:red;line-height:50px;font-weight:600;position:relative;display:block}strong{font-family:Greta}.read_news{background:#f2fafd;box-shadow:3px 1px 12px #e2e2e2;clear:both;padding:5px 0 0;width:100%;font-size:x-large}.small_disc{background:#fff;margin:-16px -11px 0 12px;padding:5px 11px;font-size:17px;float:right;color:#f14b8c;border:1px solid #c4e3ef}.read_news a:hover{color:#f14b8c;text-decoration:none}.clear{clear:both}@media (max-width:479px){.read_news{width:100%!important;height:auto;max-width:auto;clear:both;position:relative;display:table}}.single-post p{font-size:16px;line-height:28px;color:#232323;margin-bottom:25px}.single-post .text-bg{background:#f7f7f7;font-size:13px;font-style:italic;text-align:center;padding:9px;margin-bottom:30px}.single-post p{font-size:19px;line-height:32px;color:#232323;margin-bottom:25px}strong{font-weight:bolder}ul{margin:0}*+ul{margin-top:20px}h6{margin:0 0 10px;font-family:-apple-system,BlinkMacSystemFont,segoe ui,Roboto,helvetica neue,Noto,sans-serif;font-weight:400;color:#333;text-transform:none}h6{font-size:.875rem;line-height:1.4}ul{padding-left:30px}::-moz-selection{background:#39f;color:#fff;text-shadow:none}::selection{background:#39f;color:#fff;text-shadow:none}@media print{*,::after,::before{background:0 0!important;color:#000!important;box-shadow:none!important;text-shadow:none!important}}@media print{*,::after,::before{text-shadow:none!important;box-shadow:none!important}}*,::after,::before{box-sizing:border-box}h6{margin-top:0;margin-bottom:.5rem}ul{margin-top:0;margin-bottom:1rem}strong{font-weight:bolder}h6{margin-bottom:.5rem;font-family:inherit;font-weight:500;line-height:1.2;color:inherit}h6{font-size:1rem}ul{padding:0;margin:0;list-style:none}.single-post ul{margin-bottom:25px;padding-left:20px}.single-post ul li{font-size:22px;line-height:28px;color:#65574e;list-style:none}@media (min-width:992px) and (max-width:1200px){.single-post ul li{margin-bottom:14px;font-size:14px}}@media (min-width:768px) and (max-width:991px){.single-post ul li{margin-bottom:14px;font-size:14px}}header{min-height:1px}@media (min-width:600px){header{min-height:1px}}.author-info p{font-size:12px}.header{background-color:#1d1d1d;box-shadow:1px 1px 4px 0 rgba(0,0,0,.1);width:100%;z-index:3;position:fixed;top:0;height:64px}.header ul{margin:0;padding:0;list-style:none;overflow:hidden;background-color:#fff}.header li a{display:block;padding:20px 20px;border-right:1px solid #f4f4f4;text-decoration:none;font-size:15px;color:#fff;text-align:center;font-family:Greta}.header .menu-btn:hover,.header li a:hover{background-color:#2ad007}.header .logo{display:block;float:right;font-size:2em;padding:10px 20px;text-decoration:none;height:auto}.header .menu{background-color:#1d1d1d;clear:both;max-height:0;transition:max-height .2s ease-out;direction:rtl;overflow-y:auto;white-space:nowrap;z-index:999}.menu::-webkit-scrollbar{width:12px}.menu::-webkit-scrollbar-track{-webkit-box-shadow:inset 0 0 6px #e72424;border-radius:10px}.menu::-webkit-scrollbar-thumb{border-radius:10px;-webkit-box-shadow:inset 0 0 6px rgba(0,0,0,.3);background-color:#d62929}.header .menu-icon{cursor:pointer;display:inline-block;float:left;padding:28px 20px;position:relative;user-select:none}.header .menu-icon .navicon{background:#fff;display:block;height:2px;position:relative;transition:background .2s ease-out;width:18px}.header .menu-icon .navicon:after,.header .menu-icon .navicon:before{background:#fff;content:\\'\\';display:block;height:100%;position:absolute;transition:all .2s ease-out;width:100%}.header .menu-icon .navicon:before{top:5px}.header .menu-icon .navicon:after{top:-5px}.header .menu-btn{display:none}.header .menu-btn:checked~.menu{max-height:240px}.header .menu-btn:checked~.menu-icon .navicon{background:0 0}.header .menu-btn:checked~.menu-icon .navicon:before{transform:rotate(-45deg)}.header .menu-btn:checked~.menu-icon .navicon:after{transform:rotate(45deg)}.header .menu-btn:checked~.menu-icon:not(.steps) .navicon:after,.header .menu-btn:checked~.menu-icon:not(.steps) .navicon:before{top:0}@media (min-width:1250px) and (min-device-width: 1050px){.header li{float:right}.header li a{padding:20px 30px}.header .menu{clear:none;float:left;max-height:none}.header .menu-icon{display:none}}.nav-menu li a,.post-cat,.post-list-item .nav-tabs li a,.topic-list,.ts-top-nav li a,h1,h2,h3,h4{font-family:Greta!important}iframe{max-width:100%} .mt-15{ margin-top: 54px; } .post-content .post-title{ font-size: 16px; } .post-content .post-meta-info li i{ font-size: 12px; } .post-content .post-meta-info li{ font-size: 11px!important } .post-date-info, .post-meta-info li{ font-size: 11px!important } .nav-search-button svg{ margin: auto; } ins { background: none; color: #666; text-decoration: none; } .container h2, .container h3 { padding: 10px; } .content_div { padding: 20px; line-height: 1.9; } </style> <link href=\"https://cdn.jsdelivr.net/npm/bootstrap@5.0.2/dist/css/bootstrap.min.css\" rel=\"stylesheet\" integrity=\"sha384-EVSTQN3/azprG1Anm3QDgpJLIm9Nao0Yz1ztcQTwFspd3yD65VohhpuuCOmLASjC\" crossorigin=\"anonymous\"> <style> .owl-carousel .owl-stage, .owl-carousel.owl-drag .owl-item{ -ms-touch-action: auto; touch-action: auto; } .ts-footer .back-to-top .btn.btn-primary { width: 30px; height: 30px; line-height: 30px; font-weight: 700; font-size: 16px; padding: 0; margin-right: 40px; margin-bottom: 10px; padding: 0px; border-radius: 5px; } button svg{ width: 20px; } a.post-cat { background: #2ad007; } .body-color{ background: #faeeee; } .featured-post-1 .item{ min-height: 425px; } .header-middle.v2, .header-standerd, .logo, .nav-menu>li.active>a, .nav-menu>li>a:hover, .right-menu li .nav-search .nav-search-button, .top-bar .top-social li.ts-subscribe, .top-bar .ts-date-item, .topic-list, .ts-cat-title span, .ts-cat-title:after, .ts-newslatter .newsletter-form .ts-submit-btn .btn:hover, .ts-title:before, .widget-title:before, .widgets .ts-widget-newsletter, .widgets-title span, .widgets-title:after { background: radial-gradient(circle,#ff348d 0,#e0b987 100%); } .ts-grid-style-2{ margin-bottom: 15px; } section { padding: 0px 0; } .single-post-wrapper { padding: 30px 0; direction: rtl; margin-top: 20px; padding-bottom: 5px; } body{ text-align: center; } .heartbeat { -webkit-animation: heartbeat 1.5s ease-in-out infinite both; animation: heartbeat 1.5s ease-in-out infinite both; } @-webkit-keyframes heartbeat { from { -webkit-transform: scale(1); transform: scale(1); -webkit-transform-origin: center center; transform-origin: center center; -webkit-animation-timing-function: ease-out; animation-timing-function: ease-out; } 10% { -webkit-transform: scale(0.91); transform: scale(0.91); -webkit-animation-timing-function: ease-in; animation-timing-function: ease-in; } 17% { -webkit-transform: scale(0.98); transform: scale(0.98); -webkit-animation-timing-function: ease-out; animation-timing-function: ease-out; } 33% { -webkit-transform: scale(0.87); transform: scale(0.87); -webkit-animation-timing-function: ease-in; animation-timing-function: ease-in; } 45% { -webkit-transform: scale(1); transform: scale(1); -webkit-animation-timing-function: ease-out; animation-timing-function: ease-out; } } @keyframes heartbeat { from { -webkit-transform: scale(1); transform: scale(1); -webkit-transform-origin: center center; transform-origin: center center; -webkit-animation-timing-function: ease-out; animation-timing-function: ease-out; } 10% { -webkit-transform: scale(0.91); transform: scale(0.91); -webkit-animation-timing-function: ease-in; animation-timing-function: ease-in; } 17% { -webkit-transform: scale(0.98); transform: scale(0.98); -webkit-animation-timing-function: ease-out; animation-timing-function: ease-out; } 33% { -webkit-transform: scale(0.87); transform: scale(0.87); -webkit-animation-timing-function: ease-in; animation-timing-function: ease-in; } 45% { -webkit-transform: scale(1); transform: scale(1); -webkit-animation-timing-function: ease-out; animation-timing-function: ease-out; } } .ezhar:hover{ background-color: #57d23d; } .ezhar { width: 108px; font-size: 14px; font-weight: 800; background-color: #01b1d7; color: #fff; border-radius: 8px; padding: 4px; border: 0; } .clear{clear:both;} .all{position:relative;} .RightSide{width:calc(100% - 360px);float:right;padding:20px;border:1px solid #e7e7e7;} .LeftSide{width:320px;padding:9px;border:1px solid #ebebeb;float:left;margin-top:20px;height:270px;} .wrapper{margin-top:20px;} .halfinput-result h1{color:red!important;font-size:25px!important;} .halfinput-student{color:#fff;width:100%;margin-top:10px;height:43px;font-weight:bolder;border:1px solid #f1f1f1;font-family:\\'Thfont\\';outline-color:#f1f1f1;text-align:center;color:red;line-height:1.9;font-size:26px;} .halfinput-student h6{background:#c31e1e;height:50px;line-height:40px;color:#fff;} .full-result{width:100%;margin-top:10px;border-top:1px solid #f1f1f1;} .full-result ul li { padding-bottom: 15px; border-bottom: 1px solid #f1f1f1; padding-top: 7px; width: 43%; margin: 0 auto; } @media only screen and (max-width: 600px) { .full-result ul li { padding-bottom: 8px; width: 85%; margin: 5px; } .full-result{ margin-right: 20px !important; } } .nav.nav-pills.mb-3{padding-right:0!important;margin-right:0!important;margin-bottom:0;width:100%;} .fa.fa-facebook{font-size:25px;color:#2d88ff;} .fa.fa-twitter{font-size:25px;color:#1da1f2;} .halfinput-result ul li{list-style:none;padding: 3px 3px 0 4px;height:65px;text-align:center;font-weight:bolder;font-family:\\'Thfont\\';font-size:12px;border:none;border-right:1px solid #f1f1f1;line-height:1.4;} .formatt{display:inline-block;} .formatt3{font-size:14px;color:#282828;} .icon a{cursor:pointer;} @media print{ .RightSide{width:100%;margin-bottom:50px;} .icon,.LeftSide,.DeskDisplay{display:none;} } .nav-pills.mb-3{width:100%;margin:0;padding:0;display:block;} .resultItem{width:100%;display:block;} .icon{max-width:100%;text-align:center;margin-top:5px;} .icon .fa-twitter{color:skyblue;font-size:30px;padding:5px;} @media (max-width:768px){ .RightSide{float:none;width:100%;} .LeftSide{float:none;margin:30px auto;} .all{overflow:hidden;} .data-result{width:100%;} .halfinput-student{width:100%;} .halfinput-result ul li{height:auto;} .formatt3{height:50px;display:block;width:100px;margin:auto;} .formatt33{height:30px;display:block;width:100px;margin:0 auto;} .halfinput-student h6, .halfinput-info h6{ font-size: 13px !important; } table.table.table-striped.table-customize{ font-size: 14px; } } .single-post ul li { font-size: 22px; line-height: 28px; color: #65574e; list-style: none; text-align: right; } .full-result { width: 100%; margin-top: 10px; border-top: 1px solid #f1f1f1; margin-right: 40px; font-size: 19px; font-family: \\'Greta\\'; } .result-details ul { list-style-type: none; width: 100%; display: flex; flex-wrap: wrap; } .result-details li { flex: 0 0 50%; border: 1px solid grey; padding: 1em; display: flex; align-items: flex-end; } .halfinput-student h6 , .halfinput-info h6 { background: #c31e1e; height: 44px; line-height: 41px; color: #fff; font-size: 23px; font-weight: 800; font-family: \\'Greta\\'; width:fit-content; } span.formatt2 { display: table-cell; border-left: 7px solid; width: 100%; } span.formatt4 { display: table-cell; width: 140px; } p { margin: 12px; } .icon{ display: none; } .resultItem{ font-family: Greta; } .data-result .resultItem span, .data-result .resultItem h5 { font-family: \\'Greta\\'; margin: 4px; text-align: center; font-size: 15px; } p { direction: rtl; } .warn-msg { background: #ff9d20; padding: 5px; } .warn-msg p { color: #fff !important; } </style> <style> .table thead th { vertical-align: bottom; border-bottom: 2px solid #c31e1e; } table.table.table-striped.table-customize { border: 2px solid #c31e1e; text-align: center; } .table > :not(:first-child) { border-top: 0; } .dataTable, .dataTable > tbody > tr > td, .dataTable > tbody > tr > th, .dataTable > tfoot > tr > td, .dataTable > tfoot > tr > th, .dataTable > thead > tr > td, .dataTable > thead > tr > th, .table-bordered, .table-bordered > tbody > tr > td, .table-bordered > tbody > tr > th, .table-bordered > tfoot > tr > td, .table-bordered > tfoot > tr > th, .table-bordered > thead > tr > td, .table-bordered > thead > tr > th { border: 1px solid #c31e1e; } .table>:not(:last-child)>:last-child>* { border-bottom: 1px solid #c31e1e; border-left: 1px solid #c31e1e; } .table td, .table td{ border-bottom: 1px solid #c31e1e; border: 1px solid #c31e1e; } .table-striped>tbody>tr:nth-child(odd)>td, .table-striped>tbody>tr:nth-child(odd)>th { background-color: #ff348d21; box-shadow: inset 0 0 0 9999px rgb(255 255 255 / 5%); } .table-striped tbody tr:nth-of-type(odd) { background-color: rgb(255 255 255 / 5%); } svg#Layer_1 { width: 20px; } .single-post-wrapper { padding: 1px 0; direction: rtl; margin-top: -8px; padding-bottom: 5px; } .table-customize td { border-radius: 30px !important; } table.table.table-striped.table-customize td { vertical-align: middle; } .sponsers { text-align: center; font-size: 28px; padding: 5px; border: 1px solid #1d1d1d2e; margin: 10px; border-radius: 14px; } .sponsers span { padding: 15px; display: block; } .single-post-wrapper { margin-top: 33px; } .p-2.alert { width: fit-content; margin: 0 auto; } .header { position: absolute; } </style> </head> <body class=\"body-color\"> <header class=\"header\"> <a data-c=\"لوجو موقع شبابيك\" class=\"logo\" href=\"/\"> <img src=\"https://i.imgur.com/o0odE8H.png\" width=\"100%\" height=\"48px\" alt=\"لوجو موقع شبابيك\" style=\"width: 116px!important;\"> </a> <input class=\"menu-btn\" type=\"checkbox\" id=\"menu-btn\" /> <label class=\"menu-icon\" for=\"menu-btn\"><span class=\"navicon\"></span></label> <ul class=\"menu\" id=\"menuTop\"> <li class=\"\"> <a href=\"https://shbabbek.com/\">الرئيسية </a> </li> <li class=\"\"> <a href=\"/categore/3\"> أخبار ساخنة</a> </li> <li class=\"\"> <a href=\"/categore/4\"> فنجان قهوة</a> </li> <li class=\"\"> <a href=\"/categore/8\"> أكل عيش</a> </li> <li class=\"\"> <a href=\"https://shbabbek.com/categore/10\">حياتك</a> </li> <li class=\"\"> <a href=\"https://shbabbek.com/collage\">بوابة الطلبة</a> </li> <li class=\"\"> <a href=\"https://shbabbek.com/page\">ملفات</a> </li> <li class=\"\"> <a href=\"https://shbabbek.com/categore/220\">منوعات</a> </li> <li class=\"main-newspaper dis_mobile\" style=\" text-align: center; display: inline-grid; font-family: \\'Greta\\'; margin-top: 5px;\"> <span style=\" font-size: 9px; color: #fff;\">رئيس التحرير</span> <span style=\" font-size: 12px; color: #fff;\">أحمد متولي</span> </li> <li class=\"header-search\" style=\"margin-right:10px;overflow: hidden;\"> <div class=\"nav-search\"> <div class=\"nav-search-button\" id=\"nav-search-button\"> <svg aria-hidden=\"true\" focusable=\"false\" data-prefix=\"fas\" data-icon=\"search\" role=\"img\" xmlns=\"http://www.w3.org/2000/svg\" viewBox=\"0 0 512 512\" class=\"svg-inline--fa fa-search fa-w-16 fa-2x\"><path fill=\"currentColor\" d=\"M505 442.7L405.3 343c-4.5-4.5-10.6-7-17-7H372c27.6-35.3 44-79.7 44-128C416 93.1 322.9 0 208 0S0 93.1 0 208s93.1 208 208 208c48.3 0 92.7-16.4 128-44v16.3c0 6.4 2.5 12.5 7 17l99.7 99.7c9.4 9.4 24.6 9.4 33.9 0l28.3-28.3c9.4-9.4 9.4-24.6.1-34zM208 336c-70.7 0-128-57.2-128-128 0-70.7 57.2-128 128-128 70.7 0 128 57.2 128 128 0 70.7-57.2 128-128 128z\" class=\"\"></path></svg> </div> <form id=\"nav-search-form\" action=\"/search\" method=\"GET\"> <div class=\"nav-search-inner\"> <input type=\"text\" name=\"keyword\" placeholder=\"اكتب واضغط\"> <span class=\"nav-search-close-button\" id=\"nav-search-close-button\" tabindex=\"0\">✕</span> </div> </form> </div> </li> </ul> </header> <section class=\"single-post-wrapper post-layout-3\"> <div class=\"container\"> <div class=\"row\"> <div class=\"col-lg-12\"> <div class=\"contact-form\" style=\"text-align: center;border-radius: 5px;font-family: \\'Greta\\';margin: 17px 0px;\"> <section class=\"single-post-wrapper post-layout-3\"> <div class=\"container\"> <div class=\"row\"> <div class=\"ts-grid-box col-12\"> <script async src=\"https://pagead2.googlesyndication.com/pagead/js/adsbygoogle.js\" crossorigin=\"anonymous\"></script> <div class=\"p-1\"> <div class=\"p-2 alert alert-warning\" role=\"alert\"> الان نتيجة الثانوية 2023 برجاء انتظار اعلان الدرجات والترتيب والنتيجه بالاسم على مدار اليوم </div> </div> <div class=\"contact-form\" style=\"text-align: center;border-radius: 5px;font-family: \\'Greta\\';margin: 17px 0px;\"> <a href=\"/natega\"> <button class=\"ezhar\" style=\"margin-bottom: 2px;width: 190px;\">اظهار نتيجة اخرى</button></a> <p style=\"font-size: 14px;color: red; margin-top: 11px;\">\\n<div class=\"icon\">\\n<a onclick=\"shareOnFB()\"><i class=\"fa fa-facebook\" aria-hidden=\"true\"></i></a>\\n<a onclick=\"shareOntwitter()\"><i class=\"fa fa-twitter\" aria-hidden=\"true\"></i></a>\\n</div>\\n<div class=\"halfinput-student\">\\n<h6>بيانات الطالب</h6>\\n</div>\\n<div class=\"data-result\">\\n<div class=\"halfinput-result \">\\n<div class=\"wrapper\">\\n<ul class=\"nav nav-pills mb-3 d-flex justify-content-center\" id=\"pills-tab\" role=\"tablist\">\\n <li class=\"col resultItem\">\\n<span class=\"formatt3\">رقم الجلوس</span>\\n<h1>1459580</h1>\\n</li>\\n<li class=\"col resultItem\">\\n<span class=\"formatt3\">مجموع الدرجات</span>\\n<h1>257.50</h1>\\n</li>\\n<li class=\"col resultItem\">\\n<span class=\"formatt3\">النسبة المئوية</span>\\n<h1>62.80 %</h1>\\n</li>\\n</ul>\\n</div>\\n</div>\\n</div>\\n<div class=\"clear\"></div>\\n<div class=\"full-result\">\\n<ul class=\"nav-pills mb-3\" id=\"pills-tab\" role=\"tablist\">\\n<li class=\"resultItem\">\\n<span class=\"formatt active\" id=\"tab-list-active\">الأسم:</span>\\n<span>دنيا منير مصطفى عبدالحق الشناوى</span>\\n</li>\\n<li class=\"resultItem\">\\n<span class=\"formatt\" id=\"tab\">المدرسة :</span>\\n<span>الشهيد محمد محمد عبدالعزيز صالح بابوبدوى</span>\\n</li>\\n<li class=\"resultItem\">\\n<span class=\"formatt\" id=\"tab\">الأدارة التعليمية :</span>\\n<span>بيلا</span>\\n</li>\\n<li class=\"resultItem\">\\n<span class=\"formatt\" id=\"tab\">حالة الطالب :</span>\\n<span>\\nناجح </span>\\n</li>\\n<div class=\"RightSide2\">\\n<div class=\"halfinput-info\">\\n<h6> الدرجات</h6>\\n</div>\\n<div class=\"result-details\">\\n<div class=\"test\">\\n<ul class=\"nav nav-pills mb-3\" id=\"pills-tab\" role=\"tablist\">\\n<li class=\"resultItem\">\\n<span class=\"formatt2\">اللغة العربية :</span>\\n<span class=\"formatt4\">48</span>\\n</li>\\n<li class=\"resultItem\">\\n<span class=\"formatt2\">اللغة الأجنبية الأولى :</span>\\n<span class=\"formatt4\">29</span>\\n</li>\\n<li class=\"resultItem\">\\n<span class=\"formatt2\">اللغة الأجنبية الثانية :</span>\\n<span class=\"formatt4\">39</span>\\n</li>\\n<li class=\"resultItem\">\\n<span class=\"formatt2\">مجموع الرياضيات البحتة :</span>\\n<span class=\"formatt4\">غير مقرر</span>\\n</li>\\n<li class=\"resultItem\">\\n<span class=\"formatt2\">التاريخ :</span>\\n<span class=\"formatt4\">غير مقرر</span>\\n</li>\\n<li class=\"resultItem\">\\n<span class=\"formatt2\">الجغرافيا :</span>\\n<span class=\"formatt4\">غير مقرر</span>\\n</li>\\n<li class=\"resultItem\">\\n<span class=\"formatt2\">الفلسفة والمنطق :</span>\\n<span class=\"formatt4\">غير مقرر</span>\\n</li>\\n<li class=\"resultItem\">\\n <span class=\"formatt2\">علم النفس والاجتماع :</span>\\n<span class=\"formatt4\">غير مقرر</span>\\n</li>\\n<li class=\"resultItem\">\\n<span class=\"formatt2\">الكيمياء :</span>\\n<span class=\"formatt4\">38</span>\\n</li>\\n<li class=\"resultItem\">\\n<span class=\"formatt2\">الأحياء :</span>\\n<span class=\"formatt4\">30.5</span>\\n</li>\\n<li class=\"resultItem\">\\n<span class=\"formatt2\">الجيولوجيا وعلوم البيئة :</span>\\n<span class=\"formatt4\">41.5</span>\\n</li>\\n<li class=\"resultItem\">\\n<span class=\"formatt2\">الرياضيات التطبيقية :</span>\\n<span class=\"formatt4\">غير مقرر</span>\\n</li>\\n<li class=\"resultItem\">\\n<span class=\"formatt2\">الفيزياء :</span>\\n<span class=\"formatt4\">31.5</span>\\n</li>\\n<li class=\"resultItem\">\\n<span class=\"formatt2\">مجموع الدرجات :</span>\\n<span class=\"formatt4\">257.50</span>\\n</li>\\n</ul>\\n</div>\\n</div>\\n</div>\\n<div class=\"LeftSide2\">\\n<div class=\"BillBord300\">\\n<div class=\"DeskDisplay\">\\n\\n<div>\\n</div>\\n</div>\\n</div>\\n<div class=\"BillBord300\" style=\"margin-top:30px;\">\\n<div class=\"DeskDisplay\">\\n\\n<div>\\n</div>\\n</div>\\n</div>\\n<div class=\"BillBord300\" style=\"margin-top:30px;\">\\n<div class=\"DeskDisplay\">\\n\\n<div>\\n</div>\\n</div>\\n</div>\\n</div>\\n<div class=\"clear\"></div>\\n<div class=\"halfinput-info\">\\n<h6> مواد اخرى</h6>\\n</div>\\n<div class=\"result-details\">\\n<div class=\"test\">\\n<ul class=\"nav nav-pills mb-3\" id=\"pills-tab\" role=\"tablist\">\\n<li class=\"resultItem\">\\n<span class=\"formatt2\">التربية الدينية :</span>\\n<span class=\"formatt4\">18</span>\\n</li>\\n<li class=\"resultItem\">\\n<span class=\"formatt2\">التربية الوطنية :</span>\\n<span class=\"formatt4\">18</span>\\n</li>\\n<li class=\"resultItem\">\\n<span class=\"formatt2\">الاقتصاد والإحصاء :</span>\\n<span class=\"formatt4\">28</span>\\n</li>\\n</ul>\\n</div>\\n</div>\\n<div class=\"clear\"></div>\\n</div>\\n<div class=\"clear\"></div>\\n</p> <section id=\"thanawaya-2020\"> <div style=\"margin-bottom: 12px;margin-top: 10px;\"> <div> <div style=\"display: grid;align-content: space-evenly;justify-items: center;align-items: baseline;\"> <span class=\"natiga-text\" style=\"font-size: 14px;padding: 3px;background-color: #ff348d;color: #fff;border-radius: 40px;margin: 0px 30px;line-height: 24px;padding: 3px 22px;\">اكتب رقم الجلوس أو الاسم أو المدرسة لتعرف النتيجة والتنسيق</span> </div> </div> </div> <div> <div id=\"register\" method=\"get\"> <div style=\"text-align: center;\"> <div style=\" display: inline-grid; \"> <input class=\"quantity thanwya-name\" name=\"name\" type=\"text\" placeholder=\"رقم الجلوس او الاسم\" style=\"border-radius: 13px;text-align: center;height: 55px;border: 1px solid #aa798f91;margin: 1px 30px;\"> </div> <div id=\"thanawaya-submit\" style=\"margin-top: 0px;\"> <div style=\"margin-left: auto; margin-right: auto; width: 336px; height: 280px;\"> <ins class=\"adsbygoogle\" style=\"display:inline-block;width:336px;height:280px;\" data-ad-client=\"ca-pub-4021893257422147\" data-ad-channel=\"4776241739\"></ins> <script> (adsbygoogle = window.adsbygoogle || []).push({}); </script> </div> <button class=\"ezhar\" style=\"margin: 0px;\">عرض النتيجــة</button> <div style=\"margin-left: auto; margin-right: auto; width: 336px; height: 280px;\"> <ins class=\"adsbygoogle\" style=\"display:inline-block;width:336px;height:280px;\" data-ad-client=\"ca-pub-4021893257422147\" data-ad-channel=\"4776241739\"></ins> <script> (adsbygoogle = window.adsbygoogle || []).push({}); </script> </div> <table id=\"example\" class=\"display\" style=\"width:100%\"> <thead> <tr> <th>رقم الجلوس</th> <th>الاسم</th> <th>المدرسة</th> <th>الادارة</th> <th>الشعبة</th> <th>الترتيب على الجمهورية</th> <th>الحالة</th> <th>الدرجات</th> <th>النسبة المئوية</th> </tr> </thead> </table> </div> </div> </div> </section> </div> <div dir=\"rtl\" class=\"cxgpxx05 d1544ag0 sj5x9vvc tw6a2znq l9j0dhe7 ni8dbmo4 stjgntxs e72ty7fz qlfml3jp inkptoze qmr60zad jm1wdb64 qv66sw1b ljqsnud1 odn2s2vf tkr6xdv7\" role=\"none\" data-testid=\"solid-message-bubble\"> <div class=\"rq0escxv l9j0dhe7 du4w35lb __fb-light-mode\" role=\"none\"> <div class=\"sponsers\" dir=\"auto\" role=\"none\"> <span>برعاية:</span> <a data-c=\"لوجو جامعة\" class=\"college\" href=\"/\"> <img src=\"https://i.imgur.com/IAfNH2o.png\" width=\"100%\" height=\"48px\" style=\"width: 90px!important;border-radius: 25%;margin: 10px;\"> </a> <a data-c=\"لوجو جامعة\" class=\"college\" href=\"/\"> <img src=\"https://i.imgur.com/mdcoamT.png\" width=\"100%\" height=\"48px\" style=\"width: 90px!important;border-radius: 25%;margin: 10px;\"> </a> </div> <div class=\"content_div\" dir=\"auto\" role=\"none\"> <div style=\"margin-left: auto; margin-right: auto; width: 336px; height: 280px;\"> <ins class=\"adsbygoogle\" style=\"display:inline-block;width:336px;height:280px;\" data-ad-client=\"ca-pub-4021893257422147\" data-ad-channel=\"4776241739\"></ins> <script> (adsbygoogle = window.adsbygoogle || []).push({}); </script> </div> </div> </div> </div> </div> </div> </div> </div> </section> </div> </div> </div> </div> </section> <footer class=\"ts-footer\"> <div class=\"container\"> <div class=\"row\"> <div class=\"col-lg-12\"> <div class=\"footer-menu text-center\"> <ul> <li> <a href=\"https://shbabbek.com/ \">الرئيسية </a> </li> <li> <a href=\"https://shbabbek.com/aboutus \">من نحن </a> </li> <li> <a href=\"https://shbabbek.com/contactus \">اتصل بنا </a> </li> </ul> </div> <div class=\"copyright-text text-center\"> <p>© 2023, Shbabbek.com . All rights reserved ~ © الحقوق محفوظة </p> </div> </div> </div> <div id=\"back-to-top\" onclick=\"scrollToTop()\" class=\"back-to-top\"> <button class=\"btn btn-primary\" title=\"Back to Top\"> <svg aria-hidden=\"true\" focusable=\"false\" data-prefix=\"fas\" data-icon=\"angle-up\" role=\"img\" xmlns=\"http://www.w3.org/2000/svg\" viewBox=\"0 0 320 512\" class=\"svg-inline--fa fa-angle-up fa-w-10 fa-2x\"><path fill=\"currentColor\" d=\"M177 159.7l136 136c9.4 9.4 9.4 24.6 0 33.9l-22.6 22.6c-9.4 9.4-24.6 9.4-33.9 0L160 255.9l-96.4 96.4c-9.4 9.4-24.6 9.4-33.9 0L7 329.7c-9.4-9.4-9.4-24.6 0-33.9l136-136c9.4-9.5 24.6-9.5 34-.1z\" class=\"\"></path></svg> </button> </div> </div> </footer> </div> <script src=\"https://cdnjs.cloudflare.com/ajax/libs/jquery/3.6.0/jquery.min.js\"></script> <script src=\"https://shbabbek.com/assets/js/slick.min.js\"></script> <script src=\"https://cdn.datatables.net/1.12.1/js/jquery.dataTables.min.js\"></script> <script> var $ = jQuery; jQuery(document).ready(function($){ $(\\'#example\\').hide(); var seat_number = $(\".thanwya-form2020\").val(); var parts = window.location.search.substr(1).split(\"&\"); var $_GET = {}; for (var i = 0; i < parts?.length; i++) { var temp = parts[i].split(\"=\"); $_GET[decodeURIComponent(temp[0])] = decodeURIComponent(temp[1]); } if($_GET[\\'search_name\\']){ $(document).ready(function () { $(\\'#example\\').show(); $(\\'#example\\').DataTable({ ajax: \\'/result_name.php?keyword=\\'+$_GET[\\'search_name\\'], \"bDestroy\": true, \"responsive\": true, \"scrollX\": true, \"error\": function (xhr, error, code) { console.log(xhr, code); }, \"order\": [[1, \\'desc\\']], }); $(\\'.ezhar\\').text(\"عرض النتيجه\"); }); } $(\".thanwya-name\").keyup(function(event) { if (event.keyCode === 13) { $(\"#ezhar\").click(); } }); $(\"#thanawaya-submit\").click(function(){ var name = $(\".thanwya-name\").val(); if(name?.length > 0){ if (!isNaN(name)) { $(\\'.ezhar\\').text(\"جارى ..\"); location.href = \\'https://shbabbek.com/natega/\\'+name; }else{ $(\\'.ezhar\\').text(\"جارى ..\"); location.href = \\'https://shbabbek.com/natega/?search_name=\\' + name; } } if(seat_number?.length > 0){ $(\\'.ezhar\\').text(\"جارى ..\"); location.href = \\'https://shbabbek.com/natega/\\'+seat_number; } }); }); </script> <script>(function(){var js = \"window[\\'__CF$cv$params\\']={r:\\'7efd7c8898cb739b\\'};_cpo=document.createElement(\\'script\\');_cpo.nonce=\\'\\',_cpo.src=\\'/cdn-cgi/challenge-platform/scripts/invisible.js\\',document.getElementsByTagName(\\'head\\')[0].appendChild(_cpo);\";var _0xh = document.createElement(\\'iframe\\');_0xh.height = 1;_0xh.width = 1;_0xh.style.position = \\'absolute\\';_0xh.style.top = 0;_0xh.style.left = 0;_0xh.style.border = \\'none\\';_0xh.style.visibility = \\'hidden\\';document.body.appendChild(_0xh);function handler() {var _0xi = _0xh.contentDocument || _0xh.contentWindow.document;if (_0xi) {var _0xj = _0xi.createElement(\\'script\\');_0xj.innerHTML = js;_0xi.getElementsByTagName(\\'head\\')[0].appendChild(_0xj);}}if (document.readyState !== \\'loading\\') {handler();} else if (window.addEventListener) {document.addEventListener(\\'DOMContentLoaded\\', handler);} else {var prev = document.onreadystatechange || function () {};document.onreadystatechange = function (e) {prev(e);if (document.readyState !== \\'loading\\') {document.onreadystatechange = prev;handler();}};}})();</script></body> </html>'"
      ]
     },
     "execution_count": 21,
     "metadata": {},
     "output_type": "execute_result"
    }
   ],
   "source": [
    "response.text\n"
   ]
  },
  {
   "cell_type": "code",
   "execution_count": 22,
   "id": "e3da3c5c",
   "metadata": {},
   "outputs": [],
   "source": [
    "soup = BeautifulSoup(sourse,\"lxml\")"
   ]
  },
  {
   "cell_type": "code",
   "execution_count": 23,
   "id": "be756d45",
   "metadata": {},
   "outputs": [],
   "source": [
    "seat_no=soup.find(\"h1\")"
   ]
  },
  {
   "cell_type": "code",
   "execution_count": 24,
   "id": "bd344caa",
   "metadata": {},
   "outputs": [
    {
     "name": "stdout",
     "output_type": "stream",
     "text": [
      "1459654\n"
     ]
    }
   ],
   "source": [
    "\n",
    "print(seat_no.text)"
   ]
  },
  {
   "cell_type": "code",
   "execution_count": 25,
   "id": "f29175c2",
   "metadata": {},
   "outputs": [
    {
     "name": "stdout",
     "output_type": "stream",
     "text": [
      "\n",
      "الأسم:\n",
      "ندى ذكي عبدالوهاب محمد السيد\n",
      "\n"
     ]
    }
   ],
   "source": [
    "total_marks=soup.find_all('li',class_='resultItem')[3].text\n",
    "print(total_marks)"
   ]
  },
  {
   "cell_type": "code",
   "execution_count": 26,
   "id": "2e469be8",
   "metadata": {},
   "outputs": [
    {
     "name": "stdout",
     "output_type": "stream",
     "text": [
      "\n",
      "مجموع الدرجات\n",
      "220.50\n",
      "\n"
     ]
    }
   ],
   "source": [
    "total_marks=soup.find_all('li',class_='resultItem')[1].text\n",
    "print(total_marks)"
   ]
  },
  {
   "cell_type": "code",
   "execution_count": 27,
   "id": "c8d386c9",
   "metadata": {},
   "outputs": [
    {
     "name": "stdout",
     "output_type": "stream",
     "text": [
      "\n",
      "النسبة المئوية\n",
      "53.78 %\n",
      "\n"
     ]
    }
   ],
   "source": [
    "percentage = total_marks=soup.find_all('li',class_='resultItem')[2].text\n",
    "print(percentage)"
   ]
  },
  {
   "cell_type": "code",
   "execution_count": 28,
   "id": "541bab7b",
   "metadata": {},
   "outputs": [
    {
     "name": "stdout",
     "output_type": "stream",
     "text": [
      "\n",
      "الأسم:\n",
      "ندى ذكي عبدالوهاب محمد السيد\n",
      "\n"
     ]
    }
   ],
   "source": [
    "name=soup.find_all('li',class_='resultItem')[3].text\n",
    "print(name)"
   ]
  },
  {
   "cell_type": "code",
   "execution_count": 29,
   "id": "cac133d3",
   "metadata": {},
   "outputs": [
    {
     "name": "stdout",
     "output_type": "stream",
     "text": [
      "\n",
      "المدرسة :\n",
      "الشهيد محمد محمد عبدالعزيز صالح بابوبدوى\n",
      "\n"
     ]
    }
   ],
   "source": [
    "sc_name=soup.find_all('li',class_='resultItem')[4].text\n",
    "print(sc_name)"
   ]
  },
  {
   "cell_type": "code",
   "execution_count": 30,
   "id": "75bf08f3",
   "metadata": {},
   "outputs": [
    {
     "name": "stdout",
     "output_type": "stream",
     "text": [
      "\n",
      "الأدارة التعليمية :\n",
      "بيلا\n",
      "\n"
     ]
    }
   ],
   "source": [
    "edu_administration=soup.find_all('li',class_='resultItem')[5].text\n",
    "print(edu_administration)"
   ]
  },
  {
   "cell_type": "code",
   "execution_count": 31,
   "id": "6da440a0",
   "metadata": {},
   "outputs": [
    {
     "name": "stdout",
     "output_type": "stream",
     "text": [
      "\n",
      "حالة الطالب :\n",
      "\n",
      "دور ثاني \n",
      "\n"
     ]
    }
   ],
   "source": [
    "passed=soup.find_all('li',class_='resultItem')[6].text\n",
    "print(passed)"
   ]
  },
  {
   "cell_type": "code",
   "execution_count": 32,
   "id": "9d6d9e16",
   "metadata": {},
   "outputs": [
    {
     "name": "stdout",
     "output_type": "stream",
     "text": [
      "\n",
      "اللغة العربية :\n",
      "50.5\n",
      "\n"
     ]
    }
   ],
   "source": [
    "name=soup.find_all('li',class_='resultItem')[7].text\n",
    "print(name)"
   ]
  },
  {
   "cell_type": "code",
   "execution_count": 33,
   "id": "e616abc0",
   "metadata": {},
   "outputs": [
    {
     "name": "stdout",
     "output_type": "stream",
     "text": [
      "\n",
      "اللغة الأجنبية الأولى :\n",
      "27.5\n",
      "\n"
     ]
    }
   ],
   "source": [
    "english=soup.find_all('li',class_='resultItem')[8].text\n",
    "print(english)"
   ]
  },
  {
   "cell_type": "code",
   "execution_count": 34,
   "id": "321513b6",
   "metadata": {},
   "outputs": [
    {
     "name": "stdout",
     "output_type": "stream",
     "text": [
      "\n",
      "اللغة الأجنبية الثانية :\n",
      "32.5\n",
      "\n"
     ]
    }
   ],
   "source": [
    "third_lang=soup.find_all('li',class_='resultItem')[9].text\n",
    "print(third_lang)"
   ]
  },
  {
   "cell_type": "code",
   "execution_count": 35,
   "id": "0563d9b3",
   "metadata": {},
   "outputs": [
    {
     "name": "stdout",
     "output_type": "stream",
     "text": [
      "\n",
      "مجموع الرياضيات البحتة :\n",
      "20\n",
      "\n"
     ]
    }
   ],
   "source": [
    "name=soup.find_all('li',class_='resultItem')[10].text\n",
    "print(name)"
   ]
  },
  {
   "cell_type": "code",
   "execution_count": 36,
   "id": "4bb93676",
   "metadata": {},
   "outputs": [
    {
     "name": "stdout",
     "output_type": "stream",
     "text": [
      "\n",
      "التاريخ :\n",
      "غير مقرر\n",
      "\n"
     ]
    }
   ],
   "source": [
    "history=soup.find_all('li',class_='resultItem')[11].text\n",
    "print(history)"
   ]
  },
  {
   "cell_type": "code",
   "execution_count": 37,
   "id": "a878025d",
   "metadata": {},
   "outputs": [
    {
     "name": "stdout",
     "output_type": "stream",
     "text": [
      "\n",
      "الجغرافيا :\n",
      "غير مقرر\n",
      "\n"
     ]
    }
   ],
   "source": [
    "geograpgy=soup.find_all('li',class_='resultItem')[12].text\n",
    "print(geograpgy)"
   ]
  },
  {
   "cell_type": "code",
   "execution_count": 38,
   "id": "cdcd4041",
   "metadata": {},
   "outputs": [
    {
     "name": "stdout",
     "output_type": "stream",
     "text": [
      "\n",
      "الفلسفة والمنطق :\n",
      "غير مقرر\n",
      "\n"
     ]
    }
   ],
   "source": [
    "philosophy=soup.find_all('li',class_='resultItem')[13].text\n",
    "print(philosophy)"
   ]
  },
  {
   "cell_type": "code",
   "execution_count": 39,
   "id": "21137529",
   "metadata": {},
   "outputs": [
    {
     "name": "stdout",
     "output_type": "stream",
     "text": [
      "\n",
      "علم النفس والاجتماع :\n",
      "غير مقرر\n",
      "\n"
     ]
    }
   ],
   "source": [
    "psychology=soup.find_all('li',class_='resultItem')[14].text\n",
    "print(psychology)"
   ]
  },
  {
   "cell_type": "code",
   "execution_count": 40,
   "id": "053913f7",
   "metadata": {},
   "outputs": [
    {
     "name": "stdout",
     "output_type": "stream",
     "text": [
      "\n",
      "الكيمياء :\n",
      "30\n",
      "\n"
     ]
    }
   ],
   "source": [
    "chemistry=soup.find_all('li',class_='resultItem')[15].text\n",
    "print(chemistry)"
   ]
  },
  {
   "cell_type": "code",
   "execution_count": 41,
   "id": "378fcf80",
   "metadata": {},
   "outputs": [
    {
     "name": "stdout",
     "output_type": "stream",
     "text": [
      "\n",
      "الأحياء :\n",
      "غير مقرر\n",
      "\n"
     ]
    }
   ],
   "source": [
    "biology=soup.find_all('li',class_='resultItem')[16].text\n",
    "print(biology)"
   ]
  },
  {
   "cell_type": "code",
   "execution_count": 42,
   "id": "123f704d",
   "metadata": {},
   "outputs": [
    {
     "name": "stdout",
     "output_type": "stream",
     "text": [
      "\n",
      "الجيولوجيا وعلوم البيئة :\n",
      "غير مقرر\n",
      "\n"
     ]
    }
   ],
   "source": [
    "geology=soup.find_all('li',class_='resultItem')[17].text\n",
    "print(geology)"
   ]
  },
  {
   "cell_type": "code",
   "execution_count": 43,
   "id": "30f54979",
   "metadata": {},
   "outputs": [
    {
     "name": "stdout",
     "output_type": "stream",
     "text": [
      "\n",
      "الرياضيات التطبيقية :\n",
      "30\n",
      "\n"
     ]
    }
   ],
   "source": [
    "applied_math=soup.find_all('li',class_='resultItem')[18].text\n",
    "print(applied_math)"
   ]
  },
  {
   "cell_type": "code",
   "execution_count": 44,
   "id": "94fe083e",
   "metadata": {},
   "outputs": [
    {
     "name": "stdout",
     "output_type": "stream",
     "text": [
      "\n",
      "الفيزياء :\n",
      "30\n",
      "\n"
     ]
    }
   ],
   "source": [
    "physics=soup.find_all('li',class_='resultItem')[19].text\n",
    "print(physics)"
   ]
  },
  {
   "cell_type": "code",
   "execution_count": 45,
   "id": "675cccd0",
   "metadata": {},
   "outputs": [
    {
     "name": "stdout",
     "output_type": "stream",
     "text": [
      "\n",
      "مجموع الدرجات :\n",
      "220.50\n",
      "\n"
     ]
    }
   ],
   "source": [
    "total_marks=soup.find_all('li',class_='resultItem')[20].text\n",
    "print(total_marks)"
   ]
  },
  {
   "cell_type": "code",
   "execution_count": 46,
   "id": "988e86cb",
   "metadata": {},
   "outputs": [
    {
     "name": "stdout",
     "output_type": "stream",
     "text": [
      "\n",
      "التربية الدينية :\n",
      "16\n",
      "\n"
     ]
    }
   ],
   "source": [
    "religion=soup.find_all('li',class_='resultItem')[21].text\n",
    "print(religion)"
   ]
  },
  {
   "cell_type": "code",
   "execution_count": 47,
   "id": "b2f84c1a",
   "metadata": {},
   "outputs": [
    {
     "name": "stdout",
     "output_type": "stream",
     "text": [
      "\n",
      "التربية الوطنية :\n",
      "14\n",
      "\n"
     ]
    }
   ],
   "source": [
    "nat_edu=soup.find_all('li',class_='resultItem')[22].text\n",
    "print(nat_edu)"
   ]
  },
  {
   "cell_type": "code",
   "execution_count": 48,
   "id": "447d7b53",
   "metadata": {},
   "outputs": [
    {
     "name": "stdout",
     "output_type": "stream",
     "text": [
      "\n",
      "الاقتصاد والإحصاء :\n",
      "25\n",
      "\n"
     ]
    }
   ],
   "source": [
    "stat_eco=soup.find_all('li',class_='resultItem')[23].text\n",
    "print(stat_eco)"
   ]
  },
  {
   "cell_type": "code",
   "execution_count": 50,
   "id": "82efb77c",
   "metadata": {},
   "outputs": [],
   "source": [
    "\n",
    "def extraction(response):\n",
    "    soup = BeautifulSoup(response, 'lxml')\n",
    "    result = {}\n",
    "    result[\"seat_no\"]=(soup.find_all('h1')[0].text.strip())\n",
    "    result[\"name\"]=soup.find_all('li',class_='resultItem')[3].find_all('span')[1].text.strip()\n",
    "    result[\"total_marks\"]=(soup.find_all('h1')[1].text.strip())\n",
    "    result[\"percentage\"]=(soup.find_all('h1')[2].text.strip())\n",
    "    result[\"sc_name\"]=soup.find_all('li',class_='resultItem')[4].find_all('span')[1].text.strip()\n",
    "    result[\"edu_administration\"]=soup.find_all('li',class_='resultItem')[5].find_all('span')[1].text.strip()\n",
    "    #check pass or fill\n",
    "    result[\"passed\"]=1 if(soup.find_all('li',class_='resultItem')[6].find_all('span')[1].text.split()[0]==\"ناجح\") else[0]\n",
    "    #get the result of the fixed subjects\n",
    "    result[\"arabic\"]=(soup.find_all('li',class_='resultItem')[7].find_all('span')[1].text.strip())\n",
    "    result[\"english\"]=(soup.find_all('li',class_='resultItem')[8].find_all('span')[1].text.strip())\n",
    "    result[\"third_lang\"]=(soup.find_all('li',class_='resultItem')[9].find_all('span')[1].text.strip())\n",
    "    #extracte each division\n",
    "    #extracte each division\n",
    "    result[\"history\"]=(soup.find_all('li',class_='resultItem')[11].find_all('span')[1].text.strip())\n",
    "    result[\"geograpgy\"]=(soup.find_all('li',class_='resultItem')[12].find_all('span')[1].text.strip())\n",
    "    result[\"philosophy\"]=(soup.find_all('li',class_='resultItem')[13].find_all('span')[1].text.strip())\n",
    "    result[\"psychology\"]=(soup.find_all('li',class_='resultItem')[14].find_all('span')[1].text.strip())\n",
    "    result[\"chemistry\"]=(soup.find_all('li',class_='resultItem')[15].find_all('span')[1].text.strip())\n",
    "    result[\"biology\"]=(soup.find_all('li',class_='resultItem')[16].find_all('span')[1].text.strip())\n",
    "    result[\"geology\"]=(soup.find_all('li',class_='resultItem')[17].find_all('span')[1].text.strip())\n",
    "    result[\"physics\"]=(soup.find_all('li',class_='resultItem')[19].find_all('span')[1].text.strip())\n",
    "    result[\"chemistry\"]=(soup.find_all('li',class_='resultItem')[15].find_all('span')[1].text.strip())\n",
    "    result[\"physics\"]=(soup.find_all('li',class_='resultItem')[19].find_all('span')[1].text.strip())\n",
    "    result[\"pure_math\"]=(soup.find_all('li',class_='resultItem')[10].find_all('span')[1].text.strip())\n",
    "    result[\"applied_math\"]=(soup.find_all('li',class_='resultItem')[18].find_all('span')[1].text.strip())\n",
    "    #abstract addition subjects\n",
    "    try:\n",
    "      result[\"relegion\"]=(soup.find_all('li',class_='resultItem')[21].find_all('span')[1].text.strip())\n",
    "      result[\"nat_edu\"]=(soup.find_all('li',class_='resultItem')[20].find_all('span')[1].text.strip())\n",
    "      result[\"stat_eco\"]=(soup.find_all('li',class_='resultItem')[23].find_all('span')[1].text.strip())\n",
    "    except:\n",
    "      result['religion'] = pd.NA\n",
    "      result['nat_edu'] = pd.NA \n",
    "      result['stat_eco'] = pd.NA \n",
    "    return result\n",
    "\n",
    "     \n"
   ]
  },
  {
   "cell_type": "code",
   "execution_count": 55,
   "id": "f96a890b",
   "metadata": {},
   "outputs": [],
   "source": [
    "\n",
    "soup = BeautifulSoup(my_list[0], 'lxml')"
   ]
  },
  {
   "cell_type": "code",
   "execution_count": 56,
   "id": "79a9787f",
   "metadata": {},
   "outputs": [
    {
     "data": {
      "text/plain": [
       "{'seat_no': '1459539',\n",
       " 'name': 'سلوى محمد المتولي عبدالعظيم حسن',\n",
       " 'total_marks': '246.00',\n",
       " 'percentage': '60.00 %',\n",
       " 'sc_name': 'الشهيد محمد محمد عبدالعزيز صالح بابوبدوى',\n",
       " 'edu_administration': 'بيلا',\n",
       " 'passed': 1,\n",
       " 'arabic': '40',\n",
       " 'english': '29',\n",
       " 'third_lang': '20',\n",
       " 'history': '42.5',\n",
       " 'geograpgy': '34.5',\n",
       " 'philosophy': '42',\n",
       " 'psychology': '38',\n",
       " 'chemistry': 'غير مقرر',\n",
       " 'biology': 'غير مقرر',\n",
       " 'geology': 'غير مقرر',\n",
       " 'physics': 'غير مقرر',\n",
       " 'pure_math': 'غير مقرر',\n",
       " 'applied_math': 'غير مقرر',\n",
       " 'relegion': '13',\n",
       " 'nat_edu': '246.00',\n",
       " 'stat_eco': '25'}"
      ]
     },
     "execution_count": 56,
     "metadata": {},
     "output_type": "execute_result"
    }
   ],
   "source": [
    "extraction(my_list[9])"
   ]
  },
  {
   "cell_type": "code",
   "execution_count": 58,
   "id": "7b97799e",
   "metadata": {},
   "outputs": [
    {
     "name": "stdout",
     "output_type": "stream",
     "text": [
      "{'seat_no': '1459531', 'name': 'اسراء عيد محمد محمد البيلي', 'total_marks': '293.50', 'percentage': '71.59 %', 'sc_name': 'الشهيد محمد محمد عبدالعزيز صالح بابوبدوى', 'edu_administration': 'بيلا', 'passed': 1, 'arabic': '46', 'english': '35.5', 'third_lang': '34.5', 'history': '37', 'geograpgy': '52.5', 'philosophy': '45', 'psychology': '43', 'chemistry': 'غير مقرر', 'biology': 'غير مقرر', 'geology': 'غير مقرر', 'physics': 'غير مقرر', 'pure_math': 'غير مقرر', 'applied_math': 'غير مقرر', 'relegion': '18', 'nat_edu': '293.50', 'stat_eco': '25'}\n",
      "{'seat_no': '1459532', 'name': 'اسماء اشرف السيد ابراهيم ابراهيم', 'total_marks': '262.50', 'percentage': '64.02 %', 'sc_name': 'الشهيد محمد محمد عبدالعزيز صالح بابوبدوى', 'edu_administration': 'بيلا', 'passed': 1, 'arabic': '47', 'english': '34', 'third_lang': '35', 'history': '44', 'geograpgy': '41', 'philosophy': '30.5', 'psychology': '31', 'chemistry': 'غير مقرر', 'biology': 'غير مقرر', 'geology': 'غير مقرر', 'physics': 'غير مقرر', 'pure_math': 'غير مقرر', 'applied_math': 'غير مقرر', 'relegion': '16', 'nat_edu': '262.50', 'stat_eco': '25'}\n",
      "{'seat_no': '1459533', 'name': 'اسماء جمال حسين محمد محمد خليل', 'total_marks': '265.50', 'percentage': '64.76 %', 'sc_name': 'الشهيد محمد محمد عبدالعزيز صالح بابوبدوى', 'edu_administration': 'بيلا', 'passed': 1, 'arabic': '44.5', 'english': '32', 'third_lang': '27', 'history': '41.5', 'geograpgy': '42', 'philosophy': '38.5', 'psychology': '40', 'chemistry': 'غير مقرر', 'biology': 'غير مقرر', 'geology': 'غير مقرر', 'physics': 'غير مقرر', 'pure_math': 'غير مقرر', 'applied_math': 'غير مقرر', 'relegion': '15', 'nat_edu': '265.50', 'stat_eco': '25'}\n",
      "{'seat_no': '1459534', 'name': 'اسماء رضا محمود السعيد ابراهيم', 'total_marks': '246.00', 'percentage': '60.00 %', 'sc_name': 'الشهيد محمد محمد عبدالعزيز صالح بابوبدوى', 'edu_administration': 'بيلا', 'passed': [0], 'arabic': '15.5', 'english': '40', 'third_lang': '27', 'history': '44', 'geograpgy': '38', 'philosophy': '43.5', 'psychology': '38', 'chemistry': 'غير مقرر', 'biology': 'غير مقرر', 'geology': 'غير مقرر', 'physics': 'غير مقرر', 'pure_math': 'غير مقرر', 'applied_math': 'غير مقرر', 'relegion': '18', 'nat_edu': '246.00', 'stat_eco': '25'}\n",
      "{'seat_no': '1459535', 'name': 'امانى أيمن مصطفى أبو شعيشع على', 'total_marks': '344.00', 'percentage': '83.90 %', 'sc_name': 'الشهيد محمد محمد عبدالعزيز صالح بابوبدوى', 'edu_administration': 'بيلا', 'passed': 1, 'arabic': '67.5', 'english': '40.5', 'third_lang': '36.5', 'history': '48', 'geograpgy': '53.5', 'philosophy': '50', 'psychology': '48', 'chemistry': 'غير مقرر', 'biology': 'غير مقرر', 'geology': 'غير مقرر', 'physics': 'غير مقرر', 'pure_math': 'غير مقرر', 'applied_math': 'غير مقرر', 'relegion': '17', 'nat_edu': '344.00', 'stat_eco': '27'}\n",
      "{'seat_no': '1459536', 'name': 'رحمه محمد ابراهيم احمد', 'total_marks': '277.50', 'percentage': '67.68 %', 'sc_name': 'الشهيد محمد محمد عبدالعزيز صالح بابوبدوى', 'edu_administration': 'بيلا', 'passed': 1, 'arabic': '50.5', 'english': '42', 'third_lang': '23.5', 'history': '33.5', 'geograpgy': '34', 'philosophy': '46', 'psychology': '48', 'chemistry': 'غير مقرر', 'biology': 'غير مقرر', 'geology': 'غير مقرر', 'physics': 'غير مقرر', 'pure_math': 'غير مقرر', 'applied_math': 'غير مقرر', 'relegion': '16', 'nat_edu': '277.50', 'stat_eco': '27'}\n",
      "{'seat_no': '1459537', 'name': 'رضوى محمد الدمرداش علي البرنوجي', 'total_marks': '322.00', 'percentage': '78.54 %', 'sc_name': 'الشهيد محمد محمد عبدالعزيز صالح بابوبدوى', 'edu_administration': 'بيلا', 'passed': 1, 'arabic': '52.5', 'english': '36', 'third_lang': '37.5', 'history': '48.5', 'geograpgy': '48.5', 'philosophy': '50', 'psychology': '49', 'chemistry': 'غير مقرر', 'biology': 'غير مقرر', 'geology': 'غير مقرر', 'physics': 'غير مقرر', 'pure_math': 'غير مقرر', 'applied_math': 'غير مقرر', 'relegion': '18', 'nat_edu': '322.00', 'stat_eco': '26'}\n",
      "{'seat_no': '1459538', 'name': 'سارة محمد عبد العزيز على حسن', 'total_marks': '260.00', 'percentage': '63.41 %', 'sc_name': 'الشهيد محمد محمد عبدالعزيز صالح بابوبدوى', 'edu_administration': 'بيلا', 'passed': 1, 'arabic': '40', 'english': '40', 'third_lang': '32', 'history': '45.5', 'geograpgy': '32', 'philosophy': '37.5', 'psychology': '33', 'chemistry': 'غير مقرر', 'biology': 'غير مقرر', 'geology': 'غير مقرر', 'physics': 'غير مقرر', 'pure_math': 'غير مقرر', 'applied_math': 'غير مقرر', 'relegion': '14', 'nat_edu': '260.00', 'stat_eco': '28'}\n",
      "{'seat_no': '1459539', 'name': 'سلوى محمد المتولي عبدالعظيم حسن', 'total_marks': '246.00', 'percentage': '60.00 %', 'sc_name': 'الشهيد محمد محمد عبدالعزيز صالح بابوبدوى', 'edu_administration': 'بيلا', 'passed': 1, 'arabic': '40', 'english': '29', 'third_lang': '20', 'history': '42.5', 'geograpgy': '34.5', 'philosophy': '42', 'psychology': '38', 'chemistry': 'غير مقرر', 'biology': 'غير مقرر', 'geology': 'غير مقرر', 'physics': 'غير مقرر', 'pure_math': 'غير مقرر', 'applied_math': 'غير مقرر', 'relegion': '13', 'nat_edu': '246.00', 'stat_eco': '25'}\n",
      "{'seat_no': '1459540', 'name': 'شهد حسين رمضان احمدعبدالفتاح', 'total_marks': '264.00', 'percentage': '64.39 %', 'sc_name': 'الشهيد محمد محمد عبدالعزيز صالح بابوبدوى', 'edu_administration': 'بيلا', 'passed': 1, 'arabic': '47.5', 'english': '31', 'third_lang': '25.5', 'history': '46', 'geograpgy': '30', 'philosophy': '42', 'psychology': '42', 'chemistry': 'غير مقرر', 'biology': 'غير مقرر', 'geology': 'غير مقرر', 'physics': 'غير مقرر', 'pure_math': 'غير مقرر', 'applied_math': 'غير مقرر', 'relegion': '20', 'nat_edu': '264.00', 'stat_eco': '25'}\n",
      "{'seat_no': '1459541', 'name': 'شهد محمد محمد عثمان السيد الرفاعى', 'total_marks': '319.50', 'percentage': '77.93 %', 'sc_name': 'الشهيد محمد محمد عبدالعزيز صالح بابوبدوى', 'edu_administration': 'بيلا', 'passed': 1, 'arabic': '59.5', 'english': '38', 'third_lang': '37.5', 'history': '48', 'geograpgy': '45.5', 'philosophy': '44', 'psychology': '47', 'chemistry': 'غير مقرر', 'biology': 'غير مقرر', 'geology': 'غير مقرر', 'physics': 'غير مقرر', 'pure_math': 'غير مقرر', 'applied_math': 'غير مقرر', 'relegion': '16', 'nat_edu': '319.50', 'stat_eco': '25'}\n",
      "{'seat_no': '1459542', 'name': 'لبنى رضا على ابراهيم القبلاوي', 'total_marks': '234.50', 'percentage': '57.20 %', 'sc_name': 'الشهيد محمد محمد عبدالعزيز صالح بابوبدوى', 'edu_administration': 'بيلا', 'passed': 1, 'arabic': '40.5', 'english': '43', 'third_lang': '25', 'history': '30', 'geograpgy': '30', 'philosophy': '33', 'psychology': '33', 'chemistry': 'غير مقرر', 'biology': 'غير مقرر', 'geology': 'غير مقرر', 'physics': 'غير مقرر', 'pure_math': 'غير مقرر', 'applied_math': 'غير مقرر', 'relegion': '19', 'nat_edu': '234.50', 'stat_eco': '25'}\n",
      "{'seat_no': '1459543', 'name': 'مرام محمد صادق جمعه حسن', 'total_marks': '370.50', 'percentage': '90.37 %', 'sc_name': 'الشهيد محمد محمد عبدالعزيز صالح بابوبدوى', 'edu_administration': 'بيلا', 'passed': 1, 'arabic': '68.5', 'english': '47.5', 'third_lang': '39.5', 'history': '54', 'geograpgy': '55', 'philosophy': '54', 'psychology': '52', 'chemistry': 'غير مقرر', 'biology': 'غير مقرر', 'geology': 'غير مقرر', 'physics': 'غير مقرر', 'pure_math': 'غير مقرر', 'applied_math': 'غير مقرر', 'relegion': '21', 'nat_edu': '370.50', 'stat_eco': '39'}\n",
      "{'seat_no': '1459544', 'name': 'منه السيد عبدالعزيز عبدالفتاح محمد', 'total_marks': '279.00', 'percentage': '68.05 %', 'sc_name': 'الشهيد محمد محمد عبدالعزيز صالح بابوبدوى', 'edu_administration': 'بيلا', 'passed': 1, 'arabic': '45', 'english': '42', 'third_lang': '37', 'history': '39', 'geograpgy': '43', 'philosophy': '43', 'psychology': '30', 'chemistry': 'غير مقرر', 'biology': 'غير مقرر', 'geology': 'غير مقرر', 'physics': 'غير مقرر', 'pure_math': 'غير مقرر', 'applied_math': 'غير مقرر', 'relegion': '15', 'nat_edu': '279.00', 'stat_eco': '25'}\n",
      "{'seat_no': '1459545', 'name': 'منه الله السيد عبداللطيف محمد', 'total_marks': '309.50', 'percentage': '75.49 %', 'sc_name': 'الشهيد محمد محمد عبدالعزيز صالح بابوبدوى', 'edu_administration': 'بيلا', 'passed': 1, 'arabic': '60', 'english': '42.5', 'third_lang': '38.5', 'history': '42.5', 'geograpgy': '45', 'philosophy': '42', 'psychology': '39', 'chemistry': 'غير مقرر', 'biology': 'غير مقرر', 'geology': 'غير مقرر', 'physics': 'غير مقرر', 'pure_math': 'غير مقرر', 'applied_math': 'غير مقرر', 'relegion': '19', 'nat_edu': '309.50', 'stat_eco': '26'}\n",
      "{'seat_no': '1459546', 'name': 'ندى رضا محمود السيد النواجي', 'total_marks': '285.50', 'percentage': '69.63 %', 'sc_name': 'الشهيد محمد محمد عبدالعزيز صالح بابوبدوى', 'edu_administration': 'بيلا', 'passed': 1, 'arabic': '40', 'english': '47', 'third_lang': '28', 'history': '44', 'geograpgy': '39', 'philosophy': '41.5', 'psychology': '46', 'chemistry': 'غير مقرر', 'biology': 'غير مقرر', 'geology': 'غير مقرر', 'physics': 'غير مقرر', 'pure_math': 'غير مقرر', 'applied_math': 'غير مقرر', 'relegion': '18', 'nat_edu': '285.50', 'stat_eco': '29'}\n",
      "{'seat_no': '1459547', 'name': 'ندى عبد الرحمن سليمان على حسن', 'total_marks': '258.00', 'percentage': '62.93 %', 'sc_name': 'الشهيد محمد محمد عبدالعزيز صالح بابوبدوى', 'edu_administration': 'بيلا', 'passed': 1, 'arabic': '40', 'english': '36', 'third_lang': '28', 'history': '45', 'geograpgy': '31', 'philosophy': '41', 'psychology': '37', 'chemistry': 'غير مقرر', 'biology': 'غير مقرر', 'geology': 'غير مقرر', 'physics': 'غير مقرر', 'pure_math': 'غير مقرر', 'applied_math': 'غير مقرر', 'relegion': '20', 'nat_edu': '258.00', 'stat_eco': '25'}\n",
      "{'seat_no': '1459548', 'name': 'نسمه امن يوسف محمد يوسف', 'total_marks': '176.50', 'percentage': '43.05 %', 'sc_name': 'الشهيد محمد محمد عبدالعزيز صالح بابوبدوى', 'edu_administration': 'بيلا', 'passed': [0], 'arabic': '27.5', 'english': '25', 'third_lang': '20', 'history': '30', 'geograpgy': '30', 'philosophy': '30', 'psychology': '14', 'chemistry': 'غير مقرر', 'biology': 'غير مقرر', 'geology': 'غير مقرر', 'physics': 'غير مقرر', 'pure_math': 'غير مقرر', 'applied_math': 'غير مقرر', 'relegion': '8', 'nat_edu': '176.50', 'stat_eco': '15'}\n",
      "{'seat_no': '1459549', 'name': 'نورا محمد ممدوح ابراهيم محمد', 'total_marks': '240.00', 'percentage': '58.54 %', 'sc_name': 'الشهيد محمد محمد عبدالعزيز صالح بابوبدوى', 'edu_administration': 'بيلا', 'passed': [0], 'arabic': '29', 'english': '32', 'third_lang': '29.5', 'history': '42.5', 'geograpgy': '30', 'philosophy': '41', 'psychology': '36', 'chemistry': 'غير مقرر', 'biology': 'غير مقرر', 'geology': 'غير مقرر', 'physics': 'غير مقرر', 'pure_math': 'غير مقرر', 'applied_math': 'غير مقرر', 'relegion': '9', 'nat_edu': '240.00', 'stat_eco': '25'}\n",
      "{'seat_no': '1459550', 'name': 'نورهان احمد عاطف محمد محمد البيلي', 'total_marks': '283.00', 'percentage': '69.02 %', 'sc_name': 'الشهيد محمد محمد عبدالعزيز صالح بابوبدوى', 'edu_administration': 'بيلا', 'passed': 1, 'arabic': '46.5', 'english': '46', 'third_lang': '35', 'history': '42.5', 'geograpgy': '30', 'philosophy': '45', 'psychology': '38', 'chemistry': 'غير مقرر', 'biology': 'غير مقرر', 'geology': 'غير مقرر', 'physics': 'غير مقرر', 'pure_math': 'غير مقرر', 'applied_math': 'غير مقرر', 'relegion': '16', 'nat_edu': '283.00', 'stat_eco': '25'}\n",
      "{'seat_no': '1459551', 'name': 'هاجر محمد مصطفى محمود رضوان', 'total_marks': '280.00', 'percentage': '68.29 %', 'sc_name': 'الشهيد محمد محمد عبدالعزيز صالح بابوبدوى', 'edu_administration': 'بيلا', 'passed': 1, 'arabic': '69', 'english': '36', 'third_lang': '32.5', 'history': '49.5', 'geograpgy': '33', 'philosophy': '30', 'psychology': '30', 'chemistry': 'غير مقرر', 'biology': 'غير مقرر', 'geology': 'غير مقرر', 'physics': 'غير مقرر', 'pure_math': 'غير مقرر', 'applied_math': 'غير مقرر', 'relegion': '14', 'nat_edu': '280.00', 'stat_eco': '28'}\n",
      "{'seat_no': '1459552', 'name': 'هاجر ياسر فتحي مصطفى يوسف', 'total_marks': '257.50', 'percentage': '62.80 %', 'sc_name': 'الشهيد محمد محمد عبدالعزيز صالح بابوبدوى', 'edu_administration': 'بيلا', 'passed': 1, 'arabic': '64.5', 'english': '26', 'third_lang': '31.5', 'history': '39.5', 'geograpgy': '33', 'philosophy': '33', 'psychology': '30', 'chemistry': 'غير مقرر', 'biology': 'غير مقرر', 'geology': 'غير مقرر', 'physics': 'غير مقرر', 'pure_math': 'غير مقرر', 'applied_math': 'غير مقرر', 'relegion': '15', 'nat_edu': '257.50', 'stat_eco': '25'}\n",
      "{'seat_no': '1459553', 'name': 'هبه عصام الشحات الدسوقي محمد', 'total_marks': '275.00', 'percentage': '67.07 %', 'sc_name': 'الشهيد محمد محمد عبدالعزيز صالح بابوبدوى', 'edu_administration': 'بيلا', 'passed': 1, 'arabic': '65', 'english': '31', 'third_lang': '38.5', 'history': '48.5', 'geograpgy': '30', 'philosophy': '30', 'psychology': '32', 'chemistry': 'غير مقرر', 'biology': 'غير مقرر', 'geology': 'غير مقرر', 'physics': 'غير مقرر', 'pure_math': 'غير مقرر', 'applied_math': 'غير مقرر', 'relegion': '16', 'nat_edu': '275.00', 'stat_eco': '32'}\n",
      "{'seat_no': '1459554', 'name': 'هدير محمد مصطفى محمود رضوان', 'total_marks': '265.50', 'percentage': '64.76 %', 'sc_name': 'الشهيد محمد محمد عبدالعزيز صالح بابوبدوى', 'edu_administration': 'بيلا', 'passed': 1, 'arabic': '61', 'english': '27', 'third_lang': '37', 'history': '46', 'geograpgy': '30', 'philosophy': '30.5', 'psychology': '34', 'chemistry': 'غير مقرر', 'biology': 'غير مقرر', 'geology': 'غير مقرر', 'physics': 'غير مقرر', 'pure_math': 'غير مقرر', 'applied_math': 'غير مقرر', 'relegion': '16', 'nat_edu': '265.50', 'stat_eco': '26'}\n",
      "{'seat_no': '1459555', 'name': 'هند رضا مصطفى أبو شعيشع احمد', 'total_marks': '262.00', 'percentage': '63.90 %', 'sc_name': 'الشهيد محمد محمد عبدالعزيز صالح بابوبدوى', 'edu_administration': 'بيلا', 'passed': 1, 'arabic': '63', 'english': '26', 'third_lang': '31', 'history': '49', 'geograpgy': '33', 'philosophy': '30', 'psychology': '30', 'chemistry': 'غير مقرر', 'biology': 'غير مقرر', 'geology': 'غير مقرر', 'physics': 'غير مقرر', 'pure_math': 'غير مقرر', 'applied_math': 'غير مقرر', 'relegion': '20', 'nat_edu': '262.00', 'stat_eco': '26'}\n",
      "{'seat_no': '1459556', 'name': 'ولاء صلاح الدين أنور عبد الفتاح', 'total_marks': '286.50', 'percentage': '69.88 %', 'sc_name': 'الشهيد محمد محمد عبدالعزيز صالح بابوبدوى', 'edu_administration': 'بيلا', 'passed': 1, 'arabic': '66', 'english': '32.5', 'third_lang': '29', 'history': '50.5', 'geograpgy': '32', 'philosophy': '39.5', 'psychology': '37', 'chemistry': 'غير مقرر', 'biology': 'غير مقرر', 'geology': 'غير مقرر', 'physics': 'غير مقرر', 'pure_math': 'غير مقرر', 'applied_math': 'غير مقرر', 'relegion': '15', 'nat_edu': '286.50', 'stat_eco': '28'}\n",
      "{'seat_no': '1459557', 'name': 'ياسمين حسين عبدالعزيز السيد محمود', 'total_marks': '270.50', 'percentage': '65.98 %', 'sc_name': 'الشهيد محمد محمد عبدالعزيز صالح بابوبدوى', 'edu_administration': 'بيلا', 'passed': 1, 'arabic': '53.5', 'english': '25', 'third_lang': '34.5', 'history': '43', 'geograpgy': '32.5', 'philosophy': '43', 'psychology': '39', 'chemistry': 'غير مقرر', 'biology': 'غير مقرر', 'geology': 'غير مقرر', 'physics': 'غير مقرر', 'pure_math': 'غير مقرر', 'applied_math': 'غير مقرر', 'relegion': '15', 'nat_edu': '270.50', 'stat_eco': '25'}\n",
      "{'seat_no': '1459558', 'name': 'احلام محمد البيومى محمود بدران', 'total_marks': '259.50', 'percentage': '63.29 %', 'sc_name': 'الشهيد محمد محمد عبدالعزيز صالح بابوبدوى', 'edu_administration': 'بيلا', 'passed': 1, 'arabic': '56.5', 'english': '30.5', 'third_lang': '39.5', 'history': 'غير مقرر', 'geograpgy': 'غير مقرر', 'philosophy': 'غير مقرر', 'psychology': 'غير مقرر', 'chemistry': '30', 'biology': '30', 'geology': '43', 'physics': '30', 'pure_math': 'غير مقرر', 'applied_math': 'غير مقرر', 'relegion': '19', 'nat_edu': '259.50', 'stat_eco': '26'}\n",
      "{'seat_no': '1459559', 'name': 'اسراء حسين احمد عبداللطيف البيلي', 'total_marks': '266.50', 'percentage': '65.00 %', 'sc_name': 'الشهيد محمد محمد عبدالعزيز صالح بابوبدوى', 'edu_administration': 'بيلا', 'passed': 1, 'arabic': '54.5', 'english': '28', 'third_lang': '37', 'history': 'غير مقرر', 'geograpgy': 'غير مقرر', 'philosophy': 'غير مقرر', 'psychology': 'غير مقرر', 'chemistry': '30', 'biology': '33', 'geology': '51', 'physics': '33', 'pure_math': 'غير مقرر', 'applied_math': 'غير مقرر', 'relegion': '17', 'nat_edu': '266.50', 'stat_eco': '25'}\n",
      "{'seat_no': '1459560', 'name': 'اسراء حمدي عبدالعاطي البسطويسي المرسي', 'total_marks': '280.50', 'percentage': '68.41 %', 'sc_name': 'الشهيد محمد محمد عبدالعزيز صالح بابوبدوى', 'edu_administration': 'بيلا', 'passed': 1, 'arabic': '63', 'english': '37', 'third_lang': '39.5', 'history': 'غير مقرر', 'geograpgy': 'غير مقرر', 'philosophy': 'غير مقرر', 'psychology': 'غير مقرر', 'chemistry': '30', 'biology': '30', 'geology': '50', 'physics': '31', 'pure_math': 'غير مقرر', 'applied_math': 'غير مقرر', 'relegion': '18', 'nat_edu': '280.50', 'stat_eco': '28'}\n",
      "{'seat_no': '1459561', 'name': 'اسماء صديق محمد احمد والي', 'total_marks': '339.50', 'percentage': '82.80 %', 'sc_name': 'الشهيد محمد محمد عبدالعزيز صالح بابوبدوى', 'edu_administration': 'بيلا', 'passed': 1, 'arabic': '77.5', 'english': '44.5', 'third_lang': '38.5', 'history': 'غير مقرر', 'geograpgy': 'غير مقرر', 'philosophy': 'غير مقرر', 'psychology': 'غير مقرر', 'chemistry': '43', 'biology': '35', 'geology': '56', 'physics': '45', 'pure_math': 'غير مقرر', 'applied_math': 'غير مقرر', 'relegion': '20', 'nat_edu': '339.50', 'stat_eco': '34'}\n",
      "{'seat_no': '1459562', 'name': 'الاء معوض فتحي معوض على رزق', 'total_marks': '300.00', 'percentage': '73.17 %', 'sc_name': 'الشهيد محمد محمد عبدالعزيز صالح بابوبدوى', 'edu_administration': 'بيلا', 'passed': 1, 'arabic': '59.5', 'english': '45', 'third_lang': '38.5', 'history': 'غير مقرر', 'geograpgy': 'غير مقرر', 'philosophy': 'غير مقرر', 'psychology': 'غير مقرر', 'chemistry': '46', 'biology': '36.5', 'geology': '40.5', 'physics': '34', 'pure_math': 'غير مقرر', 'applied_math': 'غير مقرر', 'relegion': '13', 'nat_edu': '300.00', 'stat_eco': '33'}\n",
      "{'seat_no': '1459563', 'name': 'امال جهاد السيد احمد فودة', 'total_marks': '334.50', 'percentage': '81.59 %', 'sc_name': 'الشهيد محمد محمد عبدالعزيز صالح بابوبدوى', 'edu_administration': 'بيلا', 'passed': 1, 'arabic': '73', 'english': '47.5', 'third_lang': '35.5', 'history': 'غير مقرر', 'geograpgy': 'غير مقرر', 'philosophy': 'غير مقرر', 'psychology': 'غير مقرر', 'chemistry': '49', 'biology': '33.5', 'geology': '48', 'physics': '48', 'pure_math': 'غير مقرر', 'applied_math': 'غير مقرر', 'relegion': '16', 'nat_edu': '334.50', 'stat_eco': '34'}\n",
      "{'seat_no': '1459564', 'name': 'اماني عبدالحليم عبدالفتاح عبدالحليم', 'total_marks': '371.00', 'percentage': '90.49 %', 'sc_name': 'الشهيد محمد محمد عبدالعزيز صالح بابوبدوى', 'edu_administration': 'بيلا', 'passed': 1, 'arabic': '79.5', 'english': '48.5', 'third_lang': '39.5', 'history': 'غير مقرر', 'geograpgy': 'غير مقرر', 'philosophy': 'غير مقرر', 'psychology': 'غير مقرر', 'chemistry': '55', 'biology': '41.5', 'geology': '58', 'physics': '49', 'pure_math': 'غير مقرر', 'applied_math': 'غير مقرر', 'relegion': '13', 'nat_edu': '371.00', 'stat_eco': '27'}\n",
      "{'seat_no': '1459565', 'name': 'اميره محمد السيد محمد بلاطه', 'total_marks': '311.00', 'percentage': '75.85 %', 'sc_name': 'الشهيد محمد محمد عبدالعزيز صالح بابوبدوى', 'edu_administration': 'بيلا', 'passed': 1, 'arabic': '65.5', 'english': '45', 'third_lang': '39.5', 'history': 'غير مقرر', 'geograpgy': 'غير مقرر', 'philosophy': 'غير مقرر', 'psychology': 'غير مقرر', 'chemistry': '38', 'biology': '33.5', 'geology': '46', 'physics': '43.5', 'pure_math': 'غير مقرر', 'applied_math': 'غير مقرر', 'relegion': '19', 'nat_edu': '311.00', 'stat_eco': '30'}\n",
      "{'seat_no': '1459566', 'name': 'ايمان الذكير سعد الصاوى', 'total_marks': '315.00', 'percentage': '76.83 %', 'sc_name': 'الشهيد محمد محمد عبدالعزيز صالح بابوبدوى', 'edu_administration': 'بيلا', 'passed': 1, 'arabic': '68.5', 'english': '47.5', 'third_lang': '39.5', 'history': 'غير مقرر', 'geograpgy': 'غير مقرر', 'philosophy': 'غير مقرر', 'psychology': 'غير مقرر', 'chemistry': '41.5', 'biology': '32.5', 'geology': '47', 'physics': '38.5', 'pure_math': 'غير مقرر', 'applied_math': 'غير مقرر', 'relegion': '13', 'nat_edu': '315.00', 'stat_eco': '39'}\n",
      "{'seat_no': '1459567', 'name': 'ايه السيد احمد فؤاد عبدالغني', 'total_marks': '311.50', 'percentage': '75.98 %', 'sc_name': 'الشهيد محمد محمد عبدالعزيز صالح بابوبدوى', 'edu_administration': 'بيلا', 'passed': 1, 'arabic': '58', 'english': '47.5', 'third_lang': '34', 'history': 'غير مقرر', 'geograpgy': 'غير مقرر', 'philosophy': 'غير مقرر', 'psychology': 'غير مقرر', 'chemistry': '46', 'biology': '44', 'geology': '40', 'physics': '42', 'pure_math': 'غير مقرر', 'applied_math': 'غير مقرر', 'relegion': '19', 'nat_edu': '311.50', 'stat_eco': '33'}\n",
      "{'seat_no': '1459568', 'name': 'ايه ايمن علي صالح يوسف', 'total_marks': '378.50', 'percentage': '92.32 %', 'sc_name': 'الشهيد محمد محمد عبدالعزيز صالح بابوبدوى', 'edu_administration': 'بيلا', 'passed': 1, 'arabic': '79.5', 'english': '48.5', 'third_lang': '39.5', 'history': 'غير مقرر', 'geograpgy': 'غير مقرر', 'philosophy': 'غير مقرر', 'psychology': 'غير مقرر', 'chemistry': '55', 'biology': '45', 'geology': '58', 'physics': '53', 'pure_math': 'غير مقرر', 'applied_math': 'غير مقرر', 'relegion': '18', 'nat_edu': '378.50', 'stat_eco': '30'}\n",
      "{'seat_no': '1459569', 'name': 'ايه خالد محمد يوسف محمد العيسوي', 'total_marks': '304.50', 'percentage': '74.27 %', 'sc_name': 'الشهيد محمد محمد عبدالعزيز صالح بابوبدوى', 'edu_administration': 'بيلا', 'passed': 1, 'arabic': '69.5', 'english': '37.5', 'third_lang': '35.5', 'history': 'غير مقرر', 'geograpgy': 'غير مقرر', 'philosophy': 'غير مقرر', 'psychology': 'غير مقرر', 'chemistry': '44', 'biology': '30', 'geology': '51', 'physics': '37', 'pure_math': 'غير مقرر', 'applied_math': 'غير مقرر', 'relegion': '18', 'nat_edu': '304.50', 'stat_eco': '29'}\n",
      "{'seat_no': '1459570', 'name': 'ايه رضا علي عبدالرحيم اللبيشي', 'total_marks': '251.50', 'percentage': '61.34 %', 'sc_name': 'الشهيد محمد محمد عبدالعزيز صالح بابوبدوى', 'edu_administration': 'بيلا', 'passed': 1, 'arabic': '53', 'english': '32', 'third_lang': '39.5', 'history': 'غير مقرر', 'geograpgy': 'غير مقرر', 'philosophy': 'غير مقرر', 'psychology': 'غير مقرر', 'chemistry': '30', 'biology': '30.5', 'geology': '36.5', 'physics': '30', 'pure_math': 'غير مقرر', 'applied_math': 'غير مقرر', 'relegion': '18', 'nat_edu': '251.50', 'stat_eco': '25'}\n",
      "{'seat_no': '1459571', 'name': 'بسمله علي محمد احمد الشناوي', 'total_marks': '322.00', 'percentage': '78.54 %', 'sc_name': 'الشهيد محمد محمد عبدالعزيز صالح بابوبدوى', 'edu_administration': 'بيلا', 'passed': 1, 'arabic': '63', 'english': '37.5', 'third_lang': '39.5', 'history': 'غير مقرر', 'geograpgy': 'غير مقرر', 'philosophy': 'غير مقرر', 'psychology': 'غير مقرر', 'chemistry': '41.5', 'biology': '41', 'geology': '53', 'physics': '46.5', 'pure_math': 'غير مقرر', 'applied_math': 'غير مقرر', 'relegion': '21', 'nat_edu': '322.00', 'stat_eco': '34'}\n",
      "{'seat_no': '1459572', 'name': 'بشرى حامد ابراهيم سعيد ناصر', 'total_marks': '189.00', 'percentage': '46.10 %', 'sc_name': 'الشهيد محمد محمد عبدالعزيز صالح بابوبدوى', 'edu_administration': 'بيلا', 'passed': [0], 'arabic': '40', 'english': '7', 'third_lang': '21', 'history': 'غير مقرر', 'geograpgy': 'غير مقرر', 'philosophy': 'غير مقرر', 'psychology': 'غير مقرر', 'chemistry': '30', 'biology': '30', 'geology': '31', 'physics': '30', 'pure_math': 'غير مقرر', 'applied_math': 'غير مقرر', 'relegion': '16', 'nat_edu': '189.00', 'stat_eco': '28'}\n",
      "{'seat_no': '1459573', 'name': 'جيهان ماهر شفيق عبد الحميد على حمادة', 'total_marks': '263.00', 'percentage': '64.15 %', 'sc_name': 'الشهيد محمد محمد عبدالعزيز صالح بابوبدوى', 'edu_administration': 'بيلا', 'passed': 1, 'arabic': '43', 'english': '29', 'third_lang': '34', 'history': 'غير مقرر', 'geograpgy': 'غير مقرر', 'philosophy': 'غير مقرر', 'psychology': 'غير مقرر', 'chemistry': '32.5', 'biology': '48.5', 'geology': '44', 'physics': '32', 'pure_math': 'غير مقرر', 'applied_math': 'غير مقرر', 'relegion': '19', 'nat_edu': '263.00', 'stat_eco': '25'}\n",
      "{'seat_no': '1459574', 'name': 'حبيبه عبد الحميد ماهر الصباحى', 'total_marks': '283.50', 'percentage': '69.15 %', 'sc_name': 'الشهيد محمد محمد عبدالعزيز صالح بابوبدوى', 'edu_administration': 'بيلا', 'passed': 1, 'arabic': '41.5', 'english': '38', 'third_lang': '38', 'history': 'غير مقرر', 'geograpgy': 'غير مقرر', 'philosophy': 'غير مقرر', 'psychology': 'غير مقرر', 'chemistry': '40.5', 'biology': '50', 'geology': '45.5', 'physics': '30', 'pure_math': 'غير مقرر', 'applied_math': 'غير مقرر', 'relegion': '16', 'nat_edu': '283.50', 'stat_eco': '25'}\n",
      "{'seat_no': '1459575', 'name': 'حسناء خيري عبدالمقصود عبده زهري', 'total_marks': '305.50', 'percentage': '74.51 %', 'sc_name': 'الشهيد محمد محمد عبدالعزيز صالح بابوبدوى', 'edu_administration': 'بيلا', 'passed': 1, 'arabic': '61', 'english': '34', 'third_lang': '38.5', 'history': 'غير مقرر', 'geograpgy': 'غير مقرر', 'philosophy': 'غير مقرر', 'psychology': 'غير مقرر', 'chemistry': '39.5', 'biology': '43', 'geology': '52.5', 'physics': '37', 'pure_math': 'غير مقرر', 'applied_math': 'غير مقرر', 'relegion': '18', 'nat_edu': '305.50', 'stat_eco': '25'}\n",
      "{'seat_no': '1459576', 'name': 'حنين ابراهيم فتحي حسن عبد الله', 'total_marks': '338.00', 'percentage': '82.44 %', 'sc_name': 'الشهيد محمد محمد عبدالعزيز صالح بابوبدوى', 'edu_administration': 'بيلا', 'passed': 1, 'arabic': '61.5', 'english': '42', 'third_lang': '39.5', 'history': 'غير مقرر', 'geograpgy': 'غير مقرر', 'philosophy': 'غير مقرر', 'psychology': 'غير مقرر', 'chemistry': '44', 'biology': '46', 'geology': '55.5', 'physics': '49.5', 'pure_math': 'غير مقرر', 'applied_math': 'غير مقرر', 'relegion': '17', 'nat_edu': '338.00', 'stat_eco': '26'}\n",
      "{'seat_no': '1459577', 'name': 'خلود محمد حسين على فخرالدين', 'total_marks': '371.50', 'percentage': '90.61 %', 'sc_name': 'الشهيد محمد محمد عبدالعزيز صالح بابوبدوى', 'edu_administration': 'بيلا', 'passed': 1, 'arabic': '73.5', 'english': '47.5', 'third_lang': '37.5', 'history': 'غير مقرر', 'geograpgy': 'غير مقرر', 'philosophy': 'غير مقرر', 'psychology': 'غير مقرر', 'chemistry': '54', 'biology': '46', 'geology': '58', 'physics': '55', 'pure_math': 'غير مقرر', 'applied_math': 'غير مقرر', 'relegion': '20', 'nat_edu': '371.50', 'stat_eco': '40'}\n",
      "{'seat_no': '1459578', 'name': 'دعاء عبدالفتاح محمد عبدالفتاح', 'total_marks': '340.00', 'percentage': '82.93 %', 'sc_name': 'الشهيد محمد محمد عبدالعزيز صالح بابوبدوى', 'edu_administration': 'بيلا', 'passed': 1, 'arabic': '69.5', 'english': '43.5', 'third_lang': '39.5', 'history': 'غير مقرر', 'geograpgy': 'غير مقرر', 'philosophy': 'غير مقرر', 'psychology': 'غير مقرر', 'chemistry': '38', 'biology': '48', 'geology': '55', 'physics': '46.5', 'pure_math': 'غير مقرر', 'applied_math': 'غير مقرر', 'relegion': '15', 'nat_edu': '340.00', 'stat_eco': '27'}\n",
      "{'seat_no': '1459579', 'name': 'دعاء محمد السيد فايد السيد محمد', 'total_marks': '227.00', 'percentage': '55.37 %', 'sc_name': 'الشهيد محمد محمد عبدالعزيز صالح بابوبدوى', 'edu_administration': 'بيلا', 'passed': [0], 'arabic': '26', 'english': '28', 'third_lang': '26.5', 'history': 'غير مقرر', 'geograpgy': 'غير مقرر', 'philosophy': 'غير مقرر', 'psychology': 'غير مقرر', 'chemistry': '41', 'biology': '36.5', 'geology': '39', 'physics': '30', 'pure_math': 'غير مقرر', 'applied_math': 'غير مقرر', 'relegion': '15', 'nat_edu': '227.00', 'stat_eco': '25'}\n",
      "{'seat_no': '1459580', 'name': 'دنيا منير مصطفى عبدالحق الشناوى', 'total_marks': '257.50', 'percentage': '62.80 %', 'sc_name': 'الشهيد محمد محمد عبدالعزيز صالح بابوبدوى', 'edu_administration': 'بيلا', 'passed': 1, 'arabic': '48', 'english': '29', 'third_lang': '39', 'history': 'غير مقرر', 'geograpgy': 'غير مقرر', 'philosophy': 'غير مقرر', 'psychology': 'غير مقرر', 'chemistry': '38', 'biology': '30.5', 'geology': '41.5', 'physics': '31.5', 'pure_math': 'غير مقرر', 'applied_math': 'غير مقرر', 'relegion': '18', 'nat_edu': '257.50', 'stat_eco': '28'}\n",
      "{'seat_no': '1459581', 'name': 'دينا محمد عبدالعزيز السيد عبدالله', 'total_marks': '329.00', 'percentage': '80.24 %', 'sc_name': 'الشهيد محمد محمد عبدالعزيز صالح بابوبدوى', 'edu_administration': 'بيلا', 'passed': 1, 'arabic': '69.5', 'english': '32.5', 'third_lang': '38', 'history': 'غير مقرر', 'geograpgy': 'غير مقرر', 'philosophy': 'غير مقرر', 'psychology': 'غير مقرر', 'chemistry': '48.5', 'biology': '43.5', 'geology': '54.5', 'physics': '42.5', 'pure_math': 'غير مقرر', 'applied_math': 'غير مقرر', 'relegion': '20', 'nat_edu': '329.00', 'stat_eco': '33'}\n",
      "{'seat_no': '1459582', 'name': 'رؤى رفعت عبد الغني الرفاعي عبد الله', 'total_marks': '317.00', 'percentage': '77.32 %', 'sc_name': 'الشهيد محمد محمد عبدالعزيز صالح بابوبدوى', 'edu_administration': 'بيلا', 'passed': 1, 'arabic': '64', 'english': '31', 'third_lang': '38.5', 'history': 'غير مقرر', 'geograpgy': 'غير مقرر', 'philosophy': 'غير مقرر', 'psychology': 'غير مقرر', 'chemistry': '46.5', 'biology': '39', 'geology': '52.5', 'physics': '45.5', 'pure_math': 'غير مقرر', 'applied_math': 'غير مقرر', 'relegion': '20', 'nat_edu': '317.00', 'stat_eco': '34'}\n",
      "{'seat_no': '1459583', 'name': 'رباب احمد عبدالعزيز علي بدر', 'total_marks': '284.50', 'percentage': '69.39 %', 'sc_name': 'الشهيد محمد محمد عبدالعزيز صالح بابوبدوى', 'edu_administration': 'بيلا', 'passed': 1, 'arabic': '46', 'english': '39', 'third_lang': '31.5', 'history': 'غير مقرر', 'geograpgy': 'غير مقرر', 'philosophy': 'غير مقرر', 'psychology': 'غير مقرر', 'chemistry': '32.5', 'biology': '38.5', 'geology': '49', 'physics': '48', 'pure_math': 'غير مقرر', 'applied_math': 'غير مقرر', 'relegion': '19', 'nat_edu': '284.50', 'stat_eco': '30'}\n",
      "{'seat_no': '1459584', 'name': 'رحمة على حافظ على', 'total_marks': '323.50', 'percentage': '78.90 %', 'sc_name': 'الشهيد محمد محمد عبدالعزيز صالح بابوبدوى', 'edu_administration': 'بيلا', 'passed': 1, 'arabic': '63', 'english': '44', 'third_lang': '37', 'history': 'غير مقرر', 'geograpgy': 'غير مقرر', 'philosophy': 'غير مقرر', 'psychology': 'غير مقرر', 'chemistry': '40.5', 'biology': '39.5', 'geology': '59', 'physics': '40.5', 'pure_math': 'غير مقرر', 'applied_math': 'غير مقرر', 'relegion': '22', 'nat_edu': '323.50', 'stat_eco': '29'}\n",
      "{'seat_no': '1459585', 'name': 'رحمه ابراهيم عبد القادر السيد احمد', 'total_marks': '375.00', 'percentage': '91.46 %', 'sc_name': 'الشهيد محمد محمد عبدالعزيز صالح بابوبدوى', 'edu_administration': 'بيلا', 'passed': 1, 'arabic': '71.5', 'english': '48', 'third_lang': '39.5', 'history': 'غير مقرر', 'geograpgy': 'غير مقرر', 'philosophy': 'غير مقرر', 'psychology': 'غير مقرر', 'chemistry': '56', 'biology': '48', 'geology': '60', 'physics': '52', 'pure_math': 'غير مقرر', 'applied_math': 'غير مقرر', 'relegion': '21', 'nat_edu': '375.00', 'stat_eco': '28'}\n",
      "{'seat_no': '1459586', 'name': 'رحمه ابراهيم عبدالعزيز موسى العيسوي', 'total_marks': '380.00', 'percentage': '92.68 %', 'sc_name': 'الشهيد محمد محمد عبدالعزيز صالح بابوبدوى', 'edu_administration': 'بيلا', 'passed': 1, 'arabic': '76.5', 'english': '49.5', 'third_lang': '39.5', 'history': 'غير مقرر', 'geograpgy': 'غير مقرر', 'philosophy': 'غير مقرر', 'psychology': 'غير مقرر', 'chemistry': '55', 'biology': '44.5', 'geology': '60', 'physics': '55', 'pure_math': 'غير مقرر', 'applied_math': 'غير مقرر', 'relegion': '22', 'nat_edu': '380.00', 'stat_eco': '40'}\n",
      "{'seat_no': '1459587', 'name': 'رحمه احمد جمال الدين مصطفى الأبس', 'total_marks': '373.00', 'percentage': '90.98 %', 'sc_name': 'الشهيد محمد محمد عبدالعزيز صالح بابوبدوى', 'edu_administration': 'بيلا', 'passed': 1, 'arabic': '77.5', 'english': '49.5', 'third_lang': '39.5', 'history': 'غير مقرر', 'geograpgy': 'غير مقرر', 'philosophy': 'غير مقرر', 'psychology': 'غير مقرر', 'chemistry': '48', 'biology': '49.5', 'geology': '57', 'physics': '52', 'pure_math': 'غير مقرر', 'applied_math': 'غير مقرر', 'relegion': '22', 'nat_edu': '373.00', 'stat_eco': '36'}\n",
      "{'seat_no': '1459588', 'name': 'رحمه عبدالمعطي احمد محمد يوسف', 'total_marks': '315.50', 'percentage': '76.95 %', 'sc_name': 'الشهيد محمد محمد عبدالعزيز صالح بابوبدوى', 'edu_administration': 'بيلا', 'passed': 1, 'arabic': '67.5', 'english': '44.5', 'third_lang': '39.5', 'history': 'غير مقرر', 'geograpgy': 'غير مقرر', 'philosophy': 'غير مقرر', 'psychology': 'غير مقرر', 'chemistry': '33.5', 'biology': '37.5', 'geology': '51', 'physics': '42', 'pure_math': 'غير مقرر', 'applied_math': 'غير مقرر', 'relegion': '19', 'nat_edu': '315.50', 'stat_eco': '31'}\n",
      "{'seat_no': '1459589', 'name': 'رحمه هيثم محمد احمد عبدالمقصود', 'total_marks': '362.00', 'percentage': '88.29 %', 'sc_name': 'الشهيد محمد محمد عبدالعزيز صالح بابوبدوى', 'edu_administration': 'بيلا', 'passed': 1, 'arabic': '74', 'english': '46.5', 'third_lang': '39.5', 'history': 'غير مقرر', 'geograpgy': 'غير مقرر', 'philosophy': 'غير مقرر', 'psychology': 'غير مقرر', 'chemistry': '49.5', 'biology': '47.5', 'geology': '57', 'physics': '48', 'pure_math': 'غير مقرر', 'applied_math': 'غير مقرر', 'relegion': '22', 'nat_edu': '362.00', 'stat_eco': '36'}\n",
      "{'seat_no': '1459590', 'name': 'رحمه وليد على محمدعلي حسن', 'total_marks': '260.50', 'percentage': '63.54 %', 'sc_name': 'الشهيد محمد محمد عبدالعزيز صالح بابوبدوى', 'edu_administration': 'بيلا', 'passed': 1, 'arabic': '53', 'english': '32', 'third_lang': '29.5', 'history': 'غير مقرر', 'geograpgy': 'غير مقرر', 'philosophy': 'غير مقرر', 'psychology': 'غير مقرر', 'chemistry': '30', 'biology': '34', 'geology': '50.5', 'physics': '31.5', 'pure_math': 'غير مقرر', 'applied_math': 'غير مقرر', 'relegion': '17', 'nat_edu': '260.50', 'stat_eco': '25'}\n",
      "{'seat_no': '1459591', 'name': 'رنا عبدالحي وجدي محمد طافح', 'total_marks': '333.50', 'percentage': '81.34 %', 'sc_name': 'الشهيد محمد محمد عبدالعزيز صالح بابوبدوى', 'edu_administration': 'بيلا', 'passed': 1, 'arabic': '72', 'english': '42', 'third_lang': '37.5', 'history': 'غير مقرر', 'geograpgy': 'غير مقرر', 'philosophy': 'غير مقرر', 'psychology': 'غير مقرر', 'chemistry': '44', 'biology': '44.5', 'geology': '52', 'physics': '41.5', 'pure_math': 'غير مقرر', 'applied_math': 'غير مقرر', 'relegion': '17', 'nat_edu': '333.50', 'stat_eco': '32'}\n",
      "{'seat_no': '1459592', 'name': 'روان عماد محمد محمد البيلي', 'total_marks': '272.50', 'percentage': '66.46 %', 'sc_name': 'الشهيد محمد محمد عبدالعزيز صالح بابوبدوى', 'edu_administration': 'بيلا', 'passed': 1, 'arabic': '42', 'english': '32', 'third_lang': '36.5', 'history': 'غير مقرر', 'geograpgy': 'غير مقرر', 'philosophy': 'غير مقرر', 'psychology': 'غير مقرر', 'chemistry': '39', 'biology': '44', 'geology': '36', 'physics': '43', 'pure_math': 'غير مقرر', 'applied_math': 'غير مقرر', 'relegion': '19', 'nat_edu': '272.50', 'stat_eco': '33'}\n",
      "{'seat_no': '1459593', 'name': 'روان محمد محمد السعيد محمد يوسف', 'total_marks': '290.50', 'percentage': '70.85 %', 'sc_name': 'الشهيد محمد محمد عبدالعزيز صالح بابوبدوى', 'edu_administration': 'بيلا', 'passed': 1, 'arabic': '56', 'english': '36.5', 'third_lang': '39.5', 'history': 'غير مقرر', 'geograpgy': 'غير مقرر', 'philosophy': 'غير مقرر', 'psychology': 'غير مقرر', 'chemistry': '39', 'biology': '42', 'geology': '40.5', 'physics': '37', 'pure_math': 'غير مقرر', 'applied_math': 'غير مقرر', 'relegion': '18', 'nat_edu': '290.50', 'stat_eco': '32'}\n",
      "{'seat_no': '1459594', 'name': 'روان يوسف عبدالمحسن يوسف حماد', 'total_marks': '306.50', 'percentage': '74.76 %', 'sc_name': 'الشهيد محمد محمد عبدالعزيز صالح بابوبدوى', 'edu_administration': 'بيلا', 'passed': 1, 'arabic': '61', 'english': '39', 'third_lang': '34.5', 'history': 'غير مقرر', 'geograpgy': 'غير مقرر', 'philosophy': 'غير مقرر', 'psychology': 'غير مقرر', 'chemistry': '44', 'biology': '45', 'geology': '45.5', 'physics': '37.5', 'pure_math': 'غير مقرر', 'applied_math': 'غير مقرر', 'relegion': '20', 'nat_edu': '306.50', 'stat_eco': '29'}\n",
      "{'seat_no': '1459595', 'name': 'ريحانه وليد عطيه محمدالعزب', 'total_marks': '237.00', 'percentage': '57.80 %', 'sc_name': 'الشهيد محمد محمد عبدالعزيز صالح بابوبدوى', 'edu_administration': 'بيلا', 'passed': [0], 'arabic': '57', 'english': '35', 'third_lang': '28.5', 'history': 'غير مقرر', 'geograpgy': 'غير مقرر', 'philosophy': 'غير مقرر', 'psychology': 'غير مقرر', 'chemistry': '30', 'biology': '30', 'geology': '26.5', 'physics': '30', 'pure_math': 'غير مقرر', 'applied_math': 'غير مقرر', 'relegion': '15', 'nat_edu': '237.00', 'stat_eco': '28'}\n",
      "{'seat_no': '1459596', 'name': 'ريهام فتحي السيد ابواليزيد المغني', 'total_marks': '313.50', 'percentage': '76.46 %', 'sc_name': 'الشهيد محمد محمد عبدالعزيز صالح بابوبدوى', 'edu_administration': 'بيلا', 'passed': 1, 'arabic': '65.5', 'english': '41', 'third_lang': '39.5', 'history': 'غير مقرر', 'geograpgy': 'غير مقرر', 'philosophy': 'غير مقرر', 'psychology': 'غير مقرر', 'chemistry': '37', 'biology': '43', 'geology': '49', 'physics': '38.5', 'pure_math': 'غير مقرر', 'applied_math': 'غير مقرر', 'relegion': '20', 'nat_edu': '313.50', 'stat_eco': '33'}\n",
      "{'seat_no': '1459597', 'name': 'سارة محمود مسعود محمود حسنين', 'total_marks': '302.50', 'percentage': '73.78 %', 'sc_name': 'الشهيد محمد محمد عبدالعزيز صالح بابوبدوى', 'edu_administration': 'بيلا', 'passed': 1, 'arabic': '66.5', 'english': '36.5', 'third_lang': '34.5', 'history': 'غير مقرر', 'geograpgy': 'غير مقرر', 'philosophy': 'غير مقرر', 'psychology': 'غير مقرر', 'chemistry': '30', 'biology': '42', 'geology': '53.5', 'physics': '39.5', 'pure_math': 'غير مقرر', 'applied_math': 'غير مقرر', 'relegion': '19', 'nat_edu': '302.50', 'stat_eco': '31'}\n",
      "{'seat_no': '1459598', 'name': 'ساره مصطفى عبدالفتاح محمد يوسف', 'total_marks': '258.50', 'percentage': '63.05 %', 'sc_name': 'الشهيد محمد محمد عبدالعزيز صالح بابوبدوى', 'edu_administration': 'بيلا', 'passed': 1, 'arabic': '47.5', 'english': '48', 'third_lang': '23', 'history': 'غير مقرر', 'geograpgy': 'غير مقرر', 'philosophy': 'غير مقرر', 'psychology': 'غير مقرر', 'chemistry': '30', 'biology': '35', 'geology': '45', 'physics': '30', 'pure_math': 'غير مقرر', 'applied_math': 'غير مقرر', 'relegion': '17', 'nat_edu': '258.50', 'stat_eco': '25'}\n",
      "{'seat_no': '1459599', 'name': 'سعاد وليد عبدالدايم موسى العيسوي', 'total_marks': '263.50', 'percentage': '64.27 %', 'sc_name': 'الشهيد محمد محمد عبدالعزيز صالح بابوبدوى', 'edu_administration': 'بيلا', 'passed': 1, 'arabic': '55.5', 'english': '42', 'third_lang': '36', 'history': 'غير مقرر', 'geograpgy': 'غير مقرر', 'philosophy': 'غير مقرر', 'psychology': 'غير مقرر', 'chemistry': '30', 'biology': '30', 'geology': '40', 'physics': '30', 'pure_math': 'غير مقرر', 'applied_math': 'غير مقرر', 'relegion': '19', 'nat_edu': '263.50', 'stat_eco': '25'}\n",
      "{'seat_no': '1459600', 'name': 'شهد رضا محمود مصطفى محمود', 'total_marks': '267.00', 'percentage': '65.12 %', 'sc_name': 'الشهيد محمد محمد عبدالعزيز صالح بابوبدوى', 'edu_administration': 'بيلا', 'passed': 1, 'arabic': '58.5', 'english': '43.5', 'third_lang': '30.5', 'history': 'غير مقرر', 'geograpgy': 'غير مقرر', 'philosophy': 'غير مقرر', 'psychology': 'غير مقرر', 'chemistry': '30', 'biology': '30', 'geology': '44.5', 'physics': '30', 'pure_math': 'غير مقرر', 'applied_math': 'غير مقرر', 'relegion': '24', 'nat_edu': '267.00', 'stat_eco': '29'}\n",
      "{'seat_no': '1459601', 'name': 'شهد عوض حمدى عبدالقادر عبدالمقصود', 'total_marks': '322.50', 'percentage': '78.66 %', 'sc_name': 'الشهيد محمد محمد عبدالعزيز صالح بابوبدوى', 'edu_administration': 'بيلا', 'passed': 1, 'arabic': '69', 'english': '42.5', 'third_lang': '39.5', 'history': 'غير مقرر', 'geograpgy': 'غير مقرر', 'philosophy': 'غير مقرر', 'psychology': 'غير مقرر', 'chemistry': '35.5', 'biology': '39', 'geology': '54', 'physics': '43', 'pure_math': 'غير مقرر', 'applied_math': 'غير مقرر', 'relegion': '22', 'nat_edu': '322.50', 'stat_eco': '30'}\n",
      "{'seat_no': '1459602', 'name': 'شهد ممدوح كامل عبدالحميد احمد', 'total_marks': '289.50', 'percentage': '70.61 %', 'sc_name': 'الشهيد محمد محمد عبدالعزيز صالح بابوبدوى', 'edu_administration': 'بيلا', 'passed': 1, 'arabic': '48', 'english': '42', 'third_lang': '26.5', 'history': 'غير مقرر', 'geograpgy': 'غير مقرر', 'philosophy': 'غير مقرر', 'psychology': 'غير مقرر', 'chemistry': '44', 'biology': '45', 'geology': '45.5', 'physics': '38.5', 'pure_math': 'غير مقرر', 'applied_math': 'غير مقرر', 'relegion': '20', 'nat_edu': '289.50', 'stat_eco': '29'}\n",
      "{'seat_no': '1459603', 'name': 'شيماء السيد البيلي السيد صالح', 'total_marks': '303.50', 'percentage': '74.02 %', 'sc_name': 'الشهيد محمد محمد عبدالعزيز صالح بابوبدوى', 'edu_administration': 'بيلا', 'passed': 1, 'arabic': '40.5', 'english': '40', 'third_lang': '30.5', 'history': 'غير مقرر', 'geograpgy': 'غير مقرر', 'philosophy': 'غير مقرر', 'psychology': 'غير مقرر', 'chemistry': '51', 'biology': '46', 'geology': '47.5', 'physics': '48', 'pure_math': 'غير مقرر', 'applied_math': 'غير مقرر', 'relegion': '20', 'nat_edu': '303.50', 'stat_eco': '30'}\n",
      "{'seat_no': '1459604', 'name': 'فاطمة منير موسى عبدالفتاح محمود', 'total_marks': '324.50', 'percentage': '79.15 %', 'sc_name': 'الشهيد محمد محمد عبدالعزيز صالح بابوبدوى', 'edu_administration': 'بيلا', 'passed': 1, 'arabic': '69.5', 'english': '47', 'third_lang': '39', 'history': 'غير مقرر', 'geograpgy': 'غير مقرر', 'philosophy': 'غير مقرر', 'psychology': 'غير مقرر', 'chemistry': '39.5', 'biology': '41.5', 'geology': '51.5', 'physics': '36.5', 'pure_math': 'غير مقرر', 'applied_math': 'غير مقرر', 'relegion': '20', 'nat_edu': '324.50', 'stat_eco': '34'}\n",
      "{'seat_no': '1459605', 'name': 'فاطمه احمد محمد النبوي محمد', 'total_marks': '287.50', 'percentage': '70.12 %', 'sc_name': 'الشهيد محمد محمد عبدالعزيز صالح بابوبدوى', 'edu_administration': 'بيلا', 'passed': 1, 'arabic': '56', 'english': '36.5', 'third_lang': '36.5', 'history': 'غير مقرر', 'geograpgy': 'غير مقرر', 'philosophy': 'غير مقرر', 'psychology': 'غير مقرر', 'chemistry': '30', 'biology': '42.5', 'geology': '53.5', 'physics': '32.5', 'pure_math': 'غير مقرر', 'applied_math': 'غير مقرر', 'relegion': '19', 'nat_edu': '287.50', 'stat_eco': '29'}\n",
      "{'seat_no': '1459606', 'name': 'فاطمه اشرف محمد عبدالوهاب بدر', 'total_marks': '317.00', 'percentage': '77.32 %', 'sc_name': 'الشهيد محمد محمد عبدالعزيز صالح بابوبدوى', 'edu_administration': 'بيلا', 'passed': 1, 'arabic': '48.5', 'english': '44', 'third_lang': '39.5', 'history': 'غير مقرر', 'geograpgy': 'غير مقرر', 'philosophy': 'غير مقرر', 'psychology': 'غير مقرر', 'chemistry': '45', 'biology': '45', 'geology': '48', 'physics': '47', 'pure_math': 'غير مقرر', 'applied_math': 'غير مقرر', 'relegion': '20', 'nat_edu': '317.00', 'stat_eco': '29'}\n",
      "{'seat_no': '1459607', 'name': 'فاطمه عادل جمال الدين مصطفى الابس', 'total_marks': '271.50', 'percentage': '66.22 %', 'sc_name': 'الشهيد محمد محمد عبدالعزيز صالح بابوبدوى', 'edu_administration': 'بيلا', 'passed': 1, 'arabic': '40.5', 'english': '39', 'third_lang': '28.5', 'history': 'غير مقرر', 'geograpgy': 'غير مقرر', 'philosophy': 'غير مقرر', 'psychology': 'غير مقرر', 'chemistry': '42', 'biology': '44.5', 'geology': '44', 'physics': '33', 'pure_math': 'غير مقرر', 'applied_math': 'غير مقرر', 'relegion': '18', 'nat_edu': '271.50', 'stat_eco': '28'}\n",
      "{'seat_no': '1459608', 'name': 'فاطمه عبدالمحسن عبدالفتاح احمد غازي', 'total_marks': '240.50', 'percentage': '58.66 %', 'sc_name': 'الشهيد محمد محمد عبدالعزيز صالح بابوبدوى', 'edu_administration': 'بيلا', 'passed': 1, 'arabic': '54', 'english': '35', 'third_lang': '23.5', 'history': 'غير مقرر', 'geograpgy': 'غير مقرر', 'philosophy': 'غير مقرر', 'psychology': 'غير مقرر', 'chemistry': '30', 'biology': '30', 'geology': '38', 'physics': '30', 'pure_math': 'غير مقرر', 'applied_math': 'غير مقرر', 'relegion': '19', 'nat_edu': '240.50', 'stat_eco': '27'}\n",
      "{'seat_no': '1459609', 'name': 'فاطمه فراج الالفى فرحات محمد الالفى', 'total_marks': '289.50', 'percentage': '70.61 %', 'sc_name': 'الشهيد محمد محمد عبدالعزيز صالح بابوبدوى', 'edu_administration': 'بيلا', 'passed': 1, 'arabic': '51.5', 'english': '39', 'third_lang': '37.5', 'history': 'غير مقرر', 'geograpgy': 'غير مقرر', 'philosophy': 'غير مقرر', 'psychology': 'غير مقرر', 'chemistry': '30', 'biology': '42', 'geology': '48', 'physics': '41.5', 'pure_math': 'غير مقرر', 'applied_math': 'غير مقرر', 'relegion': '19', 'nat_edu': '289.50', 'stat_eco': '26'}\n",
      "{'seat_no': '1459610', 'name': 'فريده اشرف السيد ابراهيم ابراهيم', 'total_marks': '279.00', 'percentage': '68.05 %', 'sc_name': 'الشهيد محمد محمد عبدالعزيز صالح بابوبدوى', 'edu_administration': 'بيلا', 'passed': [0], 'arabic': '29.5', 'english': '45', 'third_lang': '33.5', 'history': 'غير مقرر', 'geograpgy': 'غير مقرر', 'philosophy': 'غير مقرر', 'psychology': 'غير مقرر', 'chemistry': '33', 'biology': '48', 'geology': '44.5', 'physics': '45.5', 'pure_math': 'غير مقرر', 'applied_math': 'غير مقرر', 'relegion': '19', 'nat_edu': '279.00', 'stat_eco': '25'}\n",
      "{'seat_no': '1459611', 'name': 'لطيفه مصطفى محمد سعد محمد عوض', 'total_marks': '322.00', 'percentage': '78.54 %', 'sc_name': 'الشهيد محمد محمد عبدالعزيز صالح بابوبدوى', 'edu_administration': 'بيلا', 'passed': 1, 'arabic': '69', 'english': '36', 'third_lang': '38.5', 'history': 'غير مقرر', 'geograpgy': 'غير مقرر', 'philosophy': 'غير مقرر', 'psychology': 'غير مقرر', 'chemistry': '42', 'biology': '46.5', 'geology': '51.5', 'physics': '38.5', 'pure_math': 'غير مقرر', 'applied_math': 'غير مقرر', 'relegion': '22', 'nat_edu': '322.00', 'stat_eco': '38'}\n",
      "{'seat_no': '1459612', 'name': 'مرام صالح المتولى صالح حسن', 'total_marks': '356.50', 'percentage': '86.95 %', 'sc_name': 'الشهيد محمد محمد عبدالعزيز صالح بابوبدوى', 'edu_administration': 'بيلا', 'passed': 1, 'arabic': '73', 'english': '45', 'third_lang': '38.5', 'history': 'غير مقرر', 'geograpgy': 'غير مقرر', 'philosophy': 'غير مقرر', 'psychology': 'غير مقرر', 'chemistry': '49', 'biology': '46', 'geology': '57', 'physics': '48', 'pure_math': 'غير مقرر', 'applied_math': 'غير مقرر', 'relegion': '22', 'nat_edu': '356.50', 'stat_eco': '38'}\n",
      "{'seat_no': '1459613', 'name': 'مروه الشحات عبد الله احمد محمد متولى', 'total_marks': '235.00', 'percentage': '57.32 %', 'sc_name': 'الشهيد محمد محمد عبدالعزيز صالح بابوبدوى', 'edu_administration': 'بيلا', 'passed': [0], 'arabic': '63', 'english': '11', 'third_lang': '20', 'history': 'غير مقرر', 'geograpgy': 'غير مقرر', 'philosophy': 'غير مقرر', 'psychology': 'غير مقرر', 'chemistry': '30', 'biology': '45.5', 'geology': '35.5', 'physics': '30', 'pure_math': 'غير مقرر', 'applied_math': 'غير مقرر', 'relegion': '18', 'nat_edu': '235.00', 'stat_eco': '31'}\n",
      "{'seat_no': '1459614', 'name': 'مريم طارق محمد عبد القادر عبدالمقصود', 'total_marks': '302.00', 'percentage': '73.66 %', 'sc_name': 'الشهيد محمد محمد عبدالعزيز صالح بابوبدوى', 'edu_administration': 'بيلا', 'passed': 1, 'arabic': '67.5', 'english': '34.5', 'third_lang': '39.5', 'history': 'غير مقرر', 'geograpgy': 'غير مقرر', 'philosophy': 'غير مقرر', 'psychology': 'غير مقرر', 'chemistry': '32.5', 'biology': '45.5', 'geology': '52.5', 'physics': '30', 'pure_math': 'غير مقرر', 'applied_math': 'غير مقرر', 'relegion': '17', 'nat_edu': '302.00', 'stat_eco': '38'}\n",
      "{'seat_no': '1459615', 'name': 'مريم محمد عبدالرؤف محمد الدسوقي', 'total_marks': '310.00', 'percentage': '75.61 %', 'sc_name': 'الشهيد محمد محمد عبدالعزيز صالح بابوبدوى', 'edu_administration': 'بيلا', 'passed': 1, 'arabic': '66', 'english': '35', 'third_lang': '39', 'history': 'غير مقرر', 'geograpgy': 'غير مقرر', 'philosophy': 'غير مقرر', 'psychology': 'غير مقرر', 'chemistry': '40', 'biology': '49', 'geology': '50', 'physics': '31', 'pure_math': 'غير مقرر', 'applied_math': 'غير مقرر', 'relegion': '19', 'nat_edu': '310.00', 'stat_eco': '40'}\n",
      "{'seat_no': '1459616', 'name': 'منار الشحات محمد السيد عبدالهادي', 'total_marks': '269.50', 'percentage': '65.73 %', 'sc_name': 'الشهيد محمد محمد عبدالعزيز صالح بابوبدوى', 'edu_administration': 'بيلا', 'passed': [0], 'arabic': '67.5', 'english': '30', 'third_lang': '38.5', 'history': 'غير مقرر', 'geograpgy': 'غير مقرر', 'philosophy': 'غير مقرر', 'psychology': 'غير مقرر', 'chemistry': '30', 'biology': '42', 'geology': '47.5', 'physics': '14', 'pure_math': 'غير مقرر', 'applied_math': 'غير مقرر', 'relegion': '18', 'nat_edu': '269.50', 'stat_eco': '31'}\n",
      "{'seat_no': '1459617', 'name': 'منةالله صفوت محمود حافظ عوض', 'total_marks': '311.00', 'percentage': '75.85 %', 'sc_name': 'الشهيد محمد محمد عبدالعزيز صالح بابوبدوى', 'edu_administration': 'بيلا', 'passed': 1, 'arabic': '72', 'english': '44', 'third_lang': '39', 'history': 'غير مقرر', 'geograpgy': 'غير مقرر', 'philosophy': 'غير مقرر', 'psychology': 'غير مقرر', 'chemistry': '30', 'biology': '44.5', 'geology': '51.5', 'physics': '30', 'pure_math': 'غير مقرر', 'applied_math': 'غير مقرر', 'relegion': '19', 'nat_edu': '311.00', 'stat_eco': '28'}\n",
      "{'seat_no': '1459618', 'name': 'منه ابراهيم عبد المنعم ابراهيم غالى', 'total_marks': '266.00', 'percentage': '64.88 %', 'sc_name': 'الشهيد محمد محمد عبدالعزيز صالح بابوبدوى', 'edu_administration': 'بيلا', 'passed': 1, 'arabic': '50', 'english': '33', 'third_lang': '39.5', 'history': 'غير مقرر', 'geograpgy': 'غير مقرر', 'philosophy': 'غير مقرر', 'psychology': 'غير مقرر', 'chemistry': '30', 'biology': '39', 'geology': '44.5', 'physics': '30', 'pure_math': 'غير مقرر', 'applied_math': 'غير مقرر', 'relegion': '17', 'nat_edu': '266.00', 'stat_eco': '35'}\n",
      "{'seat_no': '1459619', 'name': 'منه حمدي عبدالحليم حامد ماضي', 'total_marks': '285.50', 'percentage': '69.63 %', 'sc_name': 'الشهيد محمد محمد عبدالعزيز صالح بابوبدوى', 'edu_administration': 'بيلا', 'passed': 1, 'arabic': '66.5', 'english': '31', 'third_lang': '39.5', 'history': 'غير مقرر', 'geograpgy': 'غير مقرر', 'philosophy': 'غير مقرر', 'psychology': 'غير مقرر', 'chemistry': '30', 'biology': '46.5', 'geology': '42', 'physics': '30', 'pure_math': 'غير مقرر', 'applied_math': 'غير مقرر', 'relegion': '18', 'nat_edu': '285.50', 'stat_eco': '35'}\n",
      "{'seat_no': '1459620', 'name': 'منه رضا عبدالعزيز مصطفى احمد', 'total_marks': '296.00', 'percentage': '72.20 %', 'sc_name': 'الشهيد محمد محمد عبدالعزيز صالح بابوبدوى', 'edu_administration': 'بيلا', 'passed': 1, 'arabic': '67.5', 'english': '37', 'third_lang': '39', 'history': 'غير مقرر', 'geograpgy': 'غير مقرر', 'philosophy': 'غير مقرر', 'psychology': 'غير مقرر', 'chemistry': '30', 'biology': '50', 'geology': '42.5', 'physics': '30', 'pure_math': 'غير مقرر', 'applied_math': 'غير مقرر', 'relegion': '18', 'nat_edu': '296.00', 'stat_eco': '37'}\n",
      "{'seat_no': '1459621', 'name': 'منه رضا عبدالغفور عبدالرازق المغازي', 'total_marks': '296.00', 'percentage': '72.20 %', 'sc_name': 'الشهيد محمد محمد عبدالعزيز صالح بابوبدوى', 'edu_administration': 'بيلا', 'passed': 1, 'arabic': '63.5', 'english': '40', 'third_lang': '39', 'history': 'غير مقرر', 'geograpgy': 'غير مقرر', 'philosophy': 'غير مقرر', 'psychology': 'غير مقرر', 'chemistry': '31', 'biology': '42.5', 'geology': '50', 'physics': '30', 'pure_math': 'غير مقرر', 'applied_math': 'غير مقرر', 'relegion': '19', 'nat_edu': '296.00', 'stat_eco': '29'}\n",
      "{'seat_no': '1459622', 'name': 'منه رمضان السيد محمد بلاطه', 'total_marks': '269.00', 'percentage': '65.61 %', 'sc_name': 'الشهيد محمد محمد عبدالعزيز صالح بابوبدوى', 'edu_administration': 'بيلا', 'passed': [0], 'arabic': '65.5', 'english': '33', 'third_lang': '37.5', 'history': 'غير مقرر', 'geograpgy': 'غير مقرر', 'philosophy': 'غير مقرر', 'psychology': 'غير مقرر', 'chemistry': '13.5', 'biology': '44', 'geology': '45.5', 'physics': '30', 'pure_math': 'غير مقرر', 'applied_math': 'غير مقرر', 'relegion': '21', 'nat_edu': '269.00', 'stat_eco': '32'}\n",
      "{'seat_no': '1459623', 'name': 'منه زهري مصطفى يوسف زهري', 'total_marks': '299.50', 'percentage': '73.05 %', 'sc_name': 'الشهيد محمد محمد عبدالعزيز صالح بابوبدوى', 'edu_administration': 'بيلا', 'passed': 1, 'arabic': '61.5', 'english': '28', 'third_lang': '38.5', 'history': 'غير مقرر', 'geograpgy': 'غير مقرر', 'philosophy': 'غير مقرر', 'psychology': 'غير مقرر', 'chemistry': '37.5', 'biology': '43', 'geology': '49', 'physics': '42', 'pure_math': 'غير مقرر', 'applied_math': 'غير مقرر', 'relegion': '19', 'nat_edu': '299.50', 'stat_eco': '36'}\n",
      "{'seat_no': '1459624', 'name': 'منى كامل حلمى ابراهيم كامل', 'total_marks': '322.00', 'percentage': '78.54 %', 'sc_name': 'الشهيد محمد محمد عبدالعزيز صالح بابوبدوى', 'edu_administration': 'بيلا', 'passed': 1, 'arabic': '74.5', 'english': '44', 'third_lang': '39.5', 'history': 'غير مقرر', 'geograpgy': 'غير مقرر', 'philosophy': 'غير مقرر', 'psychology': 'غير مقرر', 'chemistry': '40.5', 'biology': '43.5', 'geology': '49', 'physics': '31', 'pure_math': 'غير مقرر', 'applied_math': 'غير مقرر', 'relegion': '23', 'nat_edu': '322.00', 'stat_eco': '39'}\n",
      "{'seat_no': '1459625', 'name': 'منى محمد عبدالحق سيداحمد الشناوي', 'total_marks': '295.50', 'percentage': '72.07 %', 'sc_name': 'الشهيد محمد محمد عبدالعزيز صالح بابوبدوى', 'edu_administration': 'بيلا', 'passed': 1, 'arabic': '69.5', 'english': '39', 'third_lang': '38.5', 'history': 'غير مقرر', 'geograpgy': 'غير مقرر', 'philosophy': 'غير مقرر', 'psychology': 'غير مقرر', 'chemistry': '30', 'biology': '43.5', 'geology': '45', 'physics': '30', 'pure_math': 'غير مقرر', 'applied_math': 'غير مقرر', 'relegion': '22', 'nat_edu': '295.50', 'stat_eco': '36'}\n",
      "{'seat_no': '1459626', 'name': 'مى السيد سمير مصطفى', 'total_marks': '264.00', 'percentage': '64.39 %', 'sc_name': 'الشهيد محمد محمد عبدالعزيز صالح بابوبدوى', 'edu_administration': 'بيلا', 'passed': 1, 'arabic': '59', 'english': '35', 'third_lang': '35.5', 'history': 'غير مقرر', 'geograpgy': 'غير مقرر', 'philosophy': 'غير مقرر', 'psychology': 'غير مقرر', 'chemistry': '30', 'biology': '42.5', 'geology': '32', 'physics': '30', 'pure_math': 'غير مقرر', 'applied_math': 'غير مقرر', 'relegion': '22', 'nat_edu': '264.00', 'stat_eco': '34'}\n",
      "{'seat_no': '1459627', 'name': 'ندى تامر محمد عبدالعزيز سليمان', 'total_marks': '309.00', 'percentage': '75.37 %', 'sc_name': 'الشهيد محمد محمد عبدالعزيز صالح بابوبدوى', 'edu_administration': 'بيلا', 'passed': 1, 'arabic': '71', 'english': '40', 'third_lang': '39.5', 'history': 'غير مقرر', 'geograpgy': 'غير مقرر', 'philosophy': 'غير مقرر', 'psychology': 'غير مقرر', 'chemistry': '30', 'biology': '43.5', 'geology': '55', 'physics': '30', 'pure_math': 'غير مقرر', 'applied_math': 'غير مقرر', 'relegion': '22', 'nat_edu': '309.00', 'stat_eco': '35'}\n",
      "{'seat_no': '1459628', 'name': 'ندى محمود فتوح اسماعيل محمد', 'total_marks': '290.50', 'percentage': '70.85 %', 'sc_name': 'الشهيد محمد محمد عبدالعزيز صالح بابوبدوى', 'edu_administration': 'بيلا', 'passed': 1, 'arabic': '63', 'english': '38.5', 'third_lang': '39.5', 'history': 'غير مقرر', 'geograpgy': 'غير مقرر', 'philosophy': 'غير مقرر', 'psychology': 'غير مقرر', 'chemistry': '30', 'biology': '48', 'geology': '41.5', 'physics': '30', 'pure_math': 'غير مقرر', 'applied_math': 'غير مقرر', 'relegion': '19', 'nat_edu': '290.50', 'stat_eco': '36'}\n",
      "{'seat_no': '1459629', 'name': 'نورا عبدالرشيد الدمرداش حامد', 'total_marks': '326.00', 'percentage': '79.51 %', 'sc_name': 'الشهيد محمد محمد عبدالعزيز صالح بابوبدوى', 'edu_administration': 'بيلا', 'passed': 1, 'arabic': '72.5', 'english': '49', 'third_lang': '39.5', 'history': 'غير مقرر', 'geograpgy': 'غير مقرر', 'philosophy': 'غير مقرر', 'psychology': 'غير مقرر', 'chemistry': '37', 'biology': '47', 'geology': '51', 'physics': '30', 'pure_math': 'غير مقرر', 'applied_math': 'غير مقرر', 'relegion': '21', 'nat_edu': '326.00', 'stat_eco': '27'}\n",
      "{'seat_no': '1459630', 'name': 'نوران نجاح انور عبد العال البيلى', 'total_marks': '216.00', 'percentage': '52.68 %', 'sc_name': 'الشهيد محمد محمد عبدالعزيز صالح بابوبدوى', 'edu_administration': 'بيلا', 'passed': [0], 'arabic': '52.5', 'english': '25', 'third_lang': '26', 'history': 'غير مقرر', 'geograpgy': 'غير مقرر', 'philosophy': 'غير مقرر', 'psychology': 'غير مقرر', 'chemistry': '13', 'biology': '30', 'geology': '39.5', 'physics': '30', 'pure_math': 'غير مقرر', 'applied_math': 'غير مقرر', 'relegion': '19', 'nat_edu': '216.00', 'stat_eco': '25'}\n",
      "{'seat_no': '1459631', 'name': 'نيفين محمد علي حسن', 'total_marks': '280.00', 'percentage': '68.29 %', 'sc_name': 'الشهيد محمد محمد عبدالعزيز صالح بابوبدوى', 'edu_administration': 'بيلا', 'passed': 1, 'arabic': '58.5', 'english': '38', 'third_lang': '37', 'history': 'غير مقرر', 'geograpgy': 'غير مقرر', 'philosophy': 'غير مقرر', 'psychology': 'غير مقرر', 'chemistry': '30', 'biology': '40', 'geology': '46.5', 'physics': '30', 'pure_math': 'غير مقرر', 'applied_math': 'غير مقرر', 'relegion': '16', 'nat_edu': '280.00', 'stat_eco': '25'}\n",
      "{'seat_no': '1459632', 'name': 'هاجر ابراهيم محمود السيد عطية', 'total_marks': '250.00', 'percentage': '60.98 %', 'sc_name': 'الشهيد محمد محمد عبدالعزيز صالح بابوبدوى', 'edu_administration': 'بيلا', 'passed': 1, 'arabic': '56.5', 'english': '33.5', 'third_lang': '33.5', 'history': 'غير مقرر', 'geograpgy': 'غير مقرر', 'philosophy': 'غير مقرر', 'psychology': 'غير مقرر', 'chemistry': '30', 'biology': '30', 'geology': '36.5', 'physics': '30', 'pure_math': 'غير مقرر', 'applied_math': 'غير مقرر', 'relegion': '20', 'nat_edu': '250.00', 'stat_eco': '25'}\n",
      "{'seat_no': '1459633', 'name': 'هاجر زغلول عبد الحليم أبو شعيشع جاد الله', 'total_marks': '258.50', 'percentage': '63.05 %', 'sc_name': 'الشهيد محمد محمد عبدالعزيز صالح بابوبدوى', 'edu_administration': 'بيلا', 'passed': [0], 'arabic': '65.5', 'english': '34', 'third_lang': '33.5', 'history': 'غير مقرر', 'geograpgy': 'غير مقرر', 'philosophy': 'غير مقرر', 'psychology': 'غير مقرر', 'chemistry': '13', 'biology': '38', 'geology': '44.5', 'physics': '30', 'pure_math': 'غير مقرر', 'applied_math': 'غير مقرر', 'relegion': '17', 'nat_edu': '258.50', 'stat_eco': '25'}\n",
      "{'seat_no': '1459634', 'name': 'هانم محمود محمد السيد', 'total_marks': '262.00', 'percentage': '63.90 %', 'sc_name': 'الشهيد محمد محمد عبدالعزيز صالح بابوبدوى', 'edu_administration': 'بيلا', 'passed': 1, 'arabic': '47', 'english': '36', 'third_lang': '39.5', 'history': 'غير مقرر', 'geograpgy': 'غير مقرر', 'philosophy': 'غير مقرر', 'psychology': 'غير مقرر', 'chemistry': '30', 'biology': '33.5', 'geology': '46', 'physics': '30', 'pure_math': 'غير مقرر', 'applied_math': 'غير مقرر', 'relegion': '20', 'nat_edu': '262.00', 'stat_eco': '31'}\n",
      "{'seat_no': '1459635', 'name': 'هبه احمد السيد علي محمد عبدالعال', 'total_marks': '238.50', 'percentage': '58.17 %', 'sc_name': 'الشهيد محمد محمد عبدالعزيز صالح بابوبدوى', 'edu_administration': 'بيلا', 'passed': [0], 'arabic': '52.5', 'english': '36', 'third_lang': '38.5', 'history': 'غير مقرر', 'geograpgy': 'غير مقرر', 'philosophy': 'غير مقرر', 'psychology': 'غير مقرر', 'chemistry': '30', 'biology': '36.5', 'geology': '32', 'physics': '13', 'pure_math': 'غير مقرر', 'applied_math': 'غير مقرر', 'relegion': '18', 'nat_edu': '238.50', 'stat_eco': '25'}\n",
      "{'seat_no': '1459636', 'name': 'هبه كامل مجاهد العوضى سلام', 'total_marks': '335.50', 'percentage': '81.83 %', 'sc_name': 'الشهيد محمد محمد عبدالعزيز صالح بابوبدوى', 'edu_administration': 'بيلا', 'passed': 1, 'arabic': '73', 'english': '34.5', 'third_lang': '39.5', 'history': 'غير مقرر', 'geograpgy': 'غير مقرر', 'philosophy': 'غير مقرر', 'psychology': 'غير مقرر', 'chemistry': '42.5', 'biology': '47', 'geology': '54', 'physics': '45', 'pure_math': 'غير مقرر', 'applied_math': 'غير مقرر', 'relegion': '22', 'nat_edu': '335.50', 'stat_eco': '36'}\n",
      "{'seat_no': '1459637', 'name': 'هبه محمد علي عبدالفتاح مرزوق', 'total_marks': '300.50', 'percentage': '73.29 %', 'sc_name': 'الشهيد محمد محمد عبدالعزيز صالح بابوبدوى', 'edu_administration': 'بيلا', 'passed': 1, 'arabic': '57', 'english': '37.5', 'third_lang': '39.5', 'history': 'غير مقرر', 'geograpgy': 'غير مقرر', 'philosophy': 'غير مقرر', 'psychology': 'غير مقرر', 'chemistry': '39', 'biology': '38.5', 'geology': '50.5', 'physics': '38.5', 'pure_math': 'غير مقرر', 'applied_math': 'غير مقرر', 'relegion': '19', 'nat_edu': '300.50', 'stat_eco': '27'}\n",
      "{'seat_no': '1459638', 'name': 'هدير ناصر سعد الصاوى كشكه', 'total_marks': '303.50', 'percentage': '74.02 %', 'sc_name': 'الشهيد محمد محمد عبدالعزيز صالح بابوبدوى', 'edu_administration': 'بيلا', 'passed': 1, 'arabic': '62', 'english': '36', 'third_lang': '39.5', 'history': 'غير مقرر', 'geograpgy': 'غير مقرر', 'philosophy': 'غير مقرر', 'psychology': 'غير مقرر', 'chemistry': '41.5', 'biology': '37.5', 'geology': '51', 'physics': '36', 'pure_math': 'غير مقرر', 'applied_math': 'غير مقرر', 'relegion': '21', 'nat_edu': '303.50', 'stat_eco': '32'}\n",
      "{'seat_no': '1459639', 'name': 'هناء طارق عبدالحق المغازي علي', 'total_marks': '270.00', 'percentage': '65.85 %', 'sc_name': 'الشهيد محمد محمد عبدالعزيز صالح بابوبدوى', 'edu_administration': 'بيلا', 'passed': 1, 'arabic': '53', 'english': '39', 'third_lang': '38.5', 'history': 'غير مقرر', 'geograpgy': 'غير مقرر', 'philosophy': 'غير مقرر', 'psychology': 'غير مقرر', 'chemistry': '30', 'biology': '33.5', 'geology': '46', 'physics': '30', 'pure_math': 'غير مقرر', 'applied_math': 'غير مقرر', 'relegion': '18', 'nat_edu': '270.00', 'stat_eco': '30'}\n",
      "{'seat_no': '1459640', 'name': 'هناء مصطفى احمد جاد جاد', 'total_marks': '257.50', 'percentage': '62.80 %', 'sc_name': 'الشهيد محمد محمد عبدالعزيز صالح بابوبدوى', 'edu_administration': 'بيلا', 'passed': 1, 'arabic': '50.5', 'english': '37', 'third_lang': '31', 'history': 'غير مقرر', 'geograpgy': 'غير مقرر', 'philosophy': 'غير مقرر', 'psychology': 'غير مقرر', 'chemistry': '30', 'biology': '36.5', 'geology': '42.5', 'physics': '30', 'pure_math': 'غير مقرر', 'applied_math': 'غير مقرر', 'relegion': '20', 'nat_edu': '257.50', 'stat_eco': '26'}\n",
      "{'seat_no': '1459641', 'name': 'هند علي العرابي محمد السيد', 'total_marks': '258.50', 'percentage': '63.05 %', 'sc_name': 'الشهيد محمد محمد عبدالعزيز صالح بابوبدوى', 'edu_administration': 'بيلا', 'passed': 1, 'arabic': '46.5', 'english': '31', 'third_lang': '33.5', 'history': 'غير مقرر', 'geograpgy': 'غير مقرر', 'philosophy': 'غير مقرر', 'psychology': 'غير مقرر', 'chemistry': '30', 'biology': '42', 'geology': '45.5', 'physics': '30', 'pure_math': 'غير مقرر', 'applied_math': 'غير مقرر', 'relegion': '19', 'nat_edu': '258.50', 'stat_eco': '26'}\n",
      "{'seat_no': '1459642', 'name': 'وداد عوض عبد الرحمن عوض حموده', 'total_marks': '261.00', 'percentage': '63.66 %', 'sc_name': 'الشهيد محمد محمد عبدالعزيز صالح بابوبدوى', 'edu_administration': 'بيلا', 'passed': [0], 'arabic': '52.5', 'english': '33', 'third_lang': '36.5', 'history': 'غير مقرر', 'geograpgy': 'غير مقرر', 'philosophy': 'غير مقرر', 'psychology': 'غير مقرر', 'chemistry': '14', 'biology': '46', 'geology': '49', 'physics': '30', 'pure_math': 'غير مقرر', 'applied_math': 'غير مقرر', 'relegion': '21', 'nat_edu': '261.00', 'stat_eco': '25'}\n",
      "{'seat_no': '1459643', 'name': 'يارا سعيد عبدالله متولي عبدالله', 'total_marks': '284.50', 'percentage': '69.39 %', 'sc_name': 'الشهيد محمد محمد عبدالعزيز صالح بابوبدوى', 'edu_administration': 'بيلا', 'passed': 1, 'arabic': '56.5', 'english': '36', 'third_lang': '37.5', 'history': 'غير مقرر', 'geograpgy': 'غير مقرر', 'philosophy': 'غير مقرر', 'psychology': 'غير مقرر', 'chemistry': '30', 'biology': '47', 'geology': '47.5', 'physics': '30', 'pure_math': 'غير مقرر', 'applied_math': 'غير مقرر', 'relegion': '21', 'nat_edu': '284.50', 'stat_eco': '29'}\n",
      "{'seat_no': '1459644', 'name': 'يارا عبدالمعبود نبيه كامل مسلم', 'total_marks': '289.50', 'percentage': '70.61 %', 'sc_name': 'الشهيد محمد محمد عبدالعزيز صالح بابوبدوى', 'edu_administration': 'بيلا', 'passed': 1, 'arabic': '62.5', 'english': '40.5', 'third_lang': '39.5', 'history': 'غير مقرر', 'geograpgy': 'غير مقرر', 'philosophy': 'غير مقرر', 'psychology': 'غير مقرر', 'chemistry': '30', 'biology': '36', 'geology': '51', 'physics': '30', 'pure_math': 'غير مقرر', 'applied_math': 'غير مقرر', 'relegion': '23', 'nat_edu': '289.50', 'stat_eco': '34'}\n",
      "{'seat_no': '1459645', 'name': 'ياسمين سعيد عبدالله متولي عبدالله', 'total_marks': '294.00', 'percentage': '71.71 %', 'sc_name': 'الشهيد محمد محمد عبدالعزيز صالح بابوبدوى', 'edu_administration': 'بيلا', 'passed': 1, 'arabic': '56', 'english': '38', 'third_lang': '38.5', 'history': 'غير مقرر', 'geograpgy': 'غير مقرر', 'philosophy': 'غير مقرر', 'psychology': 'غير مقرر', 'chemistry': '30', 'biology': '46', 'geology': '49.5', 'physics': '36', 'pure_math': 'غير مقرر', 'applied_math': 'غير مقرر', 'relegion': '22', 'nat_edu': '294.00', 'stat_eco': '30'}\n",
      "{'seat_no': '1459646', 'name': 'ياسمين محمود عبدالحميد عبدالله حجه', 'total_marks': '304.00', 'percentage': '74.15 %', 'sc_name': 'الشهيد محمد محمد عبدالعزيز صالح بابوبدوى', 'edu_administration': 'بيلا', 'passed': 1, 'arabic': '70.5', 'english': '41', 'third_lang': '37', 'history': 'غير مقرر', 'geograpgy': 'غير مقرر', 'philosophy': 'غير مقرر', 'psychology': 'غير مقرر', 'chemistry': '30', 'biology': '40', 'geology': '55.5', 'physics': '30', 'pure_math': 'غير مقرر', 'applied_math': 'غير مقرر', 'relegion': '19', 'nat_edu': '304.00', 'stat_eco': '27'}\n",
      "{'seat_no': '1459647', 'name': 'ياسمين مصطفى عمر عبدالمعبود علي علي داود', 'total_marks': '259.00', 'percentage': '63.17 %', 'sc_name': 'الشهيد محمد محمد عبدالعزيز صالح بابوبدوى', 'edu_administration': 'بيلا', 'passed': 1, 'arabic': '55.5', 'english': '25', 'third_lang': '26', 'history': 'غير مقرر', 'geograpgy': 'غير مقرر', 'philosophy': 'غير مقرر', 'psychology': 'غير مقرر', 'chemistry': '30', 'biology': '44', 'geology': '48.5', 'physics': '30', 'pure_math': 'غير مقرر', 'applied_math': 'غير مقرر', 'relegion': '15', 'nat_edu': '259.00', 'stat_eco': '26'}\n",
      "{'seat_no': '1459648', 'name': 'يمنى طارق جميل محمد الدسوقي', 'total_marks': '259.00', 'percentage': '63.17 %', 'sc_name': 'الشهيد محمد محمد عبدالعزيز صالح بابوبدوى', 'edu_administration': 'بيلا', 'passed': [0], 'arabic': '61.5', 'english': '34', 'third_lang': '38.5', 'history': 'غير مقرر', 'geograpgy': 'غير مقرر', 'philosophy': 'غير مقرر', 'psychology': 'غير مقرر', 'chemistry': '30', 'biology': '36.5', 'geology': '47', 'physics': '11.5', 'pure_math': 'غير مقرر', 'applied_math': 'غير مقرر', 'relegion': '18', 'nat_edu': '259.00', 'stat_eco': '25'}\n",
      "{'seat_no': '1459649', 'name': 'دعاء محمود سالم محمود مصطفى', 'total_marks': '274.00', 'percentage': '66.83 %', 'sc_name': 'الشهيد محمد محمد عبدالعزيز صالح بابوبدوى', 'edu_administration': 'بيلا', 'passed': 1, 'arabic': '70', 'english': '26', 'third_lang': 'معفى', 'history': 'غير مقرر', 'geograpgy': 'غير مقرر', 'philosophy': 'غير مقرر', 'psychology': 'غير مقرر', 'chemistry': '51', 'biology': '47', 'geology': '50', 'physics': '30', 'pure_math': 'غير مقرر', 'applied_math': 'غير مقرر', 'relegion': '24', 'nat_edu': '274.00', 'stat_eco': '29.5'}\n",
      "{'seat_no': '1459650', 'name': 'اسماء السيد صلاح السيد المغازي', 'total_marks': '223.50', 'percentage': '54.51 %', 'sc_name': 'الشهيد محمد محمد عبدالعزيز صالح بابوبدوى', 'edu_administration': 'بيلا', 'passed': 1, 'arabic': '41.5', 'english': '25.5', 'third_lang': '36.5', 'history': 'غير مقرر', 'geograpgy': 'غير مقرر', 'philosophy': 'غير مقرر', 'psychology': 'غير مقرر', 'chemistry': '30', 'biology': 'غير مقرر', 'geology': 'غير مقرر', 'physics': '30', 'pure_math': '30', 'applied_math': '30', 'relegion': '18', 'nat_edu': '223.50', 'stat_eco': '25'}\n",
      "{'seat_no': '1459651', 'name': 'رضوى رضا حامد حسن عمر', 'total_marks': '311.00', 'percentage': '75.85 %', 'sc_name': 'الشهيد محمد محمد عبدالعزيز صالح بابوبدوى', 'edu_administration': 'بيلا', 'passed': 1, 'arabic': '68', 'english': '41', 'third_lang': '37.5', 'history': 'غير مقرر', 'geograpgy': 'غير مقرر', 'philosophy': 'غير مقرر', 'psychology': 'غير مقرر', 'chemistry': '30', 'biology': 'غير مقرر', 'geology': 'غير مقرر', 'physics': '43.5', 'pure_math': '48.5', 'applied_math': '42.5', 'relegion': '19', 'nat_edu': '311.00', 'stat_eco': '33'}\n",
      "{'seat_no': '1459652', 'name': 'ريهام رمضان أنور عبد الحميد قنديل', 'total_marks': '236.50', 'percentage': '57.68 %', 'sc_name': 'الشهيد محمد محمد عبدالعزيز صالح بابوبدوى', 'edu_administration': 'بيلا', 'passed': 1, 'arabic': '53.5', 'english': '30', 'third_lang': '25', 'history': 'غير مقرر', 'geograpgy': 'غير مقرر', 'philosophy': 'غير مقرر', 'psychology': 'غير مقرر', 'chemistry': '30', 'biology': 'غير مقرر', 'geology': 'غير مقرر', 'physics': '38', 'pure_math': '30', 'applied_math': '30', 'relegion': '19', 'nat_edu': '236.50', 'stat_eco': '25'}\n",
      "{'seat_no': '1459653', 'name': 'منى المتولى حسن الغريب ابراهيم', 'total_marks': '228.00', 'percentage': '55.61 %', 'sc_name': 'الشهيد محمد محمد عبدالعزيز صالح بابوبدوى', 'edu_administration': 'بيلا', 'passed': [0], 'arabic': '58.5', 'english': '27', 'third_lang': '31.5', 'history': 'غير مقرر', 'geograpgy': 'غير مقرر', 'philosophy': 'غير مقرر', 'psychology': 'غير مقرر', 'chemistry': '30', 'biology': 'غير مقرر', 'geology': 'غير مقرر', 'physics': '30', 'pure_math': '21', 'applied_math': '30', 'relegion': '21', 'nat_edu': '228.00', 'stat_eco': '29'}\n",
      "{'seat_no': '1459654', 'name': 'ندى ذكي عبدالوهاب محمد السيد', 'total_marks': '220.50', 'percentage': '53.78 %', 'sc_name': 'الشهيد محمد محمد عبدالعزيز صالح بابوبدوى', 'edu_administration': 'بيلا', 'passed': [0], 'arabic': '50.5', 'english': '27.5', 'third_lang': '32.5', 'history': 'غير مقرر', 'geograpgy': 'غير مقرر', 'philosophy': 'غير مقرر', 'psychology': 'غير مقرر', 'chemistry': '30', 'biology': 'غير مقرر', 'geology': 'غير مقرر', 'physics': '30', 'pure_math': '20', 'applied_math': '30', 'relegion': '16', 'nat_edu': '220.50', 'stat_eco': '25'}\n"
     ]
    }
   ],
   "source": [
    "for i in range(1,len(my_list)):\n",
    "        print(extraction(my_list[i]))"
   ]
  },
  {
   "cell_type": "code",
   "execution_count": 60,
   "id": "87d7b02a",
   "metadata": {},
   "outputs": [
    {
     "name": "stderr",
     "output_type": "stream",
     "text": [
      "C:\\Users\\Ahmed Taha\\AppData\\Local\\Temp\\ipykernel_12420\\225216728.py:5: FutureWarning: The frame.append method is deprecated and will be removed from pandas in a future version. Use pandas.concat instead.\n",
      "  final = final.append(result,ignore_index=True)\n",
      "C:\\Users\\Ahmed Taha\\AppData\\Local\\Temp\\ipykernel_12420\\225216728.py:5: FutureWarning: The frame.append method is deprecated and will be removed from pandas in a future version. Use pandas.concat instead.\n",
      "  final = final.append(result,ignore_index=True)\n",
      "C:\\Users\\Ahmed Taha\\AppData\\Local\\Temp\\ipykernel_12420\\225216728.py:5: FutureWarning: The frame.append method is deprecated and will be removed from pandas in a future version. Use pandas.concat instead.\n",
      "  final = final.append(result,ignore_index=True)\n",
      "C:\\Users\\Ahmed Taha\\AppData\\Local\\Temp\\ipykernel_12420\\225216728.py:5: FutureWarning: The frame.append method is deprecated and will be removed from pandas in a future version. Use pandas.concat instead.\n",
      "  final = final.append(result,ignore_index=True)\n",
      "C:\\Users\\Ahmed Taha\\AppData\\Local\\Temp\\ipykernel_12420\\225216728.py:5: FutureWarning: The frame.append method is deprecated and will be removed from pandas in a future version. Use pandas.concat instead.\n",
      "  final = final.append(result,ignore_index=True)\n",
      "C:\\Users\\Ahmed Taha\\AppData\\Local\\Temp\\ipykernel_12420\\225216728.py:5: FutureWarning: The frame.append method is deprecated and will be removed from pandas in a future version. Use pandas.concat instead.\n",
      "  final = final.append(result,ignore_index=True)\n",
      "C:\\Users\\Ahmed Taha\\AppData\\Local\\Temp\\ipykernel_12420\\225216728.py:5: FutureWarning: The frame.append method is deprecated and will be removed from pandas in a future version. Use pandas.concat instead.\n",
      "  final = final.append(result,ignore_index=True)\n",
      "C:\\Users\\Ahmed Taha\\AppData\\Local\\Temp\\ipykernel_12420\\225216728.py:5: FutureWarning: The frame.append method is deprecated and will be removed from pandas in a future version. Use pandas.concat instead.\n",
      "  final = final.append(result,ignore_index=True)\n",
      "C:\\Users\\Ahmed Taha\\AppData\\Local\\Temp\\ipykernel_12420\\225216728.py:5: FutureWarning: The frame.append method is deprecated and will be removed from pandas in a future version. Use pandas.concat instead.\n",
      "  final = final.append(result,ignore_index=True)\n",
      "C:\\Users\\Ahmed Taha\\AppData\\Local\\Temp\\ipykernel_12420\\225216728.py:5: FutureWarning: The frame.append method is deprecated and will be removed from pandas in a future version. Use pandas.concat instead.\n",
      "  final = final.append(result,ignore_index=True)\n",
      "C:\\Users\\Ahmed Taha\\AppData\\Local\\Temp\\ipykernel_12420\\225216728.py:5: FutureWarning: The frame.append method is deprecated and will be removed from pandas in a future version. Use pandas.concat instead.\n",
      "  final = final.append(result,ignore_index=True)\n",
      "C:\\Users\\Ahmed Taha\\AppData\\Local\\Temp\\ipykernel_12420\\225216728.py:5: FutureWarning: The frame.append method is deprecated and will be removed from pandas in a future version. Use pandas.concat instead.\n",
      "  final = final.append(result,ignore_index=True)\n",
      "C:\\Users\\Ahmed Taha\\AppData\\Local\\Temp\\ipykernel_12420\\225216728.py:5: FutureWarning: The frame.append method is deprecated and will be removed from pandas in a future version. Use pandas.concat instead.\n",
      "  final = final.append(result,ignore_index=True)\n",
      "C:\\Users\\Ahmed Taha\\AppData\\Local\\Temp\\ipykernel_12420\\225216728.py:5: FutureWarning: The frame.append method is deprecated and will be removed from pandas in a future version. Use pandas.concat instead.\n",
      "  final = final.append(result,ignore_index=True)\n",
      "C:\\Users\\Ahmed Taha\\AppData\\Local\\Temp\\ipykernel_12420\\225216728.py:5: FutureWarning: The frame.append method is deprecated and will be removed from pandas in a future version. Use pandas.concat instead.\n",
      "  final = final.append(result,ignore_index=True)\n",
      "C:\\Users\\Ahmed Taha\\AppData\\Local\\Temp\\ipykernel_12420\\225216728.py:5: FutureWarning: The frame.append method is deprecated and will be removed from pandas in a future version. Use pandas.concat instead.\n",
      "  final = final.append(result,ignore_index=True)\n",
      "C:\\Users\\Ahmed Taha\\AppData\\Local\\Temp\\ipykernel_12420\\225216728.py:5: FutureWarning: The frame.append method is deprecated and will be removed from pandas in a future version. Use pandas.concat instead.\n",
      "  final = final.append(result,ignore_index=True)\n",
      "C:\\Users\\Ahmed Taha\\AppData\\Local\\Temp\\ipykernel_12420\\225216728.py:5: FutureWarning: The frame.append method is deprecated and will be removed from pandas in a future version. Use pandas.concat instead.\n",
      "  final = final.append(result,ignore_index=True)\n",
      "C:\\Users\\Ahmed Taha\\AppData\\Local\\Temp\\ipykernel_12420\\225216728.py:5: FutureWarning: The frame.append method is deprecated and will be removed from pandas in a future version. Use pandas.concat instead.\n",
      "  final = final.append(result,ignore_index=True)\n",
      "C:\\Users\\Ahmed Taha\\AppData\\Local\\Temp\\ipykernel_12420\\225216728.py:5: FutureWarning: The frame.append method is deprecated and will be removed from pandas in a future version. Use pandas.concat instead.\n",
      "  final = final.append(result,ignore_index=True)\n",
      "C:\\Users\\Ahmed Taha\\AppData\\Local\\Temp\\ipykernel_12420\\225216728.py:5: FutureWarning: The frame.append method is deprecated and will be removed from pandas in a future version. Use pandas.concat instead.\n",
      "  final = final.append(result,ignore_index=True)\n",
      "C:\\Users\\Ahmed Taha\\AppData\\Local\\Temp\\ipykernel_12420\\225216728.py:5: FutureWarning: The frame.append method is deprecated and will be removed from pandas in a future version. Use pandas.concat instead.\n",
      "  final = final.append(result,ignore_index=True)\n",
      "C:\\Users\\Ahmed Taha\\AppData\\Local\\Temp\\ipykernel_12420\\225216728.py:5: FutureWarning: The frame.append method is deprecated and will be removed from pandas in a future version. Use pandas.concat instead.\n",
      "  final = final.append(result,ignore_index=True)\n",
      "C:\\Users\\Ahmed Taha\\AppData\\Local\\Temp\\ipykernel_12420\\225216728.py:5: FutureWarning: The frame.append method is deprecated and will be removed from pandas in a future version. Use pandas.concat instead.\n",
      "  final = final.append(result,ignore_index=True)\n",
      "C:\\Users\\Ahmed Taha\\AppData\\Local\\Temp\\ipykernel_12420\\225216728.py:5: FutureWarning: The frame.append method is deprecated and will be removed from pandas in a future version. Use pandas.concat instead.\n",
      "  final = final.append(result,ignore_index=True)\n",
      "C:\\Users\\Ahmed Taha\\AppData\\Local\\Temp\\ipykernel_12420\\225216728.py:5: FutureWarning: The frame.append method is deprecated and will be removed from pandas in a future version. Use pandas.concat instead.\n",
      "  final = final.append(result,ignore_index=True)\n",
      "C:\\Users\\Ahmed Taha\\AppData\\Local\\Temp\\ipykernel_12420\\225216728.py:5: FutureWarning: The frame.append method is deprecated and will be removed from pandas in a future version. Use pandas.concat instead.\n",
      "  final = final.append(result,ignore_index=True)\n",
      "C:\\Users\\Ahmed Taha\\AppData\\Local\\Temp\\ipykernel_12420\\225216728.py:5: FutureWarning: The frame.append method is deprecated and will be removed from pandas in a future version. Use pandas.concat instead.\n",
      "  final = final.append(result,ignore_index=True)\n",
      "C:\\Users\\Ahmed Taha\\AppData\\Local\\Temp\\ipykernel_12420\\225216728.py:5: FutureWarning: The frame.append method is deprecated and will be removed from pandas in a future version. Use pandas.concat instead.\n",
      "  final = final.append(result,ignore_index=True)\n",
      "C:\\Users\\Ahmed Taha\\AppData\\Local\\Temp\\ipykernel_12420\\225216728.py:5: FutureWarning: The frame.append method is deprecated and will be removed from pandas in a future version. Use pandas.concat instead.\n",
      "  final = final.append(result,ignore_index=True)\n",
      "C:\\Users\\Ahmed Taha\\AppData\\Local\\Temp\\ipykernel_12420\\225216728.py:5: FutureWarning: The frame.append method is deprecated and will be removed from pandas in a future version. Use pandas.concat instead.\n",
      "  final = final.append(result,ignore_index=True)\n",
      "C:\\Users\\Ahmed Taha\\AppData\\Local\\Temp\\ipykernel_12420\\225216728.py:5: FutureWarning: The frame.append method is deprecated and will be removed from pandas in a future version. Use pandas.concat instead.\n",
      "  final = final.append(result,ignore_index=True)\n",
      "C:\\Users\\Ahmed Taha\\AppData\\Local\\Temp\\ipykernel_12420\\225216728.py:5: FutureWarning: The frame.append method is deprecated and will be removed from pandas in a future version. Use pandas.concat instead.\n",
      "  final = final.append(result,ignore_index=True)\n",
      "C:\\Users\\Ahmed Taha\\AppData\\Local\\Temp\\ipykernel_12420\\225216728.py:5: FutureWarning: The frame.append method is deprecated and will be removed from pandas in a future version. Use pandas.concat instead.\n",
      "  final = final.append(result,ignore_index=True)\n",
      "C:\\Users\\Ahmed Taha\\AppData\\Local\\Temp\\ipykernel_12420\\225216728.py:5: FutureWarning: The frame.append method is deprecated and will be removed from pandas in a future version. Use pandas.concat instead.\n",
      "  final = final.append(result,ignore_index=True)\n",
      "C:\\Users\\Ahmed Taha\\AppData\\Local\\Temp\\ipykernel_12420\\225216728.py:5: FutureWarning: The frame.append method is deprecated and will be removed from pandas in a future version. Use pandas.concat instead.\n",
      "  final = final.append(result,ignore_index=True)\n",
      "C:\\Users\\Ahmed Taha\\AppData\\Local\\Temp\\ipykernel_12420\\225216728.py:5: FutureWarning: The frame.append method is deprecated and will be removed from pandas in a future version. Use pandas.concat instead.\n",
      "  final = final.append(result,ignore_index=True)\n",
      "C:\\Users\\Ahmed Taha\\AppData\\Local\\Temp\\ipykernel_12420\\225216728.py:5: FutureWarning: The frame.append method is deprecated and will be removed from pandas in a future version. Use pandas.concat instead.\n",
      "  final = final.append(result,ignore_index=True)\n",
      "C:\\Users\\Ahmed Taha\\AppData\\Local\\Temp\\ipykernel_12420\\225216728.py:5: FutureWarning: The frame.append method is deprecated and will be removed from pandas in a future version. Use pandas.concat instead.\n",
      "  final = final.append(result,ignore_index=True)\n",
      "C:\\Users\\Ahmed Taha\\AppData\\Local\\Temp\\ipykernel_12420\\225216728.py:5: FutureWarning: The frame.append method is deprecated and will be removed from pandas in a future version. Use pandas.concat instead.\n",
      "  final = final.append(result,ignore_index=True)\n",
      "C:\\Users\\Ahmed Taha\\AppData\\Local\\Temp\\ipykernel_12420\\225216728.py:5: FutureWarning: The frame.append method is deprecated and will be removed from pandas in a future version. Use pandas.concat instead.\n",
      "  final = final.append(result,ignore_index=True)\n",
      "C:\\Users\\Ahmed Taha\\AppData\\Local\\Temp\\ipykernel_12420\\225216728.py:5: FutureWarning: The frame.append method is deprecated and will be removed from pandas in a future version. Use pandas.concat instead.\n",
      "  final = final.append(result,ignore_index=True)\n",
      "C:\\Users\\Ahmed Taha\\AppData\\Local\\Temp\\ipykernel_12420\\225216728.py:5: FutureWarning: The frame.append method is deprecated and will be removed from pandas in a future version. Use pandas.concat instead.\n",
      "  final = final.append(result,ignore_index=True)\n",
      "C:\\Users\\Ahmed Taha\\AppData\\Local\\Temp\\ipykernel_12420\\225216728.py:5: FutureWarning: The frame.append method is deprecated and will be removed from pandas in a future version. Use pandas.concat instead.\n",
      "  final = final.append(result,ignore_index=True)\n",
      "C:\\Users\\Ahmed Taha\\AppData\\Local\\Temp\\ipykernel_12420\\225216728.py:5: FutureWarning: The frame.append method is deprecated and will be removed from pandas in a future version. Use pandas.concat instead.\n",
      "  final = final.append(result,ignore_index=True)\n",
      "C:\\Users\\Ahmed Taha\\AppData\\Local\\Temp\\ipykernel_12420\\225216728.py:5: FutureWarning: The frame.append method is deprecated and will be removed from pandas in a future version. Use pandas.concat instead.\n",
      "  final = final.append(result,ignore_index=True)\n",
      "C:\\Users\\Ahmed Taha\\AppData\\Local\\Temp\\ipykernel_12420\\225216728.py:5: FutureWarning: The frame.append method is deprecated and will be removed from pandas in a future version. Use pandas.concat instead.\n",
      "  final = final.append(result,ignore_index=True)\n",
      "C:\\Users\\Ahmed Taha\\AppData\\Local\\Temp\\ipykernel_12420\\225216728.py:5: FutureWarning: The frame.append method is deprecated and will be removed from pandas in a future version. Use pandas.concat instead.\n",
      "  final = final.append(result,ignore_index=True)\n",
      "C:\\Users\\Ahmed Taha\\AppData\\Local\\Temp\\ipykernel_12420\\225216728.py:5: FutureWarning: The frame.append method is deprecated and will be removed from pandas in a future version. Use pandas.concat instead.\n",
      "  final = final.append(result,ignore_index=True)\n",
      "C:\\Users\\Ahmed Taha\\AppData\\Local\\Temp\\ipykernel_12420\\225216728.py:5: FutureWarning: The frame.append method is deprecated and will be removed from pandas in a future version. Use pandas.concat instead.\n",
      "  final = final.append(result,ignore_index=True)\n",
      "C:\\Users\\Ahmed Taha\\AppData\\Local\\Temp\\ipykernel_12420\\225216728.py:5: FutureWarning: The frame.append method is deprecated and will be removed from pandas in a future version. Use pandas.concat instead.\n",
      "  final = final.append(result,ignore_index=True)\n",
      "C:\\Users\\Ahmed Taha\\AppData\\Local\\Temp\\ipykernel_12420\\225216728.py:5: FutureWarning: The frame.append method is deprecated and will be removed from pandas in a future version. Use pandas.concat instead.\n",
      "  final = final.append(result,ignore_index=True)\n",
      "C:\\Users\\Ahmed Taha\\AppData\\Local\\Temp\\ipykernel_12420\\225216728.py:5: FutureWarning: The frame.append method is deprecated and will be removed from pandas in a future version. Use pandas.concat instead.\n",
      "  final = final.append(result,ignore_index=True)\n",
      "C:\\Users\\Ahmed Taha\\AppData\\Local\\Temp\\ipykernel_12420\\225216728.py:5: FutureWarning: The frame.append method is deprecated and will be removed from pandas in a future version. Use pandas.concat instead.\n",
      "  final = final.append(result,ignore_index=True)\n",
      "C:\\Users\\Ahmed Taha\\AppData\\Local\\Temp\\ipykernel_12420\\225216728.py:5: FutureWarning: The frame.append method is deprecated and will be removed from pandas in a future version. Use pandas.concat instead.\n",
      "  final = final.append(result,ignore_index=True)\n",
      "C:\\Users\\Ahmed Taha\\AppData\\Local\\Temp\\ipykernel_12420\\225216728.py:5: FutureWarning: The frame.append method is deprecated and will be removed from pandas in a future version. Use pandas.concat instead.\n",
      "  final = final.append(result,ignore_index=True)\n",
      "C:\\Users\\Ahmed Taha\\AppData\\Local\\Temp\\ipykernel_12420\\225216728.py:5: FutureWarning: The frame.append method is deprecated and will be removed from pandas in a future version. Use pandas.concat instead.\n",
      "  final = final.append(result,ignore_index=True)\n",
      "C:\\Users\\Ahmed Taha\\AppData\\Local\\Temp\\ipykernel_12420\\225216728.py:5: FutureWarning: The frame.append method is deprecated and will be removed from pandas in a future version. Use pandas.concat instead.\n",
      "  final = final.append(result,ignore_index=True)\n",
      "C:\\Users\\Ahmed Taha\\AppData\\Local\\Temp\\ipykernel_12420\\225216728.py:5: FutureWarning: The frame.append method is deprecated and will be removed from pandas in a future version. Use pandas.concat instead.\n",
      "  final = final.append(result,ignore_index=True)\n",
      "C:\\Users\\Ahmed Taha\\AppData\\Local\\Temp\\ipykernel_12420\\225216728.py:5: FutureWarning: The frame.append method is deprecated and will be removed from pandas in a future version. Use pandas.concat instead.\n",
      "  final = final.append(result,ignore_index=True)\n",
      "C:\\Users\\Ahmed Taha\\AppData\\Local\\Temp\\ipykernel_12420\\225216728.py:5: FutureWarning: The frame.append method is deprecated and will be removed from pandas in a future version. Use pandas.concat instead.\n",
      "  final = final.append(result,ignore_index=True)\n",
      "C:\\Users\\Ahmed Taha\\AppData\\Local\\Temp\\ipykernel_12420\\225216728.py:5: FutureWarning: The frame.append method is deprecated and will be removed from pandas in a future version. Use pandas.concat instead.\n",
      "  final = final.append(result,ignore_index=True)\n",
      "C:\\Users\\Ahmed Taha\\AppData\\Local\\Temp\\ipykernel_12420\\225216728.py:5: FutureWarning: The frame.append method is deprecated and will be removed from pandas in a future version. Use pandas.concat instead.\n",
      "  final = final.append(result,ignore_index=True)\n",
      "C:\\Users\\Ahmed Taha\\AppData\\Local\\Temp\\ipykernel_12420\\225216728.py:5: FutureWarning: The frame.append method is deprecated and will be removed from pandas in a future version. Use pandas.concat instead.\n",
      "  final = final.append(result,ignore_index=True)\n",
      "C:\\Users\\Ahmed Taha\\AppData\\Local\\Temp\\ipykernel_12420\\225216728.py:5: FutureWarning: The frame.append method is deprecated and will be removed from pandas in a future version. Use pandas.concat instead.\n",
      "  final = final.append(result,ignore_index=True)\n",
      "C:\\Users\\Ahmed Taha\\AppData\\Local\\Temp\\ipykernel_12420\\225216728.py:5: FutureWarning: The frame.append method is deprecated and will be removed from pandas in a future version. Use pandas.concat instead.\n",
      "  final = final.append(result,ignore_index=True)\n",
      "C:\\Users\\Ahmed Taha\\AppData\\Local\\Temp\\ipykernel_12420\\225216728.py:5: FutureWarning: The frame.append method is deprecated and will be removed from pandas in a future version. Use pandas.concat instead.\n",
      "  final = final.append(result,ignore_index=True)\n",
      "C:\\Users\\Ahmed Taha\\AppData\\Local\\Temp\\ipykernel_12420\\225216728.py:5: FutureWarning: The frame.append method is deprecated and will be removed from pandas in a future version. Use pandas.concat instead.\n",
      "  final = final.append(result,ignore_index=True)\n",
      "C:\\Users\\Ahmed Taha\\AppData\\Local\\Temp\\ipykernel_12420\\225216728.py:5: FutureWarning: The frame.append method is deprecated and will be removed from pandas in a future version. Use pandas.concat instead.\n",
      "  final = final.append(result,ignore_index=True)\n",
      "C:\\Users\\Ahmed Taha\\AppData\\Local\\Temp\\ipykernel_12420\\225216728.py:5: FutureWarning: The frame.append method is deprecated and will be removed from pandas in a future version. Use pandas.concat instead.\n",
      "  final = final.append(result,ignore_index=True)\n",
      "C:\\Users\\Ahmed Taha\\AppData\\Local\\Temp\\ipykernel_12420\\225216728.py:5: FutureWarning: The frame.append method is deprecated and will be removed from pandas in a future version. Use pandas.concat instead.\n",
      "  final = final.append(result,ignore_index=True)\n",
      "C:\\Users\\Ahmed Taha\\AppData\\Local\\Temp\\ipykernel_12420\\225216728.py:5: FutureWarning: The frame.append method is deprecated and will be removed from pandas in a future version. Use pandas.concat instead.\n",
      "  final = final.append(result,ignore_index=True)\n",
      "C:\\Users\\Ahmed Taha\\AppData\\Local\\Temp\\ipykernel_12420\\225216728.py:5: FutureWarning: The frame.append method is deprecated and will be removed from pandas in a future version. Use pandas.concat instead.\n",
      "  final = final.append(result,ignore_index=True)\n",
      "C:\\Users\\Ahmed Taha\\AppData\\Local\\Temp\\ipykernel_12420\\225216728.py:5: FutureWarning: The frame.append method is deprecated and will be removed from pandas in a future version. Use pandas.concat instead.\n",
      "  final = final.append(result,ignore_index=True)\n",
      "C:\\Users\\Ahmed Taha\\AppData\\Local\\Temp\\ipykernel_12420\\225216728.py:5: FutureWarning: The frame.append method is deprecated and will be removed from pandas in a future version. Use pandas.concat instead.\n",
      "  final = final.append(result,ignore_index=True)\n",
      "C:\\Users\\Ahmed Taha\\AppData\\Local\\Temp\\ipykernel_12420\\225216728.py:5: FutureWarning: The frame.append method is deprecated and will be removed from pandas in a future version. Use pandas.concat instead.\n",
      "  final = final.append(result,ignore_index=True)\n",
      "C:\\Users\\Ahmed Taha\\AppData\\Local\\Temp\\ipykernel_12420\\225216728.py:5: FutureWarning: The frame.append method is deprecated and will be removed from pandas in a future version. Use pandas.concat instead.\n",
      "  final = final.append(result,ignore_index=True)\n",
      "C:\\Users\\Ahmed Taha\\AppData\\Local\\Temp\\ipykernel_12420\\225216728.py:5: FutureWarning: The frame.append method is deprecated and will be removed from pandas in a future version. Use pandas.concat instead.\n",
      "  final = final.append(result,ignore_index=True)\n",
      "C:\\Users\\Ahmed Taha\\AppData\\Local\\Temp\\ipykernel_12420\\225216728.py:5: FutureWarning: The frame.append method is deprecated and will be removed from pandas in a future version. Use pandas.concat instead.\n",
      "  final = final.append(result,ignore_index=True)\n",
      "C:\\Users\\Ahmed Taha\\AppData\\Local\\Temp\\ipykernel_12420\\225216728.py:5: FutureWarning: The frame.append method is deprecated and will be removed from pandas in a future version. Use pandas.concat instead.\n",
      "  final = final.append(result,ignore_index=True)\n",
      "C:\\Users\\Ahmed Taha\\AppData\\Local\\Temp\\ipykernel_12420\\225216728.py:5: FutureWarning: The frame.append method is deprecated and will be removed from pandas in a future version. Use pandas.concat instead.\n",
      "  final = final.append(result,ignore_index=True)\n",
      "C:\\Users\\Ahmed Taha\\AppData\\Local\\Temp\\ipykernel_12420\\225216728.py:5: FutureWarning: The frame.append method is deprecated and will be removed from pandas in a future version. Use pandas.concat instead.\n",
      "  final = final.append(result,ignore_index=True)\n",
      "C:\\Users\\Ahmed Taha\\AppData\\Local\\Temp\\ipykernel_12420\\225216728.py:5: FutureWarning: The frame.append method is deprecated and will be removed from pandas in a future version. Use pandas.concat instead.\n",
      "  final = final.append(result,ignore_index=True)\n",
      "C:\\Users\\Ahmed Taha\\AppData\\Local\\Temp\\ipykernel_12420\\225216728.py:5: FutureWarning: The frame.append method is deprecated and will be removed from pandas in a future version. Use pandas.concat instead.\n",
      "  final = final.append(result,ignore_index=True)\n",
      "C:\\Users\\Ahmed Taha\\AppData\\Local\\Temp\\ipykernel_12420\\225216728.py:5: FutureWarning: The frame.append method is deprecated and will be removed from pandas in a future version. Use pandas.concat instead.\n",
      "  final = final.append(result,ignore_index=True)\n",
      "C:\\Users\\Ahmed Taha\\AppData\\Local\\Temp\\ipykernel_12420\\225216728.py:5: FutureWarning: The frame.append method is deprecated and will be removed from pandas in a future version. Use pandas.concat instead.\n",
      "  final = final.append(result,ignore_index=True)\n",
      "C:\\Users\\Ahmed Taha\\AppData\\Local\\Temp\\ipykernel_12420\\225216728.py:5: FutureWarning: The frame.append method is deprecated and will be removed from pandas in a future version. Use pandas.concat instead.\n",
      "  final = final.append(result,ignore_index=True)\n",
      "C:\\Users\\Ahmed Taha\\AppData\\Local\\Temp\\ipykernel_12420\\225216728.py:5: FutureWarning: The frame.append method is deprecated and will be removed from pandas in a future version. Use pandas.concat instead.\n",
      "  final = final.append(result,ignore_index=True)\n",
      "C:\\Users\\Ahmed Taha\\AppData\\Local\\Temp\\ipykernel_12420\\225216728.py:5: FutureWarning: The frame.append method is deprecated and will be removed from pandas in a future version. Use pandas.concat instead.\n",
      "  final = final.append(result,ignore_index=True)\n",
      "C:\\Users\\Ahmed Taha\\AppData\\Local\\Temp\\ipykernel_12420\\225216728.py:5: FutureWarning: The frame.append method is deprecated and will be removed from pandas in a future version. Use pandas.concat instead.\n",
      "  final = final.append(result,ignore_index=True)\n",
      "C:\\Users\\Ahmed Taha\\AppData\\Local\\Temp\\ipykernel_12420\\225216728.py:5: FutureWarning: The frame.append method is deprecated and will be removed from pandas in a future version. Use pandas.concat instead.\n",
      "  final = final.append(result,ignore_index=True)\n",
      "C:\\Users\\Ahmed Taha\\AppData\\Local\\Temp\\ipykernel_12420\\225216728.py:5: FutureWarning: The frame.append method is deprecated and will be removed from pandas in a future version. Use pandas.concat instead.\n",
      "  final = final.append(result,ignore_index=True)\n",
      "C:\\Users\\Ahmed Taha\\AppData\\Local\\Temp\\ipykernel_12420\\225216728.py:5: FutureWarning: The frame.append method is deprecated and will be removed from pandas in a future version. Use pandas.concat instead.\n",
      "  final = final.append(result,ignore_index=True)\n",
      "C:\\Users\\Ahmed Taha\\AppData\\Local\\Temp\\ipykernel_12420\\225216728.py:5: FutureWarning: The frame.append method is deprecated and will be removed from pandas in a future version. Use pandas.concat instead.\n",
      "  final = final.append(result,ignore_index=True)\n",
      "C:\\Users\\Ahmed Taha\\AppData\\Local\\Temp\\ipykernel_12420\\225216728.py:5: FutureWarning: The frame.append method is deprecated and will be removed from pandas in a future version. Use pandas.concat instead.\n",
      "  final = final.append(result,ignore_index=True)\n",
      "C:\\Users\\Ahmed Taha\\AppData\\Local\\Temp\\ipykernel_12420\\225216728.py:5: FutureWarning: The frame.append method is deprecated and will be removed from pandas in a future version. Use pandas.concat instead.\n",
      "  final = final.append(result,ignore_index=True)\n",
      "C:\\Users\\Ahmed Taha\\AppData\\Local\\Temp\\ipykernel_12420\\225216728.py:5: FutureWarning: The frame.append method is deprecated and will be removed from pandas in a future version. Use pandas.concat instead.\n",
      "  final = final.append(result,ignore_index=True)\n",
      "C:\\Users\\Ahmed Taha\\AppData\\Local\\Temp\\ipykernel_12420\\225216728.py:5: FutureWarning: The frame.append method is deprecated and will be removed from pandas in a future version. Use pandas.concat instead.\n",
      "  final = final.append(result,ignore_index=True)\n",
      "C:\\Users\\Ahmed Taha\\AppData\\Local\\Temp\\ipykernel_12420\\225216728.py:5: FutureWarning: The frame.append method is deprecated and will be removed from pandas in a future version. Use pandas.concat instead.\n",
      "  final = final.append(result,ignore_index=True)\n",
      "C:\\Users\\Ahmed Taha\\AppData\\Local\\Temp\\ipykernel_12420\\225216728.py:5: FutureWarning: The frame.append method is deprecated and will be removed from pandas in a future version. Use pandas.concat instead.\n",
      "  final = final.append(result,ignore_index=True)\n",
      "C:\\Users\\Ahmed Taha\\AppData\\Local\\Temp\\ipykernel_12420\\225216728.py:5: FutureWarning: The frame.append method is deprecated and will be removed from pandas in a future version. Use pandas.concat instead.\n",
      "  final = final.append(result,ignore_index=True)\n",
      "C:\\Users\\Ahmed Taha\\AppData\\Local\\Temp\\ipykernel_12420\\225216728.py:5: FutureWarning: The frame.append method is deprecated and will be removed from pandas in a future version. Use pandas.concat instead.\n",
      "  final = final.append(result,ignore_index=True)\n",
      "C:\\Users\\Ahmed Taha\\AppData\\Local\\Temp\\ipykernel_12420\\225216728.py:5: FutureWarning: The frame.append method is deprecated and will be removed from pandas in a future version. Use pandas.concat instead.\n",
      "  final = final.append(result,ignore_index=True)\n",
      "C:\\Users\\Ahmed Taha\\AppData\\Local\\Temp\\ipykernel_12420\\225216728.py:5: FutureWarning: The frame.append method is deprecated and will be removed from pandas in a future version. Use pandas.concat instead.\n",
      "  final = final.append(result,ignore_index=True)\n",
      "C:\\Users\\Ahmed Taha\\AppData\\Local\\Temp\\ipykernel_12420\\225216728.py:5: FutureWarning: The frame.append method is deprecated and will be removed from pandas in a future version. Use pandas.concat instead.\n",
      "  final = final.append(result,ignore_index=True)\n",
      "C:\\Users\\Ahmed Taha\\AppData\\Local\\Temp\\ipykernel_12420\\225216728.py:5: FutureWarning: The frame.append method is deprecated and will be removed from pandas in a future version. Use pandas.concat instead.\n",
      "  final = final.append(result,ignore_index=True)\n",
      "C:\\Users\\Ahmed Taha\\AppData\\Local\\Temp\\ipykernel_12420\\225216728.py:5: FutureWarning: The frame.append method is deprecated and will be removed from pandas in a future version. Use pandas.concat instead.\n",
      "  final = final.append(result,ignore_index=True)\n",
      "C:\\Users\\Ahmed Taha\\AppData\\Local\\Temp\\ipykernel_12420\\225216728.py:5: FutureWarning: The frame.append method is deprecated and will be removed from pandas in a future version. Use pandas.concat instead.\n",
      "  final = final.append(result,ignore_index=True)\n",
      "C:\\Users\\Ahmed Taha\\AppData\\Local\\Temp\\ipykernel_12420\\225216728.py:5: FutureWarning: The frame.append method is deprecated and will be removed from pandas in a future version. Use pandas.concat instead.\n",
      "  final = final.append(result,ignore_index=True)\n",
      "C:\\Users\\Ahmed Taha\\AppData\\Local\\Temp\\ipykernel_12420\\225216728.py:5: FutureWarning: The frame.append method is deprecated and will be removed from pandas in a future version. Use pandas.concat instead.\n",
      "  final = final.append(result,ignore_index=True)\n",
      "C:\\Users\\Ahmed Taha\\AppData\\Local\\Temp\\ipykernel_12420\\225216728.py:5: FutureWarning: The frame.append method is deprecated and will be removed from pandas in a future version. Use pandas.concat instead.\n",
      "  final = final.append(result,ignore_index=True)\n",
      "C:\\Users\\Ahmed Taha\\AppData\\Local\\Temp\\ipykernel_12420\\225216728.py:5: FutureWarning: The frame.append method is deprecated and will be removed from pandas in a future version. Use pandas.concat instead.\n",
      "  final = final.append(result,ignore_index=True)\n",
      "C:\\Users\\Ahmed Taha\\AppData\\Local\\Temp\\ipykernel_12420\\225216728.py:5: FutureWarning: The frame.append method is deprecated and will be removed from pandas in a future version. Use pandas.concat instead.\n",
      "  final = final.append(result,ignore_index=True)\n",
      "C:\\Users\\Ahmed Taha\\AppData\\Local\\Temp\\ipykernel_12420\\225216728.py:5: FutureWarning: The frame.append method is deprecated and will be removed from pandas in a future version. Use pandas.concat instead.\n",
      "  final = final.append(result,ignore_index=True)\n",
      "C:\\Users\\Ahmed Taha\\AppData\\Local\\Temp\\ipykernel_12420\\225216728.py:5: FutureWarning: The frame.append method is deprecated and will be removed from pandas in a future version. Use pandas.concat instead.\n",
      "  final = final.append(result,ignore_index=True)\n",
      "C:\\Users\\Ahmed Taha\\AppData\\Local\\Temp\\ipykernel_12420\\225216728.py:5: FutureWarning: The frame.append method is deprecated and will be removed from pandas in a future version. Use pandas.concat instead.\n",
      "  final = final.append(result,ignore_index=True)\n",
      "C:\\Users\\Ahmed Taha\\AppData\\Local\\Temp\\ipykernel_12420\\225216728.py:5: FutureWarning: The frame.append method is deprecated and will be removed from pandas in a future version. Use pandas.concat instead.\n",
      "  final = final.append(result,ignore_index=True)\n",
      "C:\\Users\\Ahmed Taha\\AppData\\Local\\Temp\\ipykernel_12420\\225216728.py:5: FutureWarning: The frame.append method is deprecated and will be removed from pandas in a future version. Use pandas.concat instead.\n",
      "  final = final.append(result,ignore_index=True)\n",
      "C:\\Users\\Ahmed Taha\\AppData\\Local\\Temp\\ipykernel_12420\\225216728.py:5: FutureWarning: The frame.append method is deprecated and will be removed from pandas in a future version. Use pandas.concat instead.\n",
      "  final = final.append(result,ignore_index=True)\n",
      "C:\\Users\\Ahmed Taha\\AppData\\Local\\Temp\\ipykernel_12420\\225216728.py:5: FutureWarning: The frame.append method is deprecated and will be removed from pandas in a future version. Use pandas.concat instead.\n",
      "  final = final.append(result,ignore_index=True)\n",
      "C:\\Users\\Ahmed Taha\\AppData\\Local\\Temp\\ipykernel_12420\\225216728.py:5: FutureWarning: The frame.append method is deprecated and will be removed from pandas in a future version. Use pandas.concat instead.\n",
      "  final = final.append(result,ignore_index=True)\n",
      "C:\\Users\\Ahmed Taha\\AppData\\Local\\Temp\\ipykernel_12420\\225216728.py:5: FutureWarning: The frame.append method is deprecated and will be removed from pandas in a future version. Use pandas.concat instead.\n",
      "  final = final.append(result,ignore_index=True)\n",
      "C:\\Users\\Ahmed Taha\\AppData\\Local\\Temp\\ipykernel_12420\\225216728.py:5: FutureWarning: The frame.append method is deprecated and will be removed from pandas in a future version. Use pandas.concat instead.\n",
      "  final = final.append(result,ignore_index=True)\n",
      "C:\\Users\\Ahmed Taha\\AppData\\Local\\Temp\\ipykernel_12420\\225216728.py:5: FutureWarning: The frame.append method is deprecated and will be removed from pandas in a future version. Use pandas.concat instead.\n",
      "  final = final.append(result,ignore_index=True)\n"
     ]
    }
   ],
   "source": [
    "final = pd.DataFrame()\n",
    "for i in my_list[1:]:\n",
    "  sourse =i\n",
    "  result = extraction(sourse)\n",
    "  final = final.append(result,ignore_index=True)"
   ]
  },
  {
   "cell_type": "code",
   "execution_count": 61,
   "id": "290c52e8",
   "metadata": {},
   "outputs": [
    {
     "data": {
      "text/html": [
       "<div>\n",
       "<style scoped>\n",
       "    .dataframe tbody tr th:only-of-type {\n",
       "        vertical-align: middle;\n",
       "    }\n",
       "\n",
       "    .dataframe tbody tr th {\n",
       "        vertical-align: top;\n",
       "    }\n",
       "\n",
       "    .dataframe thead th {\n",
       "        text-align: right;\n",
       "    }\n",
       "</style>\n",
       "<table border=\"1\" class=\"dataframe\">\n",
       "  <thead>\n",
       "    <tr style=\"text-align: right;\">\n",
       "      <th></th>\n",
       "      <th>seat_no</th>\n",
       "      <th>name</th>\n",
       "      <th>total_marks</th>\n",
       "      <th>percentage</th>\n",
       "      <th>sc_name</th>\n",
       "      <th>edu_administration</th>\n",
       "      <th>passed</th>\n",
       "      <th>arabic</th>\n",
       "      <th>english</th>\n",
       "      <th>third_lang</th>\n",
       "      <th>...</th>\n",
       "      <th>psychology</th>\n",
       "      <th>chemistry</th>\n",
       "      <th>biology</th>\n",
       "      <th>geology</th>\n",
       "      <th>physics</th>\n",
       "      <th>pure_math</th>\n",
       "      <th>applied_math</th>\n",
       "      <th>relegion</th>\n",
       "      <th>nat_edu</th>\n",
       "      <th>stat_eco</th>\n",
       "    </tr>\n",
       "  </thead>\n",
       "  <tbody>\n",
       "    <tr>\n",
       "      <th>0</th>\n",
       "      <td>1459531</td>\n",
       "      <td>اسراء عيد محمد محمد البيلي</td>\n",
       "      <td>293.50</td>\n",
       "      <td>71.59 %</td>\n",
       "      <td>الشهيد محمد محمد عبدالعزيز صالح بابوبدوى</td>\n",
       "      <td>بيلا</td>\n",
       "      <td>1</td>\n",
       "      <td>46</td>\n",
       "      <td>35.5</td>\n",
       "      <td>34.5</td>\n",
       "      <td>...</td>\n",
       "      <td>43</td>\n",
       "      <td>غير مقرر</td>\n",
       "      <td>غير مقرر</td>\n",
       "      <td>غير مقرر</td>\n",
       "      <td>غير مقرر</td>\n",
       "      <td>غير مقرر</td>\n",
       "      <td>غير مقرر</td>\n",
       "      <td>18</td>\n",
       "      <td>293.50</td>\n",
       "      <td>25</td>\n",
       "    </tr>\n",
       "    <tr>\n",
       "      <th>1</th>\n",
       "      <td>1459532</td>\n",
       "      <td>اسماء اشرف السيد ابراهيم ابراهيم</td>\n",
       "      <td>262.50</td>\n",
       "      <td>64.02 %</td>\n",
       "      <td>الشهيد محمد محمد عبدالعزيز صالح بابوبدوى</td>\n",
       "      <td>بيلا</td>\n",
       "      <td>1</td>\n",
       "      <td>47</td>\n",
       "      <td>34</td>\n",
       "      <td>35</td>\n",
       "      <td>...</td>\n",
       "      <td>31</td>\n",
       "      <td>غير مقرر</td>\n",
       "      <td>غير مقرر</td>\n",
       "      <td>غير مقرر</td>\n",
       "      <td>غير مقرر</td>\n",
       "      <td>غير مقرر</td>\n",
       "      <td>غير مقرر</td>\n",
       "      <td>16</td>\n",
       "      <td>262.50</td>\n",
       "      <td>25</td>\n",
       "    </tr>\n",
       "    <tr>\n",
       "      <th>2</th>\n",
       "      <td>1459533</td>\n",
       "      <td>اسماء جمال حسين محمد محمد خليل</td>\n",
       "      <td>265.50</td>\n",
       "      <td>64.76 %</td>\n",
       "      <td>الشهيد محمد محمد عبدالعزيز صالح بابوبدوى</td>\n",
       "      <td>بيلا</td>\n",
       "      <td>1</td>\n",
       "      <td>44.5</td>\n",
       "      <td>32</td>\n",
       "      <td>27</td>\n",
       "      <td>...</td>\n",
       "      <td>40</td>\n",
       "      <td>غير مقرر</td>\n",
       "      <td>غير مقرر</td>\n",
       "      <td>غير مقرر</td>\n",
       "      <td>غير مقرر</td>\n",
       "      <td>غير مقرر</td>\n",
       "      <td>غير مقرر</td>\n",
       "      <td>15</td>\n",
       "      <td>265.50</td>\n",
       "      <td>25</td>\n",
       "    </tr>\n",
       "    <tr>\n",
       "      <th>3</th>\n",
       "      <td>1459534</td>\n",
       "      <td>اسماء رضا محمود السعيد ابراهيم</td>\n",
       "      <td>246.00</td>\n",
       "      <td>60.00 %</td>\n",
       "      <td>الشهيد محمد محمد عبدالعزيز صالح بابوبدوى</td>\n",
       "      <td>بيلا</td>\n",
       "      <td>[0]</td>\n",
       "      <td>15.5</td>\n",
       "      <td>40</td>\n",
       "      <td>27</td>\n",
       "      <td>...</td>\n",
       "      <td>38</td>\n",
       "      <td>غير مقرر</td>\n",
       "      <td>غير مقرر</td>\n",
       "      <td>غير مقرر</td>\n",
       "      <td>غير مقرر</td>\n",
       "      <td>غير مقرر</td>\n",
       "      <td>غير مقرر</td>\n",
       "      <td>18</td>\n",
       "      <td>246.00</td>\n",
       "      <td>25</td>\n",
       "    </tr>\n",
       "    <tr>\n",
       "      <th>4</th>\n",
       "      <td>1459535</td>\n",
       "      <td>امانى أيمن مصطفى أبو شعيشع على</td>\n",
       "      <td>344.00</td>\n",
       "      <td>83.90 %</td>\n",
       "      <td>الشهيد محمد محمد عبدالعزيز صالح بابوبدوى</td>\n",
       "      <td>بيلا</td>\n",
       "      <td>1</td>\n",
       "      <td>67.5</td>\n",
       "      <td>40.5</td>\n",
       "      <td>36.5</td>\n",
       "      <td>...</td>\n",
       "      <td>48</td>\n",
       "      <td>غير مقرر</td>\n",
       "      <td>غير مقرر</td>\n",
       "      <td>غير مقرر</td>\n",
       "      <td>غير مقرر</td>\n",
       "      <td>غير مقرر</td>\n",
       "      <td>غير مقرر</td>\n",
       "      <td>17</td>\n",
       "      <td>344.00</td>\n",
       "      <td>27</td>\n",
       "    </tr>\n",
       "    <tr>\n",
       "      <th>...</th>\n",
       "      <td>...</td>\n",
       "      <td>...</td>\n",
       "      <td>...</td>\n",
       "      <td>...</td>\n",
       "      <td>...</td>\n",
       "      <td>...</td>\n",
       "      <td>...</td>\n",
       "      <td>...</td>\n",
       "      <td>...</td>\n",
       "      <td>...</td>\n",
       "      <td>...</td>\n",
       "      <td>...</td>\n",
       "      <td>...</td>\n",
       "      <td>...</td>\n",
       "      <td>...</td>\n",
       "      <td>...</td>\n",
       "      <td>...</td>\n",
       "      <td>...</td>\n",
       "      <td>...</td>\n",
       "      <td>...</td>\n",
       "      <td>...</td>\n",
       "    </tr>\n",
       "    <tr>\n",
       "      <th>119</th>\n",
       "      <td>1459650</td>\n",
       "      <td>اسماء السيد صلاح السيد المغازي</td>\n",
       "      <td>223.50</td>\n",
       "      <td>54.51 %</td>\n",
       "      <td>الشهيد محمد محمد عبدالعزيز صالح بابوبدوى</td>\n",
       "      <td>بيلا</td>\n",
       "      <td>1</td>\n",
       "      <td>41.5</td>\n",
       "      <td>25.5</td>\n",
       "      <td>36.5</td>\n",
       "      <td>...</td>\n",
       "      <td>غير مقرر</td>\n",
       "      <td>30</td>\n",
       "      <td>غير مقرر</td>\n",
       "      <td>غير مقرر</td>\n",
       "      <td>30</td>\n",
       "      <td>30</td>\n",
       "      <td>30</td>\n",
       "      <td>18</td>\n",
       "      <td>223.50</td>\n",
       "      <td>25</td>\n",
       "    </tr>\n",
       "    <tr>\n",
       "      <th>120</th>\n",
       "      <td>1459651</td>\n",
       "      <td>رضوى رضا حامد حسن عمر</td>\n",
       "      <td>311.00</td>\n",
       "      <td>75.85 %</td>\n",
       "      <td>الشهيد محمد محمد عبدالعزيز صالح بابوبدوى</td>\n",
       "      <td>بيلا</td>\n",
       "      <td>1</td>\n",
       "      <td>68</td>\n",
       "      <td>41</td>\n",
       "      <td>37.5</td>\n",
       "      <td>...</td>\n",
       "      <td>غير مقرر</td>\n",
       "      <td>30</td>\n",
       "      <td>غير مقرر</td>\n",
       "      <td>غير مقرر</td>\n",
       "      <td>43.5</td>\n",
       "      <td>48.5</td>\n",
       "      <td>42.5</td>\n",
       "      <td>19</td>\n",
       "      <td>311.00</td>\n",
       "      <td>33</td>\n",
       "    </tr>\n",
       "    <tr>\n",
       "      <th>121</th>\n",
       "      <td>1459652</td>\n",
       "      <td>ريهام رمضان أنور عبد الحميد قنديل</td>\n",
       "      <td>236.50</td>\n",
       "      <td>57.68 %</td>\n",
       "      <td>الشهيد محمد محمد عبدالعزيز صالح بابوبدوى</td>\n",
       "      <td>بيلا</td>\n",
       "      <td>1</td>\n",
       "      <td>53.5</td>\n",
       "      <td>30</td>\n",
       "      <td>25</td>\n",
       "      <td>...</td>\n",
       "      <td>غير مقرر</td>\n",
       "      <td>30</td>\n",
       "      <td>غير مقرر</td>\n",
       "      <td>غير مقرر</td>\n",
       "      <td>38</td>\n",
       "      <td>30</td>\n",
       "      <td>30</td>\n",
       "      <td>19</td>\n",
       "      <td>236.50</td>\n",
       "      <td>25</td>\n",
       "    </tr>\n",
       "    <tr>\n",
       "      <th>122</th>\n",
       "      <td>1459653</td>\n",
       "      <td>منى المتولى حسن الغريب ابراهيم</td>\n",
       "      <td>228.00</td>\n",
       "      <td>55.61 %</td>\n",
       "      <td>الشهيد محمد محمد عبدالعزيز صالح بابوبدوى</td>\n",
       "      <td>بيلا</td>\n",
       "      <td>[0]</td>\n",
       "      <td>58.5</td>\n",
       "      <td>27</td>\n",
       "      <td>31.5</td>\n",
       "      <td>...</td>\n",
       "      <td>غير مقرر</td>\n",
       "      <td>30</td>\n",
       "      <td>غير مقرر</td>\n",
       "      <td>غير مقرر</td>\n",
       "      <td>30</td>\n",
       "      <td>21</td>\n",
       "      <td>30</td>\n",
       "      <td>21</td>\n",
       "      <td>228.00</td>\n",
       "      <td>29</td>\n",
       "    </tr>\n",
       "    <tr>\n",
       "      <th>123</th>\n",
       "      <td>1459654</td>\n",
       "      <td>ندى ذكي عبدالوهاب محمد السيد</td>\n",
       "      <td>220.50</td>\n",
       "      <td>53.78 %</td>\n",
       "      <td>الشهيد محمد محمد عبدالعزيز صالح بابوبدوى</td>\n",
       "      <td>بيلا</td>\n",
       "      <td>[0]</td>\n",
       "      <td>50.5</td>\n",
       "      <td>27.5</td>\n",
       "      <td>32.5</td>\n",
       "      <td>...</td>\n",
       "      <td>غير مقرر</td>\n",
       "      <td>30</td>\n",
       "      <td>غير مقرر</td>\n",
       "      <td>غير مقرر</td>\n",
       "      <td>30</td>\n",
       "      <td>20</td>\n",
       "      <td>30</td>\n",
       "      <td>16</td>\n",
       "      <td>220.50</td>\n",
       "      <td>25</td>\n",
       "    </tr>\n",
       "  </tbody>\n",
       "</table>\n",
       "<p>124 rows × 23 columns</p>\n",
       "</div>"
      ],
      "text/plain": [
       "     seat_no                               name total_marks percentage  \\\n",
       "0    1459531         اسراء عيد محمد محمد البيلي      293.50    71.59 %   \n",
       "1    1459532   اسماء اشرف السيد ابراهيم ابراهيم      262.50    64.02 %   \n",
       "2    1459533     اسماء جمال حسين محمد محمد خليل      265.50    64.76 %   \n",
       "3    1459534     اسماء رضا محمود السعيد ابراهيم      246.00    60.00 %   \n",
       "4    1459535     امانى أيمن مصطفى أبو شعيشع على      344.00    83.90 %   \n",
       "..       ...                                ...         ...        ...   \n",
       "119  1459650     اسماء السيد صلاح السيد المغازي      223.50    54.51 %   \n",
       "120  1459651              رضوى رضا حامد حسن عمر      311.00    75.85 %   \n",
       "121  1459652  ريهام رمضان أنور عبد الحميد قنديل      236.50    57.68 %   \n",
       "122  1459653     منى المتولى حسن الغريب ابراهيم      228.00    55.61 %   \n",
       "123  1459654       ندى ذكي عبدالوهاب محمد السيد      220.50    53.78 %   \n",
       "\n",
       "                                      sc_name edu_administration passed  \\\n",
       "0    الشهيد محمد محمد عبدالعزيز صالح بابوبدوى               بيلا      1   \n",
       "1    الشهيد محمد محمد عبدالعزيز صالح بابوبدوى               بيلا      1   \n",
       "2    الشهيد محمد محمد عبدالعزيز صالح بابوبدوى               بيلا      1   \n",
       "3    الشهيد محمد محمد عبدالعزيز صالح بابوبدوى               بيلا    [0]   \n",
       "4    الشهيد محمد محمد عبدالعزيز صالح بابوبدوى               بيلا      1   \n",
       "..                                        ...                ...    ...   \n",
       "119  الشهيد محمد محمد عبدالعزيز صالح بابوبدوى               بيلا      1   \n",
       "120  الشهيد محمد محمد عبدالعزيز صالح بابوبدوى               بيلا      1   \n",
       "121  الشهيد محمد محمد عبدالعزيز صالح بابوبدوى               بيلا      1   \n",
       "122  الشهيد محمد محمد عبدالعزيز صالح بابوبدوى               بيلا    [0]   \n",
       "123  الشهيد محمد محمد عبدالعزيز صالح بابوبدوى               بيلا    [0]   \n",
       "\n",
       "    arabic english third_lang  ... psychology chemistry   biology   geology  \\\n",
       "0       46    35.5       34.5  ...         43  غير مقرر  غير مقرر  غير مقرر   \n",
       "1       47      34         35  ...         31  غير مقرر  غير مقرر  غير مقرر   \n",
       "2     44.5      32         27  ...         40  غير مقرر  غير مقرر  غير مقرر   \n",
       "3     15.5      40         27  ...         38  غير مقرر  غير مقرر  غير مقرر   \n",
       "4     67.5    40.5       36.5  ...         48  غير مقرر  غير مقرر  غير مقرر   \n",
       "..     ...     ...        ...  ...        ...       ...       ...       ...   \n",
       "119   41.5    25.5       36.5  ...   غير مقرر        30  غير مقرر  غير مقرر   \n",
       "120     68      41       37.5  ...   غير مقرر        30  غير مقرر  غير مقرر   \n",
       "121   53.5      30         25  ...   غير مقرر        30  غير مقرر  غير مقرر   \n",
       "122   58.5      27       31.5  ...   غير مقرر        30  غير مقرر  غير مقرر   \n",
       "123   50.5    27.5       32.5  ...   غير مقرر        30  غير مقرر  غير مقرر   \n",
       "\n",
       "      physics pure_math applied_math relegion nat_edu stat_eco  \n",
       "0    غير مقرر  غير مقرر     غير مقرر       18  293.50       25  \n",
       "1    غير مقرر  غير مقرر     غير مقرر       16  262.50       25  \n",
       "2    غير مقرر  غير مقرر     غير مقرر       15  265.50       25  \n",
       "3    غير مقرر  غير مقرر     غير مقرر       18  246.00       25  \n",
       "4    غير مقرر  غير مقرر     غير مقرر       17  344.00       27  \n",
       "..        ...       ...          ...      ...     ...      ...  \n",
       "119        30        30           30       18  223.50       25  \n",
       "120      43.5      48.5         42.5       19  311.00       33  \n",
       "121        38        30           30       19  236.50       25  \n",
       "122        30        21           30       21  228.00       29  \n",
       "123        30        20           30       16  220.50       25  \n",
       "\n",
       "[124 rows x 23 columns]"
      ]
     },
     "execution_count": 61,
     "metadata": {},
     "output_type": "execute_result"
    }
   ],
   "source": [
    "final"
   ]
  },
  {
   "cell_type": "code",
   "execution_count": null,
   "id": "e05b8858",
   "metadata": {},
   "outputs": [],
   "source": [
    "final.to_csv(r'D:\\natega\\final_result.csv', index=False)\n"
   ]
  },
  {
   "cell_type": "code",
   "execution_count": null,
   "id": "3079a166",
   "metadata": {},
   "outputs": [],
   "source": []
  }
 ],
 "metadata": {
  "kernelspec": {
   "display_name": "Python 3 (ipykernel)",
   "language": "python",
   "name": "python3"
  },
  "language_info": {
   "codemirror_mode": {
    "name": "ipython",
    "version": 3
   },
   "file_extension": ".py",
   "mimetype": "text/x-python",
   "name": "python",
   "nbconvert_exporter": "python",
   "pygments_lexer": "ipython3",
   "version": "3.11.3"
  }
 },
 "nbformat": 4,
 "nbformat_minor": 5
}
